{
 "cells": [
  {
   "cell_type": "code",
   "execution_count": 4,
   "id": "5dc455c7",
   "metadata": {
    "tags": []
   },
   "outputs": [],
   "source": [
    "import os\n",
    "import sys\n",
    "import pandas as pd\n",
    "import numpy as np\n",
    "import warnings\n",
    "import matplotlib.pyplot as plt\n",
    "import matplotlib as mpl\n",
    "import seaborn as sns\n",
    "# from sklearn.preprocessing import OrdinalEncoder\n",
    "from sklearn.pipeline import Pipeline\n",
    "from sklearn.metrics import roc_auc_score, roc_curve"
   ]
  },
  {
   "cell_type": "code",
   "execution_count": 5,
   "id": "d83990cc",
   "metadata": {
    "tags": []
   },
   "outputs": [],
   "source": [
    "%load_ext autoreload\n",
    "%autoreload 2"
   ]
  },
  {
   "cell_type": "code",
   "execution_count": 6,
   "id": "6a51f0f8",
   "metadata": {
    "tags": []
   },
   "outputs": [],
   "source": [
    "module_path = os.path.abspath(os.path.join('../../'))\n",
    "if module_path not in sys.path:\n",
    "    sys.path.append(module_path)"
   ]
  },
  {
   "cell_type": "code",
   "execution_count": 78,
   "id": "788f3f29",
   "metadata": {
    "tags": []
   },
   "outputs": [],
   "source": [
    "from src.preprocessing.preprocessing  import data_wrangling, llenar_val_vacios_str,llenar_val_vacios_ciclo,TsfelVars, ExtraVars,ToDummy, TeEncoder, CardinalityReducer\n",
    "from src.modeling.feature_selection import feature_selection_by_constant, feature_selection_by_boruta, feature_selection_by_correlation\n",
    "from src.modeling.supervided_models import LGBMModel, NNModel, LSTMNNModel\n",
    "from src.helper.helper_functions import plot_roc"
   ]
  },
  {
   "cell_type": "code",
   "execution_count": 7,
   "id": "19616090",
   "metadata": {
    "tags": []
   },
   "outputs": [],
   "source": [
    "warnings.filterwarnings('ignore')\n",
    "pd.options.display.float_format = '{:.2f}'.format #evita que muestre notacion cientifica\n",
    "pd.set_option('display.max_columns', None)\n",
    "np.set_printoptions(suppress=True) #evita mostrar notacion cientifica"
   ]
  },
  {
   "cell_type": "code",
   "execution_count": 8,
   "id": "34d0e659",
   "metadata": {
    "tags": []
   },
   "outputs": [],
   "source": [
    "# colors = plt.rcParams['axes.prop_cycle'].by_key()['color']\n",
    "# mpl.rcParams['figure.figsize'] = (12, 10)"
   ]
  },
  {
   "cell_type": "code",
   "execution_count": 9,
   "id": "97a0146b",
   "metadata": {
    "tags": []
   },
   "outputs": [],
   "source": [
    "seed = 2021\n",
    "np.random.seed(seed)"
   ]
  },
  {
   "cell_type": "markdown",
   "id": "a83b92de",
   "metadata": {},
   "source": [
    "## Paso 1 - Leer datos"
   ]
  },
  {
   "cell_type": "code",
   "execution_count": 11,
   "id": "efee8374",
   "metadata": {
    "tags": []
   },
   "outputs": [],
   "source": [
    "df = pd.read_parquet('../datos/df_anonimizado_02-2023.parquet')"
   ]
  },
  {
   "cell_type": "code",
   "execution_count": 12,
   "id": "83e8c340",
   "metadata": {
    "tags": []
   },
   "outputs": [
    {
     "data": {
      "text/html": [
       "<div>\n",
       "<style scoped>\n",
       "    .dataframe tbody tr th:only-of-type {\n",
       "        vertical-align: middle;\n",
       "    }\n",
       "\n",
       "    .dataframe tbody tr th {\n",
       "        vertical-align: top;\n",
       "    }\n",
       "\n",
       "    .dataframe thead th {\n",
       "        text-align: right;\n",
       "    }\n",
       "</style>\n",
       "<table border=\"1\" class=\"dataframe\">\n",
       "  <thead>\n",
       "    <tr style=\"text-align: right;\">\n",
       "      <th></th>\n",
       "      <th>index</th>\n",
       "      <th>12_anterior</th>\n",
       "      <th>11_anterior</th>\n",
       "      <th>10_anterior</th>\n",
       "      <th>9_anterior</th>\n",
       "      <th>8_anterior</th>\n",
       "      <th>7_anterior</th>\n",
       "      <th>6_anterior</th>\n",
       "      <th>5_anterior</th>\n",
       "      <th>4_anterior</th>\n",
       "      <th>3_anterior</th>\n",
       "      <th>2_anterior</th>\n",
       "      <th>1_anterior</th>\n",
       "      <th>zona</th>\n",
       "      <th>actividad</th>\n",
       "      <th>tipo_tarifa</th>\n",
       "      <th>nivel_tension</th>\n",
       "      <th>material_instalacion</th>\n",
       "      <th>fecha_inspeccion</th>\n",
       "      <th>target</th>\n",
       "    </tr>\n",
       "  </thead>\n",
       "  <tbody>\n",
       "    <tr>\n",
       "      <th>50345</th>\n",
       "      <td>50345</td>\n",
       "      <td>nan</td>\n",
       "      <td>nan</td>\n",
       "      <td>nan</td>\n",
       "      <td>nan</td>\n",
       "      <td>nan</td>\n",
       "      <td>62.00</td>\n",
       "      <td>58.00</td>\n",
       "      <td>57.00</td>\n",
       "      <td>69.00</td>\n",
       "      <td>95.00</td>\n",
       "      <td>108.00</td>\n",
       "      <td>106.00</td>\n",
       "      <td>zona_660487</td>\n",
       "      <td>actividad_523376</td>\n",
       "      <td>tipo_tarifa_149261</td>\n",
       "      <td>nivel_tension_197436</td>\n",
       "      <td>material_instalacion_143521</td>\n",
       "      <td>2016-05-01</td>\n",
       "      <td>1</td>\n",
       "    </tr>\n",
       "    <tr>\n",
       "      <th>191551</th>\n",
       "      <td>191551</td>\n",
       "      <td>92.00</td>\n",
       "      <td>87.00</td>\n",
       "      <td>82.00</td>\n",
       "      <td>74.00</td>\n",
       "      <td>82.00</td>\n",
       "      <td>85.00</td>\n",
       "      <td>86.00</td>\n",
       "      <td>96.00</td>\n",
       "      <td>126.00</td>\n",
       "      <td>104.00</td>\n",
       "      <td>119.00</td>\n",
       "      <td>132.00</td>\n",
       "      <td>zona_647593</td>\n",
       "      <td>actividad_523376</td>\n",
       "      <td>tipo_tarifa_149261</td>\n",
       "      <td>nivel_tension_197436</td>\n",
       "      <td>material_instalacion_143521</td>\n",
       "      <td>2017-05-01</td>\n",
       "      <td>1</td>\n",
       "    </tr>\n",
       "    <tr>\n",
       "      <th>8259</th>\n",
       "      <td>8259</td>\n",
       "      <td>20.00</td>\n",
       "      <td>19.00</td>\n",
       "      <td>27.00</td>\n",
       "      <td>33.00</td>\n",
       "      <td>21.00</td>\n",
       "      <td>21.00</td>\n",
       "      <td>21.00</td>\n",
       "      <td>23.00</td>\n",
       "      <td>18.00</td>\n",
       "      <td>15.00</td>\n",
       "      <td>10.00</td>\n",
       "      <td>14.00</td>\n",
       "      <td>zona_660487</td>\n",
       "      <td>actividad_523376</td>\n",
       "      <td>tipo_tarifa_149261</td>\n",
       "      <td>nivel_tension_685394</td>\n",
       "      <td>material_instalacion_250300</td>\n",
       "      <td>2016-01-01</td>\n",
       "      <td>1</td>\n",
       "    </tr>\n",
       "    <tr>\n",
       "      <th>287671</th>\n",
       "      <td>287671</td>\n",
       "      <td>51.00</td>\n",
       "      <td>70.00</td>\n",
       "      <td>135.00</td>\n",
       "      <td>89.00</td>\n",
       "      <td>112.00</td>\n",
       "      <td>106.00</td>\n",
       "      <td>106.00</td>\n",
       "      <td>52.00</td>\n",
       "      <td>31.00</td>\n",
       "      <td>0.00</td>\n",
       "      <td>0.00</td>\n",
       "      <td>0.00</td>\n",
       "      <td>zona_824219</td>\n",
       "      <td>actividad_523376</td>\n",
       "      <td>tipo_tarifa_149261</td>\n",
       "      <td>nivel_tension_197436</td>\n",
       "      <td>material_instalacion_143521</td>\n",
       "      <td>2018-01-01</td>\n",
       "      <td>1</td>\n",
       "    </tr>\n",
       "    <tr>\n",
       "      <th>306877</th>\n",
       "      <td>306877</td>\n",
       "      <td>0.00</td>\n",
       "      <td>27.00</td>\n",
       "      <td>46.00</td>\n",
       "      <td>43.00</td>\n",
       "      <td>39.00</td>\n",
       "      <td>40.00</td>\n",
       "      <td>37.00</td>\n",
       "      <td>39.00</td>\n",
       "      <td>36.00</td>\n",
       "      <td>34.00</td>\n",
       "      <td>35.00</td>\n",
       "      <td>32.00</td>\n",
       "      <td>None</td>\n",
       "      <td>None</td>\n",
       "      <td>None</td>\n",
       "      <td>None</td>\n",
       "      <td>material_instalacion_143521</td>\n",
       "      <td>2018-03-01</td>\n",
       "      <td>1</td>\n",
       "    </tr>\n",
       "  </tbody>\n",
       "</table>\n",
       "</div>"
      ],
      "text/plain": [
       "         index  12_anterior  11_anterior  10_anterior  9_anterior  8_anterior  \\\n",
       "50345    50345          nan          nan          nan         nan         nan   \n",
       "191551  191551        92.00        87.00        82.00       74.00       82.00   \n",
       "8259      8259        20.00        19.00        27.00       33.00       21.00   \n",
       "287671  287671        51.00        70.00       135.00       89.00      112.00   \n",
       "306877  306877         0.00        27.00        46.00       43.00       39.00   \n",
       "\n",
       "        7_anterior  6_anterior  5_anterior  4_anterior  3_anterior  \\\n",
       "50345        62.00       58.00       57.00       69.00       95.00   \n",
       "191551       85.00       86.00       96.00      126.00      104.00   \n",
       "8259         21.00       21.00       23.00       18.00       15.00   \n",
       "287671      106.00      106.00       52.00       31.00        0.00   \n",
       "306877       40.00       37.00       39.00       36.00       34.00   \n",
       "\n",
       "        2_anterior  1_anterior         zona         actividad  \\\n",
       "50345       108.00      106.00  zona_660487  actividad_523376   \n",
       "191551      119.00      132.00  zona_647593  actividad_523376   \n",
       "8259         10.00       14.00  zona_660487  actividad_523376   \n",
       "287671        0.00        0.00  zona_824219  actividad_523376   \n",
       "306877       35.00       32.00         None              None   \n",
       "\n",
       "               tipo_tarifa         nivel_tension         material_instalacion  \\\n",
       "50345   tipo_tarifa_149261  nivel_tension_197436  material_instalacion_143521   \n",
       "191551  tipo_tarifa_149261  nivel_tension_197436  material_instalacion_143521   \n",
       "8259    tipo_tarifa_149261  nivel_tension_685394  material_instalacion_250300   \n",
       "287671  tipo_tarifa_149261  nivel_tension_197436  material_instalacion_143521   \n",
       "306877                None                  None  material_instalacion_143521   \n",
       "\n",
       "       fecha_inspeccion  target  \n",
       "50345        2016-05-01       1  \n",
       "191551       2017-05-01       1  \n",
       "8259         2016-01-01       1  \n",
       "287671       2018-01-01       1  \n",
       "306877       2018-03-01       1  "
      ]
     },
     "execution_count": 12,
     "metadata": {},
     "output_type": "execute_result"
    }
   ],
   "source": [
    "df.head()"
   ]
  },
  {
   "cell_type": "code",
   "execution_count": 84,
   "id": "47df2e81",
   "metadata": {
    "tags": []
   },
   "outputs": [
    {
     "data": {
      "text/plain": [
       "(42500, 20)"
      ]
     },
     "execution_count": 84,
     "metadata": {},
     "output_type": "execute_result"
    }
   ],
   "source": [
    "df.shape"
   ]
  },
  {
   "cell_type": "code",
   "execution_count": 13,
   "id": "6aaa79d2-ca66-4f99-a5e2-84d7abc5822d",
   "metadata": {
    "tags": []
   },
   "outputs": [
    {
     "data": {
      "text/plain": [
       "index                            int64\n",
       "12_anterior                    float64\n",
       "11_anterior                    float64\n",
       "10_anterior                    float64\n",
       "9_anterior                     float64\n",
       "8_anterior                     float64\n",
       "7_anterior                     float64\n",
       "6_anterior                     float64\n",
       "5_anterior                     float64\n",
       "4_anterior                     float64\n",
       "3_anterior                     float64\n",
       "2_anterior                     float64\n",
       "1_anterior                     float64\n",
       "zona                            object\n",
       "actividad                       object\n",
       "tipo_tarifa                     object\n",
       "nivel_tension                   object\n",
       "material_instalacion            object\n",
       "fecha_inspeccion        datetime64[ns]\n",
       "target                           int64\n",
       "dtype: object"
      ]
     },
     "execution_count": 13,
     "metadata": {},
     "output_type": "execute_result"
    }
   ],
   "source": [
    "df.dtypes"
   ]
  },
  {
   "cell_type": "code",
   "execution_count": 14,
   "id": "c1b39179-9659-45bf-ab52-a42d60ceacfc",
   "metadata": {
    "tags": []
   },
   "outputs": [
    {
     "data": {
      "text/plain": [
       "0.058823529411764705"
      ]
     },
     "execution_count": 14,
     "metadata": {},
     "output_type": "execute_result"
    }
   ],
   "source": [
    "df.target.mean()"
   ]
  },
  {
   "cell_type": "markdown",
   "id": "3c9cd5bc",
   "metadata": {},
   "source": [
    "## Paso 2 - Particionar datos"
   ]
  },
  {
   "cell_type": "code",
   "execution_count": 13,
   "id": "3dc9e06f",
   "metadata": {
    "tags": []
   },
   "outputs": [],
   "source": [
    "#Particionar por fecha\n",
    "df_train = df[df.fecha_inspeccion<'2017-08-01'].copy()\n",
    "df_val = df[(df.fecha_inspeccion>='2017-09-01')&(df.fecha_inspeccion<'2018-01-01')].copy()\n",
    "df_test = df[df.fecha_inspeccion>='2018-01-01'].copy()"
   ]
  },
  {
   "cell_type": "code",
   "execution_count": 14,
   "id": "466a762e",
   "metadata": {
    "tags": []
   },
   "outputs": [
    {
     "name": "stdout",
     "output_type": "stream",
     "text": [
      "(26533, 20)\n",
      "(4323, 20)\n",
      "(9995, 20)\n"
     ]
    }
   ],
   "source": [
    "print(df_train.shape)\n",
    "print(df_val.shape)\n",
    "print(df_test.shape)"
   ]
  },
  {
   "cell_type": "markdown",
   "id": "6c873926-792c-4cdd-9864-b48a26672b87",
   "metadata": {},
   "source": [
    "## Paso 3 - Procesamiento de datos"
   ]
  },
  {
   "cell_type": "code",
   "execution_count": 15,
   "id": "94753b18-0f0b-4144-be1e-a37cb6d291e3",
   "metadata": {
    "tags": []
   },
   "outputs": [
    {
     "data": {
      "text/plain": [
       "index                      0\n",
       "12_anterior               33\n",
       "11_anterior               31\n",
       "10_anterior               22\n",
       "9_anterior                20\n",
       "8_anterior                18\n",
       "7_anterior                11\n",
       "6_anterior                22\n",
       "5_anterior                36\n",
       "4_anterior                51\n",
       "3_anterior                62\n",
       "2_anterior                81\n",
       "1_anterior                89\n",
       "zona                    2882\n",
       "actividad               2882\n",
       "tipo_tarifa             2882\n",
       "nivel_tension           2894\n",
       "material_instalacion       0\n",
       "fecha_inspeccion           0\n",
       "target                     0\n",
       "dtype: int64"
      ]
     },
     "execution_count": 15,
     "metadata": {},
     "output_type": "execute_result"
    }
   ],
   "source": [
    "df_train.isnull().sum()"
   ]
  },
  {
   "cell_type": "code",
   "execution_count": 16,
   "id": "c4aaa07e-8593-41ee-b2c8-fc85d5e0e2bf",
   "metadata": {
    "tags": []
   },
   "outputs": [],
   "source": [
    "df_train = llenar_val_vacios_ciclo(df_train, 12)\n",
    "cols_fillna_sindatos = ['zona','actividad','tipo_tarifa','nivel_tension']\n",
    "df_train = llenar_val_vacios_str(df_train,cols_fillna_sindatos,'sin_dato')"
   ]
  },
  {
   "cell_type": "markdown",
   "id": "7bf90568-187c-4a72-8a7e-11acb6759b3b",
   "metadata": {},
   "source": [
    "### Tratamiento de las variables de consumo"
   ]
  },
  {
   "cell_type": "code",
   "execution_count": 17,
   "id": "11e44b80-b4ca-494b-88ec-7dfb8aa3a1c8",
   "metadata": {
    "tags": []
   },
   "outputs": [],
   "source": [
    "variables_consumo = [x for x in df.columns if '_anterior' in x]\n",
    "df_consumos = df_train[['index']+variables_consumo].head(12000)"
   ]
  },
  {
   "cell_type": "code",
   "execution_count": 18,
   "id": "3d066804-d45d-40a5-804f-0f972c7730e2",
   "metadata": {
    "tags": []
   },
   "outputs": [],
   "source": [
    "pipe_feature_engeniering_consumo = Pipeline(\n",
    "    [\n",
    "        (\"tsfel vars\", TsfelVars(features_names_path=None,num_periodos= 12)),\n",
    "        (\"add vars3\",  ExtraVars(num_periodos=3)),\n",
    "        (\"add vars6\",  ExtraVars( num_periodos=6)),\n",
    "        (\"add vars12\", ExtraVars(num_periodos=12)),\n",
    "\n",
    "    ]\n",
    "        )"
   ]
  },
  {
   "cell_type": "code",
   "execution_count": 19,
   "id": "262f3404-71ba-4f21-96e9-e55375d69ac0",
   "metadata": {
    "tags": []
   },
   "outputs": [
    {
     "name": "stdout",
     "output_type": "stream",
     "text": [
      "*** Feature extraction started ***\n"
     ]
    },
    {
     "data": {
      "text/html": [
       "\n",
       "              <p>\n",
       "                  Progress: 100% Complete\n",
       "              <p/>            \n",
       "              <progress\n",
       "                  value='12000'\n",
       "                  max='12000',\n",
       "                  style='width: 25%',\n",
       "              >\n",
       "                  12000\n",
       "              </progress>\n",
       "\n",
       "    "
      ],
      "text/plain": [
       "<IPython.core.display.HTML object>"
      ]
     },
     "metadata": {},
     "output_type": "display_data"
    },
    {
     "name": "stdout",
     "output_type": "stream",
     "text": [
      "\n",
      "*** Feature extraction finished ***\n",
      "*** Feature extraction started ***\n"
     ]
    },
    {
     "data": {
      "text/html": [
       "\n",
       "              <p>\n",
       "                  Progress: 100% Complete\n",
       "              <p/>            \n",
       "              <progress\n",
       "                  value='12000'\n",
       "                  max='12000',\n",
       "                  style='width: 25%',\n",
       "              >\n",
       "                  12000\n",
       "              </progress>\n",
       "\n",
       "    "
      ],
      "text/plain": [
       "<IPython.core.display.HTML object>"
      ]
     },
     "metadata": {},
     "output_type": "display_data"
    },
    {
     "name": "stdout",
     "output_type": "stream",
     "text": [
      "\n",
      "*** Feature extraction finished ***\n"
     ]
    }
   ],
   "source": [
    "df_features = pipe_feature_engeniering_consumo.fit_transform(df_consumos)"
   ]
  },
  {
   "cell_type": "markdown",
   "id": "0cdf1d03",
   "metadata": {},
   "source": [
    "### Feature selection"
   ]
  },
  {
   "cell_type": "code",
   "execution_count": 20,
   "id": "d26cc369-6434-4e24-a516-730f616be681",
   "metadata": {
    "tags": []
   },
   "outputs": [],
   "source": [
    "cols_for_feature_sel = [x for x in df_features.columns if x not in ['index'] + variables_consumo]\n",
    "y_train = df_train.loc[df_features['index']].target"
   ]
  },
  {
   "cell_type": "code",
   "execution_count": 21,
   "id": "eba98897-ada6-440a-b950-9c1ba1d42d2e",
   "metadata": {
    "tags": []
   },
   "outputs": [
    {
     "name": "stdout",
     "output_type": "stream",
     "text": [
      " # variables No constantes 64\n",
      "CPU times: user 104 ms, sys: 0 ns, total: 104 ms\n",
      "Wall time: 104 ms\n"
     ]
    }
   ],
   "source": [
    "%%time\n",
    "select_by_constant = feature_selection_by_constant(df_features, y_train, cols_for_feature_sel, th=0.99)\n",
    "# pd.Series(sorted(select_by_constant)).to_csv('tmp/features_by_constante_12.csv', index=False)\n",
    "print(f\" # variables No constantes {len(select_by_constant)}\")"
   ]
  },
  {
   "cell_type": "code",
   "execution_count": 22,
   "id": "a3e33be7-7f63-4442-9db4-c35fb66df66e",
   "metadata": {
    "tags": []
   },
   "outputs": [
    {
     "name": "stdout",
     "output_type": "stream",
     "text": [
      "Calculando Correlación Entre Variables\n",
      "Eliminando Variables Altamente Correlacionadas\n",
      " # variables No correlacionadas 34\n",
      "CPU times: user 179 ms, sys: 3.21 ms, total: 182 ms\n",
      "Wall time: 181 ms\n"
     ]
    }
   ],
   "source": [
    "%%time\n",
    "select_by_corr = feature_selection_by_correlation(df_features, y_train, select_by_constant,method='pearson', th=0.95)\n",
    "# pd.Series(sorted(select_by_corr)).to_csv('tmp/features_by_corr_12.csv', index=False)\n",
    "print(f\" # variables No correlacionadas {len(select_by_corr)}\")"
   ]
  },
  {
   "cell_type": "code",
   "execution_count": 23,
   "id": "c0126a54-1357-485b-a33e-044cc7b531fb",
   "metadata": {
    "tags": []
   },
   "outputs": [
    {
     "name": "stderr",
     "output_type": "stream",
     "text": [
      "100%|██████████| 5/5 [05:04<00:00, 60.86s/it]"
     ]
    },
    {
     "name": "stdout",
     "output_type": "stream",
     "text": [
      " # variables seleccionadas por Boruta : 47\n",
      "CPU times: user 43min 9s, sys: 23.1 s, total: 43min 32s\n",
      "Wall time: 5min 4s\n"
     ]
    },
    {
     "name": "stderr",
     "output_type": "stream",
     "text": [
      "\n"
     ]
    }
   ],
   "source": [
    "%%time\n",
    "select_by_boruta = feature_selection_by_boruta(df_features[select_by_constant], y_train, N=5)\n",
    "# pd.Series(sorted(select_by_boruta)).to_csv('tmp/features_by_const_boruta_12.csv', index=False)\n",
    "print(f\" # variables seleccionadas por Boruta : {len(select_by_boruta)}\")"
   ]
  },
  {
   "cell_type": "code",
   "execution_count": 24,
   "id": "d176ec63-dac2-4f81-a952-6144633e9652",
   "metadata": {
    "tags": []
   },
   "outputs": [
    {
     "data": {
      "text/plain": [
       "['0_Centroid',\n",
       " 'max_cons3',\n",
       " 'min_cons3',\n",
       " 'mean_6',\n",
       " 'mean_3',\n",
       " 'min_cons6',\n",
       " 'std_cons6',\n",
       " 'var_cons6',\n",
       " 'std_cons3',\n",
       " '0_Area under the curve',\n",
       " '0_Standard deviation',\n",
       " 'mean_12',\n",
       " '0_Root mean square',\n",
       " 'var_cons3',\n",
       " '0_ECDF Percentile_0',\n",
       " '0_Median',\n",
       " '0_ECDF Percentile_1',\n",
       " '0_Mean',\n",
       " 'std_cons12',\n",
       " '0_Min',\n",
       " 'min_cons12',\n",
       " 'var_cons12',\n",
       " '0_Variance',\n",
       " 'slope_6',\n",
       " '0_Total energy',\n",
       " '0_Peak to peak distance',\n",
       " '0_Absolute energy',\n",
       " 'max_cons12',\n",
       " '0_Autocorrelation',\n",
       " '0_Max',\n",
       " '0_Interquartile range',\n",
       " '0_Signal distance',\n",
       " '0_Mean absolute deviation',\n",
       " '0_Mean diff',\n",
       " '0_Mean absolute diff',\n",
       " '0_Median absolute diff',\n",
       " 'max_cons6',\n",
       " 'kurt_cons6',\n",
       " '0_Entropy',\n",
       " '0_Slope',\n",
       " 'slope_12',\n",
       " 'skew_cons3',\n",
       " '0_Sum absolute diff',\n",
       " '0_Median absolute deviation',\n",
       " 'kurt_cons12',\n",
       " '0_Skewness',\n",
       " 'max_cant_ceros_seg_3']"
      ]
     },
     "execution_count": 24,
     "metadata": {},
     "output_type": "execute_result"
    }
   ],
   "source": [
    "select_by_boruta"
   ]
  },
  {
   "cell_type": "code",
   "execution_count": 25,
   "id": "2976dfdd",
   "metadata": {
    "tags": []
   },
   "outputs": [
    {
     "name": "stdout",
     "output_type": "stream",
     "text": [
      "Feature Selection : Fin\n"
     ]
    }
   ],
   "source": [
    "print('Feature Selection : Fin')"
   ]
  },
  {
   "cell_type": "markdown",
   "id": "d60914c9-01d0-43ab-9714-6eff31d7ff11",
   "metadata": {
    "tags": []
   },
   "source": [
    "### Tratamiento de las variables categoricas"
   ]
  },
  {
   "cell_type": "code",
   "execution_count": 46,
   "id": "97d5c9d6-1993-4697-9fec-c59ff631e39a",
   "metadata": {
    "tags": []
   },
   "outputs": [],
   "source": [
    "variables_categoricas = ['zona','actividad','material_instalacion','tipo_tarifa','nivel_tension']"
   ]
  },
  {
   "cell_type": "code",
   "execution_count": 47,
   "id": "db72af00-c935-4e0b-9956-8adbd33539e6",
   "metadata": {
    "tags": []
   },
   "outputs": [
    {
     "data": {
      "text/html": [
       "<div>\n",
       "<style scoped>\n",
       "    .dataframe tbody tr th:only-of-type {\n",
       "        vertical-align: middle;\n",
       "    }\n",
       "\n",
       "    .dataframe tbody tr th {\n",
       "        vertical-align: top;\n",
       "    }\n",
       "\n",
       "    .dataframe thead th {\n",
       "        text-align: right;\n",
       "    }\n",
       "</style>\n",
       "<table border=\"1\" class=\"dataframe\">\n",
       "  <thead>\n",
       "    <tr style=\"text-align: right;\">\n",
       "      <th></th>\n",
       "      <th>zona</th>\n",
       "      <th>actividad</th>\n",
       "      <th>material_instalacion</th>\n",
       "      <th>tipo_tarifa</th>\n",
       "      <th>nivel_tension</th>\n",
       "    </tr>\n",
       "  </thead>\n",
       "  <tbody>\n",
       "    <tr>\n",
       "      <th>0</th>\n",
       "      <td>zona_660487</td>\n",
       "      <td>actividad_523376</td>\n",
       "      <td>material_instalacion_143521</td>\n",
       "      <td>tipo_tarifa_149261</td>\n",
       "      <td>nivel_tension_197436</td>\n",
       "    </tr>\n",
       "    <tr>\n",
       "      <th>1</th>\n",
       "      <td>zona_647593</td>\n",
       "      <td>actividad_523376</td>\n",
       "      <td>material_instalacion_143521</td>\n",
       "      <td>tipo_tarifa_149261</td>\n",
       "      <td>nivel_tension_197436</td>\n",
       "    </tr>\n",
       "    <tr>\n",
       "      <th>2</th>\n",
       "      <td>zona_660487</td>\n",
       "      <td>actividad_523376</td>\n",
       "      <td>material_instalacion_250300</td>\n",
       "      <td>tipo_tarifa_149261</td>\n",
       "      <td>nivel_tension_685394</td>\n",
       "    </tr>\n",
       "    <tr>\n",
       "      <th>3</th>\n",
       "      <td>zona_489241</td>\n",
       "      <td>actividad_523376</td>\n",
       "      <td>material_instalacion_143521</td>\n",
       "      <td>tipo_tarifa_149261</td>\n",
       "      <td>nivel_tension_197436</td>\n",
       "    </tr>\n",
       "    <tr>\n",
       "      <th>4</th>\n",
       "      <td>zona_647593</td>\n",
       "      <td>actividad_960696</td>\n",
       "      <td>material_instalacion_250300</td>\n",
       "      <td>tipo_tarifa_149261</td>\n",
       "      <td>nivel_tension_197436</td>\n",
       "    </tr>\n",
       "  </tbody>\n",
       "</table>\n",
       "</div>"
      ],
      "text/plain": [
       "          zona         actividad         material_instalacion  \\\n",
       "0  zona_660487  actividad_523376  material_instalacion_143521   \n",
       "1  zona_647593  actividad_523376  material_instalacion_143521   \n",
       "2  zona_660487  actividad_523376  material_instalacion_250300   \n",
       "3  zona_489241  actividad_523376  material_instalacion_143521   \n",
       "4  zona_647593  actividad_960696  material_instalacion_250300   \n",
       "\n",
       "          tipo_tarifa         nivel_tension  \n",
       "0  tipo_tarifa_149261  nivel_tension_197436  \n",
       "1  tipo_tarifa_149261  nivel_tension_197436  \n",
       "2  tipo_tarifa_149261  nivel_tension_685394  \n",
       "3  tipo_tarifa_149261  nivel_tension_197436  \n",
       "4  tipo_tarifa_149261  nivel_tension_197436  "
      ]
     },
     "execution_count": 47,
     "metadata": {},
     "output_type": "execute_result"
    }
   ],
   "source": [
    "df_train[variables_categoricas].head()"
   ]
  },
  {
   "cell_type": "markdown",
   "id": "43c9e3cf",
   "metadata": {},
   "source": [
    "## Paso 4 - Entrenamiento de Modelos"
   ]
  },
  {
   "cell_type": "code",
   "execution_count": 30,
   "id": "b5bd30e6-dedd-4e8e-89c1-9f45b99614d1",
   "metadata": {
    "tags": []
   },
   "outputs": [],
   "source": [
    "y_train = df_train.target.copy()\n",
    "df_train = df_train.drop(columns=['target'])\n",
    "\n",
    "y_val = df_val.target.copy()\n",
    "df_val = df_val.drop(columns=['target'])\n",
    "\n",
    "y_test = df_test.target.copy()\n",
    "df_test = df_test.drop(columns=['target'])"
   ]
  },
  {
   "cell_type": "code",
   "execution_count": 31,
   "id": "1d086e3e-0c40-4754-bec0-28c98b2c5a7b",
   "metadata": {
    "tags": []
   },
   "outputs": [],
   "source": [
    "df_val = llenar_val_vacios_ciclo(df_val, 12)\n",
    "\n",
    "df_val = llenar_val_vacios_str(df_val,cols_fillna_sindatos,'sin_dato')\n",
    "\n",
    "df_test = llenar_val_vacios_ciclo(df_test, 12)\n",
    "df_test = llenar_val_vacios_str(df_test,cols_fillna_sindatos,'sin_dato')"
   ]
  },
  {
   "cell_type": "code",
   "execution_count": 32,
   "id": "a690fb30-00cc-45be-9190-b7eed4dc6029",
   "metadata": {
    "tags": []
   },
   "outputs": [
    {
     "name": "stdout",
     "output_type": "stream",
     "text": [
      "*** Feature extraction started ***\n"
     ]
    },
    {
     "data": {
      "text/html": [
       "\n",
       "              <p>\n",
       "                  Progress: 100% Complete\n",
       "              <p/>            \n",
       "              <progress\n",
       "                  value='26533'\n",
       "                  max='26533',\n",
       "                  style='width: 25%',\n",
       "              >\n",
       "                  26533\n",
       "              </progress>\n",
       "\n",
       "    "
      ],
      "text/plain": [
       "<IPython.core.display.HTML object>"
      ]
     },
     "metadata": {},
     "output_type": "display_data"
    },
    {
     "name": "stdout",
     "output_type": "stream",
     "text": [
      "\n",
      "*** Feature extraction finished ***\n",
      "*** Feature extraction started ***\n"
     ]
    },
    {
     "data": {
      "text/html": [
       "\n",
       "              <p>\n",
       "                  Progress: 100% Complete\n",
       "              <p/>            \n",
       "              <progress\n",
       "                  value='26533'\n",
       "                  max='26533',\n",
       "                  style='width: 25%',\n",
       "              >\n",
       "                  26533\n",
       "              </progress>\n",
       "\n",
       "    "
      ],
      "text/plain": [
       "<IPython.core.display.HTML object>"
      ]
     },
     "metadata": {},
     "output_type": "display_data"
    },
    {
     "name": "stdout",
     "output_type": "stream",
     "text": [
      "\n",
      "*** Feature extraction finished ***\n",
      "*** Feature extraction started ***\n"
     ]
    },
    {
     "data": {
      "text/html": [
       "\n",
       "              <p>\n",
       "                  Progress: 100% Complete\n",
       "              <p/>            \n",
       "              <progress\n",
       "                  value='4323'\n",
       "                  max='4323',\n",
       "                  style='width: 25%',\n",
       "              >\n",
       "                  4323\n",
       "              </progress>\n",
       "\n",
       "    "
      ],
      "text/plain": [
       "<IPython.core.display.HTML object>"
      ]
     },
     "metadata": {},
     "output_type": "display_data"
    },
    {
     "name": "stdout",
     "output_type": "stream",
     "text": [
      "\n",
      "*** Feature extraction finished ***\n",
      "*** Feature extraction started ***\n"
     ]
    },
    {
     "data": {
      "text/html": [
       "\n",
       "              <p>\n",
       "                  Progress: 100% Complete\n",
       "              <p/>            \n",
       "              <progress\n",
       "                  value='4323'\n",
       "                  max='4323',\n",
       "                  style='width: 25%',\n",
       "              >\n",
       "                  4323\n",
       "              </progress>\n",
       "\n",
       "    "
      ],
      "text/plain": [
       "<IPython.core.display.HTML object>"
      ]
     },
     "metadata": {},
     "output_type": "display_data"
    },
    {
     "name": "stdout",
     "output_type": "stream",
     "text": [
      "\n",
      "*** Feature extraction finished ***\n",
      "*** Feature extraction started ***\n"
     ]
    },
    {
     "data": {
      "text/html": [
       "\n",
       "              <p>\n",
       "                  Progress: 100% Complete\n",
       "              <p/>            \n",
       "              <progress\n",
       "                  value='9995'\n",
       "                  max='9995',\n",
       "                  style='width: 25%',\n",
       "              >\n",
       "                  9995\n",
       "              </progress>\n",
       "\n",
       "    "
      ],
      "text/plain": [
       "<IPython.core.display.HTML object>"
      ]
     },
     "metadata": {},
     "output_type": "display_data"
    },
    {
     "name": "stdout",
     "output_type": "stream",
     "text": [
      "\n",
      "*** Feature extraction finished ***\n",
      "*** Feature extraction started ***\n"
     ]
    },
    {
     "data": {
      "text/html": [
       "\n",
       "              <p>\n",
       "                  Progress: 100% Complete\n",
       "              <p/>            \n",
       "              <progress\n",
       "                  value='9995'\n",
       "                  max='9995',\n",
       "                  style='width: 25%',\n",
       "              >\n",
       "                  9995\n",
       "              </progress>\n",
       "\n",
       "    "
      ],
      "text/plain": [
       "<IPython.core.display.HTML object>"
      ]
     },
     "metadata": {},
     "output_type": "display_data"
    },
    {
     "name": "stdout",
     "output_type": "stream",
     "text": [
      "\n",
      "*** Feature extraction finished ***\n"
     ]
    }
   ],
   "source": [
    "df_train = pipe_feature_engeniering_consumo.fit_transform(df_train)\n",
    "df_val = pipe_feature_engeniering_consumo.transform(df_val)\n",
    "df_test = pipe_feature_engeniering_consumo.transform(df_test)"
   ]
  },
  {
   "cell_type": "code",
   "execution_count": 48,
   "id": "00f0b726-fb4e-4e5b-9e80-f26def951d2c",
   "metadata": {
    "tags": []
   },
   "outputs": [],
   "source": [
    "feauture_selected = select_by_boruta\n",
    "cols_for_model = variables_categoricas+variables_consumo+feauture_selected"
   ]
  },
  {
   "cell_type": "code",
   "execution_count": 49,
   "id": "d6bb6244-3ab9-4b78-90be-bcc87e6b602f",
   "metadata": {
    "tags": []
   },
   "outputs": [],
   "source": [
    "param_imb_method = 'under'\n",
    "periodo = 12\n",
    "preprocesor = 4\n",
    "sam_th = 0.2"
   ]
  },
  {
   "cell_type": "code",
   "execution_count": 50,
   "id": "49894994",
   "metadata": {
    "tags": []
   },
   "outputs": [],
   "source": [
    "resulado_final = {}"
   ]
  },
  {
   "cell_type": "markdown",
   "id": "d2128cd8",
   "metadata": {},
   "source": [
    "## LGBM"
   ]
  },
  {
   "cell_type": "code",
   "execution_count": 51,
   "id": "2a392879",
   "metadata": {
    "tags": []
   },
   "outputs": [
    {
     "name": "stdout",
     "output_type": "stream",
     "text": [
      "\n",
      "Best score reached: 0.7184494499908558 with params: {'lgbmclassifier__colsample_bytree': 0.5724726792874275, 'lgbmclassifier__learning_rate': 0.09042371348412374, 'lgbmclassifier__max_bin': 128, 'lgbmclassifier__max_depth': 5, 'lgbmclassifier__min_child_samples': 240, 'lgbmclassifier__min_child_weight': 0.001, 'lgbmclassifier__num_leaves': 40, 'lgbmclassifier__reg_alpha': 5, 'lgbmclassifier__reg_lambda': 0.001, 'lgbmclassifier__scale_pos_weight': 5, 'lgbmclassifier__subsample': 0.8087445946527063, 'lgbmclassifier__subsample_freq': 11} \n",
      "CPU times: user 7.65 s, sys: 547 ms, total: 8.19 s\n",
      "Wall time: 12.9 s\n"
     ]
    }
   ],
   "source": [
    "%%time\n",
    "train_lgbm_model = LGBMModel(cols_for_model,\n",
    "                             hyperparams=None,\n",
    "                             search_hip=True,\n",
    "                             sampling_th = sam_th,\n",
    "                             preprocesor_num = preprocesor,\n",
    "                             sampling_method=param_imb_method)\n",
    "lgbm_model = train_lgbm_model.train(df_train,y_train,df_val, y_val)"
   ]
  },
  {
   "cell_type": "code",
   "execution_count": 52,
   "id": "d9d998a2",
   "metadata": {
    "tags": []
   },
   "outputs": [],
   "source": [
    "y_pred_test_lgbm = lgbm_model.predict_proba(df_test[cols_for_model])[:,1]\n",
    "resulado_final[f'{param_imb_method}-lgbm'] = y_pred_test_lgbm"
   ]
  },
  {
   "cell_type": "code",
   "execution_count": 53,
   "id": "89e4e75f",
   "metadata": {
    "tags": []
   },
   "outputs": [
    {
     "name": "stdout",
     "output_type": "stream",
     "text": [
      "AUC Test:  0.776\n"
     ]
    }
   ],
   "source": [
    "print(\"AUC Test:  %.3f\" %  roc_auc_score(y_test,y_pred_test_lgbm))"
   ]
  },
  {
   "cell_type": "code",
   "execution_count": 54,
   "id": "cf6c74d4",
   "metadata": {
    "tags": []
   },
   "outputs": [
    {
     "data": {
      "image/png": "[encoded data removed]",
      "text/plain": [
       "<Figure size 576x288 with 1 Axes>"
      ]
     },
     "metadata": {
      "needs_background": "light"
     },
     "output_type": "display_data"
    }
   ],
   "source": [
    "plt.figure(figsize=(8,4))\n",
    "sns.distplot(y_pred_test_lgbm[y_test==0], label='0')\n",
    "sns.distplot(y_pred_test_lgbm[y_test==1], label='1')\n",
    "plt.xlabel('score', fontsize=16)\n",
    "plt.ylabel('density', fontsize=16)\n",
    "plt.legend()\n",
    "plt.grid()"
   ]
  },
  {
   "cell_type": "markdown",
   "id": "9ac0f550",
   "metadata": {},
   "source": [
    "## NN"
   ]
  },
  {
   "cell_type": "code",
   "execution_count": 55,
   "id": "2b04926c",
   "metadata": {
    "tags": []
   },
   "outputs": [
    {
     "name": "stdout",
     "output_type": "stream",
     "text": [
      "Restoring model weights from the end of the best epoch.\n",
      "Epoch 00073: early stopping\n",
      "CPU times: user 29.6 s, sys: 15.7 s, total: 45.3 s\n",
      "Wall time: 6.61 s\n"
     ]
    }
   ],
   "source": [
    "%%time\n",
    "features_names = variables_categoricas + feauture_selected\n",
    "spents_names = variables_consumo\n",
    "train_nn_model = NNModel(features_names,spents_names,sampling_th = sam_th,preprocesor_num = preprocesor,sampling_method=param_imb_method)\n",
    "rnn_model,pipe_features,pipe_spent = train_nn_model.train(df_train,y_train)"
   ]
  },
  {
   "cell_type": "code",
   "execution_count": 56,
   "id": "71d2fc2c",
   "metadata": {
    "tags": []
   },
   "outputs": [],
   "source": [
    "X_features = pipe_features.transform(df_test[features_names])\n",
    "X_spents = pipe_spent.transform(df_test[spents_names])\n",
    "X_test_features = np.concatenate([X_features,X_spents],axis=1)"
   ]
  },
  {
   "cell_type": "code",
   "execution_count": 57,
   "id": "d8dc19e8",
   "metadata": {
    "tags": []
   },
   "outputs": [],
   "source": [
    "y_pred_test_rnn = rnn_model.predict(X_test_features, batch_size=train_nn_model.BATCH_SIZE)\n",
    "resulado_final[f'{param_imb_method}-ffn'] = y_pred_test_rnn"
   ]
  },
  {
   "cell_type": "code",
   "execution_count": 58,
   "id": "2e685386",
   "metadata": {
    "tags": []
   },
   "outputs": [
    {
     "name": "stdout",
     "output_type": "stream",
     "text": [
      "AUC Test:  0.729\n"
     ]
    }
   ],
   "source": [
    "print(\"AUC Test:  %.3f\" %  roc_auc_score(y_test,y_pred_test_rnn))"
   ]
  },
  {
   "cell_type": "code",
   "execution_count": 59,
   "id": "56f681fa",
   "metadata": {
    "tags": []
   },
   "outputs": [
    {
     "data": {
      "image/png": "[encoded data removed]",
      "text/plain": [
       "<Figure size 576x288 with 1 Axes>"
      ]
     },
     "metadata": {
      "needs_background": "light"
     },
     "output_type": "display_data"
    }
   ],
   "source": [
    "plt.figure(figsize=(8,4))\n",
    "sns.distplot(y_pred_test_rnn[y_test==0], label='0')\n",
    "sns.distplot(y_pred_test_rnn[y_test==1], label='1')\n",
    "plt.xlabel('score', fontsize=16)\n",
    "plt.ylabel('density', fontsize=16)\n",
    "plt.legend()\n",
    "plt.grid()"
   ]
  },
  {
   "cell_type": "markdown",
   "id": "6305632e",
   "metadata": {},
   "source": [
    "## LSTM-NN"
   ]
  },
  {
   "cell_type": "code",
   "execution_count": 60,
   "id": "30966082",
   "metadata": {
    "tags": []
   },
   "outputs": [
    {
     "name": "stdout",
     "output_type": "stream",
     "text": [
      "Restoring model weights from the end of the best epoch.\n",
      "Epoch 00076: early stopping\n",
      "CPU times: user 5min 9s, sys: 3min 56s, total: 9min 5s\n",
      "Wall time: 42.2 s\n"
     ]
    }
   ],
   "source": [
    "%%time\n",
    "features_names = variables_categoricas + feauture_selected\n",
    "spents_names = variables_consumo\n",
    "lstm_nn_model = LSTMNNModel(features_names,spents_names,sampling_th = sam_th,preprocesor_num = preprocesor,sampling_method=param_imb_method)\n",
    "lstm_rnn_model,pipe_features,pipe_spent = lstm_nn_model.train(df_train,y_train)"
   ]
  },
  {
   "cell_type": "code",
   "execution_count": 61,
   "id": "04caa490",
   "metadata": {
    "tags": []
   },
   "outputs": [],
   "source": [
    "X_test_features = pipe_features.transform(df_test[features_names])\n",
    "X_test_spents = pipe_spent.transform(df_test[spents_names])\n",
    "X_test_spents = X_test_spents.reshape((X_test_spents.shape[0],periodo,1))"
   ]
  },
  {
   "cell_type": "code",
   "execution_count": 62,
   "id": "a4cc9323",
   "metadata": {
    "tags": []
   },
   "outputs": [],
   "source": [
    "y_pred_test_lstm_rnn = lstm_rnn_model.predict([X_test_spents, X_test_features],batch_size=lstm_nn_model.BATCH_SIZE)[:,0]\n",
    "resulado_final[f'{param_imb_method}-lstm-ffn'] = y_pred_test_lstm_rnn"
   ]
  },
  {
   "cell_type": "code",
   "execution_count": 63,
   "id": "32c8d062",
   "metadata": {
    "tags": []
   },
   "outputs": [
    {
     "name": "stdout",
     "output_type": "stream",
     "text": [
      "AUC Test:  0.731\n"
     ]
    }
   ],
   "source": [
    "print(\"AUC Test:  %.3f\" %  roc_auc_score(y_test,y_pred_test_lstm_rnn))"
   ]
  },
  {
   "cell_type": "code",
   "execution_count": 64,
   "id": "92fb461a",
   "metadata": {
    "tags": []
   },
   "outputs": [
    {
     "data": {
      "image/png": "[encoded data removed]",
      "text/plain": [
       "<Figure size 576x288 with 1 Axes>"
      ]
     },
     "metadata": {
      "needs_background": "light"
     },
     "output_type": "display_data"
    }
   ],
   "source": [
    "plt.figure(figsize=(8,4))\n",
    "sns.distplot(y_pred_test_lstm_rnn[y_test==0], label='0')\n",
    "sns.distplot(y_pred_test_lstm_rnn[y_test==1], label='1')\n",
    "plt.xlabel('score', fontsize=16)\n",
    "plt.ylabel('density', fontsize=16)\n",
    "plt.legend()\n",
    "plt.grid()"
   ]
  },
  {
   "cell_type": "markdown",
   "id": "d12c6f9e",
   "metadata": {},
   "source": [
    "## Paso 5 - Resultado Final"
   ]
  },
  {
   "cell_type": "code",
   "execution_count": 65,
   "id": "04c94ebb-1231-4090-9f74-ec3ffb92a79a",
   "metadata": {
    "tags": []
   },
   "outputs": [],
   "source": [
    "colors = plt.rcParams['axes.prop_cycle'].by_key()['color']\n",
    "mpl.rcParams['figure.figsize'] = (10, 6)"
   ]
  },
  {
   "cell_type": "code",
   "execution_count": 66,
   "id": "1b3e58aa",
   "metadata": {
    "tags": []
   },
   "outputs": [
    {
     "data": {
      "text/html": [
       "<div>\n",
       "<style scoped>\n",
       "    .dataframe tbody tr th:only-of-type {\n",
       "        vertical-align: middle;\n",
       "    }\n",
       "\n",
       "    .dataframe tbody tr th {\n",
       "        vertical-align: top;\n",
       "    }\n",
       "\n",
       "    .dataframe thead th {\n",
       "        text-align: right;\n",
       "    }\n",
       "</style>\n",
       "<table border=\"1\" class=\"dataframe\">\n",
       "  <thead>\n",
       "    <tr style=\"text-align: right;\">\n",
       "      <th></th>\n",
       "      <th>metodo</th>\n",
       "      <th>auc</th>\n",
       "    </tr>\n",
       "  </thead>\n",
       "  <tbody>\n",
       "    <tr>\n",
       "      <th>0</th>\n",
       "      <td>under-lgbm</td>\n",
       "      <td>0.78</td>\n",
       "    </tr>\n",
       "    <tr>\n",
       "      <th>2</th>\n",
       "      <td>under-lstm-ffn</td>\n",
       "      <td>0.73</td>\n",
       "    </tr>\n",
       "    <tr>\n",
       "      <th>1</th>\n",
       "      <td>under-ffn</td>\n",
       "      <td>0.73</td>\n",
       "    </tr>\n",
       "  </tbody>\n",
       "</table>\n",
       "</div>"
      ],
      "text/plain": [
       "           metodo  auc\n",
       "0      under-lgbm 0.78\n",
       "2  under-lstm-ffn 0.73\n",
       "1       under-ffn 0.73"
      ]
     },
     "execution_count": 66,
     "metadata": {},
     "output_type": "execute_result"
    },
    {
     "data": {
      "image/png": "[encoded data removed]",
      "text/plain": [
       "<Figure size 720x432 with 1 Axes>"
      ]
     },
     "metadata": {
      "needs_background": "light"
     },
     "output_type": "display_data"
    }
   ],
   "source": [
    "l_m_auc = []\n",
    "\n",
    "for i,x in enumerate(resulado_final.keys()):\n",
    "    plot_roc(x, y_test,resulado_final[x] , color=colors[i])\n",
    "    m_auc = roc_auc_score(y_test,resulado_final[x])\n",
    "    l_m_auc.append((x,m_auc))\n",
    "plt.legend();\n",
    "\n",
    "pd.DataFrame(l_m_auc, columns=['metodo','auc']).sort_values('auc',ascending=False)"
   ]
  },
  {
   "cell_type": "code",
   "execution_count": 67,
   "id": "5470382d",
   "metadata": {
    "tags": []
   },
   "outputs": [
    {
     "name": "stdout",
     "output_type": "stream",
     "text": [
      "FIN\n"
     ]
    }
   ],
   "source": [
    "print('FIN')"
   ]
  },
  {
   "cell_type": "markdown",
   "id": "dc2f27a2",
   "metadata": {},
   "source": [
    "***"
   ]
  },
  {
   "cell_type": "code",
   "execution_count": null,
   "id": "985b9064-f276-447a-b092-557c6d53c419",
   "metadata": {},
   "outputs": [],
   "source": []
  }
 ],
 "metadata": {
  "availableInstances": [
   {
    "_defaultOrder": 0,
    "_isFastLaunch": true,
    "category": "General purpose",
    "gpuNum": 0,
    "memoryGiB": 4,
    "name": "ml.t3.medium",
    "vcpuNum": 2
   },
   {
    "_defaultOrder": 1,
    "_isFastLaunch": false,
    "category": "General purpose",
    "gpuNum": 0,
    "memoryGiB": 8,
    "name": "ml.t3.large",
    "vcpuNum": 2
   },
   {
    "_defaultOrder": 2,
    "_isFastLaunch": false,
    "category": "General purpose",
    "gpuNum": 0,
    "memoryGiB": 16,
    "name": "ml.t3.xlarge",
    "vcpuNum": 4
   },
   {
    "_defaultOrder": 3,
    "_isFastLaunch": false,
    "category": "General purpose",
    "gpuNum": 0,
    "memoryGiB": 32,
    "name": "ml.t3.2xlarge",
    "vcpuNum": 8
   },
   {
    "_defaultOrder": 4,
    "_isFastLaunch": true,
    "category": "General purpose",
    "gpuNum": 0,
    "memoryGiB": 8,
    "name": "ml.m5.large",
    "vcpuNum": 2
   },
   {
    "_defaultOrder": 5,
    "_isFastLaunch": false,
    "category": "General purpose",
    "gpuNum": 0,
    "memoryGiB": 16,
    "name": "ml.m5.xlarge",
    "vcpuNum": 4
   },
   {
    "_defaultOrder": 6,
    "_isFastLaunch": false,
    "category": "General purpose",
    "gpuNum": 0,
    "memoryGiB": 32,
    "name": "ml.m5.2xlarge",
    "vcpuNum": 8
   },
   {
    "_defaultOrder": 7,
    "_isFastLaunch": false,
    "category": "General purpose",
    "gpuNum": 0,
    "memoryGiB": 64,
    "name": "ml.m5.4xlarge",
    "vcpuNum": 16
   },
   {
    "_defaultOrder": 8,
    "_isFastLaunch": false,
    "category": "General purpose",
    "gpuNum": 0,
    "memoryGiB": 128,
    "name": "ml.m5.8xlarge",
    "vcpuNum": 32
   },
   {
    "_defaultOrder": 9,
    "_isFastLaunch": false,
    "category": "General purpose",
    "gpuNum": 0,
    "memoryGiB": 192,
    "name": "ml.m5.12xlarge",
    "vcpuNum": 48
   },
   {
    "_defaultOrder": 10,
    "_isFastLaunch": false,
    "category": "General purpose",
    "gpuNum": 0,
    "memoryGiB": 256,
    "name": "ml.m5.16xlarge",
    "vcpuNum": 64
   },
   {
    "_defaultOrder": 11,
    "_isFastLaunch": false,
    "category": "General purpose",
    "gpuNum": 0,
    "memoryGiB": 384,
    "name": "ml.m5.24xlarge",
    "vcpuNum": 96
   },
   {
    "_defaultOrder": 12,
    "_isFastLaunch": false,
    "category": "General purpose",
    "gpuNum": 0,
    "memoryGiB": 8,
    "name": "ml.m5d.large",
    "vcpuNum": 2
   },
   {
    "_defaultOrder": 13,
    "_isFastLaunch": false,
    "category": "General purpose",
    "gpuNum": 0,
    "memoryGiB": 16,
    "name": "ml.m5d.xlarge",
    "vcpuNum": 4
   },
   {
    "_defaultOrder": 14,
    "_isFastLaunch": false,
    "category": "General purpose",
    "gpuNum": 0,
    "memoryGiB": 32,
    "name": "ml.m5d.2xlarge",
    "vcpuNum": 8
   },
   {
    "_defaultOrder": 15,
    "_isFastLaunch": false,
    "category": "General purpose",
    "gpuNum": 0,
    "memoryGiB": 64,
    "name": "ml.m5d.4xlarge",
    "vcpuNum": 16
   },
   {
    "_defaultOrder": 16,
    "_isFastLaunch": false,
    "category": "General purpose",
    "gpuNum": 0,
    "memoryGiB": 128,
    "name": "ml.m5d.8xlarge",
    "vcpuNum": 32
   },
   {
    "_defaultOrder": 17,
    "_isFastLaunch": false,
    "category": "General purpose",
    "gpuNum": 0,
    "memoryGiB": 192,
    "name": "ml.m5d.12xlarge",
    "vcpuNum": 48
   },
   {
    "_defaultOrder": 18,
    "_isFastLaunch": false,
    "category": "General purpose",
    "gpuNum": 0,
    "memoryGiB": 256,
    "name": "ml.m5d.16xlarge",
    "vcpuNum": 64
   },
   {
    "_defaultOrder": 19,
    "_isFastLaunch": false,
    "category": "General purpose",
    "gpuNum": 0,
    "memoryGiB": 384,
    "name": "ml.m5d.24xlarge",
    "vcpuNum": 96
   },
   {
    "_defaultOrder": 20,
    "_isFastLaunch": true,
    "category": "Compute optimized",
    "gpuNum": 0,
    "memoryGiB": 4,
    "name": "ml.c5.large",
    "vcpuNum": 2
   },
   {
    "_defaultOrder": 21,
    "_isFastLaunch": false,
    "category": "Compute optimized",
    "gpuNum": 0,
    "memoryGiB": 8,
    "name": "ml.c5.xlarge",
    "vcpuNum": 4
   },
   {
    "_defaultOrder": 22,
    "_isFastLaunch": false,
    "category": "Compute optimized",
    "gpuNum": 0,
    "memoryGiB": 16,
    "name": "ml.c5.2xlarge",
    "vcpuNum": 8
   },
   {
    "_defaultOrder": 23,
    "_isFastLaunch": false,
    "category": "Compute optimized",
    "gpuNum": 0,
    "memoryGiB": 32,
    "name": "ml.c5.4xlarge",
    "vcpuNum": 16
   },
   {
    "_defaultOrder": 24,
    "_isFastLaunch": false,
    "category": "Compute optimized",
    "gpuNum": 0,
    "memoryGiB": 72,
    "name": "ml.c5.9xlarge",
    "vcpuNum": 36
   },
   {
    "_defaultOrder": 25,
    "_isFastLaunch": false,
    "category": "Compute optimized",
    "gpuNum": 0,
    "memoryGiB": 96,
    "name": "ml.c5.12xlarge",
    "vcpuNum": 48
   },
   {
    "_defaultOrder": 26,
    "_isFastLaunch": false,
    "category": "Compute optimized",
    "gpuNum": 0,
    "memoryGiB": 144,
    "name": "ml.c5.18xlarge",
    "vcpuNum": 72
   },
   {
    "_defaultOrder": 27,
    "_isFastLaunch": false,
    "category": "Compute optimized",
    "gpuNum": 0,
    "memoryGiB": 192,
    "name": "ml.c5.24xlarge",
    "vcpuNum": 96
   },
   {
    "_defaultOrder": 28,
    "_isFastLaunch": true,
    "category": "Accelerated computing",
    "gpuNum": 1,
    "memoryGiB": 16,
    "name": "ml.g4dn.xlarge",
    "vcpuNum": 4
   },
   {
    "_defaultOrder": 29,
    "_isFastLaunch": false,
    "category": "Accelerated computing",
    "gpuNum": 1,
    "memoryGiB": 32,
    "name": "ml.g4dn.2xlarge",
    "vcpuNum": 8
   },
   {
    "_defaultOrder": 30,
    "_isFastLaunch": false,
    "category": "Accelerated computing",
    "gpuNum": 1,
    "memoryGiB": 64,
    "name": "ml.g4dn.4xlarge",
    "vcpuNum": 16
   },
   {
    "_defaultOrder": 31,
    "_isFastLaunch": false,
    "category": "Accelerated computing",
    "gpuNum": 1,
    "memoryGiB": 128,
    "name": "ml.g4dn.8xlarge",
    "vcpuNum": 32
   },
   {
    "_defaultOrder": 32,
    "_isFastLaunch": false,
    "category": "Accelerated computing",
    "gpuNum": 4,
    "memoryGiB": 192,
    "name": "ml.g4dn.12xlarge",
    "vcpuNum": 48
   },
   {
    "_defaultOrder": 33,
    "_isFastLaunch": false,
    "category": "Accelerated computing",
    "gpuNum": 1,
    "memoryGiB": 256,
    "name": "ml.g4dn.16xlarge",
    "vcpuNum": 64
   },
   {
    "_defaultOrder": 34,
    "_isFastLaunch": false,
    "category": "Accelerated computing",
    "gpuNum": 1,
    "memoryGiB": 61,
    "name": "ml.p3.2xlarge",
    "vcpuNum": 8
   },
   {
    "_defaultOrder": 35,
    "_isFastLaunch": false,
    "category": "Accelerated computing",
    "gpuNum": 4,
    "memoryGiB": 244,
    "name": "ml.p3.8xlarge",
    "vcpuNum": 32
   },
   {
    "_defaultOrder": 36,
    "_isFastLaunch": false,
    "category": "Accelerated computing",
    "gpuNum": 8,
    "memoryGiB": 488,
    "name": "ml.p3.16xlarge",
    "vcpuNum": 64
   },
   {
    "_defaultOrder": 37,
    "_isFastLaunch": false,
    "category": "Accelerated computing",
    "gpuNum": 8,
    "memoryGiB": 768,
    "name": "ml.p3dn.24xlarge",
    "vcpuNum": 96
   },
   {
    "_defaultOrder": 38,
    "_isFastLaunch": false,
    "category": "Memory Optimized",
    "gpuNum": 0,
    "memoryGiB": 16,
    "name": "ml.r5.large",
    "vcpuNum": 2
   },
   {
    "_defaultOrder": 39,
    "_isFastLaunch": false,
    "category": "Memory Optimized",
    "gpuNum": 0,
    "memoryGiB": 32,
    "name": "ml.r5.xlarge",
    "vcpuNum": 4
   },
   {
    "_defaultOrder": 40,
    "_isFastLaunch": false,
    "category": "Memory Optimized",
    "gpuNum": 0,
    "memoryGiB": 64,
    "name": "ml.r5.2xlarge",
    "vcpuNum": 8
   },
   {
    "_defaultOrder": 41,
    "_isFastLaunch": false,
    "category": "Memory Optimized",
    "gpuNum": 0,
    "memoryGiB": 128,
    "name": "ml.r5.4xlarge",
    "vcpuNum": 16
   },
   {
    "_defaultOrder": 42,
    "_isFastLaunch": false,
    "category": "Memory Optimized",
    "gpuNum": 0,
    "memoryGiB": 256,
    "name": "ml.r5.8xlarge",
    "vcpuNum": 32
   },
   {
    "_defaultOrder": 43,
    "_isFastLaunch": false,
    "category": "Memory Optimized",
    "gpuNum": 0,
    "memoryGiB": 384,
    "name": "ml.r5.12xlarge",
    "vcpuNum": 48
   },
   {
    "_defaultOrder": 44,
    "_isFastLaunch": false,
    "category": "Memory Optimized",
    "gpuNum": 0,
    "memoryGiB": 512,
    "name": "ml.r5.16xlarge",
    "vcpuNum": 64
   },
   {
    "_defaultOrder": 45,
    "_isFastLaunch": false,
    "category": "Memory Optimized",
    "gpuNum": 0,
    "memoryGiB": 768,
    "name": "ml.r5.24xlarge",
    "vcpuNum": 96
   },
   {
    "_defaultOrder": 46,
    "_isFastLaunch": false,
    "category": "Accelerated computing",
    "gpuNum": 1,
    "memoryGiB": 16,
    "name": "ml.g5.xlarge",
    "vcpuNum": 4
   },
   {
    "_defaultOrder": 47,
    "_isFastLaunch": false,
    "category": "Accelerated computing",
    "gpuNum": 1,
    "memoryGiB": 32,
    "name": "ml.g5.2xlarge",
    "vcpuNum": 8
   },
   {
    "_defaultOrder": 48,
    "_isFastLaunch": false,
    "category": "Accelerated computing",
    "gpuNum": 1,
    "memoryGiB": 64,
    "name": "ml.g5.4xlarge",
    "vcpuNum": 16
   },
   {
    "_defaultOrder": 49,
    "_isFastLaunch": false,
    "category": "Accelerated computing",
    "gpuNum": 1,
    "memoryGiB": 128,
    "name": "ml.g5.8xlarge",
    "vcpuNum": 32
   },
   {
    "_defaultOrder": 50,
    "_isFastLaunch": false,
    "category": "Accelerated computing",
    "gpuNum": 1,
    "memoryGiB": 256,
    "name": "ml.g5.16xlarge",
    "vcpuNum": 64
   },
   {
    "_defaultOrder": 51,
    "_isFastLaunch": false,
    "category": "Accelerated computing",
    "gpuNum": 4,
    "memoryGiB": 192,
    "name": "ml.g5.12xlarge",
    "vcpuNum": 48
   },
   {
    "_defaultOrder": 52,
    "_isFastLaunch": false,
    "category": "Accelerated computing",
    "gpuNum": 4,
    "memoryGiB": 384,
    "name": "ml.g5.24xlarge",
    "vcpuNum": 96
   },
   {
    "_defaultOrder": 53,
    "_isFastLaunch": false,
    "category": "Accelerated computing",
    "gpuNum": 8,
    "memoryGiB": 768,
    "name": "ml.g5.48xlarge",
    "vcpuNum": 192
   }
  ],
  "instance_type": "ml.m5.4xlarge",
  "kernelspec": {
   "display_name": "Python 3 (TensorFlow 2.1 Python 3.6 CPU Optimized)",
   "language": "python",
   "name": "python3__SAGEMAKER_INTERNAL__arn:aws:sagemaker:us-east-1:081325390199:image/tensorflow-2.1-cpu-py36"
  },
  "language_info": {
   "codemirror_mode": {
    "name": "ipython",
    "version": 3
   },
   "file_extension": ".py",
   "mimetype": "text/x-python",
   "name": "python",
   "nbconvert_exporter": "python",
   "pygments_lexer": "ipython3",
   "version": "3.6.13"
  }
 },
 "nbformat": 4,
 "nbformat_minor": 5
}
