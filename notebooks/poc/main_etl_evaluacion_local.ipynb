{
 "cells": [
  {
   "cell_type": "markdown",
   "id": "f8a935c9",
   "metadata": {},
   "source": [
    "# ETL Evaluacion -  EEGSA - Guatemala\n",
    "\n",
    "**Leer los datos en crudo (raw data) procesarlos, guardarlos (clean data) y generar dataset de evaluacion**"
   ]
  },
  {
   "cell_type": "code",
   "execution_count": 1,
   "id": "53537e1c",
   "metadata": {},
   "outputs": [],
   "source": [
    "import os\n",
    "import pandas as pd\n",
    "import numpy as np\n",
    "import warnings\n",
    "import pandas as pd\n",
    "import io\n",
    "import glob\n",
    "import unidecode\n",
    "from tqdm import tqdm\n",
    "import sys"
   ]
  },
  {
   "cell_type": "code",
   "execution_count": 2,
   "id": "e57988a4",
   "metadata": {},
   "outputs": [],
   "source": [
    "warnings.filterwarnings('ignore')\n",
    "pd.options.display.float_format = '{:.5f}'.format \n",
    "pd.set_option('display.max_columns', None)"
   ]
  },
  {
   "cell_type": "code",
   "execution_count": 3,
   "id": "51abcb1a",
   "metadata": {},
   "outputs": [],
   "source": [
    "%load_ext autoreload\n",
    "%autoreload 2"
   ]
  },
  {
   "cell_type": "code",
   "execution_count": 4,
   "id": "a2c870ad",
   "metadata": {},
   "outputs": [],
   "source": [
    "module_path = os.path.abspath(os.path.join('../../'))\n",
    "if module_path not in sys.path:\n",
    "    sys.path.append(module_path)"
   ]
  },
  {
   "cell_type": "code",
   "execution_count": 5,
   "id": "1ce4f34e",
   "metadata": {},
   "outputs": [],
   "source": [
    "from src.etl.etl_train import *\n",
    "from src.conf.config  import ConfigETL"
   ]
  },
  {
   "cell_type": "markdown",
   "id": "4cf2d164",
   "metadata": {},
   "source": [
    "### Configuracion"
   ]
  },
  {
   "cell_type": "code",
   "execution_count": 6,
   "id": "b417ec35",
   "metadata": {},
   "outputs": [],
   "source": [
    "ConfigETL.init_config()"
   ]
  },
  {
   "cell_type": "code",
   "execution_count": 7,
   "id": "1a5e2242",
   "metadata": {},
   "outputs": [],
   "source": [
    "DATA_PATH_RAW = ConfigETL.get('workspace').get('data_raw_path')\n",
    "DATA_PATH_CLEAN = ConfigETL.get('workspace').get('data_clean_path')\n",
    "\n",
    "file_name_historico_consumo = ConfigETL.get('output_data_train').get('file_name_historico_consumo')\n",
    "mes_ultimo_consumo = ConfigETL.get('mes_ultimo_consumo')\n",
    "file_name_data_prediction = ConfigETL.get('output_data_prediction').get('file_name_data_prediction')"
   ]
  },
  {
   "cell_type": "code",
   "execution_count": 8,
   "id": "0bb8aff6",
   "metadata": {},
   "outputs": [],
   "source": [
    "def save_file(df,filename):\n",
    "    path = DATA_PATH_CLEAN+filename\n",
    "    df.to_parquet(path, index=False)\n",
    "        \n",
    "def load_file(filename):\n",
    "    path = DATA_PATH_CLEAN+filename\n",
    "    return pd.read_parquet(path)\n",
    "        \n",
    "def run():\n",
    "    df_exdata = run_etl_zgm023(DATA_PATH_RAW)\n",
    "    df_consumo = load_file(file_name_historico_consumo)\n",
    "    df_prediction = create_prediction_dataset(df_consumo,df_exdata,mes_ultimo_consumo)\n",
    "    save_file(df_prediction,file_name_data_prediction)"
   ]
  },
  {
   "cell_type": "code",
   "execution_count": 9,
   "id": "99f17d30",
   "metadata": {},
   "outputs": [
    {
     "name": "stdout",
     "output_type": "stream",
     "text": [
      "../../data/raw_data/data_zgm023/zgm023_708_20220717_081548.txt\n",
      "../../data/raw_data/data_zgm023/zgm023_812_20220721_081541.txt\n",
      "../../data/raw_data/data_zgm023/zgm023_609_20220718_081553.txt\n",
      "../../data/raw_data/data_zgm023/zgm023_614_20220724_081539.txt\n",
      "../../data/raw_data/data_zgm023/zgm023_620_20220802_081541.txt\n",
      "../../data/raw_data/data_zgm023/zgm023_810_20220719_081540.txt\n",
      "../../data/raw_data/data_zgm023/zgm023_608_20220717_081547.txt\n",
      "../../data/raw_data/data_zgm023/zgm023_809_20220718_081556.txt\n",
      "../../data/raw_data/data_zgm023/zgm023_704_20220713_081541.txt\n",
      "../../data/raw_data/data_zgm023/zgm023_811_20220720_081541.txt\n",
      "../../data/raw_data/data_zgm023/zgm023_803_20220712_081542.txt\n",
      "../../data/raw_data/data_zgm023/zgm023_805_20220715_081544.txt\n",
      "../../data/raw_data/data_zgm023/zgm023_607_20220716_081539.txt\n",
      "../../data/raw_data/data_zgm023/zgm023_706_20220715_081548.txt\n",
      "../../data/raw_data/data_zgm023/zgm023_616_20220726_081542.txt\n",
      "../../data/raw_data/data_zgm023/zgm023_709_20220718_081555.txt\n",
      "../../data/raw_data/data_zgm023/zgm023_718_20220728_081545.txt\n",
      "../../data/raw_data/data_zgm023/zgm023_806_20220715_081549.txt\n",
      "../../data/raw_data/data_zgm023/zgm023_617_20220727_081543.txt\n",
      "../../data/raw_data/data_zgm023/zgm023_807_20220716_081542.txt\n",
      "../../data/raw_data/data_zgm023/zgm023_719_20220731_081542.txt\n",
      "../../data/raw_data/data_zgm023/zgm023_716_20220726_081543.txt\n",
      "../../data/raw_data/data_zgm023/zgm023_801_20220711_081549.txt\n",
      "../../data/raw_data/data_zgm023/zgm023_815_20220725_081544.txt\n",
      "../../data/raw_data/data_zgm023/zgm023_605_20220715_081542.txt\n",
      "../../data/raw_data/data_zgm023/zgm023_611_20220720_081540.txt\n",
      "../../data/raw_data/data_zgm023/zgm023_701_20220711_081549.txt\n",
      "../../data/raw_data/data_zgm023/zgm023_618_20220728_081544.txt\n",
      "../../data/raw_data/data_zgm023/zgm023_619_20220731_081541.txt\n",
      "../../data/raw_data/data_zgm023/zgm023_707_20220716_081541.txt\n",
      "../../data/raw_data/data_zgm023/zgm023_705_20220715_081543.txt\n",
      "../../data/raw_data/data_zgm023/zgm023_702_20220711_081551.txt\n",
      "../../data/raw_data/data_zgm023/zgm023_604_20220713_081540.txt\n",
      "../../data/raw_data/data_zgm023/zgm023_712_20220721_081540.txt\n",
      "../../data/raw_data/data_zgm023/zgm023_817_20220727_081544.txt\n",
      "../../data/raw_data/data_zgm023/zgm023_816_20220726_081543.txt\n",
      "../../data/raw_data/data_zgm023/zgm023_804_20220713_081542.txt\n",
      "../../data/raw_data/data_zgm023/zgm023_610_20220719_081542.txt\n",
      "../../data/raw_data/data_zgm023/zgm023_808_20220717_081549.txt\n",
      "../../data/raw_data/data_zgm023/zgm023_711_20220720_081540.txt\n",
      "../../data/raw_data/data_zgm023/zgm023_710_20220719_081539.txt\n",
      "../../data/raw_data/data_zgm023/zgm023_802_20220711_081552.txt\n",
      "../../data/raw_data/data_zgm023/zgm023_615_20220725_081541.txt\n",
      "../../data/raw_data/data_zgm023/zgm023_813_20220722_081542.txt\n",
      "../../data/raw_data/data_zgm023/zgm023_613_20220722_081540.txt\n",
      "../../data/raw_data/data_zgm023/zgm023_714_20220724_081541.txt\n",
      "../../data/raw_data/data_zgm023/zgm023_603_20220712_081540.txt\n",
      "../../data/raw_data/data_zgm023/zgm023_713_20220722_081541.txt\n",
      "../../data/raw_data/data_zgm023/zgm023_819_20220731_081542.txt\n",
      "../../data/raw_data/data_zgm023/zgm023_821_20220803_081542.txt\n",
      "../../data/raw_data/data_zgm023/zgm023_715_20220725_081543.txt\n",
      "../../data/raw_data/data_zgm023/zgm023_703_20220712_081541.txt\n",
      "../../data/raw_data/data_zgm023/zgm023_717_20220727_081544.txt\n",
      "../../data/raw_data/data_zgm023/zgm023_814_20220724_081541.txt\n",
      "../../data/raw_data/data_zgm023/zgm023_820_20220802_081542.txt\n",
      "../../data/raw_data/data_zgm023/zgm023_602_20220711_081551.txt\n",
      "../../data/raw_data/data_zgm023/zgm023_606_20220715_081546.txt\n",
      "../../data/raw_data/data_zgm023/zgm023_601_20220711_081548.txt\n",
      "../../data/raw_data/data_zgm023/zgm023_818_20220728_081546.txt\n",
      "../../data/raw_data/data_zgm023/zgm023_612_20220721_081539.txt\n",
      "fecha_de_alta\n",
      "fecha_de_baja\n",
      "CPU times: user 8min 15s, sys: 1min 6s, total: 9min 22s\n",
      "Wall time: 9min 9s\n"
     ]
    }
   ],
   "source": [
    "%%time\n",
    "run()"
   ]
  },
  {
   "cell_type": "code",
   "execution_count": null,
   "id": "58ad48fd",
   "metadata": {},
   "outputs": [],
   "source": []
  }
 ],
 "metadata": {
  "kernelspec": {
   "display_name": "Python 3 (ipykernel)",
   "language": "python",
   "name": "python3"
  },
  "language_info": {
   "codemirror_mode": {
    "name": "ipython",
    "version": 3
   },
   "file_extension": ".py",
   "mimetype": "text/x-python",
   "name": "python",
   "nbconvert_exporter": "python",
   "pygments_lexer": "ipython3",
   "version": "3.7.4"
  }
 },
 "nbformat": 4,
 "nbformat_minor": 5
}
