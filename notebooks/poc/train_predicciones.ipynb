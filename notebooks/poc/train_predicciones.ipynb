{
 "cells": [
  {
   "cell_type": "markdown",
   "id": "e73df018-6aa6-4d30-aff9-8c4d53c88ed3",
   "metadata": {},
   "source": [
    "## Proceso de Entrenamiento de Modelo y Predicción de Valores\n",
    "1. **Entrenamiento**: ...\n",
    "2. **Predicción**: ..."
   ]
  },
  {
   "cell_type": "code",
   "execution_count": 6,
   "id": "0bd25394-3c60-4a73-9682-41f1984d1f04",
   "metadata": {
    "tags": []
   },
   "outputs": [],
   "source": [
    "######## CONFIGURACIONES PRELIMINARES ##########\n",
    "import os\n",
    "import pandas as pd\n",
    "import warnings\n",
    "import io\n",
    "warnings.filterwarnings('ignore')\n",
    "pd.options.display.float_format = '{:.5f}'.format #evita que muestre notacion cientifica\n",
    "pd.set_option('display.max_rows', None)\n",
    "pd.set_option('display.max_columns', None)\n",
    "module_path = os.path.abspath(os.path.join('../../'))\n",
    "import sys\n",
    "if module_path not in sys.path:\n",
    "    sys.path.append(module_path)\n",
    "from src.modeling import train_predict"
   ]
  },
  {
   "cell_type": "code",
   "execution_count": null,
   "id": "36c4ce2b-506e-46d4-aca7-e4fca405d570",
   "metadata": {
    "tags": []
   },
   "outputs": [],
   "source": [
    "%%time\n",
    "X_train, X_test, y_train, y_test, cols_for_model, lgbm_model = train_predict.train_lgbm_model()"
   ]
  },
  {
   "cell_type": "code",
   "execution_count": null,
   "id": "2320a85b-1b94-4d82-9d07-d3b0cce72631",
   "metadata": {},
   "outputs": [],
   "source": [
    "%%time\n",
    "import pandas as pd\n",
    "series_features_mes = pd.read_parquet('../../data/historico/df_series_features_mes.parquet')\n",
    "reporte_predicciones = predicciones_mes(series_features_mes)"
   ]
  }
 ],
 "metadata": {
  "kernelspec": {
   "display_name": "conda_tensorflow2_p310",
   "language": "python",
   "name": "conda_tensorflow2_p310"
  },
  "language_info": {
   "codemirror_mode": {
    "name": "ipython",
    "version": 3
   },
   "file_extension": ".py",
   "mimetype": "text/x-python",
   "name": "python",
   "nbconvert_exporter": "python",
   "pygments_lexer": "ipython3",
   "version": "3.10.12"
  }
 },
 "nbformat": 4,
 "nbformat_minor": 5
}
