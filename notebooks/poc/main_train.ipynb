{
 "cells": [
  {
   "cell_type": "markdown",
   "id": "46ed35b1",
   "metadata": {},
   "source": [
    "# Train Modelos - EEGSA - Guatemala\n",
    "**Entranar los modelos y guardarlos para utilizarlos en la prediccion**"
   ]
  },
  {
   "cell_type": "code",
   "execution_count": 1,
   "id": "e93101a9",
   "metadata": {},
   "outputs": [],
   "source": [
    "import os\n",
    "import pandas as pd\n",
    "import numpy as np\n",
    "import matplotlib.pyplot as plt\n",
    "import seaborn as sns\n",
    "import warnings\n",
    "from datetime import datetime\n",
    "from  tqdm.notebook import  tqdm\n",
    "%config IPCompleter.use_jedi = False\n",
    "from sklearn.base import BaseEstimator, TransformerMixin\n",
    "from statsmodels.tsa.api import SimpleExpSmoothing\n",
    "from sklearn.linear_model import LinearRegression\n",
    "from sklearn.model_selection import train_test_split\n",
    "import statsmodels.api as sm\n",
    "from itertools import groupby\n",
    "warnings.filterwarnings('ignore')\n",
    "import sys\n",
    "import pickle\n",
    "from sklearn.metrics import mean_squared_error\n",
    "from sklearn.base import ClassifierMixin\n",
    "import joblib\n",
    "import os\n",
    "import sys\n",
    "from sklearn.pipeline import Pipeline\n",
    "from sklearn.preprocessing import OrdinalEncoder\n",
    "from sklearn.compose import ColumnTransformer\n",
    "from sklearn.linear_model import LogisticRegression\n",
    "from sklearn.metrics import roc_auc_score,average_precision_score\n",
    "import time"
   ]
  },
  {
   "cell_type": "code",
   "execution_count": 2,
   "id": "25d944f0",
   "metadata": {},
   "outputs": [],
   "source": [
    "warnings.filterwarnings('ignore')\n",
    "pd.options.display.float_format = '{:.5f}'.format #evita que muestre notacion cientifica\n",
    "pd.set_option('display.max_colwidth', None)\n",
    "pd.set_option('display.max_columns', None)"
   ]
  },
  {
   "cell_type": "code",
   "execution_count": 3,
   "id": "04c4ad23",
   "metadata": {},
   "outputs": [],
   "source": [
    "%load_ext autoreload\n",
    "%autoreload 2"
   ]
  },
  {
   "cell_type": "code",
   "execution_count": 4,
   "id": "2a429d1a",
   "metadata": {},
   "outputs": [],
   "source": [
    "module_path = os.path.abspath(os.path.join('../../'))\n",
    "if module_path not in sys.path:\n",
    "    sys.path.append(module_path)"
   ]
  },
  {
   "cell_type": "code",
   "execution_count": 5,
   "id": "2ddd4249",
   "metadata": {},
   "outputs": [
    {
     "name": "stderr",
     "output_type": "stream",
     "text": [
      "2022-12-11 20:17:42.714402: W tensorflow/stream_executor/platform/default/dso_loader.cc:55] Could not load dynamic library 'libnvinfer.so.6'; dlerror: libnvinfer.so.6: cannot open shared object file: No such file or directory\n",
      "2022-12-11 20:17:42.714531: W tensorflow/stream_executor/platform/default/dso_loader.cc:55] Could not load dynamic library 'libnvinfer_plugin.so.6'; dlerror: libnvinfer_plugin.so.6: cannot open shared object file: No such file or directory\n",
      "2022-12-11 20:17:42.714545: W tensorflow/compiler/tf2tensorrt/utils/py_utils.cc:30] Cannot dlopen some TensorRT libraries. If you would like to use Nvidia GPU with TensorRT, please make sure the missing libraries mentioned above are installed properly.\n"
     ]
    }
   ],
   "source": [
    "from src.preprocessing.preprocessing  import data_wrangling, ToDummy, TeEncoder, CardinalityReducer,build_feature_engeniering_pipeline\n",
    "from src.modeling.simple_models import ChangeTrendPercentajeIdentifierWide,ConstantConsumptionClassifierWide\n",
    "from src.modeling.supervided_models import LGBMModel, NNModel, LSTMNNModel, CATModel\n",
    "from src.conf.config  import Config"
   ]
  },
  {
   "cell_type": "markdown",
   "id": "86bc8b5c",
   "metadata": {},
   "source": [
    "## Configuracion"
   ]
  },
  {
   "cell_type": "code",
   "execution_count": 7,
   "id": "2e06ae4a",
   "metadata": {},
   "outputs": [],
   "source": [
    "Config.init_config()"
   ]
  },
  {
   "cell_type": "code",
   "execution_count": 8,
   "id": "e7338073",
   "metadata": {},
   "outputs": [],
   "source": [
    "DATA_PATH = Config.get('workspace').get('data_path')\n",
    "MODEL_PATH = Config.get('workspace').get('model_path')\n",
    "periodo = Config.get('model').get('periodo')\n",
    "cols_derivadas = pd.read_csv(f'{MODEL_PATH}features_by_const_boruta2_{periodo}.csv')['0'].tolist()\n",
    "cols_consumo = [f'{i}_anterior' for i in range(periodo, 0, -1)]\n",
    "cols_uc = Config.get('model').get('cols_uc')\n",
    "tsfel_names_path = f'{MODEL_PATH}/'+Config.get('model').get('tsfel_names_path')\n",
    "\n",
    "filename = Config.get('data').get('input_data')\n",
    "hip_lgbm = Config.get('model').get('hip_lgbm') \n",
    "hip_cat = Config.get('model').get('hip_cat') \n",
    "hip_trend = Config.get('model').get('hip_trend') \n",
    "hip_const = Config.get('model').get('hip_const')\n",
    "BATCH_SIZE = Config.get('model').get('hip_NN').get('batch_size') \n",
    "cols_for_model = cols_uc +cols_consumo+cols_derivadas\n",
    "cols_comb_model = ['prob_cb','prob_lgbm','prob_ffn','prob_lstmffn','fraud_constante','fraud_trend']\n",
    "\n",
    "\n",
    "name_model_fraud_lgbm = f'{MODEL_PATH}/model_fraud_lgbm.pkl'\n",
    "name_model_fraud_cat = f'{MODEL_PATH}/model_fraud_cat.pkl'\n",
    "name_model_fraud_nn = f'{MODEL_PATH}/model_fraud_nn.h5'\n",
    "name_model_fraud_lstmnn = f'{MODEL_PATH}/model_fraud_lstmnn.h5'\n",
    "name_pipe_features = f'{MODEL_PATH}/pipe_features.pkl'\n",
    "name_pipe_spent = f'{MODEL_PATH}/pipe_spent.pkl'\n",
    "name_model_fraud_comb  = f'{MODEL_PATH}/model_fraud_comb.pkl'"
   ]
  },
  {
   "cell_type": "code",
   "execution_count": 9,
   "id": "c8fb46a5",
   "metadata": {},
   "outputs": [],
   "source": [
    "def load_datasets():\n",
    "    df = pd.read_parquet(DATA_PATH+filename)\n",
    "    return df\n",
    "\n",
    "def preprocess_datasets(df):\n",
    "    ## Esto deberia estar en el ETL\n",
    "    df.rename(columns={'id_usuario':'uc'}, inplace=True)\n",
    "    df.rename(columns={'id':'index'}, inplace=True)\n",
    "    df.rename(columns={'is_fraud':'target'}, inplace=True)\n",
    "    pipe_feature_eng = build_feature_engeniering_pipeline(tsfel_names_path,num_periodos= periodo)\n",
    "    df = data_wrangling(df,periodo)\n",
    "    df = pipe_feature_eng.fit_transform(df, None)\n",
    "    return df\n",
    "\n",
    "def built_modelo_combinado(df):\n",
    "    X_train_0 = df[df.target==0].copy()\n",
    "    pos_size = len(df[df.target==1])\n",
    "    X_train_0 = X_train_0.sample(int(pos_size*1))\n",
    "\n",
    "    X_train = X_train_0.append(df[df.target==1]).sample(frac=1.0)\n",
    "    y_train = X_train.target.copy()\n",
    "    X_train = X_train[cols_comb_model]\n",
    "    lr_comb_model = LogisticRegression(C=1.76, solver='liblinear')\n",
    "    lr_comb_model.fit(X_train, y_train)\n",
    "    return lr_comb_model\n",
    "\n",
    "def save_model(model,file_name,is_pkl=True):\n",
    "    if is_pkl:\n",
    "        joblib.dump(model, file_name)\n",
    "    else:\n",
    "        model.save(file_name)"
   ]
  },
  {
   "cell_type": "code",
   "execution_count": 10,
   "id": "c02e182c",
   "metadata": {},
   "outputs": [],
   "source": [
    "start_time = time.time()"
   ]
  },
  {
   "cell_type": "markdown",
   "id": "445e744e",
   "metadata": {},
   "source": [
    "### Load Train Data Set"
   ]
  },
  {
   "cell_type": "code",
   "execution_count": 11,
   "id": "0f19ed9d",
   "metadata": {},
   "outputs": [
    {
     "name": "stdout",
     "output_type": "stream",
     "text": [
      "CPU times: user 1.24 s, sys: 567 ms, total: 1.81 s\n",
      "Wall time: 881 ms\n"
     ]
    },
    {
     "data": {
      "text/plain": [
       "(601542, 37)"
      ]
     },
     "execution_count": 11,
     "metadata": {},
     "output_type": "execute_result"
    }
   ],
   "source": [
    "%%time\n",
    "df = load_datasets()\n",
    "df.shape"
   ]
  },
  {
   "cell_type": "code",
   "execution_count": 12,
   "id": "b5152ee4",
   "metadata": {},
   "outputs": [],
   "source": [
    "df = df.sample(10000)"
   ]
  },
  {
   "cell_type": "markdown",
   "id": "9c0fe2ac",
   "metadata": {},
   "source": [
    "### Preprocess Data"
   ]
  },
  {
   "cell_type": "code",
   "execution_count": 13,
   "id": "cd99b263",
   "metadata": {},
   "outputs": [
    {
     "name": "stdout",
     "output_type": "stream",
     "text": [
      "self.read False\n",
      "ENTRO PARA CREAR JSON\n",
      "*** Feature extraction started ***\n"
     ]
    },
    {
     "data": {
      "text/html": [
       "\n",
       "              <p>\n",
       "                  Progress: 100% Complete\n",
       "              <p/>            \n",
       "              <progress\n",
       "                  value='10000'\n",
       "                  max='10000',\n",
       "                  style='width: 25%',\n",
       "              >\n",
       "                  10000\n",
       "              </progress>\n",
       "\n",
       "    "
      ],
      "text/plain": [
       "<IPython.core.display.HTML object>"
      ]
     },
     "metadata": {},
     "output_type": "display_data"
    },
    {
     "name": "stdout",
     "output_type": "stream",
     "text": [
      "\n",
      "*** Feature extraction finished ***\n",
      "df_result index: (10000,)\n",
      "df_tsfel (10000, 21)\n",
      "CPU times: user 46.3 s, sys: 4.34 s, total: 50.7 s\n",
      "Wall time: 46.6 s\n"
     ]
    }
   ],
   "source": [
    "%%time\n",
    "df = preprocess_datasets(df)"
   ]
  },
  {
   "cell_type": "markdown",
   "id": "f7dcc3ee",
   "metadata": {},
   "source": [
    "### Train"
   ]
  },
  {
   "cell_type": "code",
   "execution_count": 14,
   "id": "424f9d33",
   "metadata": {},
   "outputs": [],
   "source": [
    "df = df.sample(frac=1.0)\n",
    "df_train, df_val, y_train, y_val = train_test_split(df,df.target, test_size=0.2, random_state=42)"
   ]
  },
  {
   "cell_type": "code",
   "execution_count": 15,
   "id": "c37ef921",
   "metadata": {},
   "outputs": [],
   "source": [
    "lgbm_model = LGBMModel(cols_for_model,hip_lgbm)\n",
    "lgbm_final_model = lgbm_model.train(df_train,y_train)"
   ]
  },
  {
   "cell_type": "code",
   "execution_count": 16,
   "id": "1c9d30f4",
   "metadata": {},
   "outputs": [],
   "source": [
    "cat_model = CATModel(cols_for_model,hip_cat)\n",
    "cat_final_model = cat_model.train(df_train,y_train)"
   ]
  },
  {
   "cell_type": "code",
   "execution_count": 17,
   "id": "191cb3c6",
   "metadata": {},
   "outputs": [
    {
     "name": "stderr",
     "output_type": "stream",
     "text": [
      "2022-12-11 20:19:18.833133: W tensorflow/stream_executor/platform/default/dso_loader.cc:55] Could not load dynamic library 'libcuda.so.1'; dlerror: libcuda.so.1: cannot open shared object file: No such file or directory\n",
      "2022-12-11 20:19:18.833184: E tensorflow/stream_executor/cuda/cuda_driver.cc:351] failed call to cuInit: UNKNOWN ERROR (303)\n",
      "2022-12-11 20:19:18.833207: I tensorflow/stream_executor/cuda/cuda_diagnostics.cc:156] kernel driver does not appear to be running on this host (49434f55fd6e): /proc/driver/nvidia/version does not exist\n",
      "2022-12-11 20:19:18.833479: I tensorflow/core/platform/cpu_feature_guard.cc:142] Your CPU supports instructions that this TensorFlow binary was not compiled to use: AVX2 FMA\n",
      "2022-12-11 20:19:18.861904: I tensorflow/core/platform/profile_utils/cpu_utils.cc:94] CPU Frequency: 2400010000 Hz\n",
      "2022-12-11 20:19:18.863409: I tensorflow/compiler/xla/service/service.cc:168] XLA service 0x557a4b32b860 initialized for platform Host (this does not guarantee that XLA will be used). Devices:\n",
      "2022-12-11 20:19:18.863431: I tensorflow/compiler/xla/service/service.cc:176]   StreamExecutor device (0): Host, Default Version\n"
     ]
    },
    {
     "name": "stdout",
     "output_type": "stream",
     "text": [
      "Restoring model weights from the end of the best epoch.\n",
      "Epoch 00079: early stopping\n"
     ]
    }
   ],
   "source": [
    "features_names = cols_uc + cols_derivadas\n",
    "spents_names = cols_consumo\n",
    "nn_model = NNModel(features_names,spents_names)\n",
    "rnn_final_model,pipe_features,pipe_spent = nn_model.train(df_train,y_train)"
   ]
  },
  {
   "cell_type": "code",
   "execution_count": 18,
   "id": "7853c7c9",
   "metadata": {},
   "outputs": [
    {
     "name": "stdout",
     "output_type": "stream",
     "text": [
      "Restoring model weights from the end of the best epoch.\n",
      "Epoch 00097: early stopping\n"
     ]
    }
   ],
   "source": [
    "features_names = cols_uc + cols_derivadas\n",
    "spents_names = cols_consumo\n",
    "lstm_nn_model = LSTMNNModel(features_names,spents_names)\n",
    "lstm_rnn_final_model,pipe_features,pipe_spent = lstm_nn_model.train(df_train,y_train)"
   ]
  },
  {
   "cell_type": "code",
   "execution_count": 19,
   "id": "cb3a40da",
   "metadata": {},
   "outputs": [],
   "source": [
    "trend_perc_model = ChangeTrendPercentajeIdentifierWide(**hip_trend)\n",
    "const_model = ConstantConsumptionClassifierWide(**hip_const)"
   ]
  },
  {
   "cell_type": "code",
   "execution_count": 20,
   "id": "20be1456",
   "metadata": {},
   "outputs": [],
   "source": [
    "df_val['prob_lgbm'] = lgbm_final_model.predict_proba(df_val[cols_for_model])[:,1]\n",
    "df_val['prob_cb'] = cat_final_model.predict_proba(df_val[cols_for_model])[:,1]\n",
    "\n",
    "X_features = pipe_features.transform(df_val[features_names])\n",
    "X_spents = pipe_spent.transform(df_val[spents_names])\n",
    "X = np.concatenate([X_features,X_spents],axis=1)\n",
    "df_val['prob_ffn'] = rnn_final_model.predict(X, batch_size=BATCH_SIZE)[:,0]\n",
    "\n",
    "X_features = pipe_features.transform(df_val[features_names])\n",
    "X_spents = pipe_spent.transform(df_val[spents_names])\n",
    "X_spents = X_spents.reshape((X_spents.shape[0],periodo,1))\n",
    "df_val['prob_lstmffn'] = lstm_rnn_final_model.predict([X_spents, X_features],batch_size=BATCH_SIZE)[:,0]\n",
    "\n",
    "pred_tc = trend_perc_model.predict(df_val)\n",
    "df_val['fraud_trend'] = pred_tc.is_fraud_trend_perc\n",
    "\n",
    "pred_cm = const_model.predict(df_val[cols_consumo])\n",
    "df_val['fraud_constante'] = pred_cm"
   ]
  },
  {
   "cell_type": "code",
   "execution_count": 21,
   "id": "f8692850",
   "metadata": {},
   "outputs": [],
   "source": [
    "lr_comb_model = built_modelo_combinado(df_val)"
   ]
  },
  {
   "cell_type": "code",
   "execution_count": 22,
   "id": "31c793cc",
   "metadata": {},
   "outputs": [],
   "source": [
    "save_model(lgbm_final_model,name_model_fraud_lgbm)\n",
    "save_model(cat_final_model,name_model_fraud_cat)\n",
    "save_model(pipe_features,name_pipe_features)\n",
    "save_model(pipe_spent,name_pipe_spent)\n",
    "save_model(rnn_final_model,name_model_fraud_nn,False)\n",
    "save_model(lstm_rnn_final_model,name_model_fraud_lstmnn,False)\n",
    "save_model(lr_comb_model,name_model_fraud_comb)"
   ]
  },
  {
   "cell_type": "code",
   "execution_count": 23,
   "id": "8bf90d16",
   "metadata": {},
   "outputs": [],
   "source": [
    "y_pred_comb = lr_comb_model.predict_proba(df_val[cols_comb_model])[:,1]\n",
    "df_val['prob_final'] = y_pred_comb"
   ]
  },
  {
   "cell_type": "code",
   "execution_count": 24,
   "id": "0e1d9a1c",
   "metadata": {},
   "outputs": [
    {
     "name": "stdout",
     "output_type": "stream",
     "text": [
      "AUC Test:  0.538\n",
      "AP Test:  0.026\n"
     ]
    }
   ],
   "source": [
    "print(\"AUC Test:  %.3f\" %  roc_auc_score(y_val,y_pred_comb))\n",
    "print(\"AP Test:  %.3f\" %  average_precision_score(y_val,y_pred_comb,average='weighted'))"
   ]
  },
  {
   "cell_type": "code",
   "execution_count": 25,
   "id": "885d8cd4",
   "metadata": {},
   "outputs": [
    {
     "data": {
      "image/png": "[encoded data removed]",
      "text/plain": [
       "<Figure size 800x400 with 1 Axes>"
      ]
     },
     "metadata": {},
     "output_type": "display_data"
    }
   ],
   "source": [
    "plt.figure(figsize=(8,4))\n",
    "sns.distplot(df_val[df_val.target==0].prob_final, label='0')\n",
    "sns.distplot(df_val[df_val.target==1].prob_final, label='1')\n",
    "plt.vlines(0.6, ymin=0, ymax=5, color='red', linestyles='dashed')\n",
    "plt.xlabel('score', fontsize=16)\n",
    "plt.ylabel('density', fontsize=16)\n",
    "plt.legend()\n",
    "plt.grid()"
   ]
  },
  {
   "cell_type": "code",
   "execution_count": 46,
   "id": "d2ab6ff0",
   "metadata": {},
   "outputs": [
    {
     "name": "stdout",
     "output_type": "stream",
     "text": [
      "Fin\n"
     ]
    }
   ],
   "source": [
    "print(\"Fin\")\n",
    "print(\"--- %s seconds ---\" % (time.time() - start_time))"
   ]
  }
 ],
 "metadata": {
  "availableInstances": [
   {
    "_defaultOrder": 0,
    "_isFastLaunch": true,
    "category": "General purpose",
    "gpuNum": 0,
    "memoryGiB": 4,
    "name": "ml.t3.medium",
    "vcpuNum": 2
   },
   {
    "_defaultOrder": 1,
    "_isFastLaunch": false,
    "category": "General purpose",
    "gpuNum": 0,
    "memoryGiB": 8,
    "name": "ml.t3.large",
    "vcpuNum": 2
   },
   {
    "_defaultOrder": 2,
    "_isFastLaunch": false,
    "category": "General purpose",
    "gpuNum": 0,
    "memoryGiB": 16,
    "name": "ml.t3.xlarge",
    "vcpuNum": 4
   },
   {
    "_defaultOrder": 3,
    "_isFastLaunch": false,
    "category": "General purpose",
    "gpuNum": 0,
    "memoryGiB": 32,
    "name": "ml.t3.2xlarge",
    "vcpuNum": 8
   },
   {
    "_defaultOrder": 4,
    "_isFastLaunch": true,
    "category": "General purpose",
    "gpuNum": 0,
    "memoryGiB": 8,
    "name": "ml.m5.large",
    "vcpuNum": 2
   },
   {
    "_defaultOrder": 5,
    "_isFastLaunch": false,
    "category": "General purpose",
    "gpuNum": 0,
    "memoryGiB": 16,
    "name": "ml.m5.xlarge",
    "vcpuNum": 4
   },
   {
    "_defaultOrder": 6,
    "_isFastLaunch": false,
    "category": "General purpose",
    "gpuNum": 0,
    "memoryGiB": 32,
    "name": "ml.m5.2xlarge",
    "vcpuNum": 8
   },
   {
    "_defaultOrder": 7,
    "_isFastLaunch": false,
    "category": "General purpose",
    "gpuNum": 0,
    "memoryGiB": 64,
    "name": "ml.m5.4xlarge",
    "vcpuNum": 16
   },
   {
    "_defaultOrder": 8,
    "_isFastLaunch": false,
    "category": "General purpose",
    "gpuNum": 0,
    "memoryGiB": 128,
    "name": "ml.m5.8xlarge",
    "vcpuNum": 32
   },
   {
    "_defaultOrder": 9,
    "_isFastLaunch": false,
    "category": "General purpose",
    "gpuNum": 0,
    "memoryGiB": 192,
    "name": "ml.m5.12xlarge",
    "vcpuNum": 48
   },
   {
    "_defaultOrder": 10,
    "_isFastLaunch": false,
    "category": "General purpose",
    "gpuNum": 0,
    "memoryGiB": 256,
    "name": "ml.m5.16xlarge",
    "vcpuNum": 64
   },
   {
    "_defaultOrder": 11,
    "_isFastLaunch": false,
    "category": "General purpose",
    "gpuNum": 0,
    "memoryGiB": 384,
    "name": "ml.m5.24xlarge",
    "vcpuNum": 96
   },
   {
    "_defaultOrder": 12,
    "_isFastLaunch": false,
    "category": "General purpose",
    "gpuNum": 0,
    "memoryGiB": 8,
    "name": "ml.m5d.large",
    "vcpuNum": 2
   },
   {
    "_defaultOrder": 13,
    "_isFastLaunch": false,
    "category": "General purpose",
    "gpuNum": 0,
    "memoryGiB": 16,
    "name": "ml.m5d.xlarge",
    "vcpuNum": 4
   },
   {
    "_defaultOrder": 14,
    "_isFastLaunch": false,
    "category": "General purpose",
    "gpuNum": 0,
    "memoryGiB": 32,
    "name": "ml.m5d.2xlarge",
    "vcpuNum": 8
   },
   {
    "_defaultOrder": 15,
    "_isFastLaunch": false,
    "category": "General purpose",
    "gpuNum": 0,
    "memoryGiB": 64,
    "name": "ml.m5d.4xlarge",
    "vcpuNum": 16
   },
   {
    "_defaultOrder": 16,
    "_isFastLaunch": false,
    "category": "General purpose",
    "gpuNum": 0,
    "memoryGiB": 128,
    "name": "ml.m5d.8xlarge",
    "vcpuNum": 32
   },
   {
    "_defaultOrder": 17,
    "_isFastLaunch": false,
    "category": "General purpose",
    "gpuNum": 0,
    "memoryGiB": 192,
    "name": "ml.m5d.12xlarge",
    "vcpuNum": 48
   },
   {
    "_defaultOrder": 18,
    "_isFastLaunch": false,
    "category": "General purpose",
    "gpuNum": 0,
    "memoryGiB": 256,
    "name": "ml.m5d.16xlarge",
    "vcpuNum": 64
   },
   {
    "_defaultOrder": 19,
    "_isFastLaunch": false,
    "category": "General purpose",
    "gpuNum": 0,
    "memoryGiB": 384,
    "name": "ml.m5d.24xlarge",
    "vcpuNum": 96
   },
   {
    "_defaultOrder": 20,
    "_isFastLaunch": true,
    "category": "Compute optimized",
    "gpuNum": 0,
    "memoryGiB": 4,
    "name": "ml.c5.large",
    "vcpuNum": 2
   },
   {
    "_defaultOrder": 21,
    "_isFastLaunch": false,
    "category": "Compute optimized",
    "gpuNum": 0,
    "memoryGiB": 8,
    "name": "ml.c5.xlarge",
    "vcpuNum": 4
   },
   {
    "_defaultOrder": 22,
    "_isFastLaunch": false,
    "category": "Compute optimized",
    "gpuNum": 0,
    "memoryGiB": 16,
    "name": "ml.c5.2xlarge",
    "vcpuNum": 8
   },
   {
    "_defaultOrder": 23,
    "_isFastLaunch": false,
    "category": "Compute optimized",
    "gpuNum": 0,
    "memoryGiB": 32,
    "name": "ml.c5.4xlarge",
    "vcpuNum": 16
   },
   {
    "_defaultOrder": 24,
    "_isFastLaunch": false,
    "category": "Compute optimized",
    "gpuNum": 0,
    "memoryGiB": 72,
    "name": "ml.c5.9xlarge",
    "vcpuNum": 36
   },
   {
    "_defaultOrder": 25,
    "_isFastLaunch": false,
    "category": "Compute optimized",
    "gpuNum": 0,
    "memoryGiB": 96,
    "name": "ml.c5.12xlarge",
    "vcpuNum": 48
   },
   {
    "_defaultOrder": 26,
    "_isFastLaunch": false,
    "category": "Compute optimized",
    "gpuNum": 0,
    "memoryGiB": 144,
    "name": "ml.c5.18xlarge",
    "vcpuNum": 72
   },
   {
    "_defaultOrder": 27,
    "_isFastLaunch": false,
    "category": "Compute optimized",
    "gpuNum": 0,
    "memoryGiB": 192,
    "name": "ml.c5.24xlarge",
    "vcpuNum": 96
   },
   {
    "_defaultOrder": 28,
    "_isFastLaunch": true,
    "category": "Accelerated computing",
    "gpuNum": 1,
    "memoryGiB": 16,
    "name": "ml.g4dn.xlarge",
    "vcpuNum": 4
   },
   {
    "_defaultOrder": 29,
    "_isFastLaunch": false,
    "category": "Accelerated computing",
    "gpuNum": 1,
    "memoryGiB": 32,
    "name": "ml.g4dn.2xlarge",
    "vcpuNum": 8
   },
   {
    "_defaultOrder": 30,
    "_isFastLaunch": false,
    "category": "Accelerated computing",
    "gpuNum": 1,
    "memoryGiB": 64,
    "name": "ml.g4dn.4xlarge",
    "vcpuNum": 16
   },
   {
    "_defaultOrder": 31,
    "_isFastLaunch": false,
    "category": "Accelerated computing",
    "gpuNum": 1,
    "memoryGiB": 128,
    "name": "ml.g4dn.8xlarge",
    "vcpuNum": 32
   },
   {
    "_defaultOrder": 32,
    "_isFastLaunch": false,
    "category": "Accelerated computing",
    "gpuNum": 4,
    "memoryGiB": 192,
    "name": "ml.g4dn.12xlarge",
    "vcpuNum": 48
   },
   {
    "_defaultOrder": 33,
    "_isFastLaunch": false,
    "category": "Accelerated computing",
    "gpuNum": 1,
    "memoryGiB": 256,
    "name": "ml.g4dn.16xlarge",
    "vcpuNum": 64
   },
   {
    "_defaultOrder": 34,
    "_isFastLaunch": false,
    "category": "Accelerated computing",
    "gpuNum": 1,
    "memoryGiB": 61,
    "name": "ml.p3.2xlarge",
    "vcpuNum": 8
   },
   {
    "_defaultOrder": 35,
    "_isFastLaunch": false,
    "category": "Accelerated computing",
    "gpuNum": 4,
    "memoryGiB": 244,
    "name": "ml.p3.8xlarge",
    "vcpuNum": 32
   },
   {
    "_defaultOrder": 36,
    "_isFastLaunch": false,
    "category": "Accelerated computing",
    "gpuNum": 8,
    "memoryGiB": 488,
    "name": "ml.p3.16xlarge",
    "vcpuNum": 64
   },
   {
    "_defaultOrder": 37,
    "_isFastLaunch": false,
    "category": "Accelerated computing",
    "gpuNum": 8,
    "memoryGiB": 768,
    "name": "ml.p3dn.24xlarge",
    "vcpuNum": 96
   },
   {
    "_defaultOrder": 38,
    "_isFastLaunch": false,
    "category": "Memory Optimized",
    "gpuNum": 0,
    "memoryGiB": 16,
    "name": "ml.r5.large",
    "vcpuNum": 2
   },
   {
    "_defaultOrder": 39,
    "_isFastLaunch": false,
    "category": "Memory Optimized",
    "gpuNum": 0,
    "memoryGiB": 32,
    "name": "ml.r5.xlarge",
    "vcpuNum": 4
   },
   {
    "_defaultOrder": 40,
    "_isFastLaunch": false,
    "category": "Memory Optimized",
    "gpuNum": 0,
    "memoryGiB": 64,
    "name": "ml.r5.2xlarge",
    "vcpuNum": 8
   },
   {
    "_defaultOrder": 41,
    "_isFastLaunch": false,
    "category": "Memory Optimized",
    "gpuNum": 0,
    "memoryGiB": 128,
    "name": "ml.r5.4xlarge",
    "vcpuNum": 16
   },
   {
    "_defaultOrder": 42,
    "_isFastLaunch": false,
    "category": "Memory Optimized",
    "gpuNum": 0,
    "memoryGiB": 256,
    "name": "ml.r5.8xlarge",
    "vcpuNum": 32
   },
   {
    "_defaultOrder": 43,
    "_isFastLaunch": false,
    "category": "Memory Optimized",
    "gpuNum": 0,
    "memoryGiB": 384,
    "name": "ml.r5.12xlarge",
    "vcpuNum": 48
   },
   {
    "_defaultOrder": 44,
    "_isFastLaunch": false,
    "category": "Memory Optimized",
    "gpuNum": 0,
    "memoryGiB": 512,
    "name": "ml.r5.16xlarge",
    "vcpuNum": 64
   },
   {
    "_defaultOrder": 45,
    "_isFastLaunch": false,
    "category": "Memory Optimized",
    "gpuNum": 0,
    "memoryGiB": 768,
    "name": "ml.r5.24xlarge",
    "vcpuNum": 96
   },
   {
    "_defaultOrder": 46,
    "_isFastLaunch": false,
    "category": "Accelerated computing",
    "gpuNum": 1,
    "memoryGiB": 16,
    "name": "ml.g5.xlarge",
    "vcpuNum": 4
   },
   {
    "_defaultOrder": 47,
    "_isFastLaunch": false,
    "category": "Accelerated computing",
    "gpuNum": 1,
    "memoryGiB": 32,
    "name": "ml.g5.2xlarge",
    "vcpuNum": 8
   },
   {
    "_defaultOrder": 48,
    "_isFastLaunch": false,
    "category": "Accelerated computing",
    "gpuNum": 1,
    "memoryGiB": 64,
    "name": "ml.g5.4xlarge",
    "vcpuNum": 16
   },
   {
    "_defaultOrder": 49,
    "_isFastLaunch": false,
    "category": "Accelerated computing",
    "gpuNum": 1,
    "memoryGiB": 128,
    "name": "ml.g5.8xlarge",
    "vcpuNum": 32
   },
   {
    "_defaultOrder": 50,
    "_isFastLaunch": false,
    "category": "Accelerated computing",
    "gpuNum": 1,
    "memoryGiB": 256,
    "name": "ml.g5.16xlarge",
    "vcpuNum": 64
   },
   {
    "_defaultOrder": 51,
    "_isFastLaunch": false,
    "category": "Accelerated computing",
    "gpuNum": 4,
    "memoryGiB": 192,
    "name": "ml.g5.12xlarge",
    "vcpuNum": 48
   },
   {
    "_defaultOrder": 52,
    "_isFastLaunch": false,
    "category": "Accelerated computing",
    "gpuNum": 4,
    "memoryGiB": 384,
    "name": "ml.g5.24xlarge",
    "vcpuNum": 96
   },
   {
    "_defaultOrder": 53,
    "_isFastLaunch": false,
    "category": "Accelerated computing",
    "gpuNum": 8,
    "memoryGiB": 768,
    "name": "ml.g5.48xlarge",
    "vcpuNum": 192
   }
  ],
  "instance_type": "ml.t3.medium",
  "kernelspec": {
   "display_name": "Python 3 (TensorFlow 2.1 Python 3.6 CPU Optimized)",
   "language": "python",
   "name": "python3__SAGEMAKER_INTERNAL__arn:aws:sagemaker:us-east-1:081325390199:image/tensorflow-2.1-cpu-py36"
  },
  "language_info": {
   "codemirror_mode": {
    "name": "ipython",
    "version": 3
   },
   "file_extension": ".py",
   "mimetype": "text/x-python",
   "name": "python",
   "nbconvert_exporter": "python",
   "pygments_lexer": "ipython3",
   "version": "3.6.13"
  }
 },
 "nbformat": 4,
 "nbformat_minor": 5
}
