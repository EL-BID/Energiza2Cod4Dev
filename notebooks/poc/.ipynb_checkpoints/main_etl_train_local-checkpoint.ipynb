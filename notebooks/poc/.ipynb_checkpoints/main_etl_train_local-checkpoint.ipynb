{
 "cells": [
  {
   "cell_type": "markdown",
   "id": "1ef5071f-3f30-483f-b327-34a1bf932941",
   "metadata": {},
   "source": [
    "# ETL DataSet Train -  EEGSA - Guatemala\n",
    "\n",
    "**Leer los datos en crudo (raw data) procesarlos, guardarlos (clean data) y generar data set de entrenamiento**"
   ]
  },
  {
   "cell_type": "code",
   "execution_count": null,
   "id": "c77faa04-c73e-486c-bb8f-39c9198fcd91",
   "metadata": {},
   "outputs": [],
   "source": [
    "import os\n",
    "import pandas as pd\n",
    "import numpy as np\n",
    "import warnings\n",
    "import pandas as pd\n",
    "import io\n",
    "import glob\n",
    "import unidecode\n",
    "from tqdm import tqdm\n",
    "import sys"
   ]
  },
  {
   "cell_type": "code",
   "execution_count": 3,
   "id": "e7fa3cf5",
   "metadata": {},
   "outputs": [],
   "source": [
    "warnings.filterwarnings('ignore')\n",
    "pd.options.display.float_format = '{:.5f}'.format #evita que muestre notacion cientifica\n",
    "pd.set_option('display.max_columns', None)"
   ]
  },
  {
   "cell_type": "code",
   "execution_count": 4,
   "id": "f162cbf7-3a13-4e9b-adb2-2786c20c72ec",
   "metadata": {},
   "outputs": [],
   "source": [
    "%load_ext autoreload\n",
    "%autoreload 2"
   ]
  },
  {
   "cell_type": "code",
   "execution_count": 5,
   "id": "4171f02e-90b3-4edb-aa20-0b6905256eaf",
   "metadata": {},
   "outputs": [],
   "source": [
    "module_path = os.path.abspath(os.path.join('../../'))\n",
    "if module_path not in sys.path:\n",
    "    sys.path.append(module_path)"
   ]
  },
  {
   "cell_type": "code",
   "execution_count": 10,
   "id": "b874b83b-c0b3-4e40-8f7f-3fc6e6da2e3f",
   "metadata": {},
   "outputs": [],
   "source": [
    "from src.etl.etl_train import *\n",
    "from src.conf.config  import ConfigETL"
   ]
  },
  {
   "cell_type": "markdown",
   "id": "e6c9cef6-3b90-4a74-9876-7e0b4d41dc96",
   "metadata": {},
   "source": [
    "### Configuracion"
   ]
  },
  {
   "cell_type": "code",
   "execution_count": 24,
   "id": "b78245b9-4251-4255-af4f-7c39e82df887",
   "metadata": {},
   "outputs": [],
   "source": [
    "ConfigETL.init_config()"
   ]
  },
  {
   "cell_type": "code",
   "execution_count": 26,
   "id": "94818d33-d907-4480-849e-bcd5d12cdf47",
   "metadata": {},
   "outputs": [],
   "source": [
    "DATA_PATH_RAW = ConfigETL.get('workspace').get('data_raw_path')\n",
    "DATA_PATH_CLEAN = ConfigETL.get('workspace').get('data_clean_path')\n",
    "\n",
    "file_name_historico_consumo = ConfigETL.get('output_data_train').get('file_name_historico_consumo')\n",
    "file_name_historico_ordenes = ConfigETL.get('output_data_train').get('file_name_historico_ordenes')\n",
    "file_name_extra_data = ConfigETL.get('output_data_train').get('file_name_extra_data')\n",
    "file_name_data_train = ConfigETL.get('output_data_train').get('file_name_data_train')"
   ]
  },
  {
   "cell_type": "code",
   "execution_count": 8,
   "id": "f81acf98",
   "metadata": {},
   "outputs": [],
   "source": [
    "def save_file(df,filename):\n",
    "    path = DATA_PATH_CLEAN+filename\n",
    "    df.to_parquet(path, index=False)\n",
    "        \n",
    "def load_file(filename):\n",
    "    path = DATA_PATH_CLEAN+filename\n",
    "    return pd.read_parquet(path)\n",
    "        \n",
    "def run_etl():\n",
    "    df = run_etl_historico_consumo(DATA_PATH_RAW)\n",
    "    save_file(df,file_name_historico_consumo)\n",
    "    \n",
    "    df = run_etl_historico_ordenes(DATA_PATH_RAW)\n",
    "    save_file(df,file_name_historico_ordenes)\n",
    "    \n",
    "    df = run_etl_zgm023(DATA_PATH_RAW)\n",
    "    save_file(df,file_name_extra_data)\n",
    "    \n",
    "def run():\n",
    "    run_etl()\n",
    "    df_consumo = load_file(file_name_historico_consumo)\n",
    "    df_ordenes = load_file(file_name_historico_ordenes)\n",
    "    df_exdata = load_file(file_name_extra_data)\n",
    "    df_train = create_train_dataset(df_consumo,df_ordenes,df_exdata)\n",
    "    save_file(df_train,file_name_data_train)"
   ]
  },
  {
   "cell_type": "code",
   "execution_count": null,
   "id": "91892efa-a882-4975-a8ed-052449bc9ea4",
   "metadata": {},
   "outputs": [],
   "source": [
    "%%time\n",
    "run()"
   ]
  },
  {
   "cell_type": "code",
   "execution_count": null,
   "id": "2df620c1-57e6-41b2-9038-fa3e75caa84d",
   "metadata": {},
   "outputs": [],
   "source": []
  }
 ],
 "metadata": {
  "kernelspec": {
   "display_name": "Python 3",
   "language": "python",
   "name": "python3"
  },
  "language_info": {
   "codemirror_mode": {
    "name": "ipython",
    "version": 3
   },
   "file_extension": ".py",
   "mimetype": "text/x-python",
   "name": "python",
   "nbconvert_exporter": "python",
   "pygments_lexer": "ipython3",
   "version": "3.8.8"
  }
 },
 "nbformat": 4,
 "nbformat_minor": 5
}
