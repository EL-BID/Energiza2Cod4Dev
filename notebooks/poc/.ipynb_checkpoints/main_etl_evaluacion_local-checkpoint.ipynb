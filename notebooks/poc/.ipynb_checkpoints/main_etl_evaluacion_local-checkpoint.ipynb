{
 "cells": [
  {
   "cell_type": "markdown",
   "id": "9f08953d-2605-49ba-9fe0-958192720d0b",
   "metadata": {},
   "source": [
    "# ETL Evaluacion -  EEGSA - Guatemala\n",
    "\n",
    "**Leer los datos en crudo (raw data) procesarlos, guardarlos (clean data) y generar dataset de evaluacion**"
   ]
  },
  {
   "cell_type": "code",
   "execution_count": 10,
   "id": "c0916def-1077-417a-a3b7-3a93f2f07c4e",
   "metadata": {},
   "outputs": [],
   "source": [
    "import os\n",
    "import pandas as pd\n",
    "import numpy as np\n",
    "import warnings\n",
    "import pandas as pd\n",
    "import io\n",
    "import glob\n",
    "import unidecode\n",
    "from tqdm import tqdm\n",
    "import sys"
   ]
  },
  {
   "cell_type": "code",
   "execution_count": 11,
   "id": "e7fa3cf5",
   "metadata": {},
   "outputs": [],
   "source": [
    "warnings.filterwarnings('ignore')\n",
    "pd.options.display.float_format = '{:.5f}'.format \n",
    "pd.set_option('display.max_columns', None)"
   ]
  },
  {
   "cell_type": "code",
   "execution_count": 12,
   "id": "f162cbf7-3a13-4e9b-adb2-2786c20c72ec",
   "metadata": {},
   "outputs": [
    {
     "name": "stdout",
     "output_type": "stream",
     "text": [
      "The autoreload extension is already loaded. To reload it, use:\n",
      "  %reload_ext autoreload\n"
     ]
    }
   ],
   "source": [
    "%load_ext autoreload\n",
    "%autoreload 2"
   ]
  },
  {
   "cell_type": "code",
   "execution_count": 13,
   "id": "4171f02e-90b3-4edb-aa20-0b6905256eaf",
   "metadata": {},
   "outputs": [],
   "source": [
    "module_path = os.path.abspath(os.path.join('../../'))\n",
    "if module_path not in sys.path:\n",
    "    sys.path.append(module_path)"
   ]
  },
  {
   "cell_type": "code",
   "execution_count": 14,
   "id": "b874b83b-c0b3-4e40-8f7f-3fc6e6da2e3f",
   "metadata": {},
   "outputs": [],
   "source": [
    "from src.etl.etl_train import *\n",
    "from src.conf.config  import ConfigETL"
   ]
  },
  {
   "cell_type": "markdown",
   "id": "e6c9cef6-3b90-4a74-9876-7e0b4d41dc96",
   "metadata": {},
   "source": [
    "### Configuracion"
   ]
  },
  {
   "cell_type": "code",
   "execution_count": 22,
   "id": "b4a3f8b6-c9d7-4793-876c-4d07384e7c74",
   "metadata": {},
   "outputs": [],
   "source": [
    "ConfigETL.init_config()"
   ]
  },
  {
   "cell_type": "code",
   "execution_count": 23,
   "id": "0d18449f-119a-46df-8abe-8c24aa5bf3bb",
   "metadata": {},
   "outputs": [],
   "source": [
    "DATA_PATH_RAW = ConfigETL.get('workspace').get('data_raw_path')\n",
    "DATA_PATH_CLEAN = ConfigETL.get('workspace').get('data_clean_path')\n",
    "\n",
    "file_name_historico_consumo = ConfigETL.get('output_data_train').get('file_name_historico_consumo')\n",
    "mes_ultimo_consumo = ConfigETL.get('mes_ultimo_consumo')\n",
    "file_name_data_prediction = ConfigETL.get('output_data_prediction').get('file_name_data_prediction')"
   ]
  },
  {
   "cell_type": "code",
   "execution_count": 7,
   "id": "f81acf98",
   "metadata": {},
   "outputs": [],
   "source": [
    "def save_file(df,filename):\n",
    "    path = DATA_PATH_CLEAN+filename\n",
    "    df.to_parquet(path, index=False)\n",
    "        \n",
    "def load_file(filename):\n",
    "    path = DATA_PATH_CLEAN+filename\n",
    "    return pd.read_parquet(path)\n",
    "        \n",
    "def run():\n",
    "    df_exdata = run_etl_zgm023(DATA_PATH_RAW)\n",
    "    df_consumo = load_file(file_name_historico_consumo)\n",
    "    df_prediction = create_prediction_dataset(df_consumo,df_exdata,mes_ultimo_consumo)\n",
    "    save_file(df_prediction,file_name_data_prediction)"
   ]
  },
  {
   "cell_type": "code",
   "execution_count": null,
   "id": "91892efa-a882-4975-a8ed-052449bc9ea4",
   "metadata": {},
   "outputs": [],
   "source": [
    "%%time\n",
    "run()"
   ]
  },
  {
   "cell_type": "code",
   "execution_count": null,
   "id": "c79b5478-fe57-45b4-b0b1-25e87a0bb128",
   "metadata": {},
   "outputs": [],
   "source": []
  }
 ],
 "metadata": {
  "kernelspec": {
   "display_name": "Python 3",
   "language": "python",
   "name": "python3"
  },
  "language_info": {
   "codemirror_mode": {
    "name": "ipython",
    "version": 3
   },
   "file_extension": ".py",
   "mimetype": "text/x-python",
   "name": "python",
   "nbconvert_exporter": "python",
   "pygments_lexer": "ipython3",
   "version": "3.8.8"
  }
 },
 "nbformat": 4,
 "nbformat_minor": 5
}
