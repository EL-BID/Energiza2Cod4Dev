{
 "cells": [
  {
   "cell_type": "markdown",
   "id": "4572b078",
   "metadata": {
    "papermill": {
     "duration": 0.01681,
     "end_time": "2022-10-31T17:48:09.559273",
     "exception": false,
     "start_time": "2022-10-31T17:48:09.542463",
     "status": "completed"
    },
    "tags": []
   },
   "source": [
    "# Evaluacion EEGSA - Guatemala\n",
    "\n",
    "Evaluar en dataset antes de dejar solo los normales : epmaps_dataclean_consolidado_clean_april_2022.parquet"
   ]
  },
  {
   "cell_type": "code",
   "execution_count": 1,
   "id": "d447004b",
   "metadata": {
    "execution": {
     "iopub.execute_input": "2022-10-31T17:48:09.596529Z",
     "iopub.status.busy": "2022-10-31T17:48:09.596083Z",
     "iopub.status.idle": "2022-10-31T17:48:12.308774Z",
     "shell.execute_reply": "2022-10-31T17:48:12.308372Z"
    },
    "papermill": {
     "duration": 2.736911,
     "end_time": "2022-10-31T17:48:12.308894",
     "exception": false,
     "start_time": "2022-10-31T17:48:09.571983",
     "status": "completed"
    },
    "tags": []
   },
   "outputs": [],
   "source": [
    "import os\n",
    "import pandas as pd\n",
    "import numpy as np\n",
    "import matplotlib.pyplot as plt\n",
    "import seaborn as sns\n",
    "import warnings\n",
    "import tensorflow as tf\n",
    "from datetime import datetime\n",
    "from tensorflow.keras.preprocessing.sequence import TimeseriesGenerator\n",
    "from  tqdm.notebook import  tqdm\n",
    "%config IPCompleter.use_jedi = False\n",
    "from sklearn.base import BaseEstimator, TransformerMixin\n",
    "from statsmodels.tsa.api import SimpleExpSmoothing\n",
    "from sklearn.linear_model import LinearRegression\n",
    "from sklearn.model_selection import train_test_split\n",
    "import statsmodels.api as sm\n",
    "from itertools import groupby\n",
    "import plotly.express as px\n",
    "import plotly.graph_objects as go\n",
    "warnings.filterwarnings('ignore')\n",
    "import sys\n",
    "import pickle\n",
    "from sklearn.metrics import mean_squared_error\n",
    "# from tdigest import TDigest\n",
    "import boto3\n",
    "from sklearn.base import ClassifierMixin\n",
    "import joblib\n",
    "import os\n",
    "import sys\n",
    "from sklearn.pipeline import Pipeline\n",
    "from sklearn.preprocessing import OrdinalEncoder\n",
    "from sklearn.compose import ColumnTransformer\n",
    "from sklearn.linear_model import LogisticRegression\n",
    "from sklearn.metrics import roc_auc_score,average_precision_score\n",
    "import time"
   ]
  },
  {
   "cell_type": "code",
   "execution_count": 2,
   "id": "f81e90c3",
   "metadata": {
    "execution": {
     "iopub.execute_input": "2022-10-31T17:48:12.337254Z",
     "iopub.status.busy": "2022-10-31T17:48:12.336850Z",
     "iopub.status.idle": "2022-10-31T17:48:12.338615Z",
     "shell.execute_reply": "2022-10-31T17:48:12.338291Z"
    },
    "papermill": {
     "duration": 0.016906,
     "end_time": "2022-10-31T17:48:12.338693",
     "exception": false,
     "start_time": "2022-10-31T17:48:12.321787",
     "status": "completed"
    },
    "tags": []
   },
   "outputs": [],
   "source": [
    "warnings.filterwarnings('ignore')\n",
    "pd.options.display.float_format = '{:.5f}'.format #evita que muestre notacion cientifica\n",
    "pd.set_option('display.max_colwidth', None)\n",
    "# pd.set_option('display.max_rows', None)\n",
    "pd.set_option('display.max_columns', None)"
   ]
  },
  {
   "cell_type": "code",
   "execution_count": 3,
   "id": "d6eba958",
   "metadata": {
    "execution": {
     "iopub.execute_input": "2022-10-31T17:48:12.365809Z",
     "iopub.status.busy": "2022-10-31T17:48:12.365413Z",
     "iopub.status.idle": "2022-10-31T17:48:12.431525Z",
     "shell.execute_reply": "2022-10-31T17:48:12.431834Z"
    },
    "papermill": {
     "duration": 0.081124,
     "end_time": "2022-10-31T17:48:12.431927",
     "exception": false,
     "start_time": "2022-10-31T17:48:12.350803",
     "status": "completed"
    },
    "tags": []
   },
   "outputs": [],
   "source": [
    "%load_ext autoreload\n",
    "%autoreload 2"
   ]
  },
  {
   "cell_type": "code",
   "execution_count": 4,
   "id": "0689e1fd",
   "metadata": {
    "execution": {
     "iopub.execute_input": "2022-10-31T17:48:12.458948Z",
     "iopub.status.busy": "2022-10-31T17:48:12.458563Z",
     "iopub.status.idle": "2022-10-31T17:48:12.493250Z",
     "shell.execute_reply": "2022-10-31T17:48:12.492926Z"
    },
    "papermill": {
     "duration": 0.049157,
     "end_time": "2022-10-31T17:48:12.493331",
     "exception": false,
     "start_time": "2022-10-31T17:48:12.444174",
     "status": "completed"
    },
    "tags": []
   },
   "outputs": [],
   "source": [
    "module_path = os.path.abspath(os.path.join('../../'))\n",
    "if module_path not in sys.path:\n",
    "    sys.path.append(module_path)"
   ]
  },
  {
   "cell_type": "code",
   "execution_count": 5,
   "id": "1d56cf45",
   "metadata": {
    "execution": {
     "iopub.execute_input": "2022-10-31T17:48:12.521590Z",
     "iopub.status.busy": "2022-10-31T17:48:12.520836Z",
     "iopub.status.idle": "2022-10-31T17:48:13.076015Z",
     "shell.execute_reply": "2022-10-31T17:48:13.075633Z"
    },
    "papermill": {
     "duration": 0.570436,
     "end_time": "2022-10-31T17:48:13.076120",
     "exception": false,
     "start_time": "2022-10-31T17:48:12.505684",
     "status": "completed"
    },
    "tags": []
   },
   "outputs": [],
   "source": [
    "from src.preprocessing.preprocessing  import data_wrangling, ToDummy, TeEncoder, CardinalityReducer,build_feature_engeniering_pipeline\n",
    "# from src.preprocessing.preprocessing  import TsfelVars,ExtraVars, \n",
    "from src.modeling.simple_models import ChangeTrendPercentajeIdentifierWide,ConstantConsumptionClassifierWide\n",
    "from src.modeling.supervided_models import LGBMModel, NNModel, LSTMNNModel, CATModel\n",
    "from src.conf.config  import Config"
   ]
  },
  {
   "cell_type": "markdown",
   "id": "a95b4b70",
   "metadata": {
    "papermill": {
     "duration": 0.012197,
     "end_time": "2022-10-31T17:48:13.101410",
     "exception": false,
     "start_time": "2022-10-31T17:48:13.089213",
     "status": "completed"
    },
    "tags": []
   },
   "source": [
    "## Train - DataSet"
   ]
  },
  {
   "cell_type": "code",
   "execution_count": 6,
   "id": "bffdda73",
   "metadata": {
    "execution": {
     "iopub.execute_input": "2022-10-31T17:48:13.128722Z",
     "iopub.status.busy": "2022-10-31T17:48:13.128327Z",
     "iopub.status.idle": "2022-10-31T17:48:13.168717Z",
     "shell.execute_reply": "2022-10-31T17:48:13.168366Z"
    },
    "papermill": {
     "duration": 0.05518,
     "end_time": "2022-10-31T17:48:13.168800",
     "exception": false,
     "start_time": "2022-10-31T17:48:13.113620",
     "status": "completed"
    },
    "tags": []
   },
   "outputs": [],
   "source": [
    "# s3 = boto3.resource('s3')\n",
    "# bucket = s3.Bucket('iadbprod-ine-tsp-analyticaldata')"
   ]
  },
  {
   "cell_type": "code",
   "execution_count": 7,
   "id": "30ff5a39",
   "metadata": {
    "execution": {
     "iopub.execute_input": "2022-10-31T17:48:13.195897Z",
     "iopub.status.busy": "2022-10-31T17:48:13.195511Z",
     "iopub.status.idle": "2022-10-31T17:48:13.233980Z",
     "shell.execute_reply": "2022-10-31T17:48:13.233572Z"
    },
    "papermill": {
     "duration": 0.052907,
     "end_time": "2022-10-31T17:48:13.234062",
     "exception": false,
     "start_time": "2022-10-31T17:48:13.181155",
     "status": "completed"
    },
    "tags": []
   },
   "outputs": [],
   "source": [
    "Config.init_config()"
   ]
  },
  {
   "cell_type": "code",
   "execution_count": 8,
   "id": "907e3e75",
   "metadata": {
    "execution": {
     "iopub.execute_input": "2022-10-31T17:48:13.264340Z",
     "iopub.status.busy": "2022-10-31T17:48:13.263923Z",
     "iopub.status.idle": "2022-10-31T17:48:13.305143Z",
     "shell.execute_reply": "2022-10-31T17:48:13.304814Z"
    },
    "papermill": {
     "duration": 0.058662,
     "end_time": "2022-10-31T17:48:13.305229",
     "exception": false,
     "start_time": "2022-10-31T17:48:13.246567",
     "status": "completed"
    },
    "tags": []
   },
   "outputs": [],
   "source": [
    "DATA_PATH = Config.get('workspace').get('data_path')\n",
    "MODEL_PATH = Config.get('workspace').get('model_path')\n",
    "periodo = Config.get('model').get('periodo')\n",
    "cols_derivadas = pd.read_csv(f'{MODEL_PATH}features_by_const_boruta2_{periodo}.csv')['0'].tolist()\n",
    "cols_consumo = [f'{i}_anterior' for i in range(periodo, 0, -1)]\n",
    "cols_uc = Config.get('model').get('cols_uc')\n",
    "tsfel_names_path = f'{MODEL_PATH}/'+Config.get('model').get('tsfel_names_path')\n",
    "\n",
    "filename = Config.get('data').get('input_data')\n",
    "hip_lgbm = Config.get('model').get('hip_lgbm') \n",
    "hip_cat = Config.get('model').get('hip_cat') \n",
    "hip_trend = Config.get('model').get('hip_trend') \n",
    "hip_const = Config.get('model').get('hip_const')\n",
    "BATCH_SIZE = Config.get('model').get('hip_NN').get('batch_size') \n",
    "cols_for_model = cols_uc +cols_consumo+cols_derivadas\n",
    "cols_comb_model = ['prob_cb','prob_lgbm','prob_ffn','prob_lstmffn','fraud_constante','fraud_trend']\n",
    "\n",
    "\n",
    "name_model_fraud_lgbm = f'{MODEL_PATH}/model_fraud_lgbm.pkl'\n",
    "name_model_fraud_cat = f'{MODEL_PATH}/model_fraud_cat.pkl'\n",
    "name_model_fraud_nn = f'{MODEL_PATH}/model_fraud_nn.h5'\n",
    "name_model_fraud_lstmnn = f'{MODEL_PATH}/model_fraud_lstmnn.h5'\n",
    "name_pipe_features = f'{MODEL_PATH}/pipe_features.pkl'\n",
    "name_pipe_spent = f'{MODEL_PATH}/pipe_spent.pkl'\n",
    "name_model_fraud_comb  = f'{MODEL_PATH}/model_fraud_comb.pkl'\n"
   ]
  },
  {
   "cell_type": "code",
   "execution_count": 9,
   "id": "e108748f",
   "metadata": {
    "execution": {
     "iopub.execute_input": "2022-10-31T17:48:13.334675Z",
     "iopub.status.busy": "2022-10-31T17:48:13.334275Z",
     "iopub.status.idle": "2022-10-31T17:48:13.370163Z",
     "shell.execute_reply": "2022-10-31T17:48:13.369770Z"
    },
    "papermill": {
     "duration": 0.052546,
     "end_time": "2022-10-31T17:48:13.370242",
     "exception": false,
     "start_time": "2022-10-31T17:48:13.317696",
     "status": "completed"
    },
    "tags": []
   },
   "outputs": [],
   "source": [
    "def load_datasets():\n",
    "    df = pd.read_parquet(DATA_PATH+filename)\n",
    "    return df\n",
    "\n",
    "def preprocess_datasets(df):\n",
    "    ## Esto deberia estar en el ETL\n",
    "    df.rename(columns={'id_usuario':'uc'}, inplace=True)\n",
    "    df.rename(columns={'id':'index'}, inplace=True)\n",
    "    df.rename(columns={'is_fraud':'target'}, inplace=True)\n",
    "    pipe_feature_eng = build_feature_engeniering_pipeline(tsfel_names_path,num_periodos= periodo)\n",
    "    df = data_wrangling(df,periodo)\n",
    "    df = pipe_feature_eng.fit_transform(df, None)\n",
    "    return df\n",
    "\n",
    "def built_modelo_combinado(df):\n",
    "    X_train_0 = df[df.target==0].copy()\n",
    "    pos_size = len(df[df.target==1])\n",
    "    X_train_0 = X_train_0.sample(int(pos_size*1))\n",
    "\n",
    "    X_train = X_train_0.append(df[df.target==1]).sample(frac=1.0)\n",
    "    y_train = X_train.target.copy()\n",
    "    X_train = X_train[cols_comb_model]\n",
    "    lr_comb_model = LogisticRegression(C=1.76, solver='liblinear')\n",
    "    lr_comb_model.fit(X_train, y_train)\n",
    "    return lr_comb_model\n",
    "\n",
    "def save_model(model,file_name,is_pkl=True):\n",
    "    if is_pkl:\n",
    "        joblib.dump(model, file_name)\n",
    "    else:\n",
    "        model.save(file_name)"
   ]
  },
  {
   "cell_type": "code",
   "execution_count": 10,
   "id": "99054c3e",
   "metadata": {
    "execution": {
     "iopub.execute_input": "2022-10-31T17:48:13.398567Z",
     "iopub.status.busy": "2022-10-31T17:48:13.398184Z",
     "iopub.status.idle": "2022-10-31T17:48:13.432633Z",
     "shell.execute_reply": "2022-10-31T17:48:13.432935Z"
    },
    "papermill": {
     "duration": 0.049162,
     "end_time": "2022-10-31T17:48:13.433026",
     "exception": false,
     "start_time": "2022-10-31T17:48:13.383864",
     "status": "completed"
    },
    "tags": []
   },
   "outputs": [],
   "source": [
    "start_time = time.time()"
   ]
  },
  {
   "cell_type": "code",
   "execution_count": 11,
   "id": "b39db6a7",
   "metadata": {
    "execution": {
     "iopub.execute_input": "2022-10-31T17:48:13.461312Z",
     "iopub.status.busy": "2022-10-31T17:48:13.460927Z",
     "iopub.status.idle": "2022-10-31T17:48:16.314056Z",
     "shell.execute_reply": "2022-10-31T17:48:16.313651Z"
    },
    "papermill": {
     "duration": 2.868512,
     "end_time": "2022-10-31T17:48:16.314154",
     "exception": false,
     "start_time": "2022-10-31T17:48:13.445642",
     "status": "completed"
    },
    "tags": []
   },
   "outputs": [
    {
     "name": "stdout",
     "output_type": "stream",
     "text": [
      "CPU times: user 1.2 s, sys: 900 ms, total: 2.1 s\n",
      "Wall time: 2.81 s\n"
     ]
    },
    {
     "data": {
      "text/plain": [
       "(601542, 37)"
      ]
     },
     "execution_count": 11,
     "metadata": {},
     "output_type": "execute_result"
    }
   ],
   "source": [
    "%%time\n",
    "df = load_datasets()\n",
    "df.shape"
   ]
  },
  {
   "cell_type": "code",
   "execution_count": 12,
   "id": "2099d703",
   "metadata": {
    "execution": {
     "iopub.execute_input": "2022-10-31T17:48:16.344095Z",
     "iopub.status.busy": "2022-10-31T17:48:16.343709Z",
     "iopub.status.idle": "2022-10-31T17:48:16.390390Z",
     "shell.execute_reply": "2022-10-31T17:48:16.390066Z"
    },
    "papermill": {
     "duration": 0.06297,
     "end_time": "2022-10-31T17:48:16.390468",
     "exception": false,
     "start_time": "2022-10-31T17:48:16.327498",
     "status": "completed"
    },
    "tags": []
   },
   "outputs": [],
   "source": [
    "# df = df.sample(10000)"
   ]
  },
  {
   "cell_type": "code",
   "execution_count": 13,
   "id": "82becbcc",
   "metadata": {
    "execution": {
     "iopub.execute_input": "2022-10-31T17:48:16.419347Z",
     "iopub.status.busy": "2022-10-31T17:48:16.418965Z",
     "iopub.status.idle": "2022-10-31T17:48:16.461537Z",
     "shell.execute_reply": "2022-10-31T17:48:16.461113Z"
    },
    "papermill": {
     "duration": 0.058024,
     "end_time": "2022-10-31T17:48:16.461615",
     "exception": false,
     "start_time": "2022-10-31T17:48:16.403591",
     "status": "completed"
    },
    "tags": []
   },
   "outputs": [],
   "source": [
    "# Preprocess Data"
   ]
  },
  {
   "cell_type": "code",
   "execution_count": 14,
   "id": "a5a9d996",
   "metadata": {
    "execution": {
     "iopub.execute_input": "2022-10-31T17:48:16.491550Z",
     "iopub.status.busy": "2022-10-31T17:48:16.491167Z",
     "iopub.status.idle": "2022-10-31T21:00:35.263188Z",
     "shell.execute_reply": "2022-10-31T21:00:35.263520Z"
    },
    "papermill": {
     "duration": 11538.788963,
     "end_time": "2022-10-31T21:00:35.263650",
     "exception": false,
     "start_time": "2022-10-31T17:48:16.474687",
     "status": "completed"
    },
    "tags": []
   },
   "outputs": [
    {
     "name": "stdout",
     "output_type": "stream",
     "text": [
      "self.read False\n",
      "ENTRO PARA CREAR JSON\n",
      "*** Feature extraction started ***\n"
     ]
    },
    {
     "data": {
      "text/html": [
       "\n",
       "              <p>\n",
       "                  Progress: 100% Complete\n",
       "              <p/>            \n",
       "              <progress\n",
       "                  value='601542'\n",
       "                  max='601542',\n",
       "                  style='width: 25%',\n",
       "              >\n",
       "                  601542\n",
       "              </progress>\n",
       "\n",
       "    "
      ],
      "text/plain": [
       "<IPython.core.display.HTML object>"
      ]
     },
     "metadata": {},
     "output_type": "display_data"
    },
    {
     "name": "stdout",
     "output_type": "stream",
     "text": [
      "\n",
      "*** Feature extraction finished ***\n",
      "df_result index: (601542,)\n",
      "df_tsfel (601542, 21)\n",
      "CPU times: user 2h 3min, sys: 1h 13min 1s, total: 3h 16min 1s\n",
      "Wall time: 3h 12min 18s\n"
     ]
    }
   ],
   "source": [
    "%%time\n",
    "df = preprocess_datasets(df)"
   ]
  },
  {
   "cell_type": "code",
   "execution_count": 15,
   "id": "07754393",
   "metadata": {
    "execution": {
     "iopub.execute_input": "2022-10-31T21:00:35.297932Z",
     "iopub.status.busy": "2022-10-31T21:00:35.295938Z",
     "iopub.status.idle": "2022-10-31T21:00:35.344445Z",
     "shell.execute_reply": "2022-10-31T21:00:35.344102Z"
    },
    "papermill": {
     "duration": 0.066572,
     "end_time": "2022-10-31T21:00:35.344533",
     "exception": false,
     "start_time": "2022-10-31T21:00:35.277961",
     "status": "completed"
    },
    "tags": []
   },
   "outputs": [],
   "source": [
    "## Train"
   ]
  },
  {
   "cell_type": "code",
   "execution_count": 16,
   "id": "69c80252",
   "metadata": {
    "execution": {
     "iopub.execute_input": "2022-10-31T21:00:35.376219Z",
     "iopub.status.busy": "2022-10-31T21:00:35.375814Z",
     "iopub.status.idle": "2022-10-31T21:00:36.842993Z",
     "shell.execute_reply": "2022-10-31T21:00:36.843342Z"
    },
    "papermill": {
     "duration": 1.484608,
     "end_time": "2022-10-31T21:00:36.843483",
     "exception": false,
     "start_time": "2022-10-31T21:00:35.358875",
     "status": "completed"
    },
    "tags": []
   },
   "outputs": [],
   "source": [
    "df = df.sample(frac=1.0)\n",
    "df_train, df_val, y_train, y_val = train_test_split(df,df.target, test_size=0.2, random_state=42)"
   ]
  },
  {
   "cell_type": "code",
   "execution_count": 17,
   "id": "24f84f80",
   "metadata": {
    "execution": {
     "iopub.execute_input": "2022-10-31T21:00:36.880642Z",
     "iopub.status.busy": "2022-10-31T21:00:36.876139Z",
     "iopub.status.idle": "2022-10-31T21:00:42.451379Z",
     "shell.execute_reply": "2022-10-31T21:00:42.451723Z"
    },
    "papermill": {
     "duration": 5.593472,
     "end_time": "2022-10-31T21:00:42.451864",
     "exception": false,
     "start_time": "2022-10-31T21:00:36.858392",
     "status": "completed"
    },
    "tags": []
   },
   "outputs": [],
   "source": [
    "lgbm_model = LGBMModel(cols_for_model,hip_lgbm)\n",
    "lgbm_final_model = lgbm_model.train(df_train,y_train)"
   ]
  },
  {
   "cell_type": "code",
   "execution_count": 18,
   "id": "d505859a",
   "metadata": {
    "execution": {
     "iopub.execute_input": "2022-10-31T21:00:42.484938Z",
     "iopub.status.busy": "2022-10-31T21:00:42.484545Z",
     "iopub.status.idle": "2022-10-31T21:00:53.046103Z",
     "shell.execute_reply": "2022-10-31T21:00:53.045696Z"
    },
    "papermill": {
     "duration": 10.579301,
     "end_time": "2022-10-31T21:00:53.046213",
     "exception": false,
     "start_time": "2022-10-31T21:00:42.466912",
     "status": "completed"
    },
    "tags": []
   },
   "outputs": [],
   "source": [
    "cat_model = CATModel(cols_for_model,hip_cat)\n",
    "cat_final_model = cat_model.train(df_train,y_train)"
   ]
  },
  {
   "cell_type": "code",
   "execution_count": 19,
   "id": "07f456cd",
   "metadata": {
    "execution": {
     "iopub.execute_input": "2022-10-31T21:00:53.080145Z",
     "iopub.status.busy": "2022-10-31T21:00:53.079601Z",
     "iopub.status.idle": "2022-10-31T21:01:11.851247Z",
     "shell.execute_reply": "2022-10-31T21:01:11.851576Z"
    },
    "papermill": {
     "duration": 18.790406,
     "end_time": "2022-10-31T21:01:11.851706",
     "exception": false,
     "start_time": "2022-10-31T21:00:53.061300",
     "status": "completed"
    },
    "tags": []
   },
   "outputs": [
    {
     "name": "stdout",
     "output_type": "stream",
     "text": [
      "Restoring model weights from the end of the best epoch.\n",
      "Epoch 00087: early stopping\n"
     ]
    }
   ],
   "source": [
    "features_names = cols_uc + cols_derivadas\n",
    "spents_names = cols_consumo\n",
    "nn_model = NNModel(features_names,spents_names)\n",
    "rnn_final_model,pipe_features,pipe_spent = nn_model.train(df_train,y_train)"
   ]
  },
  {
   "cell_type": "code",
   "execution_count": 20,
   "id": "9ae1ae3f",
   "metadata": {
    "execution": {
     "iopub.execute_input": "2022-10-31T21:01:11.885448Z",
     "iopub.status.busy": "2022-10-31T21:01:11.885044Z",
     "iopub.status.idle": "2022-10-31T21:02:44.908884Z",
     "shell.execute_reply": "2022-10-31T21:02:44.909215Z"
    },
    "papermill": {
     "duration": 93.042309,
     "end_time": "2022-10-31T21:02:44.909344",
     "exception": false,
     "start_time": "2022-10-31T21:01:11.867035",
     "status": "completed"
    },
    "tags": []
   },
   "outputs": [
    {
     "name": "stdout",
     "output_type": "stream",
     "text": [
      "Restoring model weights from the end of the best epoch.\n",
      "Epoch 00100: early stopping\n"
     ]
    }
   ],
   "source": [
    "features_names = cols_uc + cols_derivadas\n",
    "spents_names = cols_consumo\n",
    "lstm_nn_model = LSTMNNModel(features_names,spents_names)\n",
    "lstm_rnn_final_model,pipe_features,pipe_spent = lstm_nn_model.train(df_train,y_train)"
   ]
  },
  {
   "cell_type": "code",
   "execution_count": 21,
   "id": "912abb6c",
   "metadata": {
    "execution": {
     "iopub.execute_input": "2022-10-31T21:02:44.943261Z",
     "iopub.status.busy": "2022-10-31T21:02:44.942873Z",
     "iopub.status.idle": "2022-10-31T21:02:44.989269Z",
     "shell.execute_reply": "2022-10-31T21:02:44.989637Z"
    },
    "papermill": {
     "duration": 0.065133,
     "end_time": "2022-10-31T21:02:44.989730",
     "exception": false,
     "start_time": "2022-10-31T21:02:44.924597",
     "status": "completed"
    },
    "tags": []
   },
   "outputs": [],
   "source": [
    "trend_perc_model = ChangeTrendPercentajeIdentifierWide(**hip_trend)\n",
    "const_model = ConstantConsumptionClassifierWide(**hip_const)"
   ]
  },
  {
   "cell_type": "code",
   "execution_count": 22,
   "id": "468e7801",
   "metadata": {
    "execution": {
     "iopub.execute_input": "2022-10-31T21:02:45.024758Z",
     "iopub.status.busy": "2022-10-31T21:02:45.024359Z",
     "iopub.status.idle": "2022-10-31T21:02:51.140370Z",
     "shell.execute_reply": "2022-10-31T21:02:51.139970Z"
    },
    "papermill": {
     "duration": 6.135705,
     "end_time": "2022-10-31T21:02:51.140483",
     "exception": false,
     "start_time": "2022-10-31T21:02:45.004778",
     "status": "completed"
    },
    "tags": []
   },
   "outputs": [],
   "source": [
    "df_val['prob_lgbm'] = lgbm_final_model.predict_proba(df_val[cols_for_model])[:,1]\n",
    "df_val['prob_cb'] = cat_final_model.predict_proba(df_val[cols_for_model])[:,1]\n",
    "\n",
    "X_features = pipe_features.transform(df_val[features_names])\n",
    "X_spents = pipe_spent.transform(df_val[spents_names])\n",
    "X = np.concatenate([X_features,X_spents],axis=1)\n",
    "df_val['prob_ffn'] = rnn_final_model.predict(X, batch_size=BATCH_SIZE)[:,0]\n",
    "\n",
    "X_features = pipe_features.transform(df_val[features_names])\n",
    "X_spents = pipe_spent.transform(df_val[spents_names])\n",
    "X_spents = X_spents.reshape((X_spents.shape[0],periodo,1))\n",
    "df_val['prob_lstmffn'] = lstm_rnn_final_model.predict([X_spents, X_features],batch_size=BATCH_SIZE)[:,0]\n",
    "\n",
    "pred_tc = trend_perc_model.predict(df_val)\n",
    "df_val['fraud_trend'] = pred_tc.is_fraud_trend_perc\n",
    "\n",
    "pred_cm = const_model.predict(df_val[cols_consumo])\n",
    "df_val['fraud_constante'] = pred_cm"
   ]
  },
  {
   "cell_type": "code",
   "execution_count": 23,
   "id": "25e87f1b",
   "metadata": {
    "execution": {
     "iopub.execute_input": "2022-10-31T21:02:51.174913Z",
     "iopub.status.busy": "2022-10-31T21:02:51.174525Z",
     "iopub.status.idle": "2022-10-31T21:02:51.377869Z",
     "shell.execute_reply": "2022-10-31T21:02:51.377454Z"
    },
    "papermill": {
     "duration": 0.221648,
     "end_time": "2022-10-31T21:02:51.377978",
     "exception": false,
     "start_time": "2022-10-31T21:02:51.156330",
     "status": "completed"
    },
    "tags": []
   },
   "outputs": [],
   "source": [
    "lr_comb_model = built_modelo_combinado(df_val)"
   ]
  },
  {
   "cell_type": "code",
   "execution_count": 24,
   "id": "5da44196",
   "metadata": {
    "execution": {
     "iopub.execute_input": "2022-10-31T21:02:51.412657Z",
     "iopub.status.busy": "2022-10-31T21:02:51.412257Z",
     "iopub.status.idle": "2022-10-31T21:02:51.596814Z",
     "shell.execute_reply": "2022-10-31T21:02:51.596442Z"
    },
    "papermill": {
     "duration": 0.203007,
     "end_time": "2022-10-31T21:02:51.596926",
     "exception": false,
     "start_time": "2022-10-31T21:02:51.393919",
     "status": "completed"
    },
    "tags": []
   },
   "outputs": [],
   "source": [
    "save_model(lgbm_final_model,name_model_fraud_lgbm)\n",
    "save_model(cat_final_model,name_model_fraud_cat)\n",
    "save_model(pipe_features,name_pipe_features)\n",
    "save_model(pipe_spent,name_pipe_spent)\n",
    "save_model(rnn_final_model,name_model_fraud_nn,False)\n",
    "save_model(lstm_rnn_final_model,name_model_fraud_lstmnn,False)\n",
    "save_model(lr_comb_model,name_model_fraud_comb)"
   ]
  },
  {
   "cell_type": "code",
   "execution_count": 25,
   "id": "2c59ef4a",
   "metadata": {
    "execution": {
     "iopub.execute_input": "2022-10-31T21:02:51.631048Z",
     "iopub.status.busy": "2022-10-31T21:02:51.630489Z",
     "iopub.status.idle": "2022-10-31T21:02:51.691374Z",
     "shell.execute_reply": "2022-10-31T21:02:51.692002Z"
    },
    "papermill": {
     "duration": 0.079596,
     "end_time": "2022-10-31T21:02:51.692190",
     "exception": false,
     "start_time": "2022-10-31T21:02:51.612594",
     "status": "completed"
    },
    "tags": []
   },
   "outputs": [],
   "source": [
    "y_pred_comb = lr_comb_model.predict_proba(df_val[cols_comb_model])[:,1]\n",
    "df_val['prob_final'] = y_pred_comb"
   ]
  },
  {
   "cell_type": "code",
   "execution_count": 26,
   "id": "416bb777",
   "metadata": {
    "execution": {
     "iopub.execute_input": "2022-10-31T21:02:51.764360Z",
     "iopub.status.busy": "2022-10-31T21:02:51.763619Z",
     "iopub.status.idle": "2022-10-31T21:02:51.860108Z",
     "shell.execute_reply": "2022-10-31T21:02:51.860447Z"
    },
    "papermill": {
     "duration": 0.134335,
     "end_time": "2022-10-31T21:02:51.860557",
     "exception": false,
     "start_time": "2022-10-31T21:02:51.726222",
     "status": "completed"
    },
    "tags": []
   },
   "outputs": [
    {
     "name": "stdout",
     "output_type": "stream",
     "text": [
      "AUC Test:  0.719\n",
      "AP Test:  0.087\n"
     ]
    }
   ],
   "source": [
    "print(\"AUC Test:  %.3f\" %  roc_auc_score(y_val,y_pred_comb))\n",
    "print(\"AP Test:  %.3f\" %  average_precision_score(y_val,y_pred_comb,average='weighted'))"
   ]
  },
  {
   "cell_type": "code",
   "execution_count": 27,
   "id": "47bde90e",
   "metadata": {
    "execution": {
     "iopub.execute_input": "2022-10-31T21:02:51.895660Z",
     "iopub.status.busy": "2022-10-31T21:02:51.895098Z",
     "iopub.status.idle": "2022-10-31T21:02:52.867600Z",
     "shell.execute_reply": "2022-10-31T21:02:52.867907Z"
    },
    "papermill": {
     "duration": 0.991648,
     "end_time": "2022-10-31T21:02:52.868039",
     "exception": false,
     "start_time": "2022-10-31T21:02:51.876391",
     "status": "completed"
    },
    "tags": []
   },
   "outputs": [
    {
     "data": {
      "image/png": "[encoded data removed]",
      "text/plain": [
       "<Figure size 576x288 with 1 Axes>"
      ]
     },
     "metadata": {
      "needs_background": "light"
     },
     "output_type": "display_data"
    }
   ],
   "source": [
    "plt.figure(figsize=(8,4))\n",
    "sns.distplot(df_val[df_val.target==0].prob_final, label='0')\n",
    "sns.distplot(df_val[df_val.target==1].prob_final, label='1')\n",
    "plt.vlines(0.6, ymin=0, ymax=5, color='red', linestyles='dashed')\n",
    "plt.xlabel('score', fontsize=16)\n",
    "plt.ylabel('density', fontsize=16)\n",
    "plt.legend()\n",
    "plt.grid()"
   ]
  },
  {
   "cell_type": "code",
   "execution_count": 28,
   "id": "b5558eb7",
   "metadata": {
    "execution": {
     "iopub.execute_input": "2022-10-31T21:02:52.904250Z",
     "iopub.status.busy": "2022-10-31T21:02:52.903851Z",
     "iopub.status.idle": "2022-10-31T21:02:52.949133Z",
     "shell.execute_reply": "2022-10-31T21:02:52.948746Z"
    },
    "papermill": {
     "duration": 0.06442,
     "end_time": "2022-10-31T21:02:52.949221",
     "exception": false,
     "start_time": "2022-10-31T21:02:52.884801",
     "status": "completed"
    },
    "tags": []
   },
   "outputs": [
    {
     "name": "stdout",
     "output_type": "stream",
     "text": [
      "Fin\n"
     ]
    }
   ],
   "source": [
    "print(\"Fin\")"
   ]
  },
  {
   "cell_type": "code",
   "execution_count": 29,
   "id": "7ccb7a3c",
   "metadata": {
    "execution": {
     "iopub.execute_input": "2022-10-31T21:02:52.985274Z",
     "iopub.status.busy": "2022-10-31T21:02:52.984889Z",
     "iopub.status.idle": "2022-10-31T21:02:53.027516Z",
     "shell.execute_reply": "2022-10-31T21:02:53.027130Z"
    },
    "papermill": {
     "duration": 0.061554,
     "end_time": "2022-10-31T21:02:53.027600",
     "exception": false,
     "start_time": "2022-10-31T21:02:52.966046",
     "status": "completed"
    },
    "tags": []
   },
   "outputs": [
    {
     "name": "stdout",
     "output_type": "stream",
     "text": [
      "--- 11679.594327449799 seconds ---\n"
     ]
    }
   ],
   "source": [
    "print(\"--- %s seconds ---\" % (time.time() - start_time))"
   ]
  },
  {
   "cell_type": "code",
   "execution_count": null,
   "id": "38a78c6d",
   "metadata": {
    "papermill": {
     "duration": 0.016803,
     "end_time": "2022-10-31T21:02:53.061529",
     "exception": false,
     "start_time": "2022-10-31T21:02:53.044726",
     "status": "completed"
    },
    "tags": []
   },
   "outputs": [],
   "source": []
  }
 ],
 "metadata": {
  "kernelspec": {
   "display_name": "conda_tensorflow2_p36",
   "language": "python",
   "name": "conda_tensorflow2_p36"
  },
  "language_info": {
   "codemirror_mode": {
    "name": "ipython",
    "version": 3
   },
   "file_extension": ".py",
   "mimetype": "text/x-python",
   "name": "python",
   "nbconvert_exporter": "python",
   "pygments_lexer": "ipython3",
   "version": "3.6.13"
  },
  "papermill": {
   "default_parameters": {},
   "duration": 11686.952723,
   "end_time": "2022-10-31T21:02:55.456346",
   "environment_variables": {},
   "exception": null,
   "input_path": "main_train.ipynb",
   "output_path": "runs/main_train.ipynb",
   "parameters": {},
   "start_time": "2022-10-31T17:48:08.503623",
   "version": "2.3.4"
  }
 },
 "nbformat": 4,
 "nbformat_minor": 5
}
