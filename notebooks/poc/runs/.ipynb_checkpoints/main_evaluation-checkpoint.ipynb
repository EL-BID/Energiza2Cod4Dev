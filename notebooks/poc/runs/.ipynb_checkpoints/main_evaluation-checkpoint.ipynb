{
 "cells": [
  {
   "cell_type": "markdown",
   "id": "ad914f11",
   "metadata": {
    "papermill": {
     "duration": 0.013638,
     "end_time": "2022-10-31T22:07:20.033075",
     "exception": false,
     "start_time": "2022-10-31T22:07:20.019437",
     "status": "completed"
    },
    "tags": []
   },
   "source": [
    "# Evaluacion EEGSA - Guatemala\n",
    "\n",
    "Evaluar en dataset antes de dejar solo los normales : epmaps_dataclean_consolidado_clean_april_2022.parquet"
   ]
  },
  {
   "cell_type": "code",
   "execution_count": 1,
   "id": "8d6fc96d",
   "metadata": {
    "execution": {
     "iopub.execute_input": "2022-10-31T22:07:20.065781Z",
     "iopub.status.busy": "2022-10-31T22:07:20.065314Z",
     "iopub.status.idle": "2022-10-31T22:07:22.817373Z",
     "shell.execute_reply": "2022-10-31T22:07:22.816949Z"
    },
    "papermill": {
     "duration": 2.773781,
     "end_time": "2022-10-31T22:07:22.817524",
     "exception": false,
     "start_time": "2022-10-31T22:07:20.043743",
     "status": "completed"
    },
    "tags": []
   },
   "outputs": [],
   "source": [
    "import os\n",
    "import pandas as pd\n",
    "import numpy as np\n",
    "import matplotlib.pyplot as plt\n",
    "import seaborn as sns\n",
    "import warnings\n",
    "import tensorflow as tf\n",
    "from datetime import datetime\n",
    "from tensorflow.keras.preprocessing.sequence import TimeseriesGenerator\n",
    "from  tqdm.notebook import  tqdm\n",
    "%config IPCompleter.use_jedi = False\n",
    "from sklearn.base import BaseEstimator, TransformerMixin\n",
    "from statsmodels.tsa.api import SimpleExpSmoothing\n",
    "from sklearn.linear_model import LinearRegression\n",
    "from sklearn.model_selection import train_test_split\n",
    "from sklearn.preprocessing import MinMaxScaler\n",
    "import statsmodels.api as sm\n",
    "from itertools import groupby\n",
    "import plotly.express as px\n",
    "import plotly.graph_objects as go\n",
    "warnings.filterwarnings('ignore')\n",
    "import sys\n",
    "import pickle\n",
    "from sklearn.metrics import mean_squared_error\n",
    "# from tdigest import TDigest\n",
    "import boto3\n",
    "from sklearn.base import ClassifierMixin\n",
    "import joblib\n",
    "import os\n",
    "import sys\n",
    "import time"
   ]
  },
  {
   "cell_type": "code",
   "execution_count": 2,
   "id": "2381e4bb",
   "metadata": {
    "execution": {
     "iopub.execute_input": "2022-10-31T22:07:22.843140Z",
     "iopub.status.busy": "2022-10-31T22:07:22.842747Z",
     "iopub.status.idle": "2022-10-31T22:07:22.844333Z",
     "shell.execute_reply": "2022-10-31T22:07:22.843992Z"
    },
    "papermill": {
     "duration": 0.015974,
     "end_time": "2022-10-31T22:07:22.844414",
     "exception": false,
     "start_time": "2022-10-31T22:07:22.828440",
     "status": "completed"
    },
    "tags": []
   },
   "outputs": [],
   "source": [
    "warnings.filterwarnings('ignore')\n",
    "pd.options.display.float_format = '{:.5f}'.format #evita que muestre notacion cientifica\n",
    "pd.set_option('display.max_colwidth', None)\n",
    "# pd.set_option('display.max_rows', None)\n",
    "pd.set_option('display.max_columns', None)"
   ]
  },
  {
   "cell_type": "code",
   "execution_count": 3,
   "id": "208219f1",
   "metadata": {
    "execution": {
     "iopub.execute_input": "2022-10-31T22:07:22.868408Z",
     "iopub.status.busy": "2022-10-31T22:07:22.868039Z",
     "iopub.status.idle": "2022-10-31T22:07:22.935411Z",
     "shell.execute_reply": "2022-10-31T22:07:22.935079Z"
    },
    "papermill": {
     "duration": 0.080742,
     "end_time": "2022-10-31T22:07:22.935487",
     "exception": false,
     "start_time": "2022-10-31T22:07:22.854745",
     "status": "completed"
    },
    "tags": []
   },
   "outputs": [],
   "source": [
    "%load_ext autoreload\n",
    "%autoreload 2"
   ]
  },
  {
   "cell_type": "code",
   "execution_count": 4,
   "id": "3baf570c",
   "metadata": {
    "execution": {
     "iopub.execute_input": "2022-10-31T22:07:22.959598Z",
     "iopub.status.busy": "2022-10-31T22:07:22.959216Z",
     "iopub.status.idle": "2022-10-31T22:07:22.994411Z",
     "shell.execute_reply": "2022-10-31T22:07:22.994698Z"
    },
    "papermill": {
     "duration": 0.048999,
     "end_time": "2022-10-31T22:07:22.994784",
     "exception": false,
     "start_time": "2022-10-31T22:07:22.945785",
     "status": "completed"
    },
    "tags": []
   },
   "outputs": [],
   "source": [
    "module_path = os.path.abspath(os.path.join('../../'))\n",
    "if module_path not in sys.path:\n",
    "    sys.path.append(module_path)"
   ]
  },
  {
   "cell_type": "code",
   "execution_count": 5,
   "id": "fe410156",
   "metadata": {
    "execution": {
     "iopub.execute_input": "2022-10-31T22:07:23.018801Z",
     "iopub.status.busy": "2022-10-31T22:07:23.018419Z",
     "iopub.status.idle": "2022-10-31T22:07:23.124754Z",
     "shell.execute_reply": "2022-10-31T22:07:23.124443Z"
    },
    "papermill": {
     "duration": 0.119676,
     "end_time": "2022-10-31T22:07:23.124853",
     "exception": false,
     "start_time": "2022-10-31T22:07:23.005177",
     "status": "completed"
    },
    "tags": []
   },
   "outputs": [],
   "source": [
    "from src.preprocessing.preprocessing  import data_wrangling, build_feature_engeniering_pipeline\n",
    "from src.modeling.simple_models import ChangeTrendPercentajeIdentifierWide,ConstantConsumptionClassifierWide"
   ]
  },
  {
   "cell_type": "code",
   "execution_count": 6,
   "id": "a9594d9e",
   "metadata": {
    "execution": {
     "iopub.execute_input": "2022-10-31T22:07:23.152824Z",
     "iopub.status.busy": "2022-10-31T22:07:23.152431Z",
     "iopub.status.idle": "2022-10-31T22:07:23.188252Z",
     "shell.execute_reply": "2022-10-31T22:07:23.187951Z"
    },
    "papermill": {
     "duration": 0.053128,
     "end_time": "2022-10-31T22:07:23.188329",
     "exception": false,
     "start_time": "2022-10-31T22:07:23.135201",
     "status": "completed"
    },
    "tags": []
   },
   "outputs": [],
   "source": [
    "from src.conf.config  import Config"
   ]
  },
  {
   "cell_type": "markdown",
   "id": "6a3aa26b",
   "metadata": {
    "papermill": {
     "duration": 0.010343,
     "end_time": "2022-10-31T22:07:23.209206",
     "exception": false,
     "start_time": "2022-10-31T22:07:23.198863",
     "status": "completed"
    },
    "tags": []
   },
   "source": [
    "## Config"
   ]
  },
  {
   "cell_type": "code",
   "execution_count": 7,
   "id": "c1f5cbeb",
   "metadata": {
    "execution": {
     "iopub.execute_input": "2022-10-31T22:07:23.232624Z",
     "iopub.status.busy": "2022-10-31T22:07:23.232207Z",
     "iopub.status.idle": "2022-10-31T22:07:23.266674Z",
     "shell.execute_reply": "2022-10-31T22:07:23.266373Z"
    },
    "papermill": {
     "duration": 0.047033,
     "end_time": "2022-10-31T22:07:23.266750",
     "exception": false,
     "start_time": "2022-10-31T22:07:23.219717",
     "status": "completed"
    },
    "tags": []
   },
   "outputs": [],
   "source": [
    "Config.init_config()"
   ]
  },
  {
   "cell_type": "code",
   "execution_count": 8,
   "id": "6da72fb6",
   "metadata": {
    "execution": {
     "iopub.execute_input": "2022-10-31T22:07:23.294566Z",
     "iopub.status.busy": "2022-10-31T22:07:23.294183Z",
     "iopub.status.idle": "2022-10-31T22:07:23.443513Z",
     "shell.execute_reply": "2022-10-31T22:07:23.443800Z"
    },
    "papermill": {
     "duration": 0.166523,
     "end_time": "2022-10-31T22:07:23.443886",
     "exception": false,
     "start_time": "2022-10-31T22:07:23.277363",
     "status": "completed"
    },
    "tags": []
   },
   "outputs": [],
   "source": [
    "DATA_PATH = Config.get('workspace').get('data_path')\n",
    "MODEL_PATH = Config.get('workspace').get('model_path')\n",
    "periodo = Config.get('model').get('periodo')\n",
    "cols_derivadas = pd.read_csv(f'{MODEL_PATH}features_by_const_boruta2_{periodo}.csv')['0'].tolist()\n",
    "cols_consumo = [f'{i}_anterior' for i in range(periodo, 0, -1)]\n",
    "cols_uc = Config.get('model').get('cols_uc')\n",
    "tsfel_names_path = f'{MODEL_PATH}/'+Config.get('model').get('tsfel_names_path')\n",
    "BATCH_SIZE = Config.get('model').get('hip_NN').get('batch_size')\n",
    "cols_for_model = cols_uc+cols_consumo+cols_derivadas\n",
    "cols_comb_model = ['prob_cb','prob_lgbm','prob_ffn','prob_lstmffn','fraud_constante','fraud_trend']\n",
    "hip_trend = Config.get('model').get('hip_trend') \n",
    "hip_const = Config.get('model').get('hip_const')\n",
    "\n",
    "name_model_fraud_lgbm = f'{MODEL_PATH}/'+Config.get('model').get('lgbm_model_name')\n",
    "name_model_fraud_cat = f'{MODEL_PATH}/'+Config.get('model').get('cat_model_name')\n",
    "name_model_fraud_nn = f'{MODEL_PATH}/'+Config.get('model').get('nn_model_name')\n",
    "name_model_fraud_lstmnn = f'{MODEL_PATH}/'+Config.get('model').get('lstmnn_model_name')\n",
    "name_pipe_features = f'{MODEL_PATH}/'+Config.get('model').get('pipe_feat_name')\n",
    "name_pipe_spent = f'{MODEL_PATH}/'+Config.get('model').get('pipe_spent_name')\n",
    "name_model_fraud_comb  = f'{MODEL_PATH}/'+Config.get('model').get('comb_model_name')\n",
    "\n",
    "filename = Config.get('evaluacion').get('evaluation_data')\n",
    "mes_ultimo_consumo = Config.get('evaluacion').get('mes_ultimo_consumo')\n",
    "th_critico = Config.get('evaluacion').get('th_critico') #0.86\n",
    "th_warning = Config.get('evaluacion').get('th_warning') #0.7\n",
    "cols_final = ['uc'] + cols_consumo + ['codigo_postal','alerta','prob_final']\n",
    "name_resultado_normales = f'{MODEL_PATH}/normales_prediccion_{mes_ultimo_consumo}.csv'\n",
    "name_resultado_anomalias = f'{MODEL_PATH}/anomalias_prediccion_{mes_ultimo_consumo}.csv'"
   ]
  },
  {
   "cell_type": "markdown",
   "id": "59b6b3df",
   "metadata": {
    "papermill": {
     "duration": 0.011443,
     "end_time": "2022-10-31T22:07:23.465956",
     "exception": false,
     "start_time": "2022-10-31T22:07:23.454513",
     "status": "completed"
    },
    "tags": []
   },
   "source": [
    "## Funciones"
   ]
  },
  {
   "cell_type": "code",
   "execution_count": 9,
   "id": "75295643",
   "metadata": {
    "execution": {
     "iopub.execute_input": "2022-10-31T22:07:23.495160Z",
     "iopub.status.busy": "2022-10-31T22:07:23.489486Z",
     "iopub.status.idle": "2022-10-31T22:07:23.533210Z",
     "shell.execute_reply": "2022-10-31T22:07:23.533515Z"
    },
    "papermill": {
     "duration": 0.05697,
     "end_time": "2022-10-31T22:07:23.533603",
     "exception": false,
     "start_time": "2022-10-31T22:07:23.476633",
     "status": "completed"
    },
    "tags": []
   },
   "outputs": [],
   "source": [
    "def cb_predict_proba(X):\n",
    "    model = joblib.load(name_model_fraud_lgbm)\n",
    "    proba = model.predict_proba(X)\n",
    "    return proba[:,1]\n",
    "\n",
    "def lgbm_predict_proba(X):\n",
    "    model = joblib.load(name_model_fraud_cat)\n",
    "    proba = model.predict_proba(X)\n",
    "    return proba[:,1]\n",
    "\n",
    "def fnn_predict_proba(df):\n",
    "    features_names = cols_uc+cols_derivadas\n",
    "    spents_names = cols_consumo\n",
    "    pipe_features = joblib.load(name_pipe_features)\n",
    "    pipe_spent = joblib.load(name_pipe_spent)\n",
    "    model = tf.keras.models.load_model(name_model_fraud_nn)\n",
    "    X_features = pipe_features.transform(df[features_names])\n",
    "    X_spents = pipe_spent.transform(df[spents_names])\n",
    "    X = np.concatenate([X_features,X_spents],axis=1)\n",
    "    pred_rnn = model.predict(X, batch_size=BATCH_SIZE)\n",
    "    return pred_rnn[:,0]\n",
    "\n",
    "def lstm_fnn_predict_proba(df):\n",
    "    features_names = cols_uc+cols_derivadas\n",
    "    spents_names = cols_consumo\n",
    "    pipe_features = joblib.load(name_pipe_features)\n",
    "    pipe_spent = joblib.load(name_pipe_spent)\n",
    "    model = tf.keras.models.load_model(name_model_fraud_lstmnn)\n",
    "    X_features = pipe_features.transform(df[features_names])\n",
    "    X_spents = pipe_spent.transform(df[spents_names])\n",
    "    X_spents = X_spents.reshape((X_spents.shape[0],periodo,1))\n",
    "    pred = model.predict([X_spents, X_features],batch_size=BATCH_SIZE)\n",
    "    return pred[:,0]\n",
    "\n",
    "def combinado_model_predict_proba(df):\n",
    "    comb_model = joblib.load(name_model_fraud_comb)\n",
    "    return comb_model.predict_proba(df[cols_comb_model])[:,1]\n",
    "    \n",
    "def load_datasets():\n",
    "    df = pd.read_parquet(DATA_PATH+filename)\n",
    "    return df\n",
    "\n",
    "def preprocess_datasets(df):\n",
    "    ## Esto deberia estar en el ETL\n",
    "    df.rename(columns={'id_usuario':'uc'}, inplace=True)\n",
    "    df.rename(columns={'id':'index'}, inplace=True)\n",
    "    # Solo nos quedamos con aquellos usuarios que tienen al menos 10 meses de tiempo de conexion \n",
    "    # No esten dados de baja y tengan al menos 6 consumos validos\n",
    "    ultimo_mes_consumo = pd.to_datetime(mes_ultimo_consumo)\n",
    "    mes_evaluacion = ultimo_mes_consumo + pd.DateOffset(months=1)\n",
    "    df['cant_meses_conectado'] = ((mes_evaluacion - df.fecha_de_alta)/np.timedelta64(1, 'M'))\n",
    "    df['is_baja'] = df.fecha_de_baja<mes_evaluacion\n",
    "    df = df[(df.is_baja==False)&(df.cant_null<=6)&(df.cant_meses_conectado>=10)]\n",
    "    # limpieza y calculo de variables\n",
    "    df = data_wrangling(df,periodo)\n",
    "    pipe_feature_eng = build_feature_engeniering_pipeline(tsfel_names_path,num_periodos= periodo)\n",
    "    df = pipe_feature_eng.fit_transform(df, None)\n",
    "    return df"
   ]
  },
  {
   "cell_type": "markdown",
   "id": "7f116d39",
   "metadata": {
    "papermill": {
     "duration": 0.010601,
     "end_time": "2022-10-31T22:07:23.554857",
     "exception": false,
     "start_time": "2022-10-31T22:07:23.544256",
     "status": "completed"
    },
    "tags": []
   },
   "source": [
    "## Load Data"
   ]
  },
  {
   "cell_type": "code",
   "execution_count": 10,
   "id": "1dc90439",
   "metadata": {
    "execution": {
     "iopub.execute_input": "2022-10-31T22:07:23.579236Z",
     "iopub.status.busy": "2022-10-31T22:07:23.578800Z",
     "iopub.status.idle": "2022-10-31T22:07:23.612750Z",
     "shell.execute_reply": "2022-10-31T22:07:23.612440Z"
    },
    "papermill": {
     "duration": 0.04729,
     "end_time": "2022-10-31T22:07:23.612849",
     "exception": false,
     "start_time": "2022-10-31T22:07:23.565559",
     "status": "completed"
    },
    "tags": []
   },
   "outputs": [],
   "source": [
    "start_time = time.time()"
   ]
  },
  {
   "cell_type": "code",
   "execution_count": 11,
   "id": "dbdb5111",
   "metadata": {
    "execution": {
     "iopub.execute_input": "2022-10-31T22:07:23.637705Z",
     "iopub.status.busy": "2022-10-31T22:07:23.637294Z",
     "iopub.status.idle": "2022-10-31T22:07:23.668388Z",
     "shell.execute_reply": "2022-10-31T22:07:23.668673Z"
    },
    "papermill": {
     "duration": 0.045277,
     "end_time": "2022-10-31T22:07:23.668769",
     "exception": false,
     "start_time": "2022-10-31T22:07:23.623492",
     "status": "completed"
    },
    "tags": []
   },
   "outputs": [],
   "source": [
    "# s3 = boto3.resource('s3')\n",
    "# bucket = s3.Bucket('iadbprod-ine-tsp-analyticaldata')\n",
    "# bucket_path = 's3://iadbprod-ine-tsp-analyticaldata/' \n",
    "# key = 'EEGSA-GUATEMALA/data_clean/'"
   ]
  },
  {
   "cell_type": "code",
   "execution_count": 12,
   "id": "409bcc57",
   "metadata": {
    "execution": {
     "iopub.execute_input": "2022-10-31T22:07:23.693775Z",
     "iopub.status.busy": "2022-10-31T22:07:23.693390Z",
     "iopub.status.idle": "2022-10-31T22:07:30.736872Z",
     "shell.execute_reply": "2022-10-31T22:07:30.737180Z"
    },
    "papermill": {
     "duration": 7.057806,
     "end_time": "2022-10-31T22:07:30.737309",
     "exception": false,
     "start_time": "2022-10-31T22:07:23.679503",
     "status": "completed"
    },
    "tags": []
   },
   "outputs": [
    {
     "name": "stdout",
     "output_type": "stream",
     "text": [
      "CPU times: user 2.47 s, sys: 2.59 s, total: 5.05 s\n",
      "Wall time: 7.01 s\n"
     ]
    },
    {
     "data": {
      "text/plain": [
       "(1338497, 37)"
      ]
     },
     "execution_count": 12,
     "metadata": {},
     "output_type": "execute_result"
    }
   ],
   "source": [
    "%%time\n",
    "df = load_datasets()\n",
    "df.shape"
   ]
  },
  {
   "cell_type": "code",
   "execution_count": 13,
   "id": "1d70d4a4",
   "metadata": {
    "execution": {
     "iopub.execute_input": "2022-10-31T22:07:30.764200Z",
     "iopub.status.busy": "2022-10-31T22:07:30.763815Z",
     "iopub.status.idle": "2022-10-31T22:07:31.693465Z",
     "shell.execute_reply": "2022-10-31T22:07:31.693010Z"
    },
    "papermill": {
     "duration": 0.944485,
     "end_time": "2022-10-31T22:07:31.693587",
     "exception": false,
     "start_time": "2022-10-31T22:07:30.749102",
     "status": "completed"
    },
    "tags": []
   },
   "outputs": [],
   "source": [
    "df = df.sample(500000)"
   ]
  },
  {
   "cell_type": "markdown",
   "id": "8aabe7d4",
   "metadata": {
    "papermill": {
     "duration": 0.011429,
     "end_time": "2022-10-31T22:07:31.717096",
     "exception": false,
     "start_time": "2022-10-31T22:07:31.705667",
     "status": "completed"
    },
    "tags": []
   },
   "source": [
    "## Preproceso -  Data"
   ]
  },
  {
   "cell_type": "code",
   "execution_count": 14,
   "id": "b3647b12",
   "metadata": {
    "execution": {
     "iopub.execute_input": "2022-10-31T22:07:31.743548Z",
     "iopub.status.busy": "2022-10-31T22:07:31.743163Z",
     "iopub.status.idle": "2022-11-01T00:14:14.401718Z",
     "shell.execute_reply": "2022-11-01T00:14:14.402053Z"
    },
    "papermill": {
     "duration": 7602.67355,
     "end_time": "2022-11-01T00:14:14.402171",
     "exception": false,
     "start_time": "2022-10-31T22:07:31.728621",
     "status": "completed"
    },
    "tags": []
   },
   "outputs": [
    {
     "name": "stdout",
     "output_type": "stream",
     "text": [
      "self.read False\n",
      "ENTRO PARA CREAR JSON\n",
      "*** Feature extraction started ***\n"
     ]
    },
    {
     "data": {
      "text/html": [
       "\n",
       "              <p>\n",
       "                  Progress: 100% Complete\n",
       "              <p/>            \n",
       "              <progress\n",
       "                  value='493480'\n",
       "                  max='493480',\n",
       "                  style='width: 25%',\n",
       "              >\n",
       "                  493480\n",
       "              </progress>\n",
       "\n",
       "    "
      ],
      "text/plain": [
       "<IPython.core.display.HTML object>"
      ]
     },
     "metadata": {},
     "output_type": "display_data"
    },
    {
     "name": "stdout",
     "output_type": "stream",
     "text": [
      "\n",
      "*** Feature extraction finished ***\n",
      "df_result index: (493480,)\n",
      "df_tsfel (493480, 21)\n",
      "CPU times: user 1h 25min 9s, sys: 44min 21s, total: 2h 9min 30s\n",
      "Wall time: 2h 6min 42s\n"
     ]
    }
   ],
   "source": [
    "%%time\n",
    "df = preprocess_datasets(df)"
   ]
  },
  {
   "cell_type": "code",
   "execution_count": 15,
   "id": "e8db53c1",
   "metadata": {
    "execution": {
     "iopub.execute_input": "2022-11-01T00:14:14.430114Z",
     "iopub.status.busy": "2022-11-01T00:14:14.429731Z",
     "iopub.status.idle": "2022-11-01T00:14:14.476601Z",
     "shell.execute_reply": "2022-11-01T00:14:14.476245Z"
    },
    "papermill": {
     "duration": 0.062117,
     "end_time": "2022-11-01T00:14:14.476683",
     "exception": false,
     "start_time": "2022-11-01T00:14:14.414566",
     "status": "completed"
    },
    "tags": []
   },
   "outputs": [
    {
     "data": {
      "text/plain": [
       "(493480, 88)"
      ]
     },
     "execution_count": 15,
     "metadata": {},
     "output_type": "execute_result"
    }
   ],
   "source": [
    "df.shape"
   ]
  },
  {
   "cell_type": "markdown",
   "id": "6f6987df",
   "metadata": {
    "papermill": {
     "duration": 0.012516,
     "end_time": "2022-11-01T00:14:14.501862",
     "exception": false,
     "start_time": "2022-11-01T00:14:14.489346",
     "status": "completed"
    },
    "tags": []
   },
   "source": [
    "## Modelos"
   ]
  },
  {
   "cell_type": "code",
   "execution_count": 16,
   "id": "d1991084",
   "metadata": {
    "execution": {
     "iopub.execute_input": "2022-11-01T00:14:14.531409Z",
     "iopub.status.busy": "2022-11-01T00:14:14.531017Z",
     "iopub.status.idle": "2022-11-01T00:14:44.360031Z",
     "shell.execute_reply": "2022-11-01T00:14:44.359300Z"
    },
    "papermill": {
     "duration": 29.845756,
     "end_time": "2022-11-01T00:14:44.360258",
     "exception": false,
     "start_time": "2022-11-01T00:14:14.514502",
     "status": "completed"
    },
    "tags": []
   },
   "outputs": [],
   "source": [
    "### Modelo Trend change\n",
    "trend_perc_model = ChangeTrendPercentajeIdentifierWide(**hip_trend)\n",
    "pred_tc = trend_perc_model.predict(df)\n",
    "df['fraud_trend'] = pred_tc.is_fraud_trend_perc\n",
    "### Modelo constante\n",
    "const_model = ConstantConsumptionClassifierWide(**hip_const)\n",
    "pred_cm = const_model.predict(df[cols_consumo])\n",
    "df['fraud_constante'] = pred_cm\n",
    "### Modelos supervisados\n",
    "df['prob_cb'] =  cb_predict_proba(df[cols_for_model])\n",
    "df['prob_lgbm'] = lgbm_predict_proba(df[cols_for_model])\n",
    "df['prob_ffn'] = fnn_predict_proba(df[cols_for_model])\n",
    "df['prob_lstmffn'] = lstm_fnn_predict_proba(df[cols_for_model])\n",
    "### Modelo combinado\n",
    "df['prob_final'] = combinado_model_predict_proba(df)"
   ]
  },
  {
   "cell_type": "markdown",
   "id": "ba95de6c",
   "metadata": {
    "papermill": {
     "duration": 0.020703,
     "end_time": "2022-11-01T00:14:44.410265",
     "exception": false,
     "start_time": "2022-11-01T00:14:44.389562",
     "status": "completed"
    },
    "tags": []
   },
   "source": [
    "## Post - Proceso - Resultado"
   ]
  },
  {
   "cell_type": "code",
   "execution_count": 17,
   "id": "a2c75b9b",
   "metadata": {
    "execution": {
     "iopub.execute_input": "2022-11-01T00:14:44.453988Z",
     "iopub.status.busy": "2022-11-01T00:14:44.449560Z",
     "iopub.status.idle": "2022-11-01T00:14:45.149110Z",
     "shell.execute_reply": "2022-11-01T00:14:45.148695Z"
    },
    "papermill": {
     "duration": 0.726196,
     "end_time": "2022-11-01T00:14:45.149232",
     "exception": false,
     "start_time": "2022-11-01T00:14:44.423036",
     "status": "completed"
    },
    "tags": []
   },
   "outputs": [],
   "source": [
    "df['alerta'] = 'sin_alerta'\n",
    "df.loc[(df.alerta=='sin_alerta')&(df.cant_ceros_12==12),'alerta'] = 'consumo_0'\n",
    "msk_critico = df.prob_final>=th_critico \n",
    "df.loc[(df.alerta=='sin_alerta')&(msk_critico),'alerta'] = 'critico'\n",
    "msk_warning = df.prob_final>=th_warning\n",
    "df.loc[(df.alerta=='sin_alerta')&(msk_warning),'alerta'] = 'warning'\n",
    "df.loc[(df.alerta=='sin_alerta')&(pred_tc.is_fraud_trend_perc==1),'alerta'] = 'cambio_neg_consumo'\n",
    "df.loc[(df.alerta=='sin_alerta')&(pred_cm==1),'alerta'] = 'consumo_constante'\n",
    "df.loc[(df.alerta=='sin_alerta'),'alerta'] = 'normal'"
   ]
  },
  {
   "cell_type": "code",
   "execution_count": 18,
   "id": "e9d5d2e1",
   "metadata": {
    "execution": {
     "iopub.execute_input": "2022-11-01T00:14:45.179407Z",
     "iopub.status.busy": "2022-11-01T00:14:45.179015Z",
     "iopub.status.idle": "2022-11-01T00:14:50.595264Z",
     "shell.execute_reply": "2022-11-01T00:14:50.594891Z"
    },
    "papermill": {
     "duration": 5.432611,
     "end_time": "2022-11-01T00:14:50.595376",
     "exception": false,
     "start_time": "2022-11-01T00:14:45.162765",
     "status": "completed"
    },
    "tags": []
   },
   "outputs": [],
   "source": [
    "df[(df.alerta=='normal')][cols_final].to_csv(name_resultado_normales,index=False)\n",
    "df[(df.alerta!='normal')][cols_final].to_csv(name_resultado_anomalias,index=False)"
   ]
  },
  {
   "cell_type": "code",
   "execution_count": 19,
   "id": "67eb92c5",
   "metadata": {
    "execution": {
     "iopub.execute_input": "2022-11-01T00:14:50.626448Z",
     "iopub.status.busy": "2022-11-01T00:14:50.626056Z",
     "iopub.status.idle": "2022-11-01T00:14:53.064856Z",
     "shell.execute_reply": "2022-11-01T00:14:53.065197Z"
    },
    "papermill": {
     "duration": 2.456541,
     "end_time": "2022-11-01T00:14:53.065318",
     "exception": false,
     "start_time": "2022-11-01T00:14:50.608777",
     "status": "completed"
    },
    "tags": []
   },
   "outputs": [
    {
     "data": {
      "image/png": "[encoded data removed]",
      "text/plain": [
       "<Figure size 576x288 with 1 Axes>"
      ]
     },
     "metadata": {
      "needs_background": "light"
     },
     "output_type": "display_data"
    }
   ],
   "source": [
    "plt.figure(figsize=(8,4))\n",
    "sns.distplot(df.prob_final, label='0')\n",
    "plt.vlines(0.6, ymin=0, ymax=5, color='red', linestyles='dashed')\n",
    "plt.xlabel('score', fontsize=16)\n",
    "plt.ylabel('density', fontsize=16)\n",
    "plt.legend()\n",
    "plt.grid()"
   ]
  },
  {
   "cell_type": "code",
   "execution_count": 20,
   "id": "adb757f4",
   "metadata": {
    "execution": {
     "iopub.execute_input": "2022-11-01T00:14:53.095990Z",
     "iopub.status.busy": "2022-11-01T00:14:53.095573Z",
     "iopub.status.idle": "2022-11-01T00:14:53.139781Z",
     "shell.execute_reply": "2022-11-01T00:14:53.140071Z"
    },
    "papermill": {
     "duration": 0.060892,
     "end_time": "2022-11-01T00:14:53.140161",
     "exception": false,
     "start_time": "2022-11-01T00:14:53.079269",
     "status": "completed"
    },
    "tags": []
   },
   "outputs": [
    {
     "name": "stdout",
     "output_type": "stream",
     "text": [
      "Fin\n",
      "--- 7649.52676153183 seconds ---\n"
     ]
    }
   ],
   "source": [
    "print(\"Fin\")\n",
    "print(\"--- %s seconds ---\" % (time.time() - start_time))"
   ]
  },
  {
   "cell_type": "code",
   "execution_count": null,
   "id": "5dde9915",
   "metadata": {
    "papermill": {
     "duration": 0.013741,
     "end_time": "2022-11-01T00:14:53.167604",
     "exception": false,
     "start_time": "2022-11-01T00:14:53.153863",
     "status": "completed"
    },
    "tags": []
   },
   "outputs": [],
   "source": []
  }
 ],
 "metadata": {
  "kernelspec": {
   "display_name": "conda_tensorflow2_p36",
   "language": "python",
   "name": "conda_tensorflow2_p36"
  },
  "language_info": {
   "codemirror_mode": {
    "name": "ipython",
    "version": 3
   },
   "file_extension": ".py",
   "mimetype": "text/x-python",
   "name": "python",
   "nbconvert_exporter": "python",
   "pygments_lexer": "ipython3",
   "version": "3.6.13"
  },
  "papermill": {
   "default_parameters": {},
   "duration": 7656.521811,
   "end_time": "2022-11-01T00:14:55.704543",
   "environment_variables": {},
   "exception": null,
   "input_path": "main_evaluation.ipynb",
   "output_path": "runs/main_evaluation.ipynb",
   "parameters": {},
   "start_time": "2022-10-31T22:07:19.182732",
   "version": "2.3.4"
  }
 },
 "nbformat": 4,
 "nbformat_minor": 5
}
