{
 "cells": [
  {
   "cell_type": "markdown",
   "id": "ca003eb5",
   "metadata": {
    "papermill": {
     "duration": 0.013237,
     "end_time": "2022-11-03T02:15:14.772082",
     "exception": false,
     "start_time": "2022-11-03T02:15:14.758845",
     "status": "completed"
    },
    "tags": []
   },
   "source": [
    "# Evaluacion EEGSA - Guatemala\n",
    "\n",
    "Evaluar en dataset antes de dejar solo los normales : epmaps_dataclean_consolidado_clean_april_2022.parquet"
   ]
  },
  {
   "cell_type": "code",
   "execution_count": 1,
   "id": "f13a6bbf",
   "metadata": {
    "execution": {
     "iopub.execute_input": "2022-11-03T02:15:14.804849Z",
     "iopub.status.busy": "2022-11-03T02:15:14.804402Z",
     "iopub.status.idle": "2022-11-03T02:15:17.534334Z",
     "shell.execute_reply": "2022-11-03T02:15:17.533947Z"
    },
    "papermill": {
     "duration": 2.751503,
     "end_time": "2022-11-03T02:15:17.534448",
     "exception": false,
     "start_time": "2022-11-03T02:15:14.782945",
     "status": "completed"
    },
    "tags": []
   },
   "outputs": [],
   "source": [
    "import os\n",
    "import pandas as pd\n",
    "import numpy as np\n",
    "import matplotlib.pyplot as plt\n",
    "import seaborn as sns\n",
    "import warnings\n",
    "import tensorflow as tf\n",
    "from datetime import datetime\n",
    "from tensorflow.keras.preprocessing.sequence import TimeseriesGenerator\n",
    "from  tqdm.notebook import  tqdm\n",
    "%config IPCompleter.use_jedi = False\n",
    "from sklearn.base import BaseEstimator, TransformerMixin\n",
    "from statsmodels.tsa.api import SimpleExpSmoothing\n",
    "from sklearn.linear_model import LinearRegression\n",
    "from sklearn.model_selection import train_test_split\n",
    "from sklearn.preprocessing import MinMaxScaler\n",
    "import statsmodels.api as sm\n",
    "from itertools import groupby\n",
    "import plotly.express as px\n",
    "import plotly.graph_objects as go\n",
    "warnings.filterwarnings('ignore')\n",
    "import sys\n",
    "import pickle\n",
    "from sklearn.metrics import mean_squared_error\n",
    "# from tdigest import TDigest\n",
    "import boto3\n",
    "from sklearn.base import ClassifierMixin\n",
    "import joblib\n",
    "import os\n",
    "import sys\n",
    "import time"
   ]
  },
  {
   "cell_type": "code",
   "execution_count": 2,
   "id": "9d63bbbc",
   "metadata": {
    "execution": {
     "iopub.execute_input": "2022-11-03T02:15:17.558914Z",
     "iopub.status.busy": "2022-11-03T02:15:17.558502Z",
     "iopub.status.idle": "2022-11-03T02:15:17.560298Z",
     "shell.execute_reply": "2022-11-03T02:15:17.559961Z"
    },
    "papermill": {
     "duration": 0.01501,
     "end_time": "2022-11-03T02:15:17.560380",
     "exception": false,
     "start_time": "2022-11-03T02:15:17.545370",
     "status": "completed"
    },
    "tags": []
   },
   "outputs": [],
   "source": [
    "warnings.filterwarnings('ignore')\n",
    "pd.options.display.float_format = '{:.5f}'.format #evita que muestre notacion cientifica\n",
    "pd.set_option('display.max_colwidth', None)\n",
    "# pd.set_option('display.max_rows', None)\n",
    "pd.set_option('display.max_columns', None)"
   ]
  },
  {
   "cell_type": "code",
   "execution_count": 3,
   "id": "68df00e2",
   "metadata": {
    "execution": {
     "iopub.execute_input": "2022-11-03T02:15:17.588120Z",
     "iopub.status.busy": "2022-11-03T02:15:17.583815Z",
     "iopub.status.idle": "2022-11-03T02:15:17.651008Z",
     "shell.execute_reply": "2022-11-03T02:15:17.650589Z"
    },
    "papermill": {
     "duration": 0.080155,
     "end_time": "2022-11-03T02:15:17.651116",
     "exception": false,
     "start_time": "2022-11-03T02:15:17.570961",
     "status": "completed"
    },
    "tags": []
   },
   "outputs": [],
   "source": [
    "%load_ext autoreload\n",
    "%autoreload 2"
   ]
  },
  {
   "cell_type": "code",
   "execution_count": 4,
   "id": "8b039738",
   "metadata": {
    "execution": {
     "iopub.execute_input": "2022-11-03T02:15:17.676342Z",
     "iopub.status.busy": "2022-11-03T02:15:17.674947Z",
     "iopub.status.idle": "2022-11-03T02:15:17.710966Z",
     "shell.execute_reply": "2022-11-03T02:15:17.710645Z"
    },
    "papermill": {
     "duration": 0.049084,
     "end_time": "2022-11-03T02:15:17.711057",
     "exception": false,
     "start_time": "2022-11-03T02:15:17.661973",
     "status": "completed"
    },
    "tags": []
   },
   "outputs": [],
   "source": [
    "module_path = os.path.abspath(os.path.join('../../'))\n",
    "if module_path not in sys.path:\n",
    "    sys.path.append(module_path)"
   ]
  },
  {
   "cell_type": "code",
   "execution_count": 5,
   "id": "ecf14315",
   "metadata": {
    "execution": {
     "iopub.execute_input": "2022-11-03T02:15:17.736114Z",
     "iopub.status.busy": "2022-11-03T02:15:17.735037Z",
     "iopub.status.idle": "2022-11-03T02:15:17.843537Z",
     "shell.execute_reply": "2022-11-03T02:15:17.843112Z"
    },
    "papermill": {
     "duration": 0.12161,
     "end_time": "2022-11-03T02:15:17.843635",
     "exception": false,
     "start_time": "2022-11-03T02:15:17.722025",
     "status": "completed"
    },
    "tags": []
   },
   "outputs": [],
   "source": [
    "from src.preprocessing.preprocessing  import data_wrangling, build_feature_engeniering_pipeline\n",
    "from src.modeling.simple_models import ChangeTrendPercentajeIdentifierWide,ConstantConsumptionClassifierWide"
   ]
  },
  {
   "cell_type": "code",
   "execution_count": 6,
   "id": "3f43b7be",
   "metadata": {
    "execution": {
     "iopub.execute_input": "2022-11-03T02:15:17.874897Z",
     "iopub.status.busy": "2022-11-03T02:15:17.867019Z",
     "iopub.status.idle": "2022-11-03T02:15:17.910089Z",
     "shell.execute_reply": "2022-11-03T02:15:17.909705Z"
    },
    "papermill": {
     "duration": 0.055412,
     "end_time": "2022-11-03T02:15:17.910178",
     "exception": false,
     "start_time": "2022-11-03T02:15:17.854766",
     "status": "completed"
    },
    "tags": []
   },
   "outputs": [],
   "source": [
    "from src.conf.config  import Config"
   ]
  },
  {
   "cell_type": "markdown",
   "id": "b0f5453b",
   "metadata": {
    "papermill": {
     "duration": 0.010693,
     "end_time": "2022-11-03T02:15:17.931909",
     "exception": false,
     "start_time": "2022-11-03T02:15:17.921216",
     "status": "completed"
    },
    "tags": []
   },
   "source": [
    "## Config"
   ]
  },
  {
   "cell_type": "code",
   "execution_count": 7,
   "id": "dc6bf48a",
   "metadata": {
    "execution": {
     "iopub.execute_input": "2022-11-03T02:15:17.955807Z",
     "iopub.status.busy": "2022-11-03T02:15:17.955427Z",
     "iopub.status.idle": "2022-11-03T02:15:17.990600Z",
     "shell.execute_reply": "2022-11-03T02:15:17.990292Z"
    },
    "papermill": {
     "duration": 0.047974,
     "end_time": "2022-11-03T02:15:17.990684",
     "exception": false,
     "start_time": "2022-11-03T02:15:17.942710",
     "status": "completed"
    },
    "tags": []
   },
   "outputs": [],
   "source": [
    "Config.init_config()"
   ]
  },
  {
   "cell_type": "code",
   "execution_count": 8,
   "id": "d9c4a0a9",
   "metadata": {
    "execution": {
     "iopub.execute_input": "2022-11-03T02:15:18.017936Z",
     "iopub.status.busy": "2022-11-03T02:15:18.017533Z",
     "iopub.status.idle": "2022-11-03T02:15:18.174965Z",
     "shell.execute_reply": "2022-11-03T02:15:18.175319Z"
    },
    "papermill": {
     "duration": 0.173721,
     "end_time": "2022-11-03T02:15:18.175440",
     "exception": false,
     "start_time": "2022-11-03T02:15:18.001719",
     "status": "completed"
    },
    "tags": []
   },
   "outputs": [],
   "source": [
    "DATA_PATH = Config.get('workspace').get('data_path')\n",
    "MODEL_PATH = Config.get('workspace').get('model_path')\n",
    "periodo = Config.get('model').get('periodo')\n",
    "cols_derivadas = pd.read_csv(f'{MODEL_PATH}features_by_const_boruta2_{periodo}.csv')['0'].tolist()\n",
    "cols_consumo = [f'{i}_anterior' for i in range(periodo, 0, -1)]\n",
    "cols_uc = Config.get('model').get('cols_uc')\n",
    "tsfel_names_path = f'{MODEL_PATH}/'+Config.get('model').get('tsfel_names_path')\n",
    "BATCH_SIZE = Config.get('model').get('hip_NN').get('batch_size')\n",
    "cols_for_model = cols_uc+cols_consumo+cols_derivadas\n",
    "cols_comb_model = ['prob_cb','prob_lgbm','prob_ffn','prob_lstmffn','fraud_constante','fraud_trend']\n",
    "hip_trend = Config.get('model').get('hip_trend') \n",
    "hip_const = Config.get('model').get('hip_const')\n",
    "\n",
    "name_model_fraud_lgbm = f'{MODEL_PATH}/'+Config.get('model').get('lgbm_model_name')\n",
    "name_model_fraud_cat = f'{MODEL_PATH}/'+Config.get('model').get('cat_model_name')\n",
    "name_model_fraud_nn = f'{MODEL_PATH}/'+Config.get('model').get('nn_model_name')\n",
    "name_model_fraud_lstmnn = f'{MODEL_PATH}/'+Config.get('model').get('lstmnn_model_name')\n",
    "name_pipe_features = f'{MODEL_PATH}/'+Config.get('model').get('pipe_feat_name')\n",
    "name_pipe_spent = f'{MODEL_PATH}/'+Config.get('model').get('pipe_spent_name')\n",
    "name_model_fraud_comb  = f'{MODEL_PATH}/'+Config.get('model').get('comb_model_name')\n",
    "\n",
    "filename = Config.get('evaluacion').get('evaluation_data')\n",
    "mes_ultimo_consumo = Config.get('evaluacion').get('mes_ultimo_consumo')\n",
    "th_critico = Config.get('evaluacion').get('th_critico') #0.86\n",
    "th_warning = Config.get('evaluacion').get('th_warning') #0.7\n",
    "cols_final = ['uc'] + cols_consumo + ['codigo_postal','alerta','prob_final']\n",
    "name_resultado_normales = f'{MODEL_PATH}/normales_prediccion_{mes_ultimo_consumo}.csv'\n",
    "name_resultado_anomalias = f'{MODEL_PATH}/anomalias_prediccion_{mes_ultimo_consumo}.csv'"
   ]
  },
  {
   "cell_type": "markdown",
   "id": "3ee0414c",
   "metadata": {
    "papermill": {
     "duration": 0.011798,
     "end_time": "2022-11-03T02:15:18.198523",
     "exception": false,
     "start_time": "2022-11-03T02:15:18.186725",
     "status": "completed"
    },
    "tags": []
   },
   "source": [
    "## Funciones"
   ]
  },
  {
   "cell_type": "code",
   "execution_count": 9,
   "id": "8acd3e2a",
   "metadata": {
    "execution": {
     "iopub.execute_input": "2022-11-03T02:15:18.229626Z",
     "iopub.status.busy": "2022-11-03T02:15:18.227241Z",
     "iopub.status.idle": "2022-11-03T02:15:18.268326Z",
     "shell.execute_reply": "2022-11-03T02:15:18.268628Z"
    },
    "papermill": {
     "duration": 0.059071,
     "end_time": "2022-11-03T02:15:18.268756",
     "exception": false,
     "start_time": "2022-11-03T02:15:18.209685",
     "status": "completed"
    },
    "tags": []
   },
   "outputs": [],
   "source": [
    "def cb_predict_proba(X):\n",
    "    model = joblib.load(name_model_fraud_lgbm)\n",
    "    proba = model.predict_proba(X)\n",
    "    return proba[:,1]\n",
    "\n",
    "def lgbm_predict_proba(X):\n",
    "    model = joblib.load(name_model_fraud_cat)\n",
    "    proba = model.predict_proba(X)\n",
    "    return proba[:,1]\n",
    "\n",
    "def fnn_predict_proba(df):\n",
    "    features_names = cols_uc+cols_derivadas\n",
    "    spents_names = cols_consumo\n",
    "    pipe_features = joblib.load(name_pipe_features)\n",
    "    pipe_spent = joblib.load(name_pipe_spent)\n",
    "    model = tf.keras.models.load_model(name_model_fraud_nn)\n",
    "    X_features = pipe_features.transform(df[features_names])\n",
    "    X_spents = pipe_spent.transform(df[spents_names])\n",
    "    X = np.concatenate([X_features,X_spents],axis=1)\n",
    "    pred_rnn = model.predict(X, batch_size=BATCH_SIZE)\n",
    "    return pred_rnn[:,0]\n",
    "\n",
    "def lstm_fnn_predict_proba(df):\n",
    "    features_names = cols_uc+cols_derivadas\n",
    "    spents_names = cols_consumo\n",
    "    pipe_features = joblib.load(name_pipe_features)\n",
    "    pipe_spent = joblib.load(name_pipe_spent)\n",
    "    model = tf.keras.models.load_model(name_model_fraud_lstmnn)\n",
    "    X_features = pipe_features.transform(df[features_names])\n",
    "    X_spents = pipe_spent.transform(df[spents_names])\n",
    "    X_spents = X_spents.reshape((X_spents.shape[0],periodo,1))\n",
    "    pred = model.predict([X_spents, X_features],batch_size=BATCH_SIZE)\n",
    "    return pred[:,0]\n",
    "\n",
    "def combinado_model_predict_proba(df):\n",
    "    comb_model = joblib.load(name_model_fraud_comb)\n",
    "    return comb_model.predict_proba(df[cols_comb_model])[:,1]\n",
    "    \n",
    "def load_datasets():\n",
    "    df = pd.read_parquet(DATA_PATH+filename)\n",
    "    return df\n",
    "\n",
    "def preprocess_datasets(df):\n",
    "    ## Esto deberia estar en el ETL\n",
    "    df.rename(columns={'id_usuario':'uc'}, inplace=True)\n",
    "    df.rename(columns={'id':'index'}, inplace=True)\n",
    "    # Solo nos quedamos con aquellos usuarios que tienen al menos 10 meses de tiempo de conexion \n",
    "    # No esten dados de baja y tengan al menos 6 consumos validos\n",
    "    ultimo_mes_consumo = pd.to_datetime(mes_ultimo_consumo)\n",
    "    mes_evaluacion = ultimo_mes_consumo + pd.DateOffset(months=1)\n",
    "    df['cant_meses_conectado'] = ((mes_evaluacion - df.fecha_de_alta)/np.timedelta64(1, 'M'))\n",
    "    df['is_baja'] = df.fecha_de_baja<mes_evaluacion\n",
    "    df = df[(df.is_baja==False)&(df.cant_null<=6)&(df.cant_meses_conectado>=10)]\n",
    "    # limpieza y calculo de variables\n",
    "    df = data_wrangling(df,periodo)\n",
    "    pipe_feature_eng = build_feature_engeniering_pipeline(tsfel_names_path,num_periodos= periodo)\n",
    "    df = pipe_feature_eng.fit_transform(df, None)\n",
    "    return df"
   ]
  },
  {
   "cell_type": "markdown",
   "id": "50e433ad",
   "metadata": {
    "papermill": {
     "duration": 0.011078,
     "end_time": "2022-11-03T02:15:18.291215",
     "exception": false,
     "start_time": "2022-11-03T02:15:18.280137",
     "status": "completed"
    },
    "tags": []
   },
   "source": [
    "## Load Data"
   ]
  },
  {
   "cell_type": "code",
   "execution_count": 10,
   "id": "f9b3f553",
   "metadata": {
    "execution": {
     "iopub.execute_input": "2022-11-03T02:15:18.319263Z",
     "iopub.status.busy": "2022-11-03T02:15:18.316446Z",
     "iopub.status.idle": "2022-11-03T02:15:18.354568Z",
     "shell.execute_reply": "2022-11-03T02:15:18.354240Z"
    },
    "papermill": {
     "duration": 0.052239,
     "end_time": "2022-11-03T02:15:18.354665",
     "exception": false,
     "start_time": "2022-11-03T02:15:18.302426",
     "status": "completed"
    },
    "tags": []
   },
   "outputs": [],
   "source": [
    "start_time = time.time()"
   ]
  },
  {
   "cell_type": "code",
   "execution_count": 11,
   "id": "bb076d30",
   "metadata": {
    "execution": {
     "iopub.execute_input": "2022-11-03T02:15:18.383804Z",
     "iopub.status.busy": "2022-11-03T02:15:18.382751Z",
     "iopub.status.idle": "2022-11-03T02:15:18.417351Z",
     "shell.execute_reply": "2022-11-03T02:15:18.417674Z"
    },
    "papermill": {
     "duration": 0.051733,
     "end_time": "2022-11-03T02:15:18.417784",
     "exception": false,
     "start_time": "2022-11-03T02:15:18.366051",
     "status": "completed"
    },
    "tags": []
   },
   "outputs": [],
   "source": [
    "# s3 = boto3.resource('s3')\n",
    "# bucket = s3.Bucket('iadbprod-ine-tsp-analyticaldata')\n",
    "# bucket_path = 's3://iadbprod-ine-tsp-analyticaldata/' \n",
    "# key = 'EEGSA-GUATEMALA/data_clean/'"
   ]
  },
  {
   "cell_type": "code",
   "execution_count": 12,
   "id": "58dbf14e",
   "metadata": {
    "execution": {
     "iopub.execute_input": "2022-11-03T02:15:18.445132Z",
     "iopub.status.busy": "2022-11-03T02:15:18.442697Z",
     "iopub.status.idle": "2022-11-03T02:15:26.822350Z",
     "shell.execute_reply": "2022-11-03T02:15:26.821953Z"
    },
    "papermill": {
     "duration": 8.393225,
     "end_time": "2022-11-03T02:15:26.822447",
     "exception": false,
     "start_time": "2022-11-03T02:15:18.429222",
     "status": "completed"
    },
    "tags": []
   },
   "outputs": [
    {
     "name": "stdout",
     "output_type": "stream",
     "text": [
      "CPU times: user 2.65 s, sys: 1.74 s, total: 4.39 s\n",
      "Wall time: 8.34 s\n"
     ]
    },
    {
     "data": {
      "text/plain": [
       "(1338497, 37)"
      ]
     },
     "execution_count": 12,
     "metadata": {},
     "output_type": "execute_result"
    }
   ],
   "source": [
    "%%time\n",
    "df = load_datasets()\n",
    "df.shape"
   ]
  },
  {
   "cell_type": "code",
   "execution_count": 13,
   "id": "e98e80a8",
   "metadata": {
    "execution": {
     "iopub.execute_input": "2022-11-03T02:15:26.850318Z",
     "iopub.status.busy": "2022-11-03T02:15:26.849923Z",
     "iopub.status.idle": "2022-11-03T02:15:27.976403Z",
     "shell.execute_reply": "2022-11-03T02:15:27.975963Z"
    },
    "papermill": {
     "duration": 1.141976,
     "end_time": "2022-11-03T02:15:27.976501",
     "exception": false,
     "start_time": "2022-11-03T02:15:26.834525",
     "status": "completed"
    },
    "tags": []
   },
   "outputs": [],
   "source": [
    "df = df.sample(800000)"
   ]
  },
  {
   "cell_type": "markdown",
   "id": "b98627ac",
   "metadata": {
    "papermill": {
     "duration": 0.011728,
     "end_time": "2022-11-03T02:15:28.000574",
     "exception": false,
     "start_time": "2022-11-03T02:15:27.988846",
     "status": "completed"
    },
    "tags": []
   },
   "source": [
    "## Preproceso -  Data"
   ]
  },
  {
   "cell_type": "code",
   "execution_count": 14,
   "id": "b62ee860",
   "metadata": {
    "execution": {
     "iopub.execute_input": "2022-11-03T02:15:28.035900Z",
     "iopub.status.busy": "2022-11-03T02:15:28.032254Z",
     "iopub.status.idle": "2022-11-03T07:44:33.636089Z",
     "shell.execute_reply": "2022-11-03T07:44:33.636445Z"
    },
    "papermill": {
     "duration": 19745.623939,
     "end_time": "2022-11-03T07:44:33.636560",
     "exception": false,
     "start_time": "2022-11-03T02:15:28.012621",
     "status": "completed"
    },
    "tags": []
   },
   "outputs": [
    {
     "name": "stdout",
     "output_type": "stream",
     "text": [
      "self.read False\n",
      "ENTRO PARA CREAR JSON\n",
      "*** Feature extraction started ***\n"
     ]
    },
    {
     "data": {
      "text/html": [
       "\n",
       "              <p>\n",
       "                  Progress: 100% Complete\n",
       "              <p/>            \n",
       "              <progress\n",
       "                  value='789571'\n",
       "                  max='789571',\n",
       "                  style='width: 25%',\n",
       "              >\n",
       "                  789571\n",
       "              </progress>\n",
       "\n",
       "    "
      ],
      "text/plain": [
       "<IPython.core.display.HTML object>"
      ]
     },
     "metadata": {},
     "output_type": "display_data"
    },
    {
     "name": "stdout",
     "output_type": "stream",
     "text": [
      "\n",
      "*** Feature extraction finished ***\n",
      "df_result index: (789571,)\n",
      "df_tsfel (789571, 21)\n",
      "CPU times: user 3h 36min 5s, sys: 1h 57min 6s, total: 5h 33min 11s\n",
      "Wall time: 5h 29min 5s\n"
     ]
    }
   ],
   "source": [
    "%%time\n",
    "df = preprocess_datasets(df)"
   ]
  },
  {
   "cell_type": "code",
   "execution_count": 15,
   "id": "faa0eb9b",
   "metadata": {
    "execution": {
     "iopub.execute_input": "2022-11-03T07:44:33.665722Z",
     "iopub.status.busy": "2022-11-03T07:44:33.665323Z",
     "iopub.status.idle": "2022-11-03T07:44:33.707269Z",
     "shell.execute_reply": "2022-11-03T07:44:33.707601Z"
    },
    "papermill": {
     "duration": 0.058124,
     "end_time": "2022-11-03T07:44:33.707715",
     "exception": false,
     "start_time": "2022-11-03T07:44:33.649591",
     "status": "completed"
    },
    "tags": []
   },
   "outputs": [
    {
     "data": {
      "text/plain": [
       "(789571, 88)"
      ]
     },
     "execution_count": 15,
     "metadata": {},
     "output_type": "execute_result"
    }
   ],
   "source": [
    "df.shape"
   ]
  },
  {
   "cell_type": "markdown",
   "id": "ecdccdcd",
   "metadata": {
    "papermill": {
     "duration": 0.013235,
     "end_time": "2022-11-03T07:44:33.734563",
     "exception": false,
     "start_time": "2022-11-03T07:44:33.721328",
     "status": "completed"
    },
    "tags": []
   },
   "source": [
    "## Modelos"
   ]
  },
  {
   "cell_type": "code",
   "execution_count": 16,
   "id": "a7a80971",
   "metadata": {
    "execution": {
     "iopub.execute_input": "2022-11-03T07:44:33.773245Z",
     "iopub.status.busy": "2022-11-03T07:44:33.770223Z",
     "iopub.status.idle": "2022-11-03T07:45:20.964477Z",
     "shell.execute_reply": "2022-11-03T07:45:20.965661Z"
    },
    "papermill": {
     "duration": 47.217856,
     "end_time": "2022-11-03T07:45:20.965877",
     "exception": false,
     "start_time": "2022-11-03T07:44:33.748021",
     "status": "completed"
    },
    "tags": []
   },
   "outputs": [],
   "source": [
    "### Modelo Trend change\n",
    "trend_perc_model = ChangeTrendPercentajeIdentifierWide(**hip_trend)\n",
    "pred_tc = trend_perc_model.predict(df)\n",
    "df['fraud_trend'] = pred_tc.is_fraud_trend_perc\n",
    "### Modelo constante\n",
    "const_model = ConstantConsumptionClassifierWide(**hip_const)\n",
    "pred_cm = const_model.predict(df[cols_consumo])\n",
    "df['fraud_constante'] = pred_cm\n",
    "### Modelos supervisados\n",
    "df['prob_cb'] =  cb_predict_proba(df[cols_for_model])\n",
    "df['prob_lgbm'] = lgbm_predict_proba(df[cols_for_model])\n",
    "df['prob_ffn'] = fnn_predict_proba(df[cols_for_model])\n",
    "df['prob_lstmffn'] = lstm_fnn_predict_proba(df[cols_for_model])\n",
    "### Modelo combinado\n",
    "df['prob_final'] = combinado_model_predict_proba(df)"
   ]
  },
  {
   "cell_type": "markdown",
   "id": "3878c6e0",
   "metadata": {
    "papermill": {
     "duration": 0.013692,
     "end_time": "2022-11-03T07:45:21.009454",
     "exception": false,
     "start_time": "2022-11-03T07:45:20.995762",
     "status": "completed"
    },
    "tags": []
   },
   "source": [
    "## Post - Proceso - Resultado"
   ]
  },
  {
   "cell_type": "code",
   "execution_count": 17,
   "id": "dae36fd9",
   "metadata": {
    "execution": {
     "iopub.execute_input": "2022-11-03T07:45:21.040829Z",
     "iopub.status.busy": "2022-11-03T07:45:21.040366Z",
     "iopub.status.idle": "2022-11-03T07:45:22.068870Z",
     "shell.execute_reply": "2022-11-03T07:45:22.068456Z"
    },
    "papermill": {
     "duration": 1.046211,
     "end_time": "2022-11-03T07:45:22.068978",
     "exception": false,
     "start_time": "2022-11-03T07:45:21.022767",
     "status": "completed"
    },
    "tags": []
   },
   "outputs": [],
   "source": [
    "df['alerta'] = 'sin_alerta'\n",
    "df.loc[(df.alerta=='sin_alerta')&(df.cant_ceros_12==12),'alerta'] = 'consumo_0'\n",
    "msk_critico = df.prob_final>=th_critico \n",
    "df.loc[(df.alerta=='sin_alerta')&(msk_critico),'alerta'] = 'critico'\n",
    "msk_warning = df.prob_final>=th_warning\n",
    "df.loc[(df.alerta=='sin_alerta')&(msk_warning),'alerta'] = 'warning'\n",
    "df.loc[(df.alerta=='sin_alerta')&(pred_tc.is_fraud_trend_perc==1),'alerta'] = 'cambio_neg_consumo'\n",
    "df.loc[(df.alerta=='sin_alerta')&(pred_cm==1),'alerta'] = 'consumo_constante'\n",
    "df.loc[(df.alerta=='sin_alerta'),'alerta'] = 'normal'"
   ]
  },
  {
   "cell_type": "code",
   "execution_count": 18,
   "id": "3d5d1b1b",
   "metadata": {
    "execution": {
     "iopub.execute_input": "2022-11-03T07:45:22.102459Z",
     "iopub.status.busy": "2022-11-03T07:45:22.102030Z",
     "iopub.status.idle": "2022-11-03T07:45:30.989620Z",
     "shell.execute_reply": "2022-11-03T07:45:30.989985Z"
    },
    "papermill": {
     "duration": 8.907389,
     "end_time": "2022-11-03T07:45:30.990116",
     "exception": false,
     "start_time": "2022-11-03T07:45:22.082727",
     "status": "completed"
    },
    "tags": []
   },
   "outputs": [],
   "source": [
    "df[(df.alerta=='normal')][cols_final].to_csv(name_resultado_normales,index=False)\n",
    "df[(df.alerta!='normal')][cols_final].to_csv(name_resultado_anomalias,index=False)"
   ]
  },
  {
   "cell_type": "code",
   "execution_count": 19,
   "id": "09e322b5",
   "metadata": {
    "execution": {
     "iopub.execute_input": "2022-11-03T07:45:31.022483Z",
     "iopub.status.busy": "2022-11-03T07:45:31.022047Z",
     "iopub.status.idle": "2022-11-03T07:45:34.746935Z",
     "shell.execute_reply": "2022-11-03T07:45:34.747290Z"
    },
    "papermill": {
     "duration": 3.743677,
     "end_time": "2022-11-03T07:45:34.747400",
     "exception": false,
     "start_time": "2022-11-03T07:45:31.003723",
     "status": "completed"
    },
    "tags": []
   },
   "outputs": [
    {
     "data": {
      "image/png": "[encoded data removed]",
      "text/plain": [
       "<Figure size 576x288 with 1 Axes>"
      ]
     },
     "metadata": {
      "needs_background": "light"
     },
     "output_type": "display_data"
    }
   ],
   "source": [
    "plt.figure(figsize=(8,4))\n",
    "sns.distplot(df.prob_final, label='0')\n",
    "plt.vlines(0.6, ymin=0, ymax=5, color='red', linestyles='dashed')\n",
    "plt.xlabel('score', fontsize=16)\n",
    "plt.ylabel('density', fontsize=16)\n",
    "plt.legend()\n",
    "plt.grid()"
   ]
  },
  {
   "cell_type": "code",
   "execution_count": 20,
   "id": "5729f34e",
   "metadata": {
    "execution": {
     "iopub.execute_input": "2022-11-03T07:45:34.779145Z",
     "iopub.status.busy": "2022-11-03T07:45:34.778708Z",
     "iopub.status.idle": "2022-11-03T07:45:34.821597Z",
     "shell.execute_reply": "2022-11-03T07:45:34.821262Z"
    },
    "papermill": {
     "duration": 0.059956,
     "end_time": "2022-11-03T07:45:34.821697",
     "exception": false,
     "start_time": "2022-11-03T07:45:34.761741",
     "status": "completed"
    },
    "tags": []
   },
   "outputs": [
    {
     "name": "stdout",
     "output_type": "stream",
     "text": [
      "Fin\n",
      "--- 19816.46601819992 seconds ---\n"
     ]
    }
   ],
   "source": [
    "print(\"Fin\")\n",
    "print(\"--- %s seconds ---\" % (time.time() - start_time))"
   ]
  },
  {
   "cell_type": "code",
   "execution_count": null,
   "id": "0baf15af",
   "metadata": {
    "papermill": {
     "duration": 0.014403,
     "end_time": "2022-11-03T07:45:34.850778",
     "exception": false,
     "start_time": "2022-11-03T07:45:34.836375",
     "status": "completed"
    },
    "tags": []
   },
   "outputs": [],
   "source": []
  }
 ],
 "metadata": {
  "kernelspec": {
   "display_name": "conda_tensorflow2_p36",
   "language": "python",
   "name": "conda_tensorflow2_p36"
  },
  "language_info": {
   "codemirror_mode": {
    "name": "ipython",
    "version": 3
   },
   "file_extension": ".py",
   "mimetype": "text/x-python",
   "name": "python",
   "nbconvert_exporter": "python",
   "pygments_lexer": "ipython3",
   "version": "3.6.13"
  },
  "papermill": {
   "default_parameters": {},
   "duration": 19822.863759,
   "end_time": "2022-11-03T07:45:36.596923",
   "environment_variables": {},
   "exception": null,
   "input_path": "main_evaluation.ipynb",
   "output_path": "runs/main_evaluation_03.ipynb",
   "parameters": {},
   "start_time": "2022-11-03T02:15:13.733164",
   "version": "2.3.4"
  }
 },
 "nbformat": 4,
 "nbformat_minor": 5
}
