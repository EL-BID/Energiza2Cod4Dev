{
 "cells": [
  {
   "cell_type": "markdown",
   "id": "d3ce69c9",
   "metadata": {
    "papermill": {
     "duration": 0.013491,
     "end_time": "2022-11-02T01:23:51.702061",
     "exception": false,
     "start_time": "2022-11-02T01:23:51.688570",
     "status": "completed"
    },
    "tags": []
   },
   "source": [
    "# Evaluacion EEGSA - Guatemala\n",
    "\n",
    "Evaluar en dataset antes de dejar solo los normales : epmaps_dataclean_consolidado_clean_april_2022.parquet"
   ]
  },
  {
   "cell_type": "code",
   "execution_count": 1,
   "id": "b0e479d2",
   "metadata": {
    "execution": {
     "iopub.execute_input": "2022-11-02T01:23:51.734356Z",
     "iopub.status.busy": "2022-11-02T01:23:51.733950Z",
     "iopub.status.idle": "2022-11-02T01:23:54.361468Z",
     "shell.execute_reply": "2022-11-02T01:23:54.361050Z"
    },
    "papermill": {
     "duration": 2.648514,
     "end_time": "2022-11-02T01:23:54.361575",
     "exception": false,
     "start_time": "2022-11-02T01:23:51.713061",
     "status": "completed"
    },
    "tags": []
   },
   "outputs": [],
   "source": [
    "import os\n",
    "import pandas as pd\n",
    "import numpy as np\n",
    "import matplotlib.pyplot as plt\n",
    "import seaborn as sns\n",
    "import warnings\n",
    "import tensorflow as tf\n",
    "from datetime import datetime\n",
    "from tensorflow.keras.preprocessing.sequence import TimeseriesGenerator\n",
    "from  tqdm.notebook import  tqdm\n",
    "%config IPCompleter.use_jedi = False\n",
    "from sklearn.base import BaseEstimator, TransformerMixin\n",
    "from statsmodels.tsa.api import SimpleExpSmoothing\n",
    "from sklearn.linear_model import LinearRegression\n",
    "from sklearn.model_selection import train_test_split\n",
    "from sklearn.preprocessing import MinMaxScaler\n",
    "import statsmodels.api as sm\n",
    "from itertools import groupby\n",
    "import plotly.express as px\n",
    "import plotly.graph_objects as go\n",
    "warnings.filterwarnings('ignore')\n",
    "import sys\n",
    "import pickle\n",
    "from sklearn.metrics import mean_squared_error\n",
    "# from tdigest import TDigest\n",
    "import boto3\n",
    "from sklearn.base import ClassifierMixin\n",
    "import joblib\n",
    "import os\n",
    "import sys\n",
    "import time"
   ]
  },
  {
   "cell_type": "code",
   "execution_count": 2,
   "id": "11d274af",
   "metadata": {
    "execution": {
     "iopub.execute_input": "2022-11-02T01:23:54.386555Z",
     "iopub.status.busy": "2022-11-02T01:23:54.386144Z",
     "iopub.status.idle": "2022-11-02T01:23:54.387709Z",
     "shell.execute_reply": "2022-11-02T01:23:54.387359Z"
    },
    "papermill": {
     "duration": 0.015092,
     "end_time": "2022-11-02T01:23:54.387793",
     "exception": false,
     "start_time": "2022-11-02T01:23:54.372701",
     "status": "completed"
    },
    "tags": []
   },
   "outputs": [],
   "source": [
    "warnings.filterwarnings('ignore')\n",
    "pd.options.display.float_format = '{:.5f}'.format #evita que muestre notacion cientifica\n",
    "pd.set_option('display.max_colwidth', None)\n",
    "# pd.set_option('display.max_rows', None)\n",
    "pd.set_option('display.max_columns', None)"
   ]
  },
  {
   "cell_type": "code",
   "execution_count": 3,
   "id": "a2353652",
   "metadata": {
    "execution": {
     "iopub.execute_input": "2022-11-02T01:23:54.412995Z",
     "iopub.status.busy": "2022-11-02T01:23:54.411821Z",
     "iopub.status.idle": "2022-11-02T01:23:54.475316Z",
     "shell.execute_reply": "2022-11-02T01:23:54.474965Z"
    },
    "papermill": {
     "duration": 0.076972,
     "end_time": "2022-11-02T01:23:54.475400",
     "exception": false,
     "start_time": "2022-11-02T01:23:54.398428",
     "status": "completed"
    },
    "tags": []
   },
   "outputs": [],
   "source": [
    "%load_ext autoreload\n",
    "%autoreload 2"
   ]
  },
  {
   "cell_type": "code",
   "execution_count": 4,
   "id": "463d6ae0",
   "metadata": {
    "execution": {
     "iopub.execute_input": "2022-11-02T01:23:54.500029Z",
     "iopub.status.busy": "2022-11-02T01:23:54.499634Z",
     "iopub.status.idle": "2022-11-02T01:23:54.532387Z",
     "shell.execute_reply": "2022-11-02T01:23:54.531994Z"
    },
    "papermill": {
     "duration": 0.046317,
     "end_time": "2022-11-02T01:23:54.532467",
     "exception": false,
     "start_time": "2022-11-02T01:23:54.486150",
     "status": "completed"
    },
    "tags": []
   },
   "outputs": [],
   "source": [
    "module_path = os.path.abspath(os.path.join('../../'))\n",
    "if module_path not in sys.path:\n",
    "    sys.path.append(module_path)"
   ]
  },
  {
   "cell_type": "code",
   "execution_count": 5,
   "id": "4ea155d5",
   "metadata": {
    "execution": {
     "iopub.execute_input": "2022-11-02T01:23:54.556258Z",
     "iopub.status.busy": "2022-11-02T01:23:54.555863Z",
     "iopub.status.idle": "2022-11-02T01:23:54.657370Z",
     "shell.execute_reply": "2022-11-02T01:23:54.657028Z"
    },
    "papermill": {
     "duration": 0.114129,
     "end_time": "2022-11-02T01:23:54.657461",
     "exception": false,
     "start_time": "2022-11-02T01:23:54.543332",
     "status": "completed"
    },
    "tags": []
   },
   "outputs": [],
   "source": [
    "from src.preprocessing.preprocessing  import data_wrangling, build_feature_engeniering_pipeline\n",
    "from src.modeling.simple_models import ChangeTrendPercentajeIdentifierWide,ConstantConsumptionClassifierWide"
   ]
  },
  {
   "cell_type": "code",
   "execution_count": 6,
   "id": "e7bc91f0",
   "metadata": {
    "execution": {
     "iopub.execute_input": "2022-11-02T01:23:54.685778Z",
     "iopub.status.busy": "2022-11-02T01:23:54.685392Z",
     "iopub.status.idle": "2022-11-02T01:23:54.718892Z",
     "shell.execute_reply": "2022-11-02T01:23:54.718538Z"
    },
    "papermill": {
     "duration": 0.050487,
     "end_time": "2022-11-02T01:23:54.718978",
     "exception": false,
     "start_time": "2022-11-02T01:23:54.668491",
     "status": "completed"
    },
    "tags": []
   },
   "outputs": [],
   "source": [
    "from src.conf.config  import Config"
   ]
  },
  {
   "cell_type": "code",
   "execution_count": 7,
   "id": "190cf5b5",
   "metadata": {
    "execution": {
     "iopub.execute_input": "2022-11-02T01:23:54.743321Z",
     "iopub.status.busy": "2022-11-02T01:23:54.742931Z",
     "iopub.status.idle": "2022-11-02T01:23:54.776228Z",
     "shell.execute_reply": "2022-11-02T01:23:54.776550Z"
    },
    "papermill": {
     "duration": 0.046698,
     "end_time": "2022-11-02T01:23:54.776642",
     "exception": false,
     "start_time": "2022-11-02T01:23:54.729944",
     "status": "completed"
    },
    "tags": []
   },
   "outputs": [
    {
     "data": {
      "text/plain": [
       "'2.1.3'"
      ]
     },
     "execution_count": 7,
     "metadata": {},
     "output_type": "execute_result"
    }
   ],
   "source": [
    "tf.__version__"
   ]
  },
  {
   "cell_type": "markdown",
   "id": "df25a837",
   "metadata": {
    "papermill": {
     "duration": 0.011348,
     "end_time": "2022-11-02T01:23:54.799340",
     "exception": false,
     "start_time": "2022-11-02T01:23:54.787992",
     "status": "completed"
    },
    "tags": []
   },
   "source": [
    "## Config"
   ]
  },
  {
   "cell_type": "code",
   "execution_count": 8,
   "id": "5d8ad9ae",
   "metadata": {
    "execution": {
     "iopub.execute_input": "2022-11-02T01:23:54.824112Z",
     "iopub.status.busy": "2022-11-02T01:23:54.823724Z",
     "iopub.status.idle": "2022-11-02T01:23:54.855027Z",
     "shell.execute_reply": "2022-11-02T01:23:54.855333Z"
    },
    "papermill": {
     "duration": 0.044918,
     "end_time": "2022-11-02T01:23:54.855424",
     "exception": false,
     "start_time": "2022-11-02T01:23:54.810506",
     "status": "completed"
    },
    "tags": []
   },
   "outputs": [],
   "source": [
    "Config.init_config()"
   ]
  },
  {
   "cell_type": "code",
   "execution_count": 9,
   "id": "9a34b93c",
   "metadata": {
    "execution": {
     "iopub.execute_input": "2022-11-02T01:23:54.884508Z",
     "iopub.status.busy": "2022-11-02T01:23:54.884073Z",
     "iopub.status.idle": "2022-11-02T01:23:55.032571Z",
     "shell.execute_reply": "2022-11-02T01:23:55.032169Z"
    },
    "papermill": {
     "duration": 0.165177,
     "end_time": "2022-11-02T01:23:55.032670",
     "exception": false,
     "start_time": "2022-11-02T01:23:54.867493",
     "status": "completed"
    },
    "tags": []
   },
   "outputs": [],
   "source": [
    "DATA_PATH = Config.get('workspace').get('data_path')\n",
    "MODEL_PATH = Config.get('workspace').get('model_path')\n",
    "periodo = Config.get('model').get('periodo')\n",
    "cols_derivadas = pd.read_csv(f'{MODEL_PATH}features_by_const_boruta2_{periodo}.csv')['0'].tolist()\n",
    "cols_consumo = [f'{i}_anterior' for i in range(periodo, 0, -1)]\n",
    "cols_uc = Config.get('model').get('cols_uc')\n",
    "tsfel_names_path = f'{MODEL_PATH}/'+Config.get('model').get('tsfel_names_path')\n",
    "BATCH_SIZE = Config.get('model').get('hip_NN').get('batch_size')\n",
    "cols_for_model = cols_uc+cols_consumo+cols_derivadas\n",
    "cols_comb_model = ['prob_cb','prob_lgbm','prob_ffn','prob_lstmffn','fraud_constante','fraud_trend']\n",
    "hip_trend = Config.get('model').get('hip_trend') \n",
    "hip_const = Config.get('model').get('hip_const')\n",
    "\n",
    "name_model_fraud_lgbm = f'{MODEL_PATH}/'+Config.get('model').get('lgbm_model_name')\n",
    "name_model_fraud_cat = f'{MODEL_PATH}/'+Config.get('model').get('cat_model_name')\n",
    "name_model_fraud_nn = f'{MODEL_PATH}/'+Config.get('model').get('nn_model_name')\n",
    "name_model_fraud_lstmnn = f'{MODEL_PATH}/'+Config.get('model').get('lstmnn_model_name')\n",
    "name_pipe_features = f'{MODEL_PATH}/'+Config.get('model').get('pipe_feat_name')\n",
    "name_pipe_spent = f'{MODEL_PATH}/'+Config.get('model').get('pipe_spent_name')\n",
    "name_model_fraud_comb  = f'{MODEL_PATH}/'+Config.get('model').get('comb_model_name')\n",
    "\n",
    "filename = Config.get('evaluacion').get('evaluation_data')\n",
    "mes_ultimo_consumo = Config.get('evaluacion').get('mes_ultimo_consumo')\n",
    "th_critico = Config.get('evaluacion').get('th_critico') #0.86\n",
    "th_warning = Config.get('evaluacion').get('th_warning') #0.7\n",
    "cols_final = ['uc'] + cols_consumo + ['codigo_postal','alerta','prob_final']\n",
    "name_resultado_normales = f'{MODEL_PATH}/normales_prediccion_{mes_ultimo_consumo}.csv'\n",
    "name_resultado_anomalias = f'{MODEL_PATH}/anomalias_prediccion_{mes_ultimo_consumo}.csv'"
   ]
  },
  {
   "cell_type": "markdown",
   "id": "5dcba44d",
   "metadata": {
    "papermill": {
     "duration": 0.01136,
     "end_time": "2022-11-02T01:23:55.055845",
     "exception": false,
     "start_time": "2022-11-02T01:23:55.044485",
     "status": "completed"
    },
    "tags": []
   },
   "source": [
    "## Funciones"
   ]
  },
  {
   "cell_type": "code",
   "execution_count": 10,
   "id": "a3aeb5a8",
   "metadata": {
    "execution": {
     "iopub.execute_input": "2022-11-02T01:23:55.086212Z",
     "iopub.status.busy": "2022-11-02T01:23:55.081093Z",
     "iopub.status.idle": "2022-11-02T01:23:55.123258Z",
     "shell.execute_reply": "2022-11-02T01:23:55.123559Z"
    },
    "papermill": {
     "duration": 0.056338,
     "end_time": "2022-11-02T01:23:55.123670",
     "exception": false,
     "start_time": "2022-11-02T01:23:55.067332",
     "status": "completed"
    },
    "tags": []
   },
   "outputs": [],
   "source": [
    "def cb_predict_proba(X):\n",
    "    model = joblib.load(name_model_fraud_lgbm)\n",
    "    proba = model.predict_proba(X)\n",
    "    return proba[:,1]\n",
    "\n",
    "def lgbm_predict_proba(X):\n",
    "    model = joblib.load(name_model_fraud_cat)\n",
    "    proba = model.predict_proba(X)\n",
    "    return proba[:,1]\n",
    "\n",
    "def fnn_predict_proba(df):\n",
    "    features_names = cols_uc+cols_derivadas\n",
    "    spents_names = cols_consumo\n",
    "    pipe_features = joblib.load(name_pipe_features)\n",
    "    pipe_spent = joblib.load(name_pipe_spent)\n",
    "    model = tf.keras.models.load_model(name_model_fraud_nn)\n",
    "    X_features = pipe_features.transform(df[features_names])\n",
    "    X_spents = pipe_spent.transform(df[spents_names])\n",
    "    X = np.concatenate([X_features,X_spents],axis=1)\n",
    "    pred_rnn = model.predict(X, batch_size=BATCH_SIZE)\n",
    "    return pred_rnn[:,0]\n",
    "\n",
    "def lstm_fnn_predict_proba(df):\n",
    "    features_names = cols_uc+cols_derivadas\n",
    "    spents_names = cols_consumo\n",
    "    pipe_features = joblib.load(name_pipe_features)\n",
    "    pipe_spent = joblib.load(name_pipe_spent)\n",
    "    model = tf.keras.models.load_model(name_model_fraud_lstmnn)\n",
    "    X_features = pipe_features.transform(df[features_names])\n",
    "    X_spents = pipe_spent.transform(df[spents_names])\n",
    "    X_spents = X_spents.reshape((X_spents.shape[0],periodo,1))\n",
    "    pred = model.predict([X_spents, X_features],batch_size=BATCH_SIZE)\n",
    "    return pred[:,0]\n",
    "\n",
    "def combinado_model_predict_proba(df):\n",
    "    comb_model = joblib.load(name_model_fraud_comb)\n",
    "    return comb_model.predict_proba(df[cols_comb_model])[:,1]\n",
    "    \n",
    "def load_datasets():\n",
    "    df = pd.read_parquet(DATA_PATH+filename)\n",
    "    return df\n",
    "\n",
    "def preprocess_datasets(df):\n",
    "    ## Esto deberia estar en el ETL\n",
    "    df.rename(columns={'id_usuario':'uc'}, inplace=True)\n",
    "    df.rename(columns={'id':'index'}, inplace=True)\n",
    "    # Solo nos quedamos con aquellos usuarios que tienen al menos 10 meses de tiempo de conexion \n",
    "    # No esten dados de baja y tengan al menos 6 consumos validos\n",
    "    ultimo_mes_consumo = pd.to_datetime(mes_ultimo_consumo)\n",
    "    mes_evaluacion = ultimo_mes_consumo + pd.DateOffset(months=1)\n",
    "    df['cant_meses_conectado'] = ((mes_evaluacion - df.fecha_de_alta)/np.timedelta64(1, 'M'))\n",
    "    df['is_baja'] = df.fecha_de_baja<mes_evaluacion\n",
    "    df = df[(df.is_baja==False)&(df.cant_null<=6)&(df.cant_meses_conectado>=10)]\n",
    "    # limpieza y calculo de variables\n",
    "    df = data_wrangling(df,periodo)\n",
    "    pipe_feature_eng = build_feature_engeniering_pipeline(tsfel_names_path,num_periodos= periodo)\n",
    "    df = pipe_feature_eng.fit_transform(df, None)\n",
    "    return df"
   ]
  },
  {
   "cell_type": "markdown",
   "id": "0124389f",
   "metadata": {
    "papermill": {
     "duration": 0.011239,
     "end_time": "2022-11-02T01:23:55.146332",
     "exception": false,
     "start_time": "2022-11-02T01:23:55.135093",
     "status": "completed"
    },
    "tags": []
   },
   "source": [
    "## Load Data"
   ]
  },
  {
   "cell_type": "code",
   "execution_count": 11,
   "id": "a9b7fe4b",
   "metadata": {
    "execution": {
     "iopub.execute_input": "2022-11-02T01:23:55.171818Z",
     "iopub.status.busy": "2022-11-02T01:23:55.171411Z",
     "iopub.status.idle": "2022-11-02T01:23:55.204123Z",
     "shell.execute_reply": "2022-11-02T01:23:55.203725Z"
    },
    "papermill": {
     "duration": 0.046521,
     "end_time": "2022-11-02T01:23:55.204205",
     "exception": false,
     "start_time": "2022-11-02T01:23:55.157684",
     "status": "completed"
    },
    "tags": []
   },
   "outputs": [],
   "source": [
    "start_time = time.time()"
   ]
  },
  {
   "cell_type": "code",
   "execution_count": 12,
   "id": "f768154f",
   "metadata": {
    "execution": {
     "iopub.execute_input": "2022-11-02T01:23:55.229572Z",
     "iopub.status.busy": "2022-11-02T01:23:55.229182Z",
     "iopub.status.idle": "2022-11-02T01:23:55.259990Z",
     "shell.execute_reply": "2022-11-02T01:23:55.259663Z"
    },
    "papermill": {
     "duration": 0.044405,
     "end_time": "2022-11-02T01:23:55.260072",
     "exception": false,
     "start_time": "2022-11-02T01:23:55.215667",
     "status": "completed"
    },
    "tags": []
   },
   "outputs": [],
   "source": [
    "# s3 = boto3.resource('s3')\n",
    "# bucket = s3.Bucket('iadbprod-ine-tsp-analyticaldata')\n",
    "# bucket_path = 's3://iadbprod-ine-tsp-analyticaldata/' \n",
    "# key = 'EEGSA-GUATEMALA/data_clean/'"
   ]
  },
  {
   "cell_type": "code",
   "execution_count": 13,
   "id": "cce82001",
   "metadata": {
    "execution": {
     "iopub.execute_input": "2022-11-02T01:23:55.285649Z",
     "iopub.status.busy": "2022-11-02T01:23:55.285264Z",
     "iopub.status.idle": "2022-11-02T01:24:02.996632Z",
     "shell.execute_reply": "2022-11-02T01:24:02.996233Z"
    },
    "papermill": {
     "duration": 7.725085,
     "end_time": "2022-11-02T01:24:02.996727",
     "exception": false,
     "start_time": "2022-11-02T01:23:55.271642",
     "status": "completed"
    },
    "tags": []
   },
   "outputs": [
    {
     "name": "stdout",
     "output_type": "stream",
     "text": [
      "CPU times: user 2.53 s, sys: 1.63 s, total: 4.16 s\n",
      "Wall time: 7.68 s\n"
     ]
    },
    {
     "data": {
      "text/plain": [
       "(1338497, 37)"
      ]
     },
     "execution_count": 13,
     "metadata": {},
     "output_type": "execute_result"
    }
   ],
   "source": [
    "%%time\n",
    "df = load_datasets()\n",
    "df.shape"
   ]
  },
  {
   "cell_type": "code",
   "execution_count": 14,
   "id": "54fce1d2",
   "metadata": {
    "execution": {
     "iopub.execute_input": "2022-11-02T01:24:03.023695Z",
     "iopub.status.busy": "2022-11-02T01:24:03.023283Z",
     "iopub.status.idle": "2022-11-02T01:24:03.816452Z",
     "shell.execute_reply": "2022-11-02T01:24:03.816032Z"
    },
    "papermill": {
     "duration": 0.807541,
     "end_time": "2022-11-02T01:24:03.816554",
     "exception": false,
     "start_time": "2022-11-02T01:24:03.009013",
     "status": "completed"
    },
    "tags": []
   },
   "outputs": [],
   "source": [
    "df = df.sample(500000)"
   ]
  },
  {
   "cell_type": "markdown",
   "id": "041233ab",
   "metadata": {
    "papermill": {
     "duration": 0.011999,
     "end_time": "2022-11-02T01:24:03.841025",
     "exception": false,
     "start_time": "2022-11-02T01:24:03.829026",
     "status": "completed"
    },
    "tags": []
   },
   "source": [
    "## Preproceso -  Data"
   ]
  },
  {
   "cell_type": "code",
   "execution_count": 15,
   "id": "54f48dbf",
   "metadata": {
    "execution": {
     "iopub.execute_input": "2022-11-02T01:24:03.868358Z",
     "iopub.status.busy": "2022-11-02T01:24:03.867967Z"
    },
    "papermill": {
     "duration": null,
     "end_time": null,
     "exception": false,
     "start_time": "2022-11-02T01:24:03.853079",
     "status": "running"
    },
    "tags": []
   },
   "outputs": [
    {
     "name": "stdout",
     "output_type": "stream",
     "text": [
      "self.read False\n",
      "ENTRO PARA CREAR JSON\n",
      "*** Feature extraction started ***\n"
     ]
    },
    {
     "data": {
      "text/html": [
       "\n",
       "              <p>\n",
       "                  Progress: 89% Complete\n",
       "              <p/>            \n",
       "              <progress\n",
       "                  value='439487'\n",
       "                  max='493371',\n",
       "                  style='width: 25%',\n",
       "              >\n",
       "                  439487\n",
       "              </progress>\n",
       "\n",
       "    "
      ],
      "text/plain": [
       "<IPython.core.display.HTML object>"
      ]
     },
     "metadata": {},
     "output_type": "display_data"
    }
   ],
   "source": [
    "%%time\n",
    "df = preprocess_datasets(df)"
   ]
  },
  {
   "cell_type": "code",
   "execution_count": null,
   "id": "ab3215e1",
   "metadata": {
    "papermill": {
     "duration": null,
     "end_time": null,
     "exception": null,
     "start_time": null,
     "status": "pending"
    },
    "tags": []
   },
   "outputs": [],
   "source": [
    "df.shape"
   ]
  },
  {
   "cell_type": "markdown",
   "id": "1936df75",
   "metadata": {
    "papermill": {
     "duration": null,
     "end_time": null,
     "exception": null,
     "start_time": null,
     "status": "pending"
    },
    "tags": []
   },
   "source": [
    "## Modelos"
   ]
  },
  {
   "cell_type": "code",
   "execution_count": null,
   "id": "68dc053f",
   "metadata": {
    "papermill": {
     "duration": null,
     "end_time": null,
     "exception": null,
     "start_time": null,
     "status": "pending"
    },
    "tags": []
   },
   "outputs": [],
   "source": [
    "### Modelo Trend change\n",
    "trend_perc_model = ChangeTrendPercentajeIdentifierWide(**hip_trend)\n",
    "pred_tc = trend_perc_model.predict(df)\n",
    "df['fraud_trend'] = pred_tc.is_fraud_trend_perc\n",
    "### Modelo constante\n",
    "const_model = ConstantConsumptionClassifierWide(**hip_const)\n",
    "pred_cm = const_model.predict(df[cols_consumo])\n",
    "df['fraud_constante'] = pred_cm\n",
    "### Modelos supervisados\n",
    "df['prob_cb'] =  cb_predict_proba(df[cols_for_model])\n",
    "df['prob_lgbm'] = lgbm_predict_proba(df[cols_for_model])\n",
    "df['prob_ffn'] = fnn_predict_proba(df[cols_for_model])\n",
    "df['prob_lstmffn'] = lstm_fnn_predict_proba(df[cols_for_model])\n",
    "### Modelo combinado\n",
    "df['prob_final'] = combinado_model_predict_proba(df)"
   ]
  },
  {
   "cell_type": "markdown",
   "id": "9e8dcffc",
   "metadata": {
    "papermill": {
     "duration": null,
     "end_time": null,
     "exception": null,
     "start_time": null,
     "status": "pending"
    },
    "tags": []
   },
   "source": [
    "## Post - Proceso - Resultado"
   ]
  },
  {
   "cell_type": "code",
   "execution_count": null,
   "id": "06acc0df",
   "metadata": {
    "papermill": {
     "duration": null,
     "end_time": null,
     "exception": null,
     "start_time": null,
     "status": "pending"
    },
    "tags": []
   },
   "outputs": [],
   "source": [
    "df['alerta'] = 'sin_alerta'\n",
    "df.loc[(df.alerta=='sin_alerta')&(df.cant_ceros_12==12),'alerta'] = 'consumo_0'\n",
    "msk_critico = df.prob_final>=th_critico \n",
    "df.loc[(df.alerta=='sin_alerta')&(msk_critico),'alerta'] = 'critico'\n",
    "msk_warning = df.prob_final>=th_warning\n",
    "df.loc[(df.alerta=='sin_alerta')&(msk_warning),'alerta'] = 'warning'\n",
    "df.loc[(df.alerta=='sin_alerta')&(pred_tc.is_fraud_trend_perc==1),'alerta'] = 'cambio_neg_consumo'\n",
    "df.loc[(df.alerta=='sin_alerta')&(pred_cm==1),'alerta'] = 'consumo_constante'\n",
    "df.loc[(df.alerta=='sin_alerta'),'alerta'] = 'normal'"
   ]
  },
  {
   "cell_type": "code",
   "execution_count": null,
   "id": "99c9d402",
   "metadata": {
    "papermill": {
     "duration": null,
     "end_time": null,
     "exception": null,
     "start_time": null,
     "status": "pending"
    },
    "tags": []
   },
   "outputs": [],
   "source": [
    "df[(df.alerta=='normal')][cols_final].to_csv(name_resultado_normales,index=False)\n",
    "df[(df.alerta!='normal')][cols_final].to_csv(name_resultado_anomalias,index=False)"
   ]
  },
  {
   "cell_type": "code",
   "execution_count": null,
   "id": "86b16359",
   "metadata": {
    "papermill": {
     "duration": null,
     "end_time": null,
     "exception": null,
     "start_time": null,
     "status": "pending"
    },
    "tags": []
   },
   "outputs": [],
   "source": [
    "plt.figure(figsize=(8,4))\n",
    "sns.distplot(df.prob_final, label='0')\n",
    "plt.vlines(0.6, ymin=0, ymax=5, color='red', linestyles='dashed')\n",
    "plt.xlabel('score', fontsize=16)\n",
    "plt.ylabel('density', fontsize=16)\n",
    "plt.legend()\n",
    "plt.grid()"
   ]
  },
  {
   "cell_type": "code",
   "execution_count": null,
   "id": "f89c8099",
   "metadata": {
    "papermill": {
     "duration": null,
     "end_time": null,
     "exception": null,
     "start_time": null,
     "status": "pending"
    },
    "tags": []
   },
   "outputs": [],
   "source": [
    "print(\"Fin\")\n",
    "print(\"--- %s seconds ---\" % (time.time() - start_time))"
   ]
  },
  {
   "cell_type": "code",
   "execution_count": null,
   "id": "47a5d5cf",
   "metadata": {
    "papermill": {
     "duration": null,
     "end_time": null,
     "exception": null,
     "start_time": null,
     "status": "pending"
    },
    "tags": []
   },
   "outputs": [],
   "source": []
  }
 ],
 "metadata": {
  "kernelspec": {
   "display_name": "conda_tensorflow2_p36",
   "language": "python",
   "name": "conda_tensorflow2_p36"
  },
  "language_info": {
   "codemirror_mode": {
    "name": "ipython",
    "version": 3
   },
   "file_extension": ".py",
   "mimetype": "text/x-python",
   "name": "python",
   "nbconvert_exporter": "python",
   "pygments_lexer": "ipython3",
   "version": "3.6.13"
  },
  "papermill": {
   "default_parameters": {},
   "duration": null,
   "end_time": null,
   "environment_variables": {},
   "exception": null,
   "input_path": "main_evaluation.ipynb",
   "output_path": "runs/main_evaluation_02.ipynb",
   "parameters": {},
   "start_time": "2022-11-02T01:23:50.686318",
   "version": "2.3.4"
  }
 },
 "nbformat": 4,
 "nbformat_minor": 5
}