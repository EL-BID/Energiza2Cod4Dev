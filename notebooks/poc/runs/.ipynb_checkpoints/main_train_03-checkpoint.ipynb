{
 "cells": [
  {
   "cell_type": "markdown",
   "id": "4cd4d1e3",
   "metadata": {
    "papermill": {
     "duration": 0.014256,
     "end_time": "2022-11-02T22:19:27.266581",
     "exception": false,
     "start_time": "2022-11-02T22:19:27.252325",
     "status": "completed"
    },
    "tags": []
   },
   "source": [
    "# Evaluacion EEGSA - Guatemala\n",
    "\n",
    "Evaluar en dataset antes de dejar solo los normales : epmaps_dataclean_consolidado_clean_april_2022.parquet"
   ]
  },
  {
   "cell_type": "code",
   "execution_count": 1,
   "id": "4b57a687",
   "metadata": {
    "execution": {
     "iopub.execute_input": "2022-11-02T22:19:27.302491Z",
     "iopub.status.busy": "2022-11-02T22:19:27.302053Z",
     "iopub.status.idle": "2022-11-02T22:19:44.375380Z",
     "shell.execute_reply": "2022-11-02T22:19:44.374967Z"
    },
    "papermill": {
     "duration": 17.096904,
     "end_time": "2022-11-02T22:19:44.375484",
     "exception": false,
     "start_time": "2022-11-02T22:19:27.278580",
     "status": "completed"
    },
    "tags": []
   },
   "outputs": [],
   "source": [
    "import os\n",
    "import pandas as pd\n",
    "import numpy as np\n",
    "import matplotlib.pyplot as plt\n",
    "import seaborn as sns\n",
    "import warnings\n",
    "import tensorflow as tf\n",
    "from datetime import datetime\n",
    "from tensorflow.keras.preprocessing.sequence import TimeseriesGenerator\n",
    "from  tqdm.notebook import  tqdm\n",
    "%config IPCompleter.use_jedi = False\n",
    "from sklearn.base import BaseEstimator, TransformerMixin\n",
    "from statsmodels.tsa.api import SimpleExpSmoothing\n",
    "from sklearn.linear_model import LinearRegression\n",
    "from sklearn.model_selection import train_test_split\n",
    "import statsmodels.api as sm\n",
    "from itertools import groupby\n",
    "import plotly.express as px\n",
    "import plotly.graph_objects as go\n",
    "warnings.filterwarnings('ignore')\n",
    "import sys\n",
    "import pickle\n",
    "from sklearn.metrics import mean_squared_error\n",
    "# from tdigest import TDigest\n",
    "import boto3\n",
    "from sklearn.base import ClassifierMixin\n",
    "import joblib\n",
    "import os\n",
    "import sys\n",
    "from sklearn.pipeline import Pipeline\n",
    "from sklearn.preprocessing import OrdinalEncoder\n",
    "from sklearn.compose import ColumnTransformer\n",
    "from sklearn.linear_model import LogisticRegression\n",
    "from sklearn.metrics import roc_auc_score,average_precision_score\n",
    "import time"
   ]
  },
  {
   "cell_type": "code",
   "execution_count": 2,
   "id": "a009d03e",
   "metadata": {
    "execution": {
     "iopub.execute_input": "2022-11-02T22:19:44.402506Z",
     "iopub.status.busy": "2022-11-02T22:19:44.402101Z",
     "iopub.status.idle": "2022-11-02T22:19:44.403774Z",
     "shell.execute_reply": "2022-11-02T22:19:44.403445Z"
    },
    "papermill": {
     "duration": 0.016342,
     "end_time": "2022-11-02T22:19:44.403859",
     "exception": false,
     "start_time": "2022-11-02T22:19:44.387517",
     "status": "completed"
    },
    "tags": []
   },
   "outputs": [],
   "source": [
    "warnings.filterwarnings('ignore')\n",
    "pd.options.display.float_format = '{:.5f}'.format #evita que muestre notacion cientifica\n",
    "pd.set_option('display.max_colwidth', None)\n",
    "# pd.set_option('display.max_rows', None)\n",
    "pd.set_option('display.max_columns', None)"
   ]
  },
  {
   "cell_type": "code",
   "execution_count": 3,
   "id": "9db06130",
   "metadata": {
    "execution": {
     "iopub.execute_input": "2022-11-02T22:19:44.430046Z",
     "iopub.status.busy": "2022-11-02T22:19:44.429659Z",
     "iopub.status.idle": "2022-11-02T22:19:44.496852Z",
     "shell.execute_reply": "2022-11-02T22:19:44.496411Z"
    },
    "papermill": {
     "duration": 0.08147,
     "end_time": "2022-11-02T22:19:44.496949",
     "exception": false,
     "start_time": "2022-11-02T22:19:44.415479",
     "status": "completed"
    },
    "tags": []
   },
   "outputs": [],
   "source": [
    "%load_ext autoreload\n",
    "%autoreload 2"
   ]
  },
  {
   "cell_type": "code",
   "execution_count": 4,
   "id": "aaa94e8d",
   "metadata": {
    "execution": {
     "iopub.execute_input": "2022-11-02T22:19:44.530557Z",
     "iopub.status.busy": "2022-11-02T22:19:44.523101Z",
     "iopub.status.idle": "2022-11-02T22:19:44.561835Z",
     "shell.execute_reply": "2022-11-02T22:19:44.562141Z"
    },
    "papermill": {
     "duration": 0.053291,
     "end_time": "2022-11-02T22:19:44.562250",
     "exception": false,
     "start_time": "2022-11-02T22:19:44.508959",
     "status": "completed"
    },
    "tags": []
   },
   "outputs": [],
   "source": [
    "module_path = os.path.abspath(os.path.join('../../'))\n",
    "if module_path not in sys.path:\n",
    "    sys.path.append(module_path)"
   ]
  },
  {
   "cell_type": "code",
   "execution_count": 5,
   "id": "d8934898",
   "metadata": {
    "execution": {
     "iopub.execute_input": "2022-11-02T22:19:44.589544Z",
     "iopub.status.busy": "2022-11-02T22:19:44.588952Z",
     "iopub.status.idle": "2022-11-02T22:19:46.360686Z",
     "shell.execute_reply": "2022-11-02T22:19:46.360288Z"
    },
    "papermill": {
     "duration": 1.786603,
     "end_time": "2022-11-02T22:19:46.360799",
     "exception": false,
     "start_time": "2022-11-02T22:19:44.574196",
     "status": "completed"
    },
    "tags": []
   },
   "outputs": [],
   "source": [
    "from src.preprocessing.preprocessing  import data_wrangling, ToDummy, TeEncoder, CardinalityReducer,build_feature_engeniering_pipeline\n",
    "# from src.preprocessing.preprocessing  import TsfelVars,ExtraVars, \n",
    "from src.modeling.simple_models import ChangeTrendPercentajeIdentifierWide,ConstantConsumptionClassifierWide\n",
    "from src.modeling.supervided_models import LGBMModel, NNModel, LSTMNNModel, CATModel\n",
    "from src.conf.config  import Config"
   ]
  },
  {
   "cell_type": "markdown",
   "id": "d508c5eb",
   "metadata": {
    "papermill": {
     "duration": 0.011982,
     "end_time": "2022-11-02T22:19:46.385071",
     "exception": false,
     "start_time": "2022-11-02T22:19:46.373089",
     "status": "completed"
    },
    "tags": []
   },
   "source": [
    "## Train - DataSet"
   ]
  },
  {
   "cell_type": "code",
   "execution_count": 6,
   "id": "290d692b",
   "metadata": {
    "execution": {
     "iopub.execute_input": "2022-11-02T22:19:46.412407Z",
     "iopub.status.busy": "2022-11-02T22:19:46.411629Z",
     "iopub.status.idle": "2022-11-02T22:19:46.452697Z",
     "shell.execute_reply": "2022-11-02T22:19:46.452351Z"
    },
    "papermill": {
     "duration": 0.055648,
     "end_time": "2022-11-02T22:19:46.452810",
     "exception": false,
     "start_time": "2022-11-02T22:19:46.397162",
     "status": "completed"
    },
    "tags": []
   },
   "outputs": [],
   "source": [
    "# s3 = boto3.resource('s3')\n",
    "# bucket = s3.Bucket('iadbprod-ine-tsp-analyticaldata')"
   ]
  },
  {
   "cell_type": "code",
   "execution_count": 7,
   "id": "d961ca24",
   "metadata": {
    "execution": {
     "iopub.execute_input": "2022-11-02T22:19:46.479944Z",
     "iopub.status.busy": "2022-11-02T22:19:46.478944Z",
     "iopub.status.idle": "2022-11-02T22:19:46.518300Z",
     "shell.execute_reply": "2022-11-02T22:19:46.518627Z"
    },
    "papermill": {
     "duration": 0.053699,
     "end_time": "2022-11-02T22:19:46.518729",
     "exception": false,
     "start_time": "2022-11-02T22:19:46.465030",
     "status": "completed"
    },
    "tags": []
   },
   "outputs": [],
   "source": [
    "Config.init_config()"
   ]
  },
  {
   "cell_type": "code",
   "execution_count": 8,
   "id": "027cd97f",
   "metadata": {
    "execution": {
     "iopub.execute_input": "2022-11-02T22:19:46.548173Z",
     "iopub.status.busy": "2022-11-02T22:19:46.547181Z",
     "iopub.status.idle": "2022-11-02T22:19:46.622107Z",
     "shell.execute_reply": "2022-11-02T22:19:46.621764Z"
    },
    "papermill": {
     "duration": 0.091367,
     "end_time": "2022-11-02T22:19:46.622203",
     "exception": false,
     "start_time": "2022-11-02T22:19:46.530836",
     "status": "completed"
    },
    "tags": []
   },
   "outputs": [],
   "source": [
    "DATA_PATH = Config.get('workspace').get('data_path')\n",
    "MODEL_PATH = Config.get('workspace').get('model_path')\n",
    "periodo = Config.get('model').get('periodo')\n",
    "cols_derivadas = pd.read_csv(f'{MODEL_PATH}features_by_const_boruta2_{periodo}.csv')['0'].tolist()\n",
    "cols_consumo = [f'{i}_anterior' for i in range(periodo, 0, -1)]\n",
    "cols_uc = Config.get('model').get('cols_uc')\n",
    "tsfel_names_path = f'{MODEL_PATH}/'+Config.get('model').get('tsfel_names_path')\n",
    "\n",
    "filename = Config.get('data').get('input_data')\n",
    "hip_lgbm = Config.get('model').get('hip_lgbm') \n",
    "hip_cat = Config.get('model').get('hip_cat') \n",
    "hip_trend = Config.get('model').get('hip_trend') \n",
    "hip_const = Config.get('model').get('hip_const')\n",
    "BATCH_SIZE = Config.get('model').get('hip_NN').get('batch_size') \n",
    "cols_for_model = cols_uc +cols_consumo+cols_derivadas\n",
    "cols_comb_model = ['prob_cb','prob_lgbm','prob_ffn','prob_lstmffn','fraud_constante','fraud_trend']\n",
    "\n",
    "\n",
    "name_model_fraud_lgbm = f'{MODEL_PATH}/model_fraud_lgbm.pkl'\n",
    "name_model_fraud_cat = f'{MODEL_PATH}/model_fraud_cat.pkl'\n",
    "name_model_fraud_nn = f'{MODEL_PATH}/model_fraud_nn.h5'\n",
    "name_model_fraud_lstmnn = f'{MODEL_PATH}/model_fraud_lstmnn.h5'\n",
    "name_pipe_features = f'{MODEL_PATH}/pipe_features.pkl'\n",
    "name_pipe_spent = f'{MODEL_PATH}/pipe_spent.pkl'\n",
    "name_model_fraud_comb  = f'{MODEL_PATH}/model_fraud_comb.pkl'\n"
   ]
  },
  {
   "cell_type": "code",
   "execution_count": 9,
   "id": "662ea4dc",
   "metadata": {
    "execution": {
     "iopub.execute_input": "2022-11-02T22:19:46.652689Z",
     "iopub.status.busy": "2022-11-02T22:19:46.652011Z",
     "iopub.status.idle": "2022-11-02T22:19:46.693226Z",
     "shell.execute_reply": "2022-11-02T22:19:46.692889Z"
    },
    "papermill": {
     "duration": 0.05791,
     "end_time": "2022-11-02T22:19:46.693320",
     "exception": false,
     "start_time": "2022-11-02T22:19:46.635410",
     "status": "completed"
    },
    "tags": []
   },
   "outputs": [],
   "source": [
    "def load_datasets():\n",
    "    df = pd.read_parquet(DATA_PATH+filename)\n",
    "    return df\n",
    "\n",
    "def preprocess_datasets(df):\n",
    "    ## Esto deberia estar en el ETL\n",
    "    df.rename(columns={'id_usuario':'uc'}, inplace=True)\n",
    "    df.rename(columns={'id':'index'}, inplace=True)\n",
    "    df.rename(columns={'is_fraud':'target'}, inplace=True)\n",
    "    pipe_feature_eng = build_feature_engeniering_pipeline(tsfel_names_path,num_periodos= periodo)\n",
    "    df = data_wrangling(df,periodo)\n",
    "    df = pipe_feature_eng.fit_transform(df, None)\n",
    "    return df\n",
    "\n",
    "def built_modelo_combinado(df):\n",
    "    X_train_0 = df[df.target==0].copy()\n",
    "    pos_size = len(df[df.target==1])\n",
    "    X_train_0 = X_train_0.sample(int(pos_size*1))\n",
    "\n",
    "    X_train = X_train_0.append(df[df.target==1]).sample(frac=1.0)\n",
    "    y_train = X_train.target.copy()\n",
    "    X_train = X_train[cols_comb_model]\n",
    "    lr_comb_model = LogisticRegression(C=1.76, solver='liblinear')\n",
    "    lr_comb_model.fit(X_train, y_train)\n",
    "    return lr_comb_model\n",
    "\n",
    "def save_model(model,file_name,is_pkl=True):\n",
    "    if is_pkl:\n",
    "        joblib.dump(model, file_name)\n",
    "    else:\n",
    "        model.save(file_name)"
   ]
  },
  {
   "cell_type": "code",
   "execution_count": 10,
   "id": "a549de9f",
   "metadata": {
    "execution": {
     "iopub.execute_input": "2022-11-02T22:19:46.719998Z",
     "iopub.status.busy": "2022-11-02T22:19:46.719618Z",
     "iopub.status.idle": "2022-11-02T22:19:46.758143Z",
     "shell.execute_reply": "2022-11-02T22:19:46.757824Z"
    },
    "papermill": {
     "duration": 0.052635,
     "end_time": "2022-11-02T22:19:46.758228",
     "exception": false,
     "start_time": "2022-11-02T22:19:46.705593",
     "status": "completed"
    },
    "tags": []
   },
   "outputs": [],
   "source": [
    "start_time = time.time()"
   ]
  },
  {
   "cell_type": "code",
   "execution_count": 11,
   "id": "70813256",
   "metadata": {
    "execution": {
     "iopub.execute_input": "2022-11-02T22:19:46.789392Z",
     "iopub.status.busy": "2022-11-02T22:19:46.784809Z",
     "iopub.status.idle": "2022-11-02T22:19:51.434381Z",
     "shell.execute_reply": "2022-11-02T22:19:51.434031Z"
    },
    "papermill": {
     "duration": 4.663911,
     "end_time": "2022-11-02T22:19:51.434478",
     "exception": false,
     "start_time": "2022-11-02T22:19:46.770567",
     "status": "completed"
    },
    "tags": []
   },
   "outputs": [
    {
     "name": "stdout",
     "output_type": "stream",
     "text": [
      "CPU times: user 1.48 s, sys: 555 ms, total: 2.03 s\n",
      "Wall time: 4.6 s\n"
     ]
    },
    {
     "data": {
      "text/plain": [
       "(601542, 37)"
      ]
     },
     "execution_count": 11,
     "metadata": {},
     "output_type": "execute_result"
    }
   ],
   "source": [
    "%%time\n",
    "df = load_datasets()\n",
    "df.shape"
   ]
  },
  {
   "cell_type": "code",
   "execution_count": 12,
   "id": "56d59b19",
   "metadata": {
    "execution": {
     "iopub.execute_input": "2022-11-02T22:19:51.462599Z",
     "iopub.status.busy": "2022-11-02T22:19:51.462199Z",
     "iopub.status.idle": "2022-11-02T22:19:51.503318Z",
     "shell.execute_reply": "2022-11-02T22:19:51.503626Z"
    },
    "papermill": {
     "duration": 0.056352,
     "end_time": "2022-11-02T22:19:51.503741",
     "exception": false,
     "start_time": "2022-11-02T22:19:51.447389",
     "status": "completed"
    },
    "tags": []
   },
   "outputs": [],
   "source": [
    "# df = df.sample(10000)"
   ]
  },
  {
   "cell_type": "code",
   "execution_count": 13,
   "id": "d16aa023",
   "metadata": {
    "execution": {
     "iopub.execute_input": "2022-11-02T22:19:51.536586Z",
     "iopub.status.busy": "2022-11-02T22:19:51.531463Z",
     "iopub.status.idle": "2022-11-02T22:19:51.572313Z",
     "shell.execute_reply": "2022-11-02T22:19:51.572635Z"
    },
    "papermill": {
     "duration": 0.056146,
     "end_time": "2022-11-02T22:19:51.572757",
     "exception": false,
     "start_time": "2022-11-02T22:19:51.516611",
     "status": "completed"
    },
    "tags": []
   },
   "outputs": [],
   "source": [
    "# Preprocess Data"
   ]
  },
  {
   "cell_type": "code",
   "execution_count": 14,
   "id": "9d3b7fc1",
   "metadata": {
    "execution": {
     "iopub.execute_input": "2022-11-02T22:19:51.601107Z",
     "iopub.status.busy": "2022-11-02T22:19:51.600651Z",
     "iopub.status.idle": "2022-11-03T01:37:23.907938Z",
     "shell.execute_reply": "2022-11-03T01:37:23.908316Z"
    },
    "papermill": {
     "duration": 11852.322803,
     "end_time": "2022-11-03T01:37:23.908432",
     "exception": false,
     "start_time": "2022-11-02T22:19:51.585629",
     "status": "completed"
    },
    "tags": []
   },
   "outputs": [
    {
     "name": "stdout",
     "output_type": "stream",
     "text": [
      "self.read False\n",
      "ENTRO PARA CREAR JSON\n",
      "*** Feature extraction started ***\n"
     ]
    },
    {
     "data": {
      "text/html": [
       "\n",
       "              <p>\n",
       "                  Progress: 100% Complete\n",
       "              <p/>            \n",
       "              <progress\n",
       "                  value='601542'\n",
       "                  max='601542',\n",
       "                  style='width: 25%',\n",
       "              >\n",
       "                  601542\n",
       "              </progress>\n",
       "\n",
       "    "
      ],
      "text/plain": [
       "<IPython.core.display.HTML object>"
      ]
     },
     "metadata": {},
     "output_type": "display_data"
    },
    {
     "name": "stdout",
     "output_type": "stream",
     "text": [
      "\n",
      "*** Feature extraction finished ***\n",
      "df_result index: (601542,)\n",
      "df_tsfel (601542, 21)\n",
      "CPU times: user 2h 9min 21s, sys: 1h 11min 2s, total: 3h 20min 24s\n",
      "Wall time: 3h 17min 32s\n"
     ]
    }
   ],
   "source": [
    "%%time\n",
    "df = preprocess_datasets(df)"
   ]
  },
  {
   "cell_type": "code",
   "execution_count": 15,
   "id": "a022a310",
   "metadata": {
    "execution": {
     "iopub.execute_input": "2022-11-03T01:37:23.942343Z",
     "iopub.status.busy": "2022-11-03T01:37:23.939025Z",
     "iopub.status.idle": "2022-11-03T01:37:23.984999Z",
     "shell.execute_reply": "2022-11-03T01:37:23.984612Z"
    },
    "papermill": {
     "duration": 0.062682,
     "end_time": "2022-11-03T01:37:23.985102",
     "exception": false,
     "start_time": "2022-11-03T01:37:23.922420",
     "status": "completed"
    },
    "tags": []
   },
   "outputs": [],
   "source": [
    "## Train"
   ]
  },
  {
   "cell_type": "code",
   "execution_count": 16,
   "id": "b3a0554e",
   "metadata": {
    "execution": {
     "iopub.execute_input": "2022-11-03T01:37:24.016493Z",
     "iopub.status.busy": "2022-11-03T01:37:24.016095Z",
     "iopub.status.idle": "2022-11-03T01:37:25.428604Z",
     "shell.execute_reply": "2022-11-03T01:37:25.428973Z"
    },
    "papermill": {
     "duration": 1.429677,
     "end_time": "2022-11-03T01:37:25.429099",
     "exception": false,
     "start_time": "2022-11-03T01:37:23.999422",
     "status": "completed"
    },
    "tags": []
   },
   "outputs": [],
   "source": [
    "df = df.sample(frac=1.0)\n",
    "df_train, df_val, y_train, y_val = train_test_split(df,df.target, test_size=0.2, random_state=42)"
   ]
  },
  {
   "cell_type": "code",
   "execution_count": 17,
   "id": "ef13494b",
   "metadata": {
    "execution": {
     "iopub.execute_input": "2022-11-03T01:37:25.460966Z",
     "iopub.status.busy": "2022-11-03T01:37:25.460526Z",
     "iopub.status.idle": "2022-11-03T01:37:30.302543Z",
     "shell.execute_reply": "2022-11-03T01:37:30.302068Z"
    },
    "papermill": {
     "duration": 4.858934,
     "end_time": "2022-11-03T01:37:30.302643",
     "exception": false,
     "start_time": "2022-11-03T01:37:25.443709",
     "status": "completed"
    },
    "tags": []
   },
   "outputs": [],
   "source": [
    "lgbm_model = LGBMModel(cols_for_model,hip_lgbm)\n",
    "lgbm_final_model = lgbm_model.train(df_train,y_train)"
   ]
  },
  {
   "cell_type": "code",
   "execution_count": 18,
   "id": "c11043d9",
   "metadata": {
    "execution": {
     "iopub.execute_input": "2022-11-03T01:37:30.334179Z",
     "iopub.status.busy": "2022-11-03T01:37:30.333647Z",
     "iopub.status.idle": "2022-11-03T01:37:38.294237Z",
     "shell.execute_reply": "2022-11-03T01:37:38.293826Z"
    },
    "papermill": {
     "duration": 7.977322,
     "end_time": "2022-11-03T01:37:38.294337",
     "exception": false,
     "start_time": "2022-11-03T01:37:30.317015",
     "status": "completed"
    },
    "tags": []
   },
   "outputs": [],
   "source": [
    "cat_model = CATModel(cols_for_model,hip_cat)\n",
    "cat_final_model = cat_model.train(df_train,y_train)"
   ]
  },
  {
   "cell_type": "code",
   "execution_count": 19,
   "id": "eca5ee11",
   "metadata": {
    "execution": {
     "iopub.execute_input": "2022-11-03T01:37:38.326790Z",
     "iopub.status.busy": "2022-11-03T01:37:38.326324Z",
     "iopub.status.idle": "2022-11-03T01:37:57.998578Z",
     "shell.execute_reply": "2022-11-03T01:37:57.998161Z"
    },
    "papermill": {
     "duration": 19.68979,
     "end_time": "2022-11-03T01:37:57.998679",
     "exception": false,
     "start_time": "2022-11-03T01:37:38.308889",
     "status": "completed"
    },
    "tags": []
   },
   "outputs": [
    {
     "name": "stdout",
     "output_type": "stream",
     "text": [
      "Restoring model weights from the end of the best epoch.\n",
      "Epoch 00090: early stopping\n"
     ]
    }
   ],
   "source": [
    "features_names = cols_uc + cols_derivadas\n",
    "spents_names = cols_consumo\n",
    "nn_model = NNModel(features_names,spents_names)\n",
    "rnn_final_model,pipe_features,pipe_spent = nn_model.train(df_train,y_train)"
   ]
  },
  {
   "cell_type": "code",
   "execution_count": 20,
   "id": "3212a95a",
   "metadata": {
    "execution": {
     "iopub.execute_input": "2022-11-03T01:37:58.045390Z",
     "iopub.status.busy": "2022-11-03T01:37:58.032055Z",
     "iopub.status.idle": "2022-11-03T01:42:22.792217Z",
     "shell.execute_reply": "2022-11-03T01:42:22.792566Z"
    },
    "papermill": {
     "duration": 264.77918,
     "end_time": "2022-11-03T01:42:22.792682",
     "exception": false,
     "start_time": "2022-11-03T01:37:58.013502",
     "status": "completed"
    },
    "tags": []
   },
   "outputs": [
    {
     "name": "stdout",
     "output_type": "stream",
     "text": [
      "Restoring model weights from the end of the best epoch.\n",
      "Epoch 00263: early stopping\n"
     ]
    }
   ],
   "source": [
    "features_names = cols_uc + cols_derivadas\n",
    "spents_names = cols_consumo\n",
    "lstm_nn_model = LSTMNNModel(features_names,spents_names)\n",
    "lstm_rnn_final_model,pipe_features,pipe_spent = lstm_nn_model.train(df_train,y_train)"
   ]
  },
  {
   "cell_type": "code",
   "execution_count": 21,
   "id": "865ba0fc",
   "metadata": {
    "execution": {
     "iopub.execute_input": "2022-11-03T01:42:22.825639Z",
     "iopub.status.busy": "2022-11-03T01:42:22.825213Z",
     "iopub.status.idle": "2022-11-03T01:42:22.866520Z",
     "shell.execute_reply": "2022-11-03T01:42:22.866096Z"
    },
    "papermill": {
     "duration": 0.059008,
     "end_time": "2022-11-03T01:42:22.866613",
     "exception": false,
     "start_time": "2022-11-03T01:42:22.807605",
     "status": "completed"
    },
    "tags": []
   },
   "outputs": [],
   "source": [
    "trend_perc_model = ChangeTrendPercentajeIdentifierWide(**hip_trend)\n",
    "const_model = ConstantConsumptionClassifierWide(**hip_const)"
   ]
  },
  {
   "cell_type": "code",
   "execution_count": 22,
   "id": "e83e4ec9",
   "metadata": {
    "execution": {
     "iopub.execute_input": "2022-11-03T01:42:22.901103Z",
     "iopub.status.busy": "2022-11-03T01:42:22.900659Z",
     "iopub.status.idle": "2022-11-03T01:42:29.528251Z",
     "shell.execute_reply": "2022-11-03T01:42:29.527818Z"
    },
    "papermill": {
     "duration": 6.646628,
     "end_time": "2022-11-03T01:42:29.528348",
     "exception": false,
     "start_time": "2022-11-03T01:42:22.881720",
     "status": "completed"
    },
    "tags": []
   },
   "outputs": [],
   "source": [
    "df_val['prob_lgbm'] = lgbm_final_model.predict_proba(df_val[cols_for_model])[:,1]\n",
    "df_val['prob_cb'] = cat_final_model.predict_proba(df_val[cols_for_model])[:,1]\n",
    "\n",
    "X_features = pipe_features.transform(df_val[features_names])\n",
    "X_spents = pipe_spent.transform(df_val[spents_names])\n",
    "X = np.concatenate([X_features,X_spents],axis=1)\n",
    "df_val['prob_ffn'] = rnn_final_model.predict(X, batch_size=BATCH_SIZE)[:,0]\n",
    "\n",
    "X_features = pipe_features.transform(df_val[features_names])\n",
    "X_spents = pipe_spent.transform(df_val[spents_names])\n",
    "X_spents = X_spents.reshape((X_spents.shape[0],periodo,1))\n",
    "df_val['prob_lstmffn'] = lstm_rnn_final_model.predict([X_spents, X_features],batch_size=BATCH_SIZE)[:,0]\n",
    "\n",
    "pred_tc = trend_perc_model.predict(df_val)\n",
    "df_val['fraud_trend'] = pred_tc.is_fraud_trend_perc\n",
    "\n",
    "pred_cm = const_model.predict(df_val[cols_consumo])\n",
    "df_val['fraud_constante'] = pred_cm"
   ]
  },
  {
   "cell_type": "code",
   "execution_count": 23,
   "id": "d88d82f6",
   "metadata": {
    "execution": {
     "iopub.execute_input": "2022-11-03T01:42:29.563150Z",
     "iopub.status.busy": "2022-11-03T01:42:29.560572Z",
     "iopub.status.idle": "2022-11-03T01:42:29.744280Z",
     "shell.execute_reply": "2022-11-03T01:42:29.743906Z"
    },
    "papermill": {
     "duration": 0.200747,
     "end_time": "2022-11-03T01:42:29.744376",
     "exception": false,
     "start_time": "2022-11-03T01:42:29.543629",
     "status": "completed"
    },
    "tags": []
   },
   "outputs": [],
   "source": [
    "lr_comb_model = built_modelo_combinado(df_val)"
   ]
  },
  {
   "cell_type": "code",
   "execution_count": 24,
   "id": "5c10ed1c",
   "metadata": {
    "execution": {
     "iopub.execute_input": "2022-11-03T01:42:29.781171Z",
     "iopub.status.busy": "2022-11-03T01:42:29.779919Z",
     "iopub.status.idle": "2022-11-03T01:42:29.993551Z",
     "shell.execute_reply": "2022-11-03T01:42:29.993098Z"
    },
    "papermill": {
     "duration": 0.233981,
     "end_time": "2022-11-03T01:42:29.993648",
     "exception": false,
     "start_time": "2022-11-03T01:42:29.759667",
     "status": "completed"
    },
    "tags": []
   },
   "outputs": [],
   "source": [
    "save_model(lgbm_final_model,name_model_fraud_lgbm)\n",
    "save_model(cat_final_model,name_model_fraud_cat)\n",
    "save_model(pipe_features,name_pipe_features)\n",
    "save_model(pipe_spent,name_pipe_spent)\n",
    "save_model(rnn_final_model,name_model_fraud_nn,False)\n",
    "save_model(lstm_rnn_final_model,name_model_fraud_lstmnn,False)\n",
    "save_model(lr_comb_model,name_model_fraud_comb)"
   ]
  },
  {
   "cell_type": "code",
   "execution_count": 25,
   "id": "b9d11570",
   "metadata": {
    "execution": {
     "iopub.execute_input": "2022-11-03T01:42:30.031865Z",
     "iopub.status.busy": "2022-11-03T01:42:30.028060Z",
     "iopub.status.idle": "2022-11-03T01:42:30.084223Z",
     "shell.execute_reply": "2022-11-03T01:42:30.084920Z"
    },
    "papermill": {
     "duration": 0.076094,
     "end_time": "2022-11-03T01:42:30.085121",
     "exception": false,
     "start_time": "2022-11-03T01:42:30.009027",
     "status": "completed"
    },
    "tags": []
   },
   "outputs": [],
   "source": [
    "y_pred_comb = lr_comb_model.predict_proba(df_val[cols_comb_model])[:,1]\n",
    "df_val['prob_final'] = y_pred_comb"
   ]
  },
  {
   "cell_type": "code",
   "execution_count": 26,
   "id": "af5c8557",
   "metadata": {
    "execution": {
     "iopub.execute_input": "2022-11-03T01:42:30.163836Z",
     "iopub.status.busy": "2022-11-03T01:42:30.163406Z",
     "iopub.status.idle": "2022-11-03T01:42:30.253987Z",
     "shell.execute_reply": "2022-11-03T01:42:30.253656Z"
    },
    "papermill": {
     "duration": 0.135083,
     "end_time": "2022-11-03T01:42:30.254083",
     "exception": false,
     "start_time": "2022-11-03T01:42:30.119000",
     "status": "completed"
    },
    "tags": []
   },
   "outputs": [
    {
     "name": "stdout",
     "output_type": "stream",
     "text": [
      "AUC Test:  0.720\n",
      "AP Test:  0.078\n"
     ]
    }
   ],
   "source": [
    "print(\"AUC Test:  %.3f\" %  roc_auc_score(y_val,y_pred_comb))\n",
    "print(\"AP Test:  %.3f\" %  average_precision_score(y_val,y_pred_comb,average='weighted'))"
   ]
  },
  {
   "cell_type": "code",
   "execution_count": 27,
   "id": "eab839eb",
   "metadata": {
    "execution": {
     "iopub.execute_input": "2022-11-03T01:42:30.308514Z",
     "iopub.status.busy": "2022-11-03T01:42:30.297746Z",
     "iopub.status.idle": "2022-11-03T01:42:31.405082Z",
     "shell.execute_reply": "2022-11-03T01:42:31.405441Z"
    },
    "papermill": {
     "duration": 1.135833,
     "end_time": "2022-11-03T01:42:31.405558",
     "exception": false,
     "start_time": "2022-11-03T01:42:30.269725",
     "status": "completed"
    },
    "tags": []
   },
   "outputs": [
    {
     "data": {
      "image/png": "[encoded data removed]",
      "text/plain": [
       "<Figure size 576x288 with 1 Axes>"
      ]
     },
     "metadata": {
      "needs_background": "light"
     },
     "output_type": "display_data"
    }
   ],
   "source": [
    "plt.figure(figsize=(8,4))\n",
    "sns.distplot(df_val[df_val.target==0].prob_final, label='0')\n",
    "sns.distplot(df_val[df_val.target==1].prob_final, label='1')\n",
    "plt.vlines(0.6, ymin=0, ymax=5, color='red', linestyles='dashed')\n",
    "plt.xlabel('score', fontsize=16)\n",
    "plt.ylabel('density', fontsize=16)\n",
    "plt.legend()\n",
    "plt.grid()"
   ]
  },
  {
   "cell_type": "code",
   "execution_count": 28,
   "id": "c1f2be0c",
   "metadata": {
    "execution": {
     "iopub.execute_input": "2022-11-03T01:42:31.440569Z",
     "iopub.status.busy": "2022-11-03T01:42:31.440174Z",
     "iopub.status.idle": "2022-11-03T01:42:31.481962Z",
     "shell.execute_reply": "2022-11-03T01:42:31.481572Z"
    },
    "papermill": {
     "duration": 0.060167,
     "end_time": "2022-11-03T01:42:31.482052",
     "exception": false,
     "start_time": "2022-11-03T01:42:31.421885",
     "status": "completed"
    },
    "tags": []
   },
   "outputs": [
    {
     "name": "stdout",
     "output_type": "stream",
     "text": [
      "Fin\n",
      "--- 12164.723132133484 seconds ---\n"
     ]
    }
   ],
   "source": [
    "print(\"Fin\")\n",
    "print(\"--- %s seconds ---\" % (time.time() - start_time))"
   ]
  }
 ],
 "metadata": {
  "kernelspec": {
   "display_name": "conda_tensorflow2_p36",
   "language": "python",
   "name": "conda_tensorflow2_p36"
  },
  "language_info": {
   "codemirror_mode": {
    "name": "ipython",
    "version": 3
   },
   "file_extension": ".py",
   "mimetype": "text/x-python",
   "name": "python",
   "nbconvert_exporter": "python",
   "pygments_lexer": "ipython3",
   "version": "3.6.13"
  },
  "papermill": {
   "default_parameters": {},
   "duration": 12188.125927,
   "end_time": "2022-11-03T01:42:33.618827",
   "environment_variables": {},
   "exception": null,
   "input_path": "main_train.ipynb",
   "output_path": "runs/main_train_03.ipynb",
   "parameters": {},
   "start_time": "2022-11-02T22:19:25.492900",
   "version": "2.3.4"
  }
 },
 "nbformat": 4,
 "nbformat_minor": 5
}
