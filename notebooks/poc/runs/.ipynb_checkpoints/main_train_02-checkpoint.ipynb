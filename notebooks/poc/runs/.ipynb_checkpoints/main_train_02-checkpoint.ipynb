{
 "cells": [
  {
   "cell_type": "markdown",
   "id": "186752b5",
   "metadata": {
    "papermill": {
     "duration": 0.017343,
     "end_time": "2022-11-01T21:56:06.831421",
     "exception": false,
     "start_time": "2022-11-01T21:56:06.814078",
     "status": "completed"
    },
    "tags": []
   },
   "source": [
    "# Evaluacion EEGSA - Guatemala\n",
    "\n",
    "Evaluar en dataset antes de dejar solo los normales : epmaps_dataclean_consolidado_clean_april_2022.parquet"
   ]
  },
  {
   "cell_type": "code",
   "execution_count": 1,
   "id": "be33ae16",
   "metadata": {
    "execution": {
     "iopub.execute_input": "2022-11-01T21:56:06.866258Z",
     "iopub.status.busy": "2022-11-01T21:56:06.865854Z",
     "iopub.status.idle": "2022-11-01T21:56:12.078017Z",
     "shell.execute_reply": "2022-11-01T21:56:12.077631Z"
    },
    "papermill": {
     "duration": 5.234772,
     "end_time": "2022-11-01T21:56:12.078125",
     "exception": false,
     "start_time": "2022-11-01T21:56:06.843353",
     "status": "completed"
    },
    "tags": []
   },
   "outputs": [],
   "source": [
    "import os\n",
    "import pandas as pd\n",
    "import numpy as np\n",
    "import matplotlib.pyplot as plt\n",
    "import seaborn as sns\n",
    "import warnings\n",
    "import tensorflow as tf\n",
    "from datetime import datetime\n",
    "from tensorflow.keras.preprocessing.sequence import TimeseriesGenerator\n",
    "from  tqdm.notebook import  tqdm\n",
    "%config IPCompleter.use_jedi = False\n",
    "from sklearn.base import BaseEstimator, TransformerMixin\n",
    "from statsmodels.tsa.api import SimpleExpSmoothing\n",
    "from sklearn.linear_model import LinearRegression\n",
    "from sklearn.model_selection import train_test_split\n",
    "import statsmodels.api as sm\n",
    "from itertools import groupby\n",
    "import plotly.express as px\n",
    "import plotly.graph_objects as go\n",
    "warnings.filterwarnings('ignore')\n",
    "import sys\n",
    "import pickle\n",
    "from sklearn.metrics import mean_squared_error\n",
    "# from tdigest import TDigest\n",
    "import boto3\n",
    "from sklearn.base import ClassifierMixin\n",
    "import joblib\n",
    "import os\n",
    "import sys\n",
    "from sklearn.pipeline import Pipeline\n",
    "from sklearn.preprocessing import OrdinalEncoder\n",
    "from sklearn.compose import ColumnTransformer\n",
    "from sklearn.linear_model import LogisticRegression\n",
    "from sklearn.metrics import roc_auc_score,average_precision_score\n",
    "import time"
   ]
  },
  {
   "cell_type": "code",
   "execution_count": 2,
   "id": "e576cd9e",
   "metadata": {
    "execution": {
     "iopub.execute_input": "2022-11-01T21:56:12.104595Z",
     "iopub.status.busy": "2022-11-01T21:56:12.104212Z",
     "iopub.status.idle": "2022-11-01T21:56:12.105896Z",
     "shell.execute_reply": "2022-11-01T21:56:12.105576Z"
    },
    "papermill": {
     "duration": 0.01596,
     "end_time": "2022-11-01T21:56:12.105974",
     "exception": false,
     "start_time": "2022-11-01T21:56:12.090014",
     "status": "completed"
    },
    "tags": []
   },
   "outputs": [],
   "source": [
    "warnings.filterwarnings('ignore')\n",
    "pd.options.display.float_format = '{:.5f}'.format #evita que muestre notacion cientifica\n",
    "pd.set_option('display.max_colwidth', None)\n",
    "# pd.set_option('display.max_rows', None)\n",
    "pd.set_option('display.max_columns', None)"
   ]
  },
  {
   "cell_type": "code",
   "execution_count": 3,
   "id": "b4ca437f",
   "metadata": {
    "execution": {
     "iopub.execute_input": "2022-11-01T21:56:12.132460Z",
     "iopub.status.busy": "2022-11-01T21:56:12.131537Z",
     "iopub.status.idle": "2022-11-01T21:56:12.195973Z",
     "shell.execute_reply": "2022-11-01T21:56:12.195626Z"
    },
    "papermill": {
     "duration": 0.078652,
     "end_time": "2022-11-01T21:56:12.196055",
     "exception": false,
     "start_time": "2022-11-01T21:56:12.117403",
     "status": "completed"
    },
    "tags": []
   },
   "outputs": [],
   "source": [
    "%load_ext autoreload\n",
    "%autoreload 2"
   ]
  },
  {
   "cell_type": "code",
   "execution_count": 4,
   "id": "b918fe41",
   "metadata": {
    "execution": {
     "iopub.execute_input": "2022-11-01T21:56:12.222062Z",
     "iopub.status.busy": "2022-11-01T21:56:12.221680Z",
     "iopub.status.idle": "2022-11-01T21:56:12.254807Z",
     "shell.execute_reply": "2022-11-01T21:56:12.255105Z"
    },
    "papermill": {
     "duration": 0.047599,
     "end_time": "2022-11-01T21:56:12.255196",
     "exception": false,
     "start_time": "2022-11-01T21:56:12.207597",
     "status": "completed"
    },
    "tags": []
   },
   "outputs": [],
   "source": [
    "module_path = os.path.abspath(os.path.join('../../'))\n",
    "if module_path not in sys.path:\n",
    "    sys.path.append(module_path)"
   ]
  },
  {
   "cell_type": "code",
   "execution_count": 5,
   "id": "23bb7a34",
   "metadata": {
    "execution": {
     "iopub.execute_input": "2022-11-01T21:56:12.281992Z",
     "iopub.status.busy": "2022-11-01T21:56:12.281605Z",
     "iopub.status.idle": "2022-11-01T21:56:14.958681Z",
     "shell.execute_reply": "2022-11-01T21:56:14.958296Z"
    },
    "papermill": {
     "duration": 2.691966,
     "end_time": "2022-11-01T21:56:14.958778",
     "exception": false,
     "start_time": "2022-11-01T21:56:12.266812",
     "status": "completed"
    },
    "tags": []
   },
   "outputs": [],
   "source": [
    "from src.preprocessing.preprocessing  import data_wrangling, ToDummy, TeEncoder, CardinalityReducer,build_feature_engeniering_pipeline\n",
    "# from src.preprocessing.preprocessing  import TsfelVars,ExtraVars, \n",
    "from src.modeling.simple_models import ChangeTrendPercentajeIdentifierWide,ConstantConsumptionClassifierWide\n",
    "from src.modeling.supervided_models import LGBMModel, NNModel, LSTMNNModel, CATModel\n",
    "from src.conf.config  import Config"
   ]
  },
  {
   "cell_type": "markdown",
   "id": "ff8c0bb8",
   "metadata": {
    "papermill": {
     "duration": 0.01176,
     "end_time": "2022-11-01T21:56:14.982717",
     "exception": false,
     "start_time": "2022-11-01T21:56:14.970957",
     "status": "completed"
    },
    "tags": []
   },
   "source": [
    "## Train - DataSet"
   ]
  },
  {
   "cell_type": "code",
   "execution_count": 6,
   "id": "e5eaf1bb",
   "metadata": {
    "execution": {
     "iopub.execute_input": "2022-11-01T21:56:15.008655Z",
     "iopub.status.busy": "2022-11-01T21:56:15.008272Z",
     "iopub.status.idle": "2022-11-01T21:56:15.047035Z",
     "shell.execute_reply": "2022-11-01T21:56:15.046652Z"
    },
    "papermill": {
     "duration": 0.052614,
     "end_time": "2022-11-01T21:56:15.047116",
     "exception": false,
     "start_time": "2022-11-01T21:56:14.994502",
     "status": "completed"
    },
    "tags": []
   },
   "outputs": [],
   "source": [
    "# s3 = boto3.resource('s3')\n",
    "# bucket = s3.Bucket('iadbprod-ine-tsp-analyticaldata')"
   ]
  },
  {
   "cell_type": "code",
   "execution_count": 7,
   "id": "ae8c529c",
   "metadata": {
    "execution": {
     "iopub.execute_input": "2022-11-01T21:56:15.073911Z",
     "iopub.status.busy": "2022-11-01T21:56:15.073528Z",
     "iopub.status.idle": "2022-11-01T21:56:15.110214Z",
     "shell.execute_reply": "2022-11-01T21:56:15.110515Z"
    },
    "papermill": {
     "duration": 0.051422,
     "end_time": "2022-11-01T21:56:15.110608",
     "exception": false,
     "start_time": "2022-11-01T21:56:15.059186",
     "status": "completed"
    },
    "tags": []
   },
   "outputs": [],
   "source": [
    "Config.init_config()"
   ]
  },
  {
   "cell_type": "code",
   "execution_count": 8,
   "id": "d2f7619a",
   "metadata": {
    "execution": {
     "iopub.execute_input": "2022-11-01T21:56:15.138905Z",
     "iopub.status.busy": "2022-11-01T21:56:15.138514Z",
     "iopub.status.idle": "2022-11-01T21:56:15.252567Z",
     "shell.execute_reply": "2022-11-01T21:56:15.252225Z"
    },
    "papermill": {
     "duration": 0.130232,
     "end_time": "2022-11-01T21:56:15.252649",
     "exception": false,
     "start_time": "2022-11-01T21:56:15.122417",
     "status": "completed"
    },
    "tags": []
   },
   "outputs": [],
   "source": [
    "DATA_PATH = Config.get('workspace').get('data_path')\n",
    "MODEL_PATH = Config.get('workspace').get('model_path')\n",
    "periodo = Config.get('model').get('periodo')\n",
    "cols_derivadas = pd.read_csv(f'{MODEL_PATH}features_by_const_boruta2_{periodo}.csv')['0'].tolist()\n",
    "cols_consumo = [f'{i}_anterior' for i in range(periodo, 0, -1)]\n",
    "cols_uc = Config.get('model').get('cols_uc')\n",
    "tsfel_names_path = f'{MODEL_PATH}/'+Config.get('model').get('tsfel_names_path')\n",
    "\n",
    "filename = Config.get('data').get('input_data')\n",
    "hip_lgbm = Config.get('model').get('hip_lgbm') \n",
    "hip_cat = Config.get('model').get('hip_cat') \n",
    "hip_trend = Config.get('model').get('hip_trend') \n",
    "hip_const = Config.get('model').get('hip_const')\n",
    "BATCH_SIZE = Config.get('model').get('hip_NN').get('batch_size') \n",
    "cols_for_model = cols_uc +cols_consumo+cols_derivadas\n",
    "cols_comb_model = ['prob_cb','prob_lgbm','prob_ffn','prob_lstmffn','fraud_constante','fraud_trend']\n",
    "\n",
    "\n",
    "name_model_fraud_lgbm = f'{MODEL_PATH}/model_fraud_lgbm.pkl'\n",
    "name_model_fraud_cat = f'{MODEL_PATH}/model_fraud_cat.pkl'\n",
    "name_model_fraud_nn = f'{MODEL_PATH}/model_fraud_nn.h5'\n",
    "name_model_fraud_lstmnn = f'{MODEL_PATH}/model_fraud_lstmnn.h5'\n",
    "name_pipe_features = f'{MODEL_PATH}/pipe_features.pkl'\n",
    "name_pipe_spent = f'{MODEL_PATH}/pipe_spent.pkl'\n",
    "name_model_fraud_comb  = f'{MODEL_PATH}/model_fraud_comb.pkl'\n"
   ]
  },
  {
   "cell_type": "code",
   "execution_count": 9,
   "id": "a61d3ae0",
   "metadata": {
    "execution": {
     "iopub.execute_input": "2022-11-01T21:56:15.283334Z",
     "iopub.status.busy": "2022-11-01T21:56:15.282195Z",
     "iopub.status.idle": "2022-11-01T21:56:15.318293Z",
     "shell.execute_reply": "2022-11-01T21:56:15.317912Z"
    },
    "papermill": {
     "duration": 0.052859,
     "end_time": "2022-11-01T21:56:15.318371",
     "exception": false,
     "start_time": "2022-11-01T21:56:15.265512",
     "status": "completed"
    },
    "tags": []
   },
   "outputs": [],
   "source": [
    "def load_datasets():\n",
    "    df = pd.read_parquet(DATA_PATH+filename)\n",
    "    return df\n",
    "\n",
    "def preprocess_datasets(df):\n",
    "    ## Esto deberia estar en el ETL\n",
    "    df.rename(columns={'id_usuario':'uc'}, inplace=True)\n",
    "    df.rename(columns={'id':'index'}, inplace=True)\n",
    "    df.rename(columns={'is_fraud':'target'}, inplace=True)\n",
    "    pipe_feature_eng = build_feature_engeniering_pipeline(tsfel_names_path,num_periodos= periodo)\n",
    "    df = data_wrangling(df,periodo)\n",
    "    df = pipe_feature_eng.fit_transform(df, None)\n",
    "    return df\n",
    "\n",
    "def built_modelo_combinado(df):\n",
    "    X_train_0 = df[df.target==0].copy()\n",
    "    pos_size = len(df[df.target==1])\n",
    "    X_train_0 = X_train_0.sample(int(pos_size*1))\n",
    "\n",
    "    X_train = X_train_0.append(df[df.target==1]).sample(frac=1.0)\n",
    "    y_train = X_train.target.copy()\n",
    "    X_train = X_train[cols_comb_model]\n",
    "    lr_comb_model = LogisticRegression(C=1.76, solver='liblinear')\n",
    "    lr_comb_model.fit(X_train, y_train)\n",
    "    return lr_comb_model\n",
    "\n",
    "def save_model(model,file_name,is_pkl=True):\n",
    "    if is_pkl:\n",
    "        joblib.dump(model, file_name)\n",
    "    else:\n",
    "        model.save(file_name)"
   ]
  },
  {
   "cell_type": "code",
   "execution_count": 10,
   "id": "64ed4a4a",
   "metadata": {
    "execution": {
     "iopub.execute_input": "2022-11-01T21:56:15.345869Z",
     "iopub.status.busy": "2022-11-01T21:56:15.345483Z",
     "iopub.status.idle": "2022-11-01T21:56:15.378766Z",
     "shell.execute_reply": "2022-11-01T21:56:15.378383Z"
    },
    "papermill": {
     "duration": 0.048427,
     "end_time": "2022-11-01T21:56:15.378844",
     "exception": false,
     "start_time": "2022-11-01T21:56:15.330417",
     "status": "completed"
    },
    "tags": []
   },
   "outputs": [],
   "source": [
    "start_time = time.time()"
   ]
  },
  {
   "cell_type": "code",
   "execution_count": 11,
   "id": "5650f9b9",
   "metadata": {
    "execution": {
     "iopub.execute_input": "2022-11-01T21:56:15.405729Z",
     "iopub.status.busy": "2022-11-01T21:56:15.405339Z",
     "iopub.status.idle": "2022-11-01T21:56:20.319426Z",
     "shell.execute_reply": "2022-11-01T21:56:20.319084Z"
    },
    "papermill": {
     "duration": 4.928498,
     "end_time": "2022-11-01T21:56:20.319518",
     "exception": false,
     "start_time": "2022-11-01T21:56:15.391020",
     "status": "completed"
    },
    "tags": []
   },
   "outputs": [
    {
     "name": "stdout",
     "output_type": "stream",
     "text": [
      "CPU times: user 1.23 s, sys: 578 ms, total: 1.81 s\n",
      "Wall time: 4.88 s\n"
     ]
    },
    {
     "data": {
      "text/plain": [
       "(601542, 37)"
      ]
     },
     "execution_count": 11,
     "metadata": {},
     "output_type": "execute_result"
    }
   ],
   "source": [
    "%%time\n",
    "df = load_datasets()\n",
    "df.shape"
   ]
  },
  {
   "cell_type": "code",
   "execution_count": 12,
   "id": "07057f5c",
   "metadata": {
    "execution": {
     "iopub.execute_input": "2022-11-01T21:56:20.347585Z",
     "iopub.status.busy": "2022-11-01T21:56:20.347095Z",
     "iopub.status.idle": "2022-11-01T21:56:20.386227Z",
     "shell.execute_reply": "2022-11-01T21:56:20.385844Z"
    },
    "papermill": {
     "duration": 0.054104,
     "end_time": "2022-11-01T21:56:20.386308",
     "exception": false,
     "start_time": "2022-11-01T21:56:20.332204",
     "status": "completed"
    },
    "tags": []
   },
   "outputs": [],
   "source": [
    "# df = df.sample(10000)"
   ]
  },
  {
   "cell_type": "code",
   "execution_count": 13,
   "id": "e0077185",
   "metadata": {
    "execution": {
     "iopub.execute_input": "2022-11-01T21:56:20.414185Z",
     "iopub.status.busy": "2022-11-01T21:56:20.413803Z",
     "iopub.status.idle": "2022-11-01T21:56:20.450760Z",
     "shell.execute_reply": "2022-11-01T21:56:20.450371Z"
    },
    "papermill": {
     "duration": 0.052011,
     "end_time": "2022-11-01T21:56:20.450841",
     "exception": false,
     "start_time": "2022-11-01T21:56:20.398830",
     "status": "completed"
    },
    "tags": []
   },
   "outputs": [],
   "source": [
    "# Preprocess Data"
   ]
  },
  {
   "cell_type": "code",
   "execution_count": 14,
   "id": "8f1947f9",
   "metadata": {
    "execution": {
     "iopub.execute_input": "2022-11-01T21:56:20.478338Z",
     "iopub.status.busy": "2022-11-01T21:56:20.477958Z"
    },
    "papermill": {
     "duration": null,
     "end_time": null,
     "exception": false,
     "start_time": "2022-11-01T21:56:20.463436",
     "status": "running"
    },
    "tags": []
   },
   "outputs": [
    {
     "name": "stdout",
     "output_type": "stream",
     "text": [
      "self.read False\n"
     ]
    },
    {
     "name": "stdout",
     "output_type": "stream",
     "text": [
      "ENTRO PARA CREAR JSON\n",
      "*** Feature extraction started ***\n"
     ]
    },
    {
     "data": {
      "text/html": [
       "\n",
       "              <p>\n",
       "                  Progress: 1% Complete\n",
       "              <p/>            \n",
       "              <progress\n",
       "                  value='6272'\n",
       "                  max='601542',\n",
       "                  style='width: 25%',\n",
       "              >\n",
       "                  6272\n",
       "              </progress>\n",
       "\n",
       "    "
      ],
      "text/plain": [
       "<IPython.core.display.HTML object>"
      ]
     },
     "metadata": {},
     "output_type": "display_data"
    }
   ],
   "source": [
    "%%time\n",
    "df = preprocess_datasets(df)"
   ]
  },
  {
   "cell_type": "code",
   "execution_count": null,
   "id": "abff8374",
   "metadata": {
    "papermill": {
     "duration": null,
     "end_time": null,
     "exception": null,
     "start_time": null,
     "status": "pending"
    },
    "tags": []
   },
   "outputs": [],
   "source": [
    "## Train"
   ]
  },
  {
   "cell_type": "code",
   "execution_count": null,
   "id": "76c80a0c",
   "metadata": {
    "papermill": {
     "duration": null,
     "end_time": null,
     "exception": null,
     "start_time": null,
     "status": "pending"
    },
    "tags": []
   },
   "outputs": [],
   "source": [
    "df = df.sample(frac=1.0)\n",
    "df_train, df_val, y_train, y_val = train_test_split(df,df.target, test_size=0.2, random_state=42)"
   ]
  },
  {
   "cell_type": "code",
   "execution_count": null,
   "id": "1dc03817",
   "metadata": {
    "papermill": {
     "duration": null,
     "end_time": null,
     "exception": null,
     "start_time": null,
     "status": "pending"
    },
    "tags": []
   },
   "outputs": [],
   "source": [
    "lgbm_model = LGBMModel(cols_for_model,hip_lgbm)\n",
    "lgbm_final_model = lgbm_model.train(df_train,y_train)"
   ]
  },
  {
   "cell_type": "code",
   "execution_count": null,
   "id": "bb48e7cf",
   "metadata": {
    "papermill": {
     "duration": null,
     "end_time": null,
     "exception": null,
     "start_time": null,
     "status": "pending"
    },
    "tags": []
   },
   "outputs": [],
   "source": [
    "cat_model = CATModel(cols_for_model,hip_cat)\n",
    "cat_final_model = cat_model.train(df_train,y_train)"
   ]
  },
  {
   "cell_type": "code",
   "execution_count": null,
   "id": "1c64df2e",
   "metadata": {
    "papermill": {
     "duration": null,
     "end_time": null,
     "exception": null,
     "start_time": null,
     "status": "pending"
    },
    "tags": []
   },
   "outputs": [],
   "source": [
    "features_names = cols_uc + cols_derivadas\n",
    "spents_names = cols_consumo\n",
    "nn_model = NNModel(features_names,spents_names)\n",
    "rnn_final_model,pipe_features,pipe_spent = nn_model.train(df_train,y_train)"
   ]
  },
  {
   "cell_type": "code",
   "execution_count": null,
   "id": "728b2a46",
   "metadata": {
    "papermill": {
     "duration": null,
     "end_time": null,
     "exception": null,
     "start_time": null,
     "status": "pending"
    },
    "tags": []
   },
   "outputs": [],
   "source": [
    "features_names = cols_uc + cols_derivadas\n",
    "spents_names = cols_consumo\n",
    "lstm_nn_model = LSTMNNModel(features_names,spents_names)\n",
    "lstm_rnn_final_model,pipe_features,pipe_spent = lstm_nn_model.train(df_train,y_train)"
   ]
  },
  {
   "cell_type": "code",
   "execution_count": null,
   "id": "7b3d4bf0",
   "metadata": {
    "papermill": {
     "duration": null,
     "end_time": null,
     "exception": null,
     "start_time": null,
     "status": "pending"
    },
    "tags": []
   },
   "outputs": [],
   "source": [
    "trend_perc_model = ChangeTrendPercentajeIdentifierWide(**hip_trend)\n",
    "const_model = ConstantConsumptionClassifierWide(**hip_const)"
   ]
  },
  {
   "cell_type": "code",
   "execution_count": null,
   "id": "62c0de8c",
   "metadata": {
    "papermill": {
     "duration": null,
     "end_time": null,
     "exception": null,
     "start_time": null,
     "status": "pending"
    },
    "tags": []
   },
   "outputs": [],
   "source": [
    "df_val['prob_lgbm'] = lgbm_final_model.predict_proba(df_val[cols_for_model])[:,1]\n",
    "df_val['prob_cb'] = cat_final_model.predict_proba(df_val[cols_for_model])[:,1]\n",
    "\n",
    "X_features = pipe_features.transform(df_val[features_names])\n",
    "X_spents = pipe_spent.transform(df_val[spents_names])\n",
    "X = np.concatenate([X_features,X_spents],axis=1)\n",
    "df_val['prob_ffn'] = rnn_final_model.predict(X, batch_size=BATCH_SIZE)[:,0]\n",
    "\n",
    "X_features = pipe_features.transform(df_val[features_names])\n",
    "X_spents = pipe_spent.transform(df_val[spents_names])\n",
    "X_spents = X_spents.reshape((X_spents.shape[0],periodo,1))\n",
    "df_val['prob_lstmffn'] = lstm_rnn_final_model.predict([X_spents, X_features],batch_size=BATCH_SIZE)[:,0]\n",
    "\n",
    "pred_tc = trend_perc_model.predict(df_val)\n",
    "df_val['fraud_trend'] = pred_tc.is_fraud_trend_perc\n",
    "\n",
    "pred_cm = const_model.predict(df_val[cols_consumo])\n",
    "df_val['fraud_constante'] = pred_cm"
   ]
  },
  {
   "cell_type": "code",
   "execution_count": null,
   "id": "525a7a38",
   "metadata": {
    "papermill": {
     "duration": null,
     "end_time": null,
     "exception": null,
     "start_time": null,
     "status": "pending"
    },
    "tags": []
   },
   "outputs": [],
   "source": [
    "lr_comb_model = built_modelo_combinado(df_val)"
   ]
  },
  {
   "cell_type": "code",
   "execution_count": null,
   "id": "f817f115",
   "metadata": {
    "papermill": {
     "duration": null,
     "end_time": null,
     "exception": null,
     "start_time": null,
     "status": "pending"
    },
    "tags": []
   },
   "outputs": [],
   "source": [
    "save_model(lgbm_final_model,name_model_fraud_lgbm)\n",
    "save_model(cat_final_model,name_model_fraud_cat)\n",
    "save_model(pipe_features,name_pipe_features)\n",
    "save_model(pipe_spent,name_pipe_spent)\n",
    "save_model(rnn_final_model,name_model_fraud_nn,False)\n",
    "save_model(lstm_rnn_final_model,name_model_fraud_lstmnn,False)\n",
    "save_model(lr_comb_model,name_model_fraud_comb)"
   ]
  },
  {
   "cell_type": "code",
   "execution_count": null,
   "id": "a141f21f",
   "metadata": {
    "papermill": {
     "duration": null,
     "end_time": null,
     "exception": null,
     "start_time": null,
     "status": "pending"
    },
    "tags": []
   },
   "outputs": [],
   "source": [
    "y_pred_comb = lr_comb_model.predict_proba(df_val[cols_comb_model])[:,1]\n",
    "df_val['prob_final'] = y_pred_comb"
   ]
  },
  {
   "cell_type": "code",
   "execution_count": null,
   "id": "8f3b2fe1",
   "metadata": {
    "papermill": {
     "duration": null,
     "end_time": null,
     "exception": null,
     "start_time": null,
     "status": "pending"
    },
    "tags": []
   },
   "outputs": [],
   "source": [
    "print(\"AUC Test:  %.3f\" %  roc_auc_score(y_val,y_pred_comb))\n",
    "print(\"AP Test:  %.3f\" %  average_precision_score(y_val,y_pred_comb,average='weighted'))"
   ]
  },
  {
   "cell_type": "code",
   "execution_count": null,
   "id": "1a9809d6",
   "metadata": {
    "papermill": {
     "duration": null,
     "end_time": null,
     "exception": null,
     "start_time": null,
     "status": "pending"
    },
    "tags": []
   },
   "outputs": [],
   "source": [
    "plt.figure(figsize=(8,4))\n",
    "sns.distplot(df_val[df_val.target==0].prob_final, label='0')\n",
    "sns.distplot(df_val[df_val.target==1].prob_final, label='1')\n",
    "plt.vlines(0.6, ymin=0, ymax=5, color='red', linestyles='dashed')\n",
    "plt.xlabel('score', fontsize=16)\n",
    "plt.ylabel('density', fontsize=16)\n",
    "plt.legend()\n",
    "plt.grid()"
   ]
  },
  {
   "cell_type": "code",
   "execution_count": null,
   "id": "2caf5e60",
   "metadata": {
    "papermill": {
     "duration": null,
     "end_time": null,
     "exception": null,
     "start_time": null,
     "status": "pending"
    },
    "tags": []
   },
   "outputs": [],
   "source": [
    "print(\"Fin\")\n",
    "print(\"--- %s seconds ---\" % (time.time() - start_time))"
   ]
  }
 ],
 "metadata": {
  "kernelspec": {
   "display_name": "conda_tensorflow2_p36",
   "language": "python",
   "name": "conda_tensorflow2_p36"
  },
  "language_info": {
   "codemirror_mode": {
    "name": "ipython",
    "version": 3
   },
   "file_extension": ".py",
   "mimetype": "text/x-python",
   "name": "python",
   "nbconvert_exporter": "python",
   "pygments_lexer": "ipython3",
   "version": "3.6.13"
  },
  "papermill": {
   "default_parameters": {},
   "duration": null,
   "end_time": null,
   "environment_variables": {},
   "exception": null,
   "input_path": "main_train.ipynb",
   "output_path": "runs/main_train_02.ipynb",
   "parameters": {},
   "start_time": "2022-11-01T21:56:05.809450",
   "version": "2.3.4"
  }
 },
 "nbformat": 4,
 "nbformat_minor": 5
}