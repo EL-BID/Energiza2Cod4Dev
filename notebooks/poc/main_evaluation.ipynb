{
 "cells": [
  {
   "cell_type": "markdown",
   "id": "9a6be8d9",
   "metadata": {},
   "source": [
    "# Evaluacion EEGSA - Guatemala\n",
    "\n",
    "**Generar la prediccion**"
   ]
  },
  {
   "cell_type": "code",
   "execution_count": 38,
   "id": "f7f7d5cc",
   "metadata": {},
   "outputs": [],
   "source": [
    "import os\n",
    "import pandas as pd\n",
    "import numpy as np\n",
    "import matplotlib.pyplot as plt\n",
    "import seaborn as sns\n",
    "import warnings\n",
    "from datetime import datetime\n",
    "from  tqdm.notebook import  tqdm\n",
    "%config IPCompleter.use_jedi = False\n",
    "from sklearn.base import BaseEstimator, TransformerMixin\n",
    "from statsmodels.tsa.api import SimpleExpSmoothing\n",
    "from sklearn.linear_model import LinearRegression\n",
    "from sklearn.model_selection import train_test_split\n",
    "from sklearn.preprocessing import MinMaxScaler\n",
    "import statsmodels.api as sm\n",
    "from itertools import groupby\n",
    "warnings.filterwarnings('ignore')\n",
    "import sys\n",
    "import pickle\n",
    "from sklearn.metrics import mean_squared_error\n",
    "from sklearn.base import ClassifierMixin\n",
    "import joblib\n",
    "import os\n",
    "import sys\n",
    "import time\n",
    "import tensorflow as tf"
   ]
  },
  {
   "cell_type": "code",
   "execution_count": 2,
   "id": "1ebd7162",
   "metadata": {},
   "outputs": [],
   "source": [
    "warnings.filterwarnings('ignore')\n",
    "pd.options.display.float_format = '{:.5f}'.format #evita que muestre notacion cientifica\n",
    "pd.set_option('display.max_colwidth', None)\n",
    "pd.set_option('display.max_columns', None)"
   ]
  },
  {
   "cell_type": "code",
   "execution_count": 3,
   "id": "c2f88b7b",
   "metadata": {},
   "outputs": [],
   "source": [
    "%load_ext autoreload\n",
    "%autoreload 2"
   ]
  },
  {
   "cell_type": "code",
   "execution_count": 4,
   "id": "92d8bc26",
   "metadata": {},
   "outputs": [],
   "source": [
    "module_path = os.path.abspath(os.path.join('../../'))\n",
    "if module_path not in sys.path:\n",
    "    sys.path.append(module_path)"
   ]
  },
  {
   "cell_type": "code",
   "execution_count": 5,
   "id": "6e02009f",
   "metadata": {},
   "outputs": [],
   "source": [
    "from src.preprocessing.preprocessing  import data_wrangling, build_feature_engeniering_pipeline\n",
    "from src.modeling.simple_models import ChangeTrendPercentajeIdentifierWide,ConstantConsumptionClassifierWide"
   ]
  },
  {
   "cell_type": "code",
   "execution_count": 6,
   "id": "0872ac7c",
   "metadata": {},
   "outputs": [],
   "source": [
    "from src.conf.config  import Config"
   ]
  },
  {
   "cell_type": "markdown",
   "id": "9abcd813",
   "metadata": {},
   "source": [
    "## Config"
   ]
  },
  {
   "cell_type": "code",
   "execution_count": 13,
   "id": "a2847f2f",
   "metadata": {},
   "outputs": [],
   "source": [
    "Config.init_config()"
   ]
  },
  {
   "cell_type": "code",
   "execution_count": 14,
   "id": "09ee7a46",
   "metadata": {},
   "outputs": [],
   "source": [
    "DATA_PATH = Config.get('workspace').get('data_path')\n",
    "MODEL_PATH = Config.get('workspace').get('model_path')\n",
    "periodo = Config.get('model').get('periodo')\n",
    "cols_derivadas = pd.read_csv(f'{MODEL_PATH}features_by_const_boruta2_{periodo}.csv')['0'].tolist()\n",
    "cols_consumo = [f'{i}_anterior' for i in range(periodo, 0, -1)]\n",
    "cols_uc = Config.get('model').get('cols_uc')\n",
    "tsfel_names_path = f'{MODEL_PATH}/'+Config.get('model').get('tsfel_names_path')\n",
    "BATCH_SIZE = Config.get('model').get('hip_NN').get('batch_size')\n",
    "cols_for_model = cols_uc+cols_consumo+cols_derivadas\n",
    "cols_comb_model = ['prob_cb','prob_lgbm','prob_ffn','prob_lstmffn','fraud_constante','fraud_trend']\n",
    "hip_trend = Config.get('model').get('hip_trend') \n",
    "hip_const = Config.get('model').get('hip_const')\n",
    "\n",
    "name_model_fraud_lgbm = f'{MODEL_PATH}/'+Config.get('model').get('lgbm_model_name')\n",
    "name_model_fraud_cat = f'{MODEL_PATH}/'+Config.get('model').get('cat_model_name')\n",
    "name_model_fraud_nn = f'{MODEL_PATH}/'+Config.get('model').get('nn_model_name')\n",
    "name_model_fraud_lstmnn = f'{MODEL_PATH}/'+Config.get('model').get('lstmnn_model_name')\n",
    "name_pipe_features = f'{MODEL_PATH}/'+Config.get('model').get('pipe_feat_name')\n",
    "name_pipe_spent = f'{MODEL_PATH}/'+Config.get('model').get('pipe_spent_name')\n",
    "name_model_fraud_comb  = f'{MODEL_PATH}/'+Config.get('model').get('comb_model_name')\n",
    "\n",
    "filename = Config.get('evaluacion').get('evaluation_data')\n",
    "mes_ultimo_consumo = Config.get('evaluacion').get('mes_ultimo_consumo')\n",
    "th_critico = Config.get('evaluacion').get('th_critico') #0.86\n",
    "th_warning = Config.get('evaluacion').get('th_warning') #0.7\n",
    "cols_final = ['uc'] + cols_consumo + ['codigo_postal','alerta','prob_final']\n",
    "name_resultado_normales = f'{MODEL_PATH}/normales_prediccion_{mes_ultimo_consumo}.csv'\n",
    "name_resultado_anomalias = f'{MODEL_PATH}/anomalias_prediccion_{mes_ultimo_consumo}.csv'"
   ]
  },
  {
   "cell_type": "markdown",
   "id": "25589f49",
   "metadata": {},
   "source": [
    "## Funciones"
   ]
  },
  {
   "cell_type": "code",
   "execution_count": 15,
   "id": "77d44080",
   "metadata": {},
   "outputs": [],
   "source": [
    "def cb_predict_proba(X):\n",
    "    model = joblib.load(name_model_fraud_lgbm)\n",
    "    proba = model.predict_proba(X)\n",
    "    return proba[:,1]\n",
    "\n",
    "def lgbm_predict_proba(X):\n",
    "    model = joblib.load(name_model_fraud_cat)\n",
    "    proba = model.predict_proba(X)\n",
    "    return proba[:,1]\n",
    "\n",
    "def fnn_predict_proba(df):\n",
    "    features_names = cols_uc+cols_derivadas\n",
    "    spents_names = cols_consumo\n",
    "    pipe_features = joblib.load(name_pipe_features)\n",
    "    pipe_spent = joblib.load(name_pipe_spent)\n",
    "    model = tf.keras.models.load_model(name_model_fraud_nn)\n",
    "    X_features = pipe_features.transform(df[features_names])\n",
    "    X_spents = pipe_spent.transform(df[spents_names])\n",
    "    X = np.concatenate([X_features,X_spents],axis=1)\n",
    "    pred_rnn = model.predict(X, batch_size=BATCH_SIZE)\n",
    "    return pred_rnn[:,0]\n",
    "\n",
    "def lstm_fnn_predict_proba(df):\n",
    "    features_names = cols_uc+cols_derivadas\n",
    "    spents_names = cols_consumo\n",
    "    pipe_features = joblib.load(name_pipe_features)\n",
    "    pipe_spent = joblib.load(name_pipe_spent)\n",
    "    model = tf.keras.models.load_model(name_model_fraud_lstmnn)\n",
    "    X_features = pipe_features.transform(df[features_names])\n",
    "    X_spents = pipe_spent.transform(df[spents_names])\n",
    "    X_spents = X_spents.reshape((X_spents.shape[0],periodo,1))\n",
    "    pred = model.predict([X_spents, X_features],batch_size=BATCH_SIZE)\n",
    "    return pred[:,0]\n",
    "\n",
    "def combinado_model_predict_proba(df):\n",
    "    comb_model = joblib.load(name_model_fraud_comb)\n",
    "    return comb_model.predict_proba(df[cols_comb_model])[:,1]\n",
    "    \n",
    "def load_datasets():\n",
    "    df = pd.read_parquet(DATA_PATH+filename)\n",
    "    return df\n",
    "\n",
    "def preprocess_datasets(df):\n",
    "    ## Esto deberia estar en el ETL\n",
    "    df.rename(columns={'id_usuario':'uc'}, inplace=True)\n",
    "    df.rename(columns={'id':'index'}, inplace=True)\n",
    "    # Solo nos quedamos con aquellos usuarios que tienen al menos 10 meses de tiempo de conexion \n",
    "    # No esten dados de baja y tengan al menos 6 consumos validos\n",
    "    ultimo_mes_consumo = pd.to_datetime(mes_ultimo_consumo)\n",
    "    mes_evaluacion = ultimo_mes_consumo + pd.DateOffset(months=1)\n",
    "    df['cant_meses_conectado'] = ((mes_evaluacion - df.fecha_de_alta)/np.timedelta64(1, 'M'))\n",
    "    df['is_baja'] = df.fecha_de_baja<mes_evaluacion\n",
    "    df = df[(df.is_baja==False)&(df.cant_null<=6)&(df.cant_meses_conectado>=10)]\n",
    "    # limpieza y calculo de variables\n",
    "    df = data_wrangling(df,periodo)\n",
    "    pipe_feature_eng = build_feature_engeniering_pipeline(tsfel_names_path,num_periodos= periodo)\n",
    "    df = pipe_feature_eng.fit_transform(df, None)\n",
    "    return df"
   ]
  },
  {
   "cell_type": "markdown",
   "id": "58dfb25f",
   "metadata": {},
   "source": [
    "## Load Data"
   ]
  },
  {
   "cell_type": "code",
   "execution_count": 18,
   "id": "2798f173",
   "metadata": {},
   "outputs": [],
   "source": [
    "start_time = time.time()"
   ]
  },
  {
   "cell_type": "code",
   "execution_count": 25,
   "id": "d7c0727a",
   "metadata": {},
   "outputs": [
    {
     "name": "stdout",
     "output_type": "stream",
     "text": [
      "CPU times: user 3.14 s, sys: 2.48 s, total: 5.62 s\n",
      "Wall time: 2.43 s\n"
     ]
    },
    {
     "data": {
      "text/plain": [
       "(1322465, 38)"
      ]
     },
     "execution_count": 25,
     "metadata": {},
     "output_type": "execute_result"
    }
   ],
   "source": [
    "%%time\n",
    "df = load_datasets()\n",
    "df.shape"
   ]
  },
  {
   "cell_type": "code",
   "execution_count": 28,
   "id": "259b0671",
   "metadata": {},
   "outputs": [],
   "source": [
    "df['id'] = list(range(len(df)))"
   ]
  },
  {
   "cell_type": "code",
   "execution_count": 29,
   "id": "3832ca04",
   "metadata": {},
   "outputs": [],
   "source": [
    "df = df.sample(10000)"
   ]
  },
  {
   "cell_type": "markdown",
   "id": "171192e5",
   "metadata": {},
   "source": [
    "## Preproceso -  Data"
   ]
  },
  {
   "cell_type": "code",
   "execution_count": 32,
   "id": "add05dcf",
   "metadata": {},
   "outputs": [
    {
     "name": "stdout",
     "output_type": "stream",
     "text": [
      "self.read False\n",
      "ENTRO PARA CREAR JSON\n",
      "*** Feature extraction started ***\n"
     ]
    },
    {
     "data": {
      "text/html": [
       "\n",
       "              <p>\n",
       "                  Progress: 100% Complete\n",
       "              <p/>            \n",
       "              <progress\n",
       "                  value='10000'\n",
       "                  max='10000',\n",
       "                  style='width: 25%',\n",
       "              >\n",
       "                  10000\n",
       "              </progress>\n",
       "\n",
       "    "
      ],
      "text/plain": [
       "<IPython.core.display.HTML object>"
      ]
     },
     "metadata": {},
     "output_type": "display_data"
    },
    {
     "name": "stdout",
     "output_type": "stream",
     "text": [
      "\n",
      "*** Feature extraction finished ***\n",
      "df_result index: (10000,)\n",
      "df_tsfel (10000, 21)\n",
      "CPU times: user 46.9 s, sys: 4.58 s, total: 51.5 s\n",
      "Wall time: 48 s\n"
     ]
    }
   ],
   "source": [
    "%%time\n",
    "df = preprocess_datasets(df)"
   ]
  },
  {
   "cell_type": "code",
   "execution_count": 33,
   "id": "8500f1f2",
   "metadata": {},
   "outputs": [
    {
     "data": {
      "text/plain": [
       "(10000, 88)"
      ]
     },
     "execution_count": 33,
     "metadata": {},
     "output_type": "execute_result"
    }
   ],
   "source": [
    "df.shape"
   ]
  },
  {
   "cell_type": "markdown",
   "id": "a8453372",
   "metadata": {},
   "source": [
    "## Prediccion de Modelos"
   ]
  },
  {
   "cell_type": "code",
   "execution_count": 39,
   "id": "ebdde0df",
   "metadata": {},
   "outputs": [
    {
     "name": "stderr",
     "output_type": "stream",
     "text": [
      "2022-12-11 20:56:15.044137: W tensorflow/stream_executor/platform/default/dso_loader.cc:55] Could not load dynamic library 'libcuda.so.1'; dlerror: libcuda.so.1: cannot open shared object file: No such file or directory\n",
      "2022-12-11 20:56:15.044178: E tensorflow/stream_executor/cuda/cuda_driver.cc:351] failed call to cuInit: UNKNOWN ERROR (303)\n",
      "2022-12-11 20:56:15.044283: I tensorflow/stream_executor/cuda/cuda_diagnostics.cc:156] kernel driver does not appear to be running on this host (49434f55fd6e): /proc/driver/nvidia/version does not exist\n",
      "2022-12-11 20:56:15.044475: I tensorflow/core/platform/cpu_feature_guard.cc:142] Your CPU supports instructions that this TensorFlow binary was not compiled to use: AVX2 FMA\n",
      "2022-12-11 20:56:15.070098: I tensorflow/core/platform/profile_utils/cpu_utils.cc:94] CPU Frequency: 2400010000 Hz\n",
      "2022-12-11 20:56:15.071483: I tensorflow/compiler/xla/service/service.cc:168] XLA service 0x5581d1f2fc20 initialized for platform Host (this does not guarantee that XLA will be used). Devices:\n",
      "2022-12-11 20:56:15.071506: I tensorflow/compiler/xla/service/service.cc:176]   StreamExecutor device (0): Host, Default Version\n"
     ]
    }
   ],
   "source": [
    "### Modelo Trend change\n",
    "trend_perc_model = ChangeTrendPercentajeIdentifierWide(**hip_trend)\n",
    "pred_tc = trend_perc_model.predict(df)\n",
    "df['fraud_trend'] = pred_tc.is_fraud_trend_perc\n",
    "### Modelo constante\n",
    "const_model = ConstantConsumptionClassifierWide(**hip_const)\n",
    "pred_cm = const_model.predict(df[cols_consumo])\n",
    "df['fraud_constante'] = pred_cm\n",
    "### Modelos supervisados\n",
    "df['prob_cb'] =  cb_predict_proba(df[cols_for_model])\n",
    "df['prob_lgbm'] = lgbm_predict_proba(df[cols_for_model])\n",
    "df['prob_ffn'] = fnn_predict_proba(df[cols_for_model])\n",
    "df['prob_lstmffn'] = lstm_fnn_predict_proba(df[cols_for_model])\n",
    "### Modelo combinado\n",
    "df['prob_final'] = combinado_model_predict_proba(df)"
   ]
  },
  {
   "cell_type": "markdown",
   "id": "528dc0b4",
   "metadata": {},
   "source": [
    "## Post - Proceso - Resultado"
   ]
  },
  {
   "cell_type": "code",
   "execution_count": 40,
   "id": "58c6887c",
   "metadata": {},
   "outputs": [],
   "source": [
    "df['alerta'] = 'sin_alerta'\n",
    "df.loc[(df.alerta=='sin_alerta')&(df.cant_ceros_12==12),'alerta'] = 'consumo_0'\n",
    "msk_critico = df.prob_final>=th_critico \n",
    "df.loc[(df.alerta=='sin_alerta')&(msk_critico),'alerta'] = 'critico'\n",
    "msk_warning = df.prob_final>=th_warning\n",
    "df.loc[(df.alerta=='sin_alerta')&(msk_warning),'alerta'] = 'warning'\n",
    "df.loc[(df.alerta=='sin_alerta')&(pred_tc.is_fraud_trend_perc==1),'alerta'] = 'cambio_neg_consumo'\n",
    "df.loc[(df.alerta=='sin_alerta')&(pred_cm==1),'alerta'] = 'consumo_constante'\n",
    "df.loc[(df.alerta=='sin_alerta'),'alerta'] = 'normal'"
   ]
  },
  {
   "cell_type": "code",
   "execution_count": 41,
   "id": "935ea58f",
   "metadata": {},
   "outputs": [],
   "source": [
    "df[(df.alerta=='normal')][cols_final].to_csv(name_resultado_normales,index=False)\n",
    "df[(df.alerta!='normal')][cols_final].to_csv(name_resultado_anomalias,index=False)"
   ]
  },
  {
   "cell_type": "code",
   "execution_count": 51,
   "id": "e2735a39",
   "metadata": {},
   "outputs": [
    {
     "data": {
      "image/png": "[encoded data removed]",
      "text/plain": [
       "<Figure size 576x288 with 1 Axes>"
      ]
     },
     "metadata": {
      "needs_background": "light"
     },
     "output_type": "display_data"
    }
   ],
   "source": [
    "plt.figure(figsize=(8,4))\n",
    "sns.distplot(df.prob_final, label='0')\n",
    "plt.vlines(0.6, ymin=0, ymax=5, color='red', linestyles='dashed')\n",
    "plt.xlabel('score', fontsize=16)\n",
    "plt.ylabel('density', fontsize=16)\n",
    "plt.legend()\n",
    "plt.grid()"
   ]
  },
  {
   "cell_type": "code",
   "execution_count": null,
   "id": "81f12c9c",
   "metadata": {},
   "outputs": [],
   "source": [
    "print(\"Fin\")\n",
    "print(\"--- %s seconds ---\" % (time.time() - start_time))"
   ]
  },
  {
   "cell_type": "code",
   "execution_count": null,
   "id": "766a2d7a",
   "metadata": {},
   "outputs": [],
   "source": []
  }
 ],
 "metadata": {
  "kernelspec": {
   "display_name": "Python 3 (ipykernel)",
   "language": "python",
   "name": "python3"
  },
  "language_info": {
   "codemirror_mode": {
    "name": "ipython",
    "version": 3
   },
   "file_extension": ".py",
   "mimetype": "text/x-python",
   "name": "python",
   "nbconvert_exporter": "python",
   "pygments_lexer": "ipython3",
   "version": "3.7.4"
  }
 },
 "nbformat": 4,
 "nbformat_minor": 5
}
