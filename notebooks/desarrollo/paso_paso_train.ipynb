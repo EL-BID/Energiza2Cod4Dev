{
 "cells": [
  {
   "cell_type": "markdown",
   "id": "46ed35b1",
   "metadata": {},
   "source": [
    "# Train Modelos - EEGSA - Guatemala\n",
    "**Entranar los modelos y guardarlos para utilizarlos en la prediccion**"
   ]
  },
  {
   "cell_type": "code",
   "execution_count": 1,
   "id": "e93101a9",
   "metadata": {
    "tags": []
   },
   "outputs": [],
   "source": [
    "import os\n",
    "import pandas as pd\n",
    "import numpy as np\n",
    "import matplotlib.pyplot as plt\n",
    "import seaborn as sns\n",
    "import warnings\n",
    "from datetime import datetime\n",
    "from  tqdm.notebook import  tqdm\n",
    "%config IPCompleter.use_jedi = False\n",
    "from sklearn.base import BaseEstimator, TransformerMixin\n",
    "# from statsmodels.tsa.api import SimpleExpSmoothing\n",
    "from sklearn.linear_model import LinearRegression\n",
    "from sklearn.model_selection import train_test_split\n",
    "# import statsmodels.api as sm\n",
    "from itertools import groupby\n",
    "warnings.filterwarnings('ignore')\n",
    "import sys\n",
    "import pickle\n",
    "from sklearn.metrics import mean_squared_error\n",
    "from sklearn.base import ClassifierMixin\n",
    "import joblib\n",
    "import os\n",
    "import sys\n",
    "from sklearn.pipeline import Pipeline\n",
    "from sklearn.preprocessing import OrdinalEncoder\n",
    "from sklearn.compose import ColumnTransformer\n",
    "from sklearn.linear_model import LogisticRegression\n",
    "from sklearn.metrics import roc_auc_score,average_precision_score\n",
    "import time"
   ]
  },
  {
   "cell_type": "code",
   "execution_count": 179,
   "id": "25d944f0",
   "metadata": {
    "tags": []
   },
   "outputs": [],
   "source": [
    "warnings.filterwarnings('ignore')\n",
    "pd.options.display.float_format = '{:.5f}'.format #evita que muestre notacion cientifica\n",
    "pd.set_option('display.max_colwidth', None)\n",
    "pd.set_option('display.max_columns', None)"
   ]
  },
  {
   "cell_type": "code",
   "execution_count": 180,
   "id": "04c4ad23",
   "metadata": {
    "tags": []
   },
   "outputs": [
    {
     "name": "stdout",
     "output_type": "stream",
     "text": [
      "The autoreload extension is already loaded. To reload it, use:\n",
      "  %reload_ext autoreload\n"
     ]
    }
   ],
   "source": [
    "%load_ext autoreload\n",
    "%autoreload 2"
   ]
  },
  {
   "cell_type": "code",
   "execution_count": 181,
   "id": "2a429d1a",
   "metadata": {
    "tags": []
   },
   "outputs": [],
   "source": [
    "module_path = os.path.abspath(os.path.join('../../'))\n",
    "if module_path not in sys.path:\n",
    "    sys.path.append(module_path)"
   ]
  },
  {
   "cell_type": "code",
   "execution_count": 182,
   "id": "2ddd4249",
   "metadata": {
    "tags": []
   },
   "outputs": [],
   "source": [
    "from src.preprocessing.preprocessing  import data_wrangling, ToDummy, TeEncoder, CardinalityReducer,build_feature_engeniering_pipeline\n",
    "from src.modeling.simple_models import ChangeTrendPercentajeIdentifierWide,ConstantConsumptionClassifierWide\n",
    "from src.modeling.supervided_models import LGBMModel, NNModel, LSTMNNModel, CATModel\n",
    "from src.conf.config  import Config"
   ]
  },
  {
   "cell_type": "markdown",
   "id": "86bc8b5c",
   "metadata": {},
   "source": [
    "## Configuracion"
   ]
  },
  {
   "cell_type": "code",
   "execution_count": 6,
   "id": "2e06ae4a",
   "metadata": {
    "tags": []
   },
   "outputs": [],
   "source": [
    "Config.init_config()"
   ]
  },
  {
   "cell_type": "code",
   "execution_count": 7,
   "id": "e7338073",
   "metadata": {
    "tags": []
   },
   "outputs": [],
   "source": [
    "DATA_PATH = Config.get('workspace').get('data_path')\n",
    "MODEL_PATH = Config.get('workspace').get('model_path')\n",
    "periodo = Config.get('model').get('periodo')\n",
    "cols_derivadas = pd.read_csv(f'{MODEL_PATH}features_by_const_boruta2_{periodo}.csv')['0'].tolist()\n",
    "cols_consumo = [f'{i}_anterior' for i in range(periodo, 0, -1)]\n",
    "cols_uc = Config.get('model').get('cols_uc')\n",
    "tsfel_names_path = f'{MODEL_PATH}/'+Config.get('model').get('tsfel_names_path')\n",
    "\n",
    "filename = Config.get('data').get('input_data')\n",
    "hip_lgbm = Config.get('model').get('hip_lgbm') \n",
    "hip_cat = Config.get('model').get('hip_cat') \n",
    "hip_trend = Config.get('model').get('hip_trend') \n",
    "hip_const = Config.get('model').get('hip_const')\n",
    "BATCH_SIZE = Config.get('model').get('hip_NN').get('batch_size') \n",
    "cols_for_model = cols_uc +cols_consumo+cols_derivadas\n",
    "cols_comb_model = ['prob_cb','prob_lgbm','prob_ffn','prob_lstmffn','fraud_constante','fraud_trend']\n",
    "\n",
    "\n",
    "name_model_fraud_lgbm = f'{MODEL_PATH}/model_fraud_lgbm.pkl'\n",
    "name_model_fraud_cat = f'{MODEL_PATH}/model_fraud_cat.pkl'\n",
    "name_model_fraud_nn = f'{MODEL_PATH}/model_fraud_nn.h5'\n",
    "name_model_fraud_lstmnn = f'{MODEL_PATH}/model_fraud_lstmnn.h5'\n",
    "name_pipe_features = f'{MODEL_PATH}/pipe_features.pkl'\n",
    "name_pipe_spent = f'{MODEL_PATH}/pipe_spent.pkl'\n",
    "name_model_fraud_comb  = f'{MODEL_PATH}/model_fraud_comb.pkl'"
   ]
  },
  {
   "cell_type": "code",
   "execution_count": 8,
   "id": "c8fb46a5",
   "metadata": {
    "tags": []
   },
   "outputs": [],
   "source": [
    "def load_datasets():\n",
    "    df = pd.read_parquet(DATA_PATH+filename)\n",
    "    return df\n",
    "\n",
    "def preprocess_datasets(df):\n",
    "    ## Esto deberia estar en el ETL\n",
    "    # df.rename(columns={'id_usuario':'uc'}, inplace=True)\n",
    "    df.rename(columns={'id':'index'}, inplace=True)\n",
    "    df.rename(columns={'is_fraud':'target'}, inplace=True)\n",
    "    pipe_feature_eng = build_feature_engeniering_pipeline(tsfel_names_path,num_periodos= periodo)\n",
    "    df = data_wrangling(df,periodo)\n",
    "    df = pipe_feature_eng.fit_transform(df, None)\n",
    "    return df\n",
    "\n",
    "def built_modelo_combinado(df):\n",
    "    X_train_0 = df[df.target==0].copy()\n",
    "    pos_size = len(df[df.target==1])\n",
    "    X_train_0 = X_train_0.sample(int(pos_size*1))\n",
    "\n",
    "    X_train = X_train_0.append(df[df.target==1]).sample(frac=1.0)\n",
    "    y_train = X_train.target.copy()\n",
    "    X_train = X_train[cols_comb_model]\n",
    "    lr_comb_model = LogisticRegression(C=1.76, solver='liblinear')\n",
    "    lr_comb_model.fit(X_train, y_train)\n",
    "    return lr_comb_model\n",
    "\n",
    "def save_model(model,file_name,is_pkl=True):\n",
    "    if is_pkl:\n",
    "        joblib.dump(model, file_name)\n",
    "    else:\n",
    "        model.save(file_name)"
   ]
  },
  {
   "cell_type": "code",
   "execution_count": 9,
   "id": "c02e182c",
   "metadata": {
    "tags": []
   },
   "outputs": [],
   "source": [
    "start_time = time.time()"
   ]
  },
  {
   "cell_type": "code",
   "execution_count": 239,
   "id": "2268642a-6f49-429d-825c-484e74a681ac",
   "metadata": {
    "tags": []
   },
   "outputs": [
    {
     "data": {
      "text/plain": [
       "'../../data/clean_data/df_anonimizado_02-2023.parquet'"
      ]
     },
     "execution_count": 239,
     "metadata": {},
     "output_type": "execute_result"
    }
   ],
   "source": [
    "DATA_PATH+filename"
   ]
  },
  {
   "cell_type": "markdown",
   "id": "445e744e",
   "metadata": {},
   "source": [
    "### Load Train Data Set"
   ]
  },
  {
   "cell_type": "code",
   "execution_count": 240,
   "id": "d7e8f60c-1481-4ed7-b437-263ffc2cb20e",
   "metadata": {
    "tags": []
   },
   "outputs": [],
   "source": [
    "filename = 'df_anonimizado_02-2023.parquet'"
   ]
  },
  {
   "cell_type": "code",
   "execution_count": 244,
   "id": "0f19ed9d",
   "metadata": {
    "tags": []
   },
   "outputs": [
    {
     "name": "stdout",
     "output_type": "stream",
     "text": [
      "CPU times: user 33.9 ms, sys: 21.7 ms, total: 55.6 ms\n",
      "Wall time: 32.7 ms\n"
     ]
    },
    {
     "data": {
      "text/plain": [
       "(42500, 24)"
      ]
     },
     "execution_count": 244,
     "metadata": {},
     "output_type": "execute_result"
    }
   ],
   "source": [
    "%%time\n",
    "df = load_datasets()\n",
    "df.shape"
   ]
  },
  {
   "cell_type": "code",
   "execution_count": 53,
   "id": "d34a4959-eb17-47dd-957e-a2e9013598e8",
   "metadata": {
    "tags": []
   },
   "outputs": [],
   "source": [
    "from sklearn.preprocessing import MinMaxScaler\n",
    "class MinMaxScalerRow(BaseEstimator, TransformerMixin):\n",
    "    def fit(self, X, y=None):\n",
    "        return self\n",
    "\n",
    "    def transform(self, X):\n",
    "        scaler = MinMaxScaler()\n",
    "        return  scaler.fit_transform(X.T).T"
   ]
  },
  {
   "cell_type": "markdown",
   "id": "18b31c7c-9644-4261-a4b1-c7a50222791b",
   "metadata": {},
   "source": [
    "### Division Train -  Test"
   ]
  },
  {
   "cell_type": "code",
   "execution_count": 54,
   "id": "26def819-f430-4542-8cb1-c0fdbcbb380e",
   "metadata": {
    "tags": []
   },
   "outputs": [],
   "source": [
    "df.sort_values('fecha_inspeccion', inplace=True)"
   ]
  },
  {
   "cell_type": "code",
   "execution_count": 55,
   "id": "013a361c-55b6-499e-9d0d-0a4f8fe4b803",
   "metadata": {
    "tags": []
   },
   "outputs": [],
   "source": [
    "obj_sacala_consumo = MinMaxScalerRow()\n",
    "variables_consumo = [x for x in df.columns if '_anterior' in x]\n",
    "df.loc[:,variables_consumo] = obj_sacala_consumo.fit_transform(df[variables_consumo])"
   ]
  },
  {
   "cell_type": "code",
   "execution_count": 56,
   "id": "a2a6cfac-27a1-4d44-b059-9f0eeee55555",
   "metadata": {
    "tags": []
   },
   "outputs": [],
   "source": [
    "#Particionar por fecha\n",
    "df_train = df[df.fecha_inspeccion<'2017-08-01'].copy()\n",
    "# y_train = df_train.target.copy()\n",
    "# df_train = df_train.drop(columns=['target'])\n",
    "\n",
    "df_val = df[(df.fecha_inspeccion>='2017-09-01')&(df.fecha_inspeccion<'2018-01-01')].copy()\n",
    "# y_val = df_val.target.copy()\n",
    "# df_val = df_val.drop(columns=['target'])\n",
    "\n",
    "\n",
    "df_test = df[df.fecha_inspeccion>='2018-01-01'].copy()\n",
    "# y_test = df_test.target.copy()\n",
    "# df_test = df_test.drop(columns=['target'])\n"
   ]
  },
  {
   "cell_type": "markdown",
   "id": "e78e9abf-04b8-489d-bc06-957959640e2b",
   "metadata": {
    "tags": []
   },
   "source": [
    "### Exploracion de los datos"
   ]
  },
  {
   "cell_type": "code",
   "execution_count": 57,
   "id": "5834aeb8-7f00-4246-b453-0cf060998ed7",
   "metadata": {
    "tags": []
   },
   "outputs": [],
   "source": [
    "def llenar_val_vacios_str(df, cols,  str_value):\n",
    "    for x in cols:\n",
    "        df.loc[:, x] = df[x].fillna(str_value)\n",
    "    return df\n",
    "\n",
    "def llenar_val_vacios_numeric(df, cols,  numeric_value):\n",
    "    for x in cols:\n",
    "        df.loc[:, x] = df[x].fillna(numeric_value)\n",
    "    return df\n",
    "\n",
    "def llenar_val_vacios_ciclo(df, cant_ciclos_validos):\n",
    "    cols_consumo = [f'{i}_anterior' for i in range(cant_ciclos_validos, 0, -1)]\n",
    "    \n",
    "    df.loc[:, cols_consumo] = df.loc[:, cols_consumo].fillna(method='ffill', axis=1)\n",
    "    df.loc[:, cols_consumo] = df.loc[:, cols_consumo].fillna(method='bfill', axis=1)\n",
    "    return df"
   ]
  },
  {
   "cell_type": "code",
   "execution_count": 58,
   "id": "4d146d60-ea6a-447d-b620-0a8addc049a2",
   "metadata": {
    "tags": []
   },
   "outputs": [
    {
     "data": {
      "text/plain": [
       "0   89.70636\n",
       "1   10.29364\n",
       "Name: target, dtype: float64"
      ]
     },
     "execution_count": 58,
     "metadata": {},
     "output_type": "execute_result"
    }
   ],
   "source": [
    "100*y_train.value_counts(normalize=True)"
   ]
  },
  {
   "cell_type": "code",
   "execution_count": 59,
   "id": "8f21fd41-bcf3-431f-bc48-4d5687214a9d",
   "metadata": {
    "tags": []
   },
   "outputs": [
    {
     "data": {
      "text/plain": [
       "index                      0\n",
       "12_anterior               30\n",
       "11_anterior               28\n",
       "10_anterior               19\n",
       "9_anterior                18\n",
       "8_anterior                17\n",
       "7_anterior                11\n",
       "6_anterior                17\n",
       "5_anterior                29\n",
       "4_anterior                41\n",
       "3_anterior                49\n",
       "2_anterior                62\n",
       "1_anterior                71\n",
       "zona_nivel_1               0\n",
       "zona_nivel_2            1558\n",
       "actividad               1558\n",
       "seg_tarifa_nivel_1         0\n",
       "seg_tarifa_nivel_2      1558\n",
       "nivel_tension           1565\n",
       "material_instalacion       0\n",
       "cambios_seg_tarifa         0\n",
       "medidor_interno            0\n",
       "fecha_inspeccion           0\n",
       "target                     0\n",
       "dtype: int64"
      ]
     },
     "execution_count": 59,
     "metadata": {},
     "output_type": "execute_result"
    }
   ],
   "source": [
    "df_train.isnull().sum()"
   ]
  },
  {
   "cell_type": "markdown",
   "id": "b3067652-f8b0-43f8-beae-c4f1d2993adf",
   "metadata": {},
   "source": [
    "### Tratamiento de las variables de consumo"
   ]
  },
  {
   "cell_type": "code",
   "execution_count": 60,
   "id": "36b3c6d9-a8d3-4b2e-9fb8-56dec763e4e6",
   "metadata": {
    "tags": []
   },
   "outputs": [],
   "source": [
    "import tsfel\n",
    "class TsfelVars(BaseEstimator, TransformerMixin):\n",
    "\n",
    "    def __init__(self, features_names_path=None,num_periodos=12):\n",
    "        self.num_periodos = num_periodos\n",
    "        self.features_names_path = features_names_path\n",
    "\n",
    "    def obtener_cols_anterior(self, num_cols=12):\n",
    "        return [f'{i}_anterior' for i in range(num_cols,0, -1)]\n",
    "\n",
    "    def extra_cols(self, df, domain, cols, window=12):\n",
    "        cfg = tsfel.get_features_by_domain(domain)\n",
    "        df_result = tsfel.time_series_features_extractor(cfg, df[cols].values,n_jobs=-1)\n",
    "        df_result['index'] = df.index\n",
    "        return df_result\n",
    "    \n",
    "    def compute_by_json(self,df, cols, window=12):\n",
    "        cfg = tsfel.get_features_by_domain(json_path=self.features_names_path)\n",
    "        df_result = tsfel.time_series_features_extractor(cfg, df[cols].values,n_jobs=-1)\n",
    "        df_result['index'] = df.index\n",
    "        return df_result\n",
    "\n",
    "    def crear_all_tsfel(self, df):\n",
    "        cols_anterior = self.obtener_cols_anterior(self.num_periodos)\n",
    "        df_result_stat = self.extra_cols(df, \"statistical\", cols_anterior, window=self.num_periodos)\n",
    "        df_result_temporal = self.extra_cols(df, \"temporal\", cols_anterior, window=self.num_periodos)\n",
    "        # df_result_spectral = self.extra_cols(df, \"spectral\", cols_anterior, window=self.num_periodos)\n",
    "        self.temp_vars = df_result_temporal.columns.tolist()\n",
    "        self.temp_vars.remove('index')\n",
    "        self.stat_vars = df_result_stat.columns.tolist()\n",
    "        self.stat_vars.remove('index')\n",
    "        # self.spec_vars = df_result_spectral.columns.tolist()\n",
    "        # self.spec_vars.remove('index')\n",
    "        return df_result_stat, df_result_temporal #, df_result_spectral\n",
    "\n",
    "    def fit(self, X, y=None):\n",
    "        return self\n",
    "\n",
    "    def transform(self, X):\n",
    "        if self.features_names_path != None:\n",
    "            cols_anterior = self.obtener_cols_anterior(self.num_periodos)\n",
    "            df_tsfel = self.compute_by_json(X, cols_anterior, window=self.num_periodos)\n",
    "            X = X.merge(df_tsfel, on='index', how='left')\n",
    "            \n",
    "        else:\n",
    "            # df_result_stat, df_result_temporal, df_result_spectral = self.crear_all_tsfel(X)\n",
    "            df_result_stat, df_result_temporal = self.crear_all_tsfel(X)\n",
    "            df_tsfel = pd.merge(df_result_stat, df_result_temporal, how='inner', on='index')\n",
    "            # df_tsfel = pd.merge(df_tsfel, df_result_spectral, how='inner', on='index')\n",
    "            X = X.merge(df_tsfel, on='index', how='left')\n",
    "\n",
    "        return X\n",
    "    \n",
    "\n",
    "class ExtraVars(BaseEstimator, TransformerMixin):\n",
    "    def __init__(self,num_periodos=3):\n",
    "        self.num_periodos = num_periodos\n",
    "\n",
    "    def fit(self, X, y=None):\n",
    "        return self\n",
    "\n",
    "    def obtener_cols_anterior(self, num_cols=12):\n",
    "        return [f'{i}_anterior' for i in range(num_cols, 0, -1)]\n",
    "\n",
    "    def transform(self, X):\n",
    "        return self.create_vbles(X)\n",
    "\n",
    "    def count_cero(self, x):\n",
    "        return (x == 0.0).sum()\n",
    "\n",
    "    def count_cero_seguidos(self, x):\n",
    "        ceros_seguidos = 2\n",
    "        consumo = x.values\n",
    "        g = [[k, len(list(v))] for k, v in groupby(consumo)]\n",
    "        g = [x for x in g if (x[0] == 0.0) & (x[1] >= ceros_seguidos)]\n",
    "        if any(g):\n",
    "            return sorted(g, reverse=True, key=lambda x: x[-1])[0][1]\n",
    "        else:\n",
    "            return 0\n",
    "\n",
    "    def calc_slope(self, x):\n",
    "        consumo = list(x.values)\n",
    "        slope = np.polyfit(range(len(consumo)), consumo, 1)[0]\n",
    "        return slope\n",
    "\n",
    "    def create_vbles(self, df_total_super):\n",
    "        # generar listado de cols de atras hacia delante i.e: ['3_anterior', '2_anterior', '1_anterior'], etc.\n",
    "        cols_3_anterior = self.obtener_cols_anterior(num_cols=self.num_periodos)\n",
    "        num_periodos_str = str(self.num_periodos)\n",
    "        ## promedios\n",
    "        df_total_super.loc[:, 'mean_' + num_periodos_str] = df_total_super[cols_3_anterior].mean(axis=1)\n",
    "        ## Cantidad de ceros\n",
    "        df_total_super.loc[:, 'cant_ceros_' + num_periodos_str] = df_total_super[cols_3_anterior].apply(self.count_cero,\n",
    "                                                                                                        axis=1)\n",
    "        df_total_super.loc[:, 'max_cant_ceros_seg_' + num_periodos_str] = df_total_super[cols_3_anterior].apply(\n",
    "            self.count_cero_seguidos, axis=1)\n",
    "        ## Slope\n",
    "        df_total_super.loc[:, 'slope_' + num_periodos_str] = df_total_super[cols_3_anterior].apply(self.calc_slope,\n",
    "                                                                                                   axis=1)\n",
    "        ## Min, Max, STD, Varianza 3 periodos\n",
    "        df_total_super.loc[:, 'min_cons' + num_periodos_str] = df_total_super[cols_3_anterior].min(axis=1)\n",
    "        df_total_super.loc[:, 'max_cons' + num_periodos_str] = df_total_super[cols_3_anterior].max(axis=1)\n",
    "        df_total_super.loc[:, 'std_cons' + num_periodos_str] = df_total_super[cols_3_anterior].std(axis=1)\n",
    "        df_total_super.loc[:, 'var_cons' + num_periodos_str] = df_total_super[cols_3_anterior].var(axis=1)\n",
    "        ## skewness y kurtosis 3 periodos\n",
    "        df_total_super.loc[:, 'skew_cons' + num_periodos_str] = df_total_super[cols_3_anterior].skew(axis=1)\n",
    "        if self.num_periodos > 3:\n",
    "            df_total_super.loc[:, 'kurt_cons' + num_periodos_str] = df_total_super[cols_3_anterior].kurt(axis=1)\n",
    "\n",
    "        return df_total_super"
   ]
  },
  {
   "cell_type": "code",
   "execution_count": 61,
   "id": "188f9943-7eae-4cce-bdde-7d55d7052a51",
   "metadata": {
    "tags": []
   },
   "outputs": [],
   "source": [
    "df_train = llenar_val_vacios_ciclo(df_train, 12)"
   ]
  },
  {
   "cell_type": "code",
   "execution_count": 62,
   "id": "c06fb3e8-a993-44e5-8ab3-f2d7887a4cb8",
   "metadata": {
    "tags": []
   },
   "outputs": [],
   "source": [
    "variables_consumo = [x for x in df.columns if '_anterior' in x]\n",
    "df_consumos = df_train[['index']+variables_consumo].head(10000)"
   ]
  },
  {
   "cell_type": "code",
   "execution_count": 63,
   "id": "faeefaf6-f812-42e2-9e84-67d43eccbb68",
   "metadata": {
    "tags": []
   },
   "outputs": [],
   "source": [
    "pipe_feature_engeniering_consumo = Pipeline(\n",
    "    [\n",
    "        (\"tsfel vars\", TsfelVars(features_names_path=None,num_periodos= 12)),\n",
    "        (\"add vars3\", ExtraVars(num_periodos=3)),\n",
    "        (\"add vars6\", ExtraVars( num_periodos=6)),\n",
    "        (\"add vars12\", ExtraVars(num_periodos=12)),\n",
    "\n",
    "    ]\n",
    "        )"
   ]
  },
  {
   "cell_type": "code",
   "execution_count": 64,
   "id": "600a4909-2bac-4f9b-a301-12bdb435d3c8",
   "metadata": {
    "tags": []
   },
   "outputs": [
    {
     "name": "stdout",
     "output_type": "stream",
     "text": [
      "*** Feature extraction started ***\n"
     ]
    },
    {
     "data": {
      "text/html": [
       "\n",
       "              <p>\n",
       "                  Progress: 100% Complete\n",
       "              <p/>            \n",
       "              <progress\n",
       "                  value='10000'\n",
       "                  max='10000',\n",
       "                  style='width: 25%',\n",
       "              >\n",
       "                  10000\n",
       "              </progress>\n",
       "\n",
       "    "
      ],
      "text/plain": [
       "<IPython.core.display.HTML object>"
      ]
     },
     "metadata": {},
     "output_type": "display_data"
    },
    {
     "name": "stdout",
     "output_type": "stream",
     "text": [
      "\n",
      "*** Feature extraction finished ***\n",
      "*** Feature extraction started ***\n"
     ]
    },
    {
     "data": {
      "text/html": [
       "\n",
       "              <p>\n",
       "                  Progress: 100% Complete\n",
       "              <p/>            \n",
       "              <progress\n",
       "                  value='10000'\n",
       "                  max='10000',\n",
       "                  style='width: 25%',\n",
       "              >\n",
       "                  10000\n",
       "              </progress>\n",
       "\n",
       "    "
      ],
      "text/plain": [
       "<IPython.core.display.HTML object>"
      ]
     },
     "metadata": {},
     "output_type": "display_data"
    },
    {
     "name": "stdout",
     "output_type": "stream",
     "text": [
      "\n",
      "*** Feature extraction finished ***\n"
     ]
    }
   ],
   "source": [
    "df_features = pipe_feature_engeniering_consumo.fit_transform(df_consumos)"
   ]
  },
  {
   "cell_type": "code",
   "execution_count": 65,
   "id": "3f30123c-536b-463c-9259-944c0d2fa68b",
   "metadata": {
    "tags": []
   },
   "outputs": [
    {
     "data": {
      "text/html": [
       "<div>\n",
       "<style scoped>\n",
       "    .dataframe tbody tr th:only-of-type {\n",
       "        vertical-align: middle;\n",
       "    }\n",
       "\n",
       "    .dataframe tbody tr th {\n",
       "        vertical-align: top;\n",
       "    }\n",
       "\n",
       "    .dataframe thead th {\n",
       "        text-align: right;\n",
       "    }\n",
       "</style>\n",
       "<table border=\"1\" class=\"dataframe\">\n",
       "  <thead>\n",
       "    <tr style=\"text-align: right;\">\n",
       "      <th></th>\n",
       "      <th>index</th>\n",
       "      <th>12_anterior</th>\n",
       "      <th>11_anterior</th>\n",
       "      <th>10_anterior</th>\n",
       "      <th>9_anterior</th>\n",
       "      <th>8_anterior</th>\n",
       "      <th>7_anterior</th>\n",
       "      <th>6_anterior</th>\n",
       "      <th>5_anterior</th>\n",
       "      <th>4_anterior</th>\n",
       "      <th>3_anterior</th>\n",
       "      <th>2_anterior</th>\n",
       "      <th>1_anterior</th>\n",
       "      <th>0_ECDF Percentile Count_0</th>\n",
       "      <th>0_ECDF Percentile Count_1</th>\n",
       "      <th>0_ECDF Percentile_0</th>\n",
       "      <th>0_ECDF Percentile_1</th>\n",
       "      <th>0_ECDF_0</th>\n",
       "      <th>0_ECDF_1</th>\n",
       "      <th>0_ECDF_2</th>\n",
       "      <th>0_ECDF_3</th>\n",
       "      <th>0_ECDF_4</th>\n",
       "      <th>0_ECDF_5</th>\n",
       "      <th>0_ECDF_6</th>\n",
       "      <th>0_ECDF_7</th>\n",
       "      <th>0_ECDF_8</th>\n",
       "      <th>0_ECDF_9</th>\n",
       "      <th>0_Histogram_0</th>\n",
       "      <th>0_Histogram_1</th>\n",
       "      <th>0_Histogram_2</th>\n",
       "      <th>0_Histogram_3</th>\n",
       "      <th>0_Histogram_4</th>\n",
       "      <th>0_Histogram_5</th>\n",
       "      <th>0_Histogram_6</th>\n",
       "      <th>0_Histogram_7</th>\n",
       "      <th>0_Histogram_8</th>\n",
       "      <th>0_Histogram_9</th>\n",
       "      <th>0_Interquartile range</th>\n",
       "      <th>0_Kurtosis</th>\n",
       "      <th>0_Max</th>\n",
       "      <th>0_Mean</th>\n",
       "      <th>0_Mean absolute deviation</th>\n",
       "      <th>0_Median</th>\n",
       "      <th>0_Median absolute deviation</th>\n",
       "      <th>0_Min</th>\n",
       "      <th>0_Root mean square</th>\n",
       "      <th>0_Skewness</th>\n",
       "      <th>0_Standard deviation</th>\n",
       "      <th>0_Variance</th>\n",
       "      <th>0_Absolute energy</th>\n",
       "      <th>0_Area under the curve</th>\n",
       "      <th>0_Autocorrelation</th>\n",
       "      <th>0_Centroid</th>\n",
       "      <th>0_Entropy</th>\n",
       "      <th>0_Mean absolute diff</th>\n",
       "      <th>0_Mean diff</th>\n",
       "      <th>0_Median absolute diff</th>\n",
       "      <th>0_Median diff</th>\n",
       "      <th>0_Negative turning points</th>\n",
       "      <th>0_Neighbourhood peaks</th>\n",
       "      <th>0_Peak to peak distance</th>\n",
       "      <th>0_Positive turning points</th>\n",
       "      <th>0_Signal distance</th>\n",
       "      <th>0_Slope</th>\n",
       "      <th>0_Sum absolute diff</th>\n",
       "      <th>0_Total energy</th>\n",
       "      <th>0_Zero crossing rate</th>\n",
       "      <th>mean_3</th>\n",
       "      <th>cant_ceros_3</th>\n",
       "      <th>max_cant_ceros_seg_3</th>\n",
       "      <th>slope_3</th>\n",
       "      <th>min_cons3</th>\n",
       "      <th>max_cons3</th>\n",
       "      <th>std_cons3</th>\n",
       "      <th>var_cons3</th>\n",
       "      <th>skew_cons3</th>\n",
       "      <th>mean_6</th>\n",
       "      <th>cant_ceros_6</th>\n",
       "      <th>max_cant_ceros_seg_6</th>\n",
       "      <th>slope_6</th>\n",
       "      <th>min_cons6</th>\n",
       "      <th>max_cons6</th>\n",
       "      <th>std_cons6</th>\n",
       "      <th>var_cons6</th>\n",
       "      <th>skew_cons6</th>\n",
       "      <th>kurt_cons6</th>\n",
       "      <th>mean_12</th>\n",
       "      <th>cant_ceros_12</th>\n",
       "      <th>max_cant_ceros_seg_12</th>\n",
       "      <th>slope_12</th>\n",
       "      <th>min_cons12</th>\n",
       "      <th>max_cons12</th>\n",
       "      <th>std_cons12</th>\n",
       "      <th>var_cons12</th>\n",
       "      <th>skew_cons12</th>\n",
       "      <th>kurt_cons12</th>\n",
       "    </tr>\n",
       "  </thead>\n",
       "  <tbody>\n",
       "    <tr>\n",
       "      <th>0</th>\n",
       "      <td>1857</td>\n",
       "      <td>0.57831</td>\n",
       "      <td>0.71687</td>\n",
       "      <td>0.68675</td>\n",
       "      <td>0.75904</td>\n",
       "      <td>1.00000</td>\n",
       "      <td>0.42169</td>\n",
       "      <td>0.00000</td>\n",
       "      <td>0.12048</td>\n",
       "      <td>0.18072</td>\n",
       "      <td>0.15663</td>\n",
       "      <td>0.11446</td>\n",
       "      <td>0.15060</td>\n",
       "      <td>2.00000</td>\n",
       "      <td>9.00000</td>\n",
       "      <td>0.11446</td>\n",
       "      <td>0.68675</td>\n",
       "      <td>0.08333</td>\n",
       "      <td>0.16667</td>\n",
       "      <td>0.25000</td>\n",
       "      <td>0.33333</td>\n",
       "      <td>0.41667</td>\n",
       "      <td>0.50000</td>\n",
       "      <td>0.58333</td>\n",
       "      <td>0.66667</td>\n",
       "      <td>0.75000</td>\n",
       "      <td>0.83333</td>\n",
       "      <td>0.00000</td>\n",
       "      <td>0.00000</td>\n",
       "      <td>0.00000</td>\n",
       "      <td>0.00000</td>\n",
       "      <td>0.00000</td>\n",
       "      <td>6.00000</td>\n",
       "      <td>0.00000</td>\n",
       "      <td>2.00000</td>\n",
       "      <td>3.00000</td>\n",
       "      <td>1.00000</td>\n",
       "      <td>0.55120</td>\n",
       "      <td>-1.24846</td>\n",
       "      <td>1.00000</td>\n",
       "      <td>0.40713</td>\n",
       "      <td>0.28665</td>\n",
       "      <td>0.30120</td>\n",
       "      <td>0.23193</td>\n",
       "      <td>0.00000</td>\n",
       "      <td>0.51490</td>\n",
       "      <td>0.39445</td>\n",
       "      <td>0.31522</td>\n",
       "      <td>0.09936</td>\n",
       "      <td>3.18141</td>\n",
       "      <td>0.04521</td>\n",
       "      <td>3.18141</td>\n",
       "      <td>0.02841</td>\n",
       "      <td>1.00000</td>\n",
       "      <td>0.16046</td>\n",
       "      <td>-0.03888</td>\n",
       "      <td>0.07229</td>\n",
       "      <td>0.03614</td>\n",
       "      <td>3.00000</td>\n",
       "      <td>0.00000</td>\n",
       "      <td>1.00000</td>\n",
       "      <td>3.00000</td>\n",
       "      <td>11.29257</td>\n",
       "      <td>-0.06919</td>\n",
       "      <td>1.76506</td>\n",
       "      <td>28.92193</td>\n",
       "      <td>2.00000</td>\n",
       "      <td>0.14056</td>\n",
       "      <td>0</td>\n",
       "      <td>0</td>\n",
       "      <td>-0.00301</td>\n",
       "      <td>0.11446</td>\n",
       "      <td>0.15663</td>\n",
       "      <td>0.02281</td>\n",
       "      <td>0.00052</td>\n",
       "      <td>-1.59710</td>\n",
       "      <td>0.12048</td>\n",
       "      <td>1</td>\n",
       "      <td>0</td>\n",
       "      <td>0.02031</td>\n",
       "      <td>0.00000</td>\n",
       "      <td>0.18072</td>\n",
       "      <td>0.06387</td>\n",
       "      <td>0.00408</td>\n",
       "      <td>-1.67666</td>\n",
       "      <td>3.27570</td>\n",
       "      <td>0.40713</td>\n",
       "      <td>1</td>\n",
       "      <td>0</td>\n",
       "      <td>-0.06919</td>\n",
       "      <td>0.00000</td>\n",
       "      <td>1.00000</td>\n",
       "      <td>0.32924</td>\n",
       "      <td>0.10840</td>\n",
       "      <td>0.45319</td>\n",
       "      <td>-1.25033</td>\n",
       "    </tr>\n",
       "    <tr>\n",
       "      <th>1</th>\n",
       "      <td>678</td>\n",
       "      <td>0.94118</td>\n",
       "      <td>0.64706</td>\n",
       "      <td>0.41176</td>\n",
       "      <td>0.44118</td>\n",
       "      <td>1.00000</td>\n",
       "      <td>0.38235</td>\n",
       "      <td>0.55882</td>\n",
       "      <td>0.67647</td>\n",
       "      <td>0.55882</td>\n",
       "      <td>0.64706</td>\n",
       "      <td>0.00000</td>\n",
       "      <td>0.47059</td>\n",
       "      <td>2.00000</td>\n",
       "      <td>9.00000</td>\n",
       "      <td>0.38235</td>\n",
       "      <td>0.64706</td>\n",
       "      <td>0.08333</td>\n",
       "      <td>0.16667</td>\n",
       "      <td>0.25000</td>\n",
       "      <td>0.33333</td>\n",
       "      <td>0.41667</td>\n",
       "      <td>0.50000</td>\n",
       "      <td>0.58333</td>\n",
       "      <td>0.66667</td>\n",
       "      <td>0.75000</td>\n",
       "      <td>0.83333</td>\n",
       "      <td>0.00000</td>\n",
       "      <td>0.00000</td>\n",
       "      <td>0.00000</td>\n",
       "      <td>0.00000</td>\n",
       "      <td>0.00000</td>\n",
       "      <td>1.00000</td>\n",
       "      <td>1.00000</td>\n",
       "      <td>5.00000</td>\n",
       "      <td>3.00000</td>\n",
       "      <td>2.00000</td>\n",
       "      <td>0.22059</td>\n",
       "      <td>0.33521</td>\n",
       "      <td>1.00000</td>\n",
       "      <td>0.56127</td>\n",
       "      <td>0.18423</td>\n",
       "      <td>0.55882</td>\n",
       "      <td>0.11765</td>\n",
       "      <td>0.00000</td>\n",
       "      <td>0.61490</td>\n",
       "      <td>-0.24358</td>\n",
       "      <td>0.25114</td>\n",
       "      <td>0.06307</td>\n",
       "      <td>4.53720</td>\n",
       "      <td>0.06029</td>\n",
       "      <td>4.53720</td>\n",
       "      <td>0.04375</td>\n",
       "      <td>0.90702</td>\n",
       "      <td>0.30481</td>\n",
       "      <td>-0.04278</td>\n",
       "      <td>0.23529</td>\n",
       "      <td>0.02941</td>\n",
       "      <td>4.00000</td>\n",
       "      <td>0.00000</td>\n",
       "      <td>1.00000</td>\n",
       "      <td>3.00000</td>\n",
       "      <td>11.72042</td>\n",
       "      <td>-0.03342</td>\n",
       "      <td>3.35294</td>\n",
       "      <td>41.24725</td>\n",
       "      <td>2.00000</td>\n",
       "      <td>0.37255</td>\n",
       "      <td>1</td>\n",
       "      <td>0</td>\n",
       "      <td>-0.08824</td>\n",
       "      <td>0.00000</td>\n",
       "      <td>0.64706</td>\n",
       "      <td>0.33448</td>\n",
       "      <td>0.11188</td>\n",
       "      <td>-1.20566</td>\n",
       "      <td>0.48529</td>\n",
       "      <td>1</td>\n",
       "      <td>0</td>\n",
       "      <td>-0.06807</td>\n",
       "      <td>0.00000</td>\n",
       "      <td>0.67647</td>\n",
       "      <td>0.24870</td>\n",
       "      <td>0.06185</td>\n",
       "      <td>-1.99475</td>\n",
       "      <td>4.27939</td>\n",
       "      <td>0.56127</td>\n",
       "      <td>1</td>\n",
       "      <td>0</td>\n",
       "      <td>-0.03342</td>\n",
       "      <td>0.00000</td>\n",
       "      <td>1.00000</td>\n",
       "      <td>0.26231</td>\n",
       "      <td>0.06880</td>\n",
       "      <td>-0.27986</td>\n",
       "      <td>1.26595</td>\n",
       "    </tr>\n",
       "    <tr>\n",
       "      <th>2</th>\n",
       "      <td>4471</td>\n",
       "      <td>0.60989</td>\n",
       "      <td>0.70330</td>\n",
       "      <td>0.77473</td>\n",
       "      <td>1.00000</td>\n",
       "      <td>0.73626</td>\n",
       "      <td>0.00000</td>\n",
       "      <td>0.00000</td>\n",
       "      <td>0.00000</td>\n",
       "      <td>0.00000</td>\n",
       "      <td>0.36813</td>\n",
       "      <td>0.14286</td>\n",
       "      <td>0.00000</td>\n",
       "      <td>2.00000</td>\n",
       "      <td>9.00000</td>\n",
       "      <td>0.00000</td>\n",
       "      <td>0.70330</td>\n",
       "      <td>0.08333</td>\n",
       "      <td>0.16667</td>\n",
       "      <td>0.25000</td>\n",
       "      <td>0.33333</td>\n",
       "      <td>0.41667</td>\n",
       "      <td>0.50000</td>\n",
       "      <td>0.58333</td>\n",
       "      <td>0.66667</td>\n",
       "      <td>0.75000</td>\n",
       "      <td>0.83333</td>\n",
       "      <td>0.00000</td>\n",
       "      <td>0.00000</td>\n",
       "      <td>0.00000</td>\n",
       "      <td>0.00000</td>\n",
       "      <td>0.00000</td>\n",
       "      <td>6.00000</td>\n",
       "      <td>1.00000</td>\n",
       "      <td>0.00000</td>\n",
       "      <td>4.00000</td>\n",
       "      <td>1.00000</td>\n",
       "      <td>0.71154</td>\n",
       "      <td>-1.49562</td>\n",
       "      <td>1.00000</td>\n",
       "      <td>0.36126</td>\n",
       "      <td>0.33745</td>\n",
       "      <td>0.25549</td>\n",
       "      <td>0.25549</td>\n",
       "      <td>0.00000</td>\n",
       "      <td>0.51355</td>\n",
       "      <td>0.33115</td>\n",
       "      <td>0.36500</td>\n",
       "      <td>0.13322</td>\n",
       "      <td>3.16480</td>\n",
       "      <td>0.04030</td>\n",
       "      <td>3.16480</td>\n",
       "      <td>0.02619</td>\n",
       "      <td>0.73013</td>\n",
       "      <td>0.19331</td>\n",
       "      <td>-0.05544</td>\n",
       "      <td>0.14286</td>\n",
       "      <td>0.00000</td>\n",
       "      <td>0.00000</td>\n",
       "      <td>0.00000</td>\n",
       "      <td>1.00000</td>\n",
       "      <td>2.00000</td>\n",
       "      <td>11.40878</td>\n",
       "      <td>-0.07625</td>\n",
       "      <td>2.12637</td>\n",
       "      <td>28.77095</td>\n",
       "      <td>3.00000</td>\n",
       "      <td>0.17033</td>\n",
       "      <td>1</td>\n",
       "      <td>0</td>\n",
       "      <td>-0.18407</td>\n",
       "      <td>0.00000</td>\n",
       "      <td>0.36813</td>\n",
       "      <td>0.18560</td>\n",
       "      <td>0.03445</td>\n",
       "      <td>0.65151</td>\n",
       "      <td>0.08516</td>\n",
       "      <td>4</td>\n",
       "      <td>3</td>\n",
       "      <td>0.02276</td>\n",
       "      <td>0.00000</td>\n",
       "      <td>0.36813</td>\n",
       "      <td>0.14994</td>\n",
       "      <td>0.02248</td>\n",
       "      <td>1.81357</td>\n",
       "      <td>2.93577</td>\n",
       "      <td>0.36126</td>\n",
       "      <td>5</td>\n",
       "      <td>4</td>\n",
       "      <td>-0.07625</td>\n",
       "      <td>0.00000</td>\n",
       "      <td>1.00000</td>\n",
       "      <td>0.38123</td>\n",
       "      <td>0.14533</td>\n",
       "      <td>0.38046</td>\n",
       "      <td>-1.64305</td>\n",
       "    </tr>\n",
       "    <tr>\n",
       "      <th>3</th>\n",
       "      <td>7858</td>\n",
       "      <td>0.00000</td>\n",
       "      <td>0.18705</td>\n",
       "      <td>0.21583</td>\n",
       "      <td>0.42446</td>\n",
       "      <td>0.64748</td>\n",
       "      <td>0.47482</td>\n",
       "      <td>0.50360</td>\n",
       "      <td>0.40288</td>\n",
       "      <td>0.40288</td>\n",
       "      <td>0.29496</td>\n",
       "      <td>1.00000</td>\n",
       "      <td>0.92806</td>\n",
       "      <td>2.00000</td>\n",
       "      <td>9.00000</td>\n",
       "      <td>0.18705</td>\n",
       "      <td>0.50360</td>\n",
       "      <td>0.08333</td>\n",
       "      <td>0.16667</td>\n",
       "      <td>0.25000</td>\n",
       "      <td>0.33333</td>\n",
       "      <td>0.41667</td>\n",
       "      <td>0.50000</td>\n",
       "      <td>0.58333</td>\n",
       "      <td>0.66667</td>\n",
       "      <td>0.75000</td>\n",
       "      <td>0.83333</td>\n",
       "      <td>0.00000</td>\n",
       "      <td>0.00000</td>\n",
       "      <td>0.00000</td>\n",
       "      <td>0.00000</td>\n",
       "      <td>0.00000</td>\n",
       "      <td>2.00000</td>\n",
       "      <td>2.00000</td>\n",
       "      <td>5.00000</td>\n",
       "      <td>1.00000</td>\n",
       "      <td>1.00000</td>\n",
       "      <td>0.26439</td>\n",
       "      <td>-0.34734</td>\n",
       "      <td>1.00000</td>\n",
       "      <td>0.45683</td>\n",
       "      <td>0.21163</td>\n",
       "      <td>0.41367</td>\n",
       "      <td>0.15827</td>\n",
       "      <td>0.00000</td>\n",
       "      <td>0.53486</td>\n",
       "      <td>0.53564</td>\n",
       "      <td>0.27817</td>\n",
       "      <td>0.07738</td>\n",
       "      <td>3.43295</td>\n",
       "      <td>0.05018</td>\n",
       "      <td>3.43295</td>\n",
       "      <td>0.08065</td>\n",
       "      <td>0.95351</td>\n",
       "      <td>0.16678</td>\n",
       "      <td>0.08437</td>\n",
       "      <td>0.10791</td>\n",
       "      <td>0.02878</td>\n",
       "      <td>2.00000</td>\n",
       "      <td>0.00000</td>\n",
       "      <td>1.00000</td>\n",
       "      <td>3.00000</td>\n",
       "      <td>11.31607</td>\n",
       "      <td>0.06037</td>\n",
       "      <td>1.83453</td>\n",
       "      <td>31.20862</td>\n",
       "      <td>1.00000</td>\n",
       "      <td>0.74101</td>\n",
       "      <td>0</td>\n",
       "      <td>0</td>\n",
       "      <td>0.31655</td>\n",
       "      <td>0.29496</td>\n",
       "      <td>1.00000</td>\n",
       "      <td>0.38796</td>\n",
       "      <td>0.15051</td>\n",
       "      <td>-1.66528</td>\n",
       "      <td>0.58873</td>\n",
       "      <td>0</td>\n",
       "      <td>0</td>\n",
       "      <td>0.10874</td>\n",
       "      <td>0.29496</td>\n",
       "      <td>1.00000</td>\n",
       "      <td>0.29897</td>\n",
       "      <td>0.08938</td>\n",
       "      <td>0.78392</td>\n",
       "      <td>-1.71549</td>\n",
       "      <td>0.45683</td>\n",
       "      <td>1</td>\n",
       "      <td>0</td>\n",
       "      <td>0.06037</td>\n",
       "      <td>0.00000</td>\n",
       "      <td>1.00000</td>\n",
       "      <td>0.29054</td>\n",
       "      <td>0.08442</td>\n",
       "      <td>0.61540</td>\n",
       "      <td>0.18145</td>\n",
       "    </tr>\n",
       "    <tr>\n",
       "      <th>4</th>\n",
       "      <td>4292</td>\n",
       "      <td>0.00000</td>\n",
       "      <td>0.63043</td>\n",
       "      <td>0.80435</td>\n",
       "      <td>0.36957</td>\n",
       "      <td>0.60870</td>\n",
       "      <td>0.60870</td>\n",
       "      <td>0.76087</td>\n",
       "      <td>0.47826</td>\n",
       "      <td>1.00000</td>\n",
       "      <td>0.93478</td>\n",
       "      <td>0.73913</td>\n",
       "      <td>0.45652</td>\n",
       "      <td>2.00000</td>\n",
       "      <td>9.00000</td>\n",
       "      <td>0.36957</td>\n",
       "      <td>0.76087</td>\n",
       "      <td>0.08333</td>\n",
       "      <td>0.16667</td>\n",
       "      <td>0.25000</td>\n",
       "      <td>0.33333</td>\n",
       "      <td>0.41667</td>\n",
       "      <td>0.50000</td>\n",
       "      <td>0.58333</td>\n",
       "      <td>0.66667</td>\n",
       "      <td>0.75000</td>\n",
       "      <td>0.83333</td>\n",
       "      <td>0.00000</td>\n",
       "      <td>0.00000</td>\n",
       "      <td>0.00000</td>\n",
       "      <td>0.00000</td>\n",
       "      <td>0.00000</td>\n",
       "      <td>1.00000</td>\n",
       "      <td>1.00000</td>\n",
       "      <td>2.00000</td>\n",
       "      <td>5.00000</td>\n",
       "      <td>3.00000</td>\n",
       "      <td>0.29891</td>\n",
       "      <td>0.37708</td>\n",
       "      <td>1.00000</td>\n",
       "      <td>0.61594</td>\n",
       "      <td>0.19565</td>\n",
       "      <td>0.61957</td>\n",
       "      <td>0.15217</td>\n",
       "      <td>0.00000</td>\n",
       "      <td>0.66822</td>\n",
       "      <td>-0.74080</td>\n",
       "      <td>0.25910</td>\n",
       "      <td>0.06713</td>\n",
       "      <td>5.35822</td>\n",
       "      <td>0.07163</td>\n",
       "      <td>5.35822</td>\n",
       "      <td>0.06370</td>\n",
       "      <td>0.95351</td>\n",
       "      <td>0.27075</td>\n",
       "      <td>0.04150</td>\n",
       "      <td>0.23913</td>\n",
       "      <td>0.00000</td>\n",
       "      <td>2.00000</td>\n",
       "      <td>0.00000</td>\n",
       "      <td>1.00000</td>\n",
       "      <td>3.00000</td>\n",
       "      <td>11.55462</td>\n",
       "      <td>0.03436</td>\n",
       "      <td>2.97826</td>\n",
       "      <td>48.71112</td>\n",
       "      <td>1.00000</td>\n",
       "      <td>0.71014</td>\n",
       "      <td>0</td>\n",
       "      <td>0</td>\n",
       "      <td>-0.23913</td>\n",
       "      <td>0.45652</td>\n",
       "      <td>0.93478</td>\n",
       "      <td>0.24044</td>\n",
       "      <td>0.05781</td>\n",
       "      <td>-0.53459</td>\n",
       "      <td>0.72826</td>\n",
       "      <td>0</td>\n",
       "      <td>0</td>\n",
       "      <td>-0.02298</td>\n",
       "      <td>0.45652</td>\n",
       "      <td>1.00000</td>\n",
       "      <td>0.22540</td>\n",
       "      <td>0.05080</td>\n",
       "      <td>-0.17764</td>\n",
       "      <td>-1.73921</td>\n",
       "      <td>0.61594</td>\n",
       "      <td>1</td>\n",
       "      <td>0</td>\n",
       "      <td>0.03436</td>\n",
       "      <td>0.00000</td>\n",
       "      <td>1.00000</td>\n",
       "      <td>0.27062</td>\n",
       "      <td>0.07324</td>\n",
       "      <td>-0.85111</td>\n",
       "      <td>1.33248</td>\n",
       "    </tr>\n",
       "  </tbody>\n",
       "</table>\n",
       "</div>"
      ],
      "text/plain": [
       "   index  12_anterior  11_anterior  10_anterior  9_anterior  8_anterior  \\\n",
       "0   1857      0.57831      0.71687      0.68675     0.75904     1.00000   \n",
       "1    678      0.94118      0.64706      0.41176     0.44118     1.00000   \n",
       "2   4471      0.60989      0.70330      0.77473     1.00000     0.73626   \n",
       "3   7858      0.00000      0.18705      0.21583     0.42446     0.64748   \n",
       "4   4292      0.00000      0.63043      0.80435     0.36957     0.60870   \n",
       "\n",
       "   7_anterior  6_anterior  5_anterior  4_anterior  3_anterior  2_anterior  \\\n",
       "0     0.42169     0.00000     0.12048     0.18072     0.15663     0.11446   \n",
       "1     0.38235     0.55882     0.67647     0.55882     0.64706     0.00000   \n",
       "2     0.00000     0.00000     0.00000     0.00000     0.36813     0.14286   \n",
       "3     0.47482     0.50360     0.40288     0.40288     0.29496     1.00000   \n",
       "4     0.60870     0.76087     0.47826     1.00000     0.93478     0.73913   \n",
       "\n",
       "   1_anterior  0_ECDF Percentile Count_0  0_ECDF Percentile Count_1  \\\n",
       "0     0.15060                    2.00000                    9.00000   \n",
       "1     0.47059                    2.00000                    9.00000   \n",
       "2     0.00000                    2.00000                    9.00000   \n",
       "3     0.92806                    2.00000                    9.00000   \n",
       "4     0.45652                    2.00000                    9.00000   \n",
       "\n",
       "   0_ECDF Percentile_0  0_ECDF Percentile_1  0_ECDF_0  0_ECDF_1  0_ECDF_2  \\\n",
       "0              0.11446              0.68675   0.08333   0.16667   0.25000   \n",
       "1              0.38235              0.64706   0.08333   0.16667   0.25000   \n",
       "2              0.00000              0.70330   0.08333   0.16667   0.25000   \n",
       "3              0.18705              0.50360   0.08333   0.16667   0.25000   \n",
       "4              0.36957              0.76087   0.08333   0.16667   0.25000   \n",
       "\n",
       "   0_ECDF_3  0_ECDF_4  0_ECDF_5  0_ECDF_6  0_ECDF_7  0_ECDF_8  0_ECDF_9  \\\n",
       "0   0.33333   0.41667   0.50000   0.58333   0.66667   0.75000   0.83333   \n",
       "1   0.33333   0.41667   0.50000   0.58333   0.66667   0.75000   0.83333   \n",
       "2   0.33333   0.41667   0.50000   0.58333   0.66667   0.75000   0.83333   \n",
       "3   0.33333   0.41667   0.50000   0.58333   0.66667   0.75000   0.83333   \n",
       "4   0.33333   0.41667   0.50000   0.58333   0.66667   0.75000   0.83333   \n",
       "\n",
       "   0_Histogram_0  0_Histogram_1  0_Histogram_2  0_Histogram_3  0_Histogram_4  \\\n",
       "0        0.00000        0.00000        0.00000        0.00000        0.00000   \n",
       "1        0.00000        0.00000        0.00000        0.00000        0.00000   \n",
       "2        0.00000        0.00000        0.00000        0.00000        0.00000   \n",
       "3        0.00000        0.00000        0.00000        0.00000        0.00000   \n",
       "4        0.00000        0.00000        0.00000        0.00000        0.00000   \n",
       "\n",
       "   0_Histogram_5  0_Histogram_6  0_Histogram_7  0_Histogram_8  0_Histogram_9  \\\n",
       "0        6.00000        0.00000        2.00000        3.00000        1.00000   \n",
       "1        1.00000        1.00000        5.00000        3.00000        2.00000   \n",
       "2        6.00000        1.00000        0.00000        4.00000        1.00000   \n",
       "3        2.00000        2.00000        5.00000        1.00000        1.00000   \n",
       "4        1.00000        1.00000        2.00000        5.00000        3.00000   \n",
       "\n",
       "   0_Interquartile range  0_Kurtosis   0_Max  0_Mean  \\\n",
       "0                0.55120    -1.24846 1.00000 0.40713   \n",
       "1                0.22059     0.33521 1.00000 0.56127   \n",
       "2                0.71154    -1.49562 1.00000 0.36126   \n",
       "3                0.26439    -0.34734 1.00000 0.45683   \n",
       "4                0.29891     0.37708 1.00000 0.61594   \n",
       "\n",
       "   0_Mean absolute deviation  0_Median  0_Median absolute deviation   0_Min  \\\n",
       "0                    0.28665   0.30120                      0.23193 0.00000   \n",
       "1                    0.18423   0.55882                      0.11765 0.00000   \n",
       "2                    0.33745   0.25549                      0.25549 0.00000   \n",
       "3                    0.21163   0.41367                      0.15827 0.00000   \n",
       "4                    0.19565   0.61957                      0.15217 0.00000   \n",
       "\n",
       "   0_Root mean square  0_Skewness  0_Standard deviation  0_Variance  \\\n",
       "0             0.51490     0.39445               0.31522     0.09936   \n",
       "1             0.61490    -0.24358               0.25114     0.06307   \n",
       "2             0.51355     0.33115               0.36500     0.13322   \n",
       "3             0.53486     0.53564               0.27817     0.07738   \n",
       "4             0.66822    -0.74080               0.25910     0.06713   \n",
       "\n",
       "   0_Absolute energy  0_Area under the curve  0_Autocorrelation  0_Centroid  \\\n",
       "0            3.18141                 0.04521            3.18141     0.02841   \n",
       "1            4.53720                 0.06029            4.53720     0.04375   \n",
       "2            3.16480                 0.04030            3.16480     0.02619   \n",
       "3            3.43295                 0.05018            3.43295     0.08065   \n",
       "4            5.35822                 0.07163            5.35822     0.06370   \n",
       "\n",
       "   0_Entropy  0_Mean absolute diff  0_Mean diff  0_Median absolute diff  \\\n",
       "0    1.00000               0.16046     -0.03888                 0.07229   \n",
       "1    0.90702               0.30481     -0.04278                 0.23529   \n",
       "2    0.73013               0.19331     -0.05544                 0.14286   \n",
       "3    0.95351               0.16678      0.08437                 0.10791   \n",
       "4    0.95351               0.27075      0.04150                 0.23913   \n",
       "\n",
       "   0_Median diff  0_Negative turning points  0_Neighbourhood peaks  \\\n",
       "0        0.03614                    3.00000                0.00000   \n",
       "1        0.02941                    4.00000                0.00000   \n",
       "2        0.00000                    0.00000                0.00000   \n",
       "3        0.02878                    2.00000                0.00000   \n",
       "4        0.00000                    2.00000                0.00000   \n",
       "\n",
       "   0_Peak to peak distance  0_Positive turning points  0_Signal distance  \\\n",
       "0                  1.00000                    3.00000           11.29257   \n",
       "1                  1.00000                    3.00000           11.72042   \n",
       "2                  1.00000                    2.00000           11.40878   \n",
       "3                  1.00000                    3.00000           11.31607   \n",
       "4                  1.00000                    3.00000           11.55462   \n",
       "\n",
       "   0_Slope  0_Sum absolute diff  0_Total energy  0_Zero crossing rate  mean_3  \\\n",
       "0 -0.06919              1.76506        28.92193               2.00000 0.14056   \n",
       "1 -0.03342              3.35294        41.24725               2.00000 0.37255   \n",
       "2 -0.07625              2.12637        28.77095               3.00000 0.17033   \n",
       "3  0.06037              1.83453        31.20862               1.00000 0.74101   \n",
       "4  0.03436              2.97826        48.71112               1.00000 0.71014   \n",
       "\n",
       "   cant_ceros_3  max_cant_ceros_seg_3  slope_3  min_cons3  max_cons3  \\\n",
       "0             0                     0 -0.00301    0.11446    0.15663   \n",
       "1             1                     0 -0.08824    0.00000    0.64706   \n",
       "2             1                     0 -0.18407    0.00000    0.36813   \n",
       "3             0                     0  0.31655    0.29496    1.00000   \n",
       "4             0                     0 -0.23913    0.45652    0.93478   \n",
       "\n",
       "   std_cons3  var_cons3  skew_cons3  mean_6  cant_ceros_6  \\\n",
       "0    0.02281    0.00052    -1.59710 0.12048             1   \n",
       "1    0.33448    0.11188    -1.20566 0.48529             1   \n",
       "2    0.18560    0.03445     0.65151 0.08516             4   \n",
       "3    0.38796    0.15051    -1.66528 0.58873             0   \n",
       "4    0.24044    0.05781    -0.53459 0.72826             0   \n",
       "\n",
       "   max_cant_ceros_seg_6  slope_6  min_cons6  max_cons6  std_cons6  var_cons6  \\\n",
       "0                     0  0.02031    0.00000    0.18072    0.06387    0.00408   \n",
       "1                     0 -0.06807    0.00000    0.67647    0.24870    0.06185   \n",
       "2                     3  0.02276    0.00000    0.36813    0.14994    0.02248   \n",
       "3                     0  0.10874    0.29496    1.00000    0.29897    0.08938   \n",
       "4                     0 -0.02298    0.45652    1.00000    0.22540    0.05080   \n",
       "\n",
       "   skew_cons6  kurt_cons6  mean_12  cant_ceros_12  max_cant_ceros_seg_12  \\\n",
       "0    -1.67666     3.27570  0.40713              1                      0   \n",
       "1    -1.99475     4.27939  0.56127              1                      0   \n",
       "2     1.81357     2.93577  0.36126              5                      4   \n",
       "3     0.78392    -1.71549  0.45683              1                      0   \n",
       "4    -0.17764    -1.73921  0.61594              1                      0   \n",
       "\n",
       "   slope_12  min_cons12  max_cons12  std_cons12  var_cons12  skew_cons12  \\\n",
       "0  -0.06919     0.00000     1.00000     0.32924     0.10840      0.45319   \n",
       "1  -0.03342     0.00000     1.00000     0.26231     0.06880     -0.27986   \n",
       "2  -0.07625     0.00000     1.00000     0.38123     0.14533      0.38046   \n",
       "3   0.06037     0.00000     1.00000     0.29054     0.08442      0.61540   \n",
       "4   0.03436     0.00000     1.00000     0.27062     0.07324     -0.85111   \n",
       "\n",
       "   kurt_cons12  \n",
       "0     -1.25033  \n",
       "1      1.26595  \n",
       "2     -1.64305  \n",
       "3      0.18145  \n",
       "4      1.33248  "
      ]
     },
     "execution_count": 65,
     "metadata": {},
     "output_type": "execute_result"
    }
   ],
   "source": [
    "df_features.head()"
   ]
  },
  {
   "cell_type": "code",
   "execution_count": 66,
   "id": "6098ba1b-3b1c-4b02-a3ca-7ef4a2afe91e",
   "metadata": {
    "tags": []
   },
   "outputs": [
    {
     "data": {
      "text/plain": [
       "10000"
      ]
     },
     "execution_count": 66,
     "metadata": {},
     "output_type": "execute_result"
    }
   ],
   "source": [
    "df_features['index'].nunique()"
   ]
  },
  {
   "cell_type": "markdown",
   "id": "6ebd3d51-4eff-4988-82de-05931204d6ae",
   "metadata": {},
   "source": [
    "### Seleccion de variables"
   ]
  },
  {
   "cell_type": "code",
   "execution_count": 67,
   "id": "1bcba7a0-07ca-4c1f-a415-106c1625daaa",
   "metadata": {
    "tags": []
   },
   "outputs": [],
   "source": [
    "def feature_selection_by_correlation(x_train, y_train, variables,method='pearson', th=0.9):\n",
    "    print('Calculando Correlación Entre Variables')\n",
    "    x_train['target'] = y_train\n",
    "    df_corr = x_train[variables + ['target']].corr(method=method)\n",
    "    # Buscar variables mas correlacionadas\n",
    "    vars_to_drop_corr = []\n",
    "    for x in variables:\n",
    "        for y in variables:\n",
    "            if x != y:\n",
    "                c_value = df_corr[x][y]\n",
    "                if np.abs(c_value) > th:\n",
    "                    corr_x_t = np.abs(df_corr[x]['target'])\n",
    "                    corr_y_t = np.abs(df_corr[y]['target'])\n",
    "                    if corr_x_t > corr_y_t:\n",
    "                        vars_to_drop_corr.append(y)\n",
    "    x_train.drop(columns=['target'],inplace=True)\n",
    "    print('Eliminando Variables Altamente Correlacionadas')\n",
    "    variables = [x for x in variables if x not in vars_to_drop_corr]\n",
    "    return variables\n",
    "\n",
    "def feature_selection_by_constant(x_train, y_train, variables, th=0.99):\n",
    "    num_rows = x_train.shape[0]\n",
    "    allLabels = variables\n",
    "    constant_per_feature = {label: x_train[label].value_counts().iloc[0]/num_rows for label in allLabels}\n",
    "    variables_to_drop = [label for label in allLabels if constant_per_feature [label] > th]\n",
    "    variables = [x for x in variables if x not in variables_to_drop]\n",
    "    return variables\n",
    "\n",
    "def feature_selection_by_boruta(X_train, y_train, N=10):\n",
    "    d = {}\n",
    "    X_train = X_train.copy()\n",
    "    y_train = y_train.copy()\n",
    "    for i in tqdm(range(N),total=N):\n",
    "        # Hacemos eliminacion de variables por Boruta.\n",
    "        X_train['random'] = [np.random.randn() for i in range(len(X_train))]\n",
    "        rf = RandomForestClassifier(n_jobs=-1, class_weight='balanced', max_depth=8)\n",
    "        feat_selector = BorutaPy(rf, n_estimators='auto', verbose=0, random_state=i, perc=100)\n",
    "        feat_selector.fit(X_train.values, y_train.values)\n",
    "        ranking = pd.DataFrame({'col': X_train.columns, 'ranking': feat_selector.ranking_}).sort_values(\n",
    "            ['ranking']).reset_index(drop=True)\n",
    "        variables = ranking.head(ranking.loc[ranking.col == 'random'].index.values[0]).col.values\n",
    "        d[i] = variables\n",
    "\n",
    "    E = {}\n",
    "    for i in d.keys():\n",
    "        for j in d[i]:\n",
    "            if j not in E.keys():\n",
    "                E[j] = 1\n",
    "            else:\n",
    "                E[j] += 1\n",
    "\n",
    "    variables = [k for k in E.keys() if E[k] >= N // 2]\n",
    "    return variables"
   ]
  },
  {
   "cell_type": "code",
   "execution_count": 69,
   "id": "d2eedbd0-a1d5-4670-9f53-30c931dc9f51",
   "metadata": {
    "tags": []
   },
   "outputs": [],
   "source": [
    "cols_for_feature_sel = [x for x in df_features.columns if x not in ['index'] + variables_consumo]\n",
    "y_train = df_train.loc[df_features['index']].target"
   ]
  },
  {
   "cell_type": "code",
   "execution_count": 70,
   "id": "a2b1800c-7026-4290-a2f9-145b401139ae",
   "metadata": {
    "tags": []
   },
   "outputs": [
    {
     "name": "stdout",
     "output_type": "stream",
     "text": [
      " # variables No constantes 65\n",
      "CPU times: user 99.4 ms, sys: 0 ns, total: 99.4 ms\n",
      "Wall time: 98.5 ms\n"
     ]
    }
   ],
   "source": [
    "%%time\n",
    "select_by_constant = feature_selection_by_constant(df_features, y_train, cols_for_feature_sel, th=0.99)\n",
    "# pd.Series(sorted(select_by_constant)).to_csv('tmp/features_by_constante_12.csv', index=False)\n",
    "print(f\" # variables No constantes {len(select_by_constant)}\")"
   ]
  },
  {
   "cell_type": "code",
   "execution_count": 71,
   "id": "e49e2fe1-8d4b-42ff-8045-8bd87e6f2c58",
   "metadata": {
    "tags": []
   },
   "outputs": [
    {
     "name": "stdout",
     "output_type": "stream",
     "text": [
      "Calculando Correlación Entre Variables\n",
      "Eliminando Variables Altamente Correlacionadas\n",
      " # variables No correlacionadas 49\n",
      "CPU times: user 166 ms, sys: 0 ns, total: 166 ms\n",
      "Wall time: 165 ms\n"
     ]
    }
   ],
   "source": [
    "%%time\n",
    "select_by_corr = feature_selection_by_correlation(df_features, y_train, select_by_constant,method='pearson', th=0.95)\n",
    "# pd.Series(sorted(select_by_corr)).to_csv('tmp/features_by_corr_12.csv', index=False)\n",
    "print(f\" # variables No correlacionadas {len(select_by_corr)}\")"
   ]
  },
  {
   "cell_type": "code",
   "execution_count": 72,
   "id": "62574264-a117-4a5b-a6f0-06e41710691d",
   "metadata": {
    "tags": []
   },
   "outputs": [],
   "source": [
    "from sklearn.ensemble import RandomForestClassifier\n",
    "from boruta import BorutaPy"
   ]
  },
  {
   "cell_type": "code",
   "execution_count": 73,
   "id": "881b7618-9d9a-4ce3-b896-0a5d372f5840",
   "metadata": {
    "tags": []
   },
   "outputs": [
    {
     "data": {
      "application/vnd.jupyter.widget-view+json": {
       "model_id": "4ee5bc725ca045c78fca80cf90d30701",
       "version_major": 2,
       "version_minor": 0
      },
      "text/plain": [
       "  0%|          | 0/5 [00:00<?, ?it/s]"
      ]
     },
     "metadata": {},
     "output_type": "display_data"
    },
    {
     "name": "stdout",
     "output_type": "stream",
     "text": [
      " # variables seleccionadas por Boruta : 13\n",
      "CPU times: user 12min 47s, sys: 12.9 s, total: 13min\n",
      "Wall time: 2min 35s\n"
     ]
    }
   ],
   "source": [
    "%%time\n",
    "select_by_boruta = feature_selection_by_boruta(df_features[select_by_constant], y_train, N=5)\n",
    "# pd.Series(sorted(select_by_boruta)).to_csv('tmp/features_by_const_boruta_12.csv', index=False)\n",
    "print(f\" # variables seleccionadas por Boruta : {len(select_by_boruta)}\")"
   ]
  },
  {
   "cell_type": "code",
   "execution_count": 74,
   "id": "91987025-f3fa-4ac2-b235-22c1ef594c34",
   "metadata": {
    "tags": []
   },
   "outputs": [
    {
     "data": {
      "text/plain": [
       "['var_cons3',\n",
       " 'std_cons3',\n",
       " '0_Sum absolute diff',\n",
       " '0_Median absolute diff',\n",
       " '0_Mean absolute diff',\n",
       " '0_Centroid',\n",
       " '0_Signal distance',\n",
       " 'mean_3',\n",
       " 'std_cons6',\n",
       " 'max_cons3',\n",
       " '0_Median diff',\n",
       " 'var_cons6',\n",
       " '0_Entropy']"
      ]
     },
     "execution_count": 74,
     "metadata": {},
     "output_type": "execute_result"
    }
   ],
   "source": [
    "select_by_boruta"
   ]
  },
  {
   "cell_type": "markdown",
   "id": "38222442-c49f-49d7-a3ae-01595b878044",
   "metadata": {},
   "source": [
    "### Columnas Categoricas"
   ]
  },
  {
   "cell_type": "code",
   "execution_count": 75,
   "id": "f232a784-d5e3-42e2-a41a-19e9361b6921",
   "metadata": {
    "tags": []
   },
   "outputs": [],
   "source": [
    "variables_categoricas = ['zona_nivel_2','actividad','material_instalacion','seg_tarifa_nivel_2']"
   ]
  },
  {
   "cell_type": "code",
   "execution_count": 77,
   "id": "942a14c0-c6ac-461f-9be0-65572d72a418",
   "metadata": {
    "tags": []
   },
   "outputs": [
    {
     "data": {
      "text/html": [
       "<div>\n",
       "<style scoped>\n",
       "    .dataframe tbody tr th:only-of-type {\n",
       "        vertical-align: middle;\n",
       "    }\n",
       "\n",
       "    .dataframe tbody tr th {\n",
       "        vertical-align: top;\n",
       "    }\n",
       "\n",
       "    .dataframe thead th {\n",
       "        text-align: right;\n",
       "    }\n",
       "</style>\n",
       "<table border=\"1\" class=\"dataframe\">\n",
       "  <thead>\n",
       "    <tr style=\"text-align: right;\">\n",
       "      <th></th>\n",
       "      <th>zona_nivel_2</th>\n",
       "      <th>actividad</th>\n",
       "      <th>material_instalacion</th>\n",
       "      <th>seg_tarifa_nivel_2</th>\n",
       "    </tr>\n",
       "  </thead>\n",
       "  <tbody>\n",
       "    <tr>\n",
       "      <th>1857</th>\n",
       "      <td>x1_AHFDFBDDDC</td>\n",
       "      <td>x2_FBHEEGGGAC</td>\n",
       "      <td>x5_BBDEGCIHEF</td>\n",
       "      <td>x4_FAAACEDCCB</td>\n",
       "    </tr>\n",
       "    <tr>\n",
       "      <th>678</th>\n",
       "      <td>x1_GFDECDCAEH</td>\n",
       "      <td>x2_AFFCADFBCD</td>\n",
       "      <td>x5_BBDEGCIHEF</td>\n",
       "      <td>x4_FAAACEDCCB</td>\n",
       "    </tr>\n",
       "    <tr>\n",
       "      <th>4471</th>\n",
       "      <td>None</td>\n",
       "      <td>None</td>\n",
       "      <td>x5_BBDEGCIHEF</td>\n",
       "      <td>None</td>\n",
       "    </tr>\n",
       "    <tr>\n",
       "      <th>7858</th>\n",
       "      <td>x1_DICECBEICE</td>\n",
       "      <td>x2_GHGDAACEIE</td>\n",
       "      <td>x5_EDBADCFGIF</td>\n",
       "      <td>x4_FAAACEDCCB</td>\n",
       "    </tr>\n",
       "    <tr>\n",
       "      <th>4292</th>\n",
       "      <td>x1_IDDGEHHFBF</td>\n",
       "      <td>x2_GHGDAACEIE</td>\n",
       "      <td>x5_CGECCBDIFH</td>\n",
       "      <td>x4_FAAACEDCCB</td>\n",
       "    </tr>\n",
       "  </tbody>\n",
       "</table>\n",
       "</div>"
      ],
      "text/plain": [
       "       zona_nivel_2      actividad material_instalacion seg_tarifa_nivel_2\n",
       "1857  x1_AHFDFBDDDC  x2_FBHEEGGGAC        x5_BBDEGCIHEF      x4_FAAACEDCCB\n",
       "678   x1_GFDECDCAEH  x2_AFFCADFBCD        x5_BBDEGCIHEF      x4_FAAACEDCCB\n",
       "4471           None           None        x5_BBDEGCIHEF               None\n",
       "7858  x1_DICECBEICE  x2_GHGDAACEIE        x5_EDBADCFGIF      x4_FAAACEDCCB\n",
       "4292  x1_IDDGEHHFBF  x2_GHGDAACEIE        x5_CGECCBDIFH      x4_FAAACEDCCB"
      ]
     },
     "execution_count": 77,
     "metadata": {},
     "output_type": "execute_result"
    }
   ],
   "source": [
    "df_train[variables_categoricas].head()"
   ]
  },
  {
   "cell_type": "markdown",
   "id": "1a5199f5-91f5-4177-85cd-aeebc238b42e",
   "metadata": {
    "tags": []
   },
   "source": [
    "#### zona_nivel_2"
   ]
  },
  {
   "cell_type": "code",
   "execution_count": 78,
   "id": "6073f2b5-a66f-4af1-b9a5-66f30f999f74",
   "metadata": {
    "tags": []
   },
   "outputs": [
    {
     "data": {
      "text/plain": [
       "38"
      ]
     },
     "execution_count": 78,
     "metadata": {},
     "output_type": "execute_result"
    }
   ],
   "source": [
    "df_train.zona_nivel_2.nunique()"
   ]
  },
  {
   "cell_type": "code",
   "execution_count": 79,
   "id": "4896368a-6635-4f5c-bf75-4bba7bee8ba4",
   "metadata": {
    "tags": []
   },
   "outputs": [
    {
     "data": {
      "text/plain": [
       "zona_nivel_2\n",
       "x1_ABDBGBFBAA    6.72269\n",
       "x1_ACCEFFFBFA   10.32609\n",
       "x1_ACCFIEBHCA    2.76243\n",
       "x1_AECCEFGICE    9.09091\n",
       "x1_AHFDFBDDDC    3.48837\n",
       "Name: target, dtype: float64"
      ]
     },
     "execution_count": 79,
     "metadata": {},
     "output_type": "execute_result"
    }
   ],
   "source": [
    "100*df_train.groupby('zona_nivel_2').target.mean().head()"
   ]
  },
  {
   "cell_type": "markdown",
   "id": "378839b5-15bb-4717-a655-acbbbf4adc85",
   "metadata": {},
   "source": [
    "#### actividad"
   ]
  },
  {
   "cell_type": "code",
   "execution_count": 80,
   "id": "737c3dd3-ae65-4668-b1f3-42f7a1aec7be",
   "metadata": {
    "tags": []
   },
   "outputs": [
    {
     "data": {
      "text/plain": [
       "209"
      ]
     },
     "execution_count": 80,
     "metadata": {},
     "output_type": "execute_result"
    }
   ],
   "source": [
    "df_train.actividad.nunique()"
   ]
  },
  {
   "cell_type": "code",
   "execution_count": 81,
   "id": "2a6a5ea4-405f-49c1-917a-2c7a0bf46934",
   "metadata": {
    "tags": []
   },
   "outputs": [
    {
     "data": {
      "text/plain": [
       "actividad\n",
       "x2_AAACFAEACB    0.00000\n",
       "x2_AACBGGHAFC   33.33333\n",
       "x2_AAFIAAABCC    0.00000\n",
       "x2_AAGIACBDBH    7.69231\n",
       "x2_AAHBFECHDI    0.00000\n",
       "Name: target, dtype: float64"
      ]
     },
     "execution_count": 81,
     "metadata": {},
     "output_type": "execute_result"
    }
   ],
   "source": [
    "100*df_train.groupby('actividad').target.mean().head()"
   ]
  },
  {
   "cell_type": "markdown",
   "id": "e03cbf5d-3e49-45f3-8e22-79a1a7a5a6be",
   "metadata": {},
   "source": [
    "### material_instalacion"
   ]
  },
  {
   "cell_type": "code",
   "execution_count": 82,
   "id": "0193a8b1-a0b6-4f3f-a533-c4da8ea74101",
   "metadata": {
    "tags": []
   },
   "outputs": [
    {
     "data": {
      "text/plain": [
       "34"
      ]
     },
     "execution_count": 82,
     "metadata": {},
     "output_type": "execute_result"
    }
   ],
   "source": [
    "df_train.material_instalacion.nunique()"
   ]
  },
  {
   "cell_type": "code",
   "execution_count": 83,
   "id": "f42d43c6-75c3-443a-8ee3-ba10abf30a16",
   "metadata": {
    "tags": []
   },
   "outputs": [
    {
     "data": {
      "text/plain": [
       "material_instalacion\n",
       "x5_AABCGGCDIB     0.00000\n",
       "x5_AGAHBCEFEC     0.00000\n",
       "x5_AIDDIGHDBI   100.00000\n",
       "x5_BBCCDFFBBG     0.00000\n",
       "x5_BBDEGCIHEF    11.10348\n",
       "Name: target, dtype: float64"
      ]
     },
     "execution_count": 83,
     "metadata": {},
     "output_type": "execute_result"
    }
   ],
   "source": [
    "100*df_train.groupby('material_instalacion').target.mean().head()"
   ]
  },
  {
   "cell_type": "markdown",
   "id": "d8a7c3b1-039e-498f-9dc1-55bcaca5b89c",
   "metadata": {},
   "source": [
    "#### seg_tarifa_nivel_2"
   ]
  },
  {
   "cell_type": "code",
   "execution_count": 84,
   "id": "59772795-ed2c-40a7-9396-bdbea2d5605a",
   "metadata": {
    "tags": []
   },
   "outputs": [
    {
     "data": {
      "text/plain": [
       "23"
      ]
     },
     "execution_count": 84,
     "metadata": {},
     "output_type": "execute_result"
    }
   ],
   "source": [
    "df_train.seg_tarifa_nivel_2.nunique()"
   ]
  },
  {
   "cell_type": "code",
   "execution_count": 85,
   "id": "f08b51bd-48a1-4f4f-b790-2d9f3b3ab7f5",
   "metadata": {
    "tags": []
   },
   "outputs": [
    {
     "data": {
      "text/plain": [
       "seg_tarifa_nivel_2\n",
       "x4_AAGIBEAAHG   0.00000\n",
       "x4_AFIEGIBECI   0.00000\n",
       "x4_AIDBGFIFII   0.84034\n",
       "x4_CAHGGDBGEH   0.00000\n",
       "x4_CBCECGEIGF   0.00000\n",
       "Name: target, dtype: float64"
      ]
     },
     "execution_count": 85,
     "metadata": {},
     "output_type": "execute_result"
    }
   ],
   "source": [
    "100*df_train.groupby('seg_tarifa_nivel_2').target.mean().head()"
   ]
  },
  {
   "cell_type": "markdown",
   "id": "79a77ec4-2c51-4fca-a5c9-fc4d06da9cd2",
   "metadata": {
    "tags": []
   },
   "source": [
    "### Pipeline de preprocesamientos"
   ]
  },
  {
   "cell_type": "code",
   "execution_count": 86,
   "id": "a6e3920a-af6f-4d9f-9d7c-4ca47355a821",
   "metadata": {
    "tags": []
   },
   "outputs": [],
   "source": [
    "variables_categoricas = ['zona_nivel_2','actividad','material_instalacion','seg_tarifa_nivel_2']"
   ]
  },
  {
   "cell_type": "code",
   "execution_count": 95,
   "id": "fced3e01-d163-46a5-9013-6f1681b125e4",
   "metadata": {
    "tags": []
   },
   "outputs": [],
   "source": [
    "# Actividad \n",
    "pipe_actividad = Pipeline([\n",
    "            ('cardinality_reducer', CardinalityReducer(threshold=0.001)),\n",
    "            ('a_dummy',ToDummy(['actividad']))\n",
    "        ])\n",
    "\n",
    "# Segmento Tarifa\n",
    "pipe_tarifa = Pipeline([\n",
    "            ('cardinality_reducer', CardinalityReducer(threshold=0.001)),\n",
    "            ('tarifa_te',TeEncoder(['seg_tarifa_nivel_2'],w=20))\n",
    "        ])\n",
    "\n",
    "t_features = [\n",
    "    ('zona_encoder', OrdinalEncoder(handle_unknown='use_encoded_value', unknown_value=-1), ['zona_nivel_2']),\n",
    "    ('material_isntalacion_te', TeEncoder(['material_instalacion'],w=10), ['material_instalacion']),\n",
    "    ('actividad_cr_dummy', pipe_actividad, ['actividad_economica']),\n",
    "    ('tarifa_cr_te', pipe_tarifa, ['seg_tarifa_nivel_2']),\n",
    "    ]\n",
    "\n",
    "preprocessor = ColumnTransformer(transformers= t_features,remainder='passthrough')"
   ]
  },
  {
   "cell_type": "markdown",
   "id": "e67bb7b9-84a6-4175-a2b0-6b5b58ba277e",
   "metadata": {},
   "source": [
    "### Train models"
   ]
  },
  {
   "cell_type": "code",
   "execution_count": null,
   "id": "4673b73b-d583-455d-a987-b29441eba383",
   "metadata": {},
   "outputs": [],
   "source": []
  },
  {
   "cell_type": "code",
   "execution_count": 88,
   "id": "893fb562-1ce5-4267-9ded-4bead5744b51",
   "metadata": {
    "tags": []
   },
   "outputs": [],
   "source": [
    "#Particionar por fecha\n",
    "y_train = df_train.target.copy()\n",
    "df_train = df_train.drop(columns=['target'])\n",
    "\n",
    "y_val = df_val.target.copy()\n",
    "df_val = df_val.drop(columns=['target'])\n",
    "\n",
    "\n",
    "y_test = df_test.target.copy()\n",
    "df_test = df_test.drop(columns=['target'])"
   ]
  },
  {
   "cell_type": "code",
   "execution_count": 90,
   "id": "327d4176-6df8-4d74-99da-e41d1ea0ecfb",
   "metadata": {
    "tags": []
   },
   "outputs": [
    {
     "name": "stdout",
     "output_type": "stream",
     "text": [
      "*** Feature extraction started ***\n"
     ]
    },
    {
     "data": {
      "text/html": [
       "\n",
       "              <p>\n",
       "                  Progress: 100% Complete\n",
       "              <p/>            \n",
       "              <progress\n",
       "                  value='13739'\n",
       "                  max='13739',\n",
       "                  style='width: 25%',\n",
       "              >\n",
       "                  13739\n",
       "              </progress>\n",
       "\n",
       "    "
      ],
      "text/plain": [
       "<IPython.core.display.HTML object>"
      ]
     },
     "metadata": {},
     "output_type": "display_data"
    },
    {
     "name": "stdout",
     "output_type": "stream",
     "text": [
      "\n",
      "*** Feature extraction finished ***\n",
      "*** Feature extraction started ***\n"
     ]
    },
    {
     "data": {
      "text/html": [
       "\n",
       "              <p>\n",
       "                  Progress: 100% Complete\n",
       "              <p/>            \n",
       "              <progress\n",
       "                  value='13739'\n",
       "                  max='13739',\n",
       "                  style='width: 25%',\n",
       "              >\n",
       "                  13739\n",
       "              </progress>\n",
       "\n",
       "    "
      ],
      "text/plain": [
       "<IPython.core.display.HTML object>"
      ]
     },
     "metadata": {},
     "output_type": "display_data"
    },
    {
     "name": "stdout",
     "output_type": "stream",
     "text": [
      "\n",
      "*** Feature extraction finished ***\n"
     ]
    }
   ],
   "source": [
    "df_train = pipe_feature_engeniering_consumo.fit_transform(df_train)"
   ]
  },
  {
   "cell_type": "code",
   "execution_count": 89,
   "id": "63910ef9-1de1-4b92-bf51-e59c8260355a",
   "metadata": {
    "tags": []
   },
   "outputs": [
    {
     "name": "stdout",
     "output_type": "stream",
     "text": [
      "*** Feature extraction started ***\n"
     ]
    },
    {
     "data": {
      "text/html": [
       "\n",
       "              <p>\n",
       "                  Progress: 100% Complete\n",
       "              <p/>            \n",
       "              <progress\n",
       "                  value='2276'\n",
       "                  max='2276',\n",
       "                  style='width: 25%',\n",
       "              >\n",
       "                  2276\n",
       "              </progress>\n",
       "\n",
       "    "
      ],
      "text/plain": [
       "<IPython.core.display.HTML object>"
      ]
     },
     "metadata": {},
     "output_type": "display_data"
    },
    {
     "name": "stdout",
     "output_type": "stream",
     "text": [
      "\n",
      "*** Feature extraction finished ***\n",
      "*** Feature extraction started ***\n"
     ]
    },
    {
     "data": {
      "text/html": [
       "\n",
       "              <p>\n",
       "                  Progress: 100% Complete\n",
       "              <p/>            \n",
       "              <progress\n",
       "                  value='2276'\n",
       "                  max='2276',\n",
       "                  style='width: 25%',\n",
       "              >\n",
       "                  2276\n",
       "              </progress>\n",
       "\n",
       "    "
      ],
      "text/plain": [
       "<IPython.core.display.HTML object>"
      ]
     },
     "metadata": {},
     "output_type": "display_data"
    },
    {
     "name": "stdout",
     "output_type": "stream",
     "text": [
      "\n",
      "*** Feature extraction finished ***\n"
     ]
    }
   ],
   "source": [
    "df_val = pipe_feature_engeniering_consumo.fit_transform(df_val)"
   ]
  },
  {
   "cell_type": "code",
   "execution_count": 91,
   "id": "89f2b418-d5d2-4b89-8a5f-54a4c08cb6cc",
   "metadata": {
    "tags": []
   },
   "outputs": [
    {
     "name": "stdout",
     "output_type": "stream",
     "text": [
      "*** Feature extraction started ***\n"
     ]
    },
    {
     "data": {
      "text/html": [
       "\n",
       "              <p>\n",
       "                  Progress: 100% Complete\n",
       "              <p/>            \n",
       "              <progress\n",
       "                  value='5146'\n",
       "                  max='5146',\n",
       "                  style='width: 25%',\n",
       "              >\n",
       "                  5146\n",
       "              </progress>\n",
       "\n",
       "    "
      ],
      "text/plain": [
       "<IPython.core.display.HTML object>"
      ]
     },
     "metadata": {},
     "output_type": "display_data"
    },
    {
     "name": "stdout",
     "output_type": "stream",
     "text": [
      "\n",
      "*** Feature extraction finished ***\n",
      "*** Feature extraction started ***\n"
     ]
    },
    {
     "data": {
      "text/html": [
       "\n",
       "              <p>\n",
       "                  Progress: 100% Complete\n",
       "              <p/>            \n",
       "              <progress\n",
       "                  value='5146'\n",
       "                  max='5146',\n",
       "                  style='width: 25%',\n",
       "              >\n",
       "                  5146\n",
       "              </progress>\n",
       "\n",
       "    "
      ],
      "text/plain": [
       "<IPython.core.display.HTML object>"
      ]
     },
     "metadata": {},
     "output_type": "display_data"
    },
    {
     "name": "stdout",
     "output_type": "stream",
     "text": [
      "\n",
      "*** Feature extraction finished ***\n"
     ]
    }
   ],
   "source": [
    "df_test = pipe_feature_engeniering_consumo.fit_transform(df_test)"
   ]
  },
  {
   "cell_type": "code",
   "execution_count": 151,
   "id": "79fb40f4-3cf6-49ea-9ee0-95e9cf195c03",
   "metadata": {
    "tags": []
   },
   "outputs": [
    {
     "data": {
      "text/plain": [
       "0    12383\n",
       "1     1356\n",
       "Name: target, dtype: int64"
      ]
     },
     "execution_count": 151,
     "metadata": {},
     "output_type": "execute_result"
    }
   ],
   "source": [
    "y_train.value_counts(normalize=False)"
   ]
  },
  {
   "cell_type": "code",
   "execution_count": 219,
   "id": "db9fba5a-a01b-424f-a0d8-6e1e35ac3118",
   "metadata": {
    "tags": []
   },
   "outputs": [],
   "source": [
    "cols_for_model = variables_categoricas+cols_consumo+select_by_corr"
   ]
  },
  {
   "cell_type": "code",
   "execution_count": 220,
   "id": "d87efedf-d0f8-49ea-9d28-602332cd05bd",
   "metadata": {
    "tags": []
   },
   "outputs": [],
   "source": [
    "sampling_th = 0.4\n",
    "param_imb_method = 'under'"
   ]
  },
  {
   "cell_type": "code",
   "execution_count": 221,
   "id": "a6892110-2cd5-4cfd-83b1-b7c1502a1986",
   "metadata": {
    "tags": []
   },
   "outputs": [
    {
     "name": "stdout",
     "output_type": "stream",
     "text": [
      "\n",
      "Best score reached: 0.6976470174518922 with params: {'lgbmclassifier__colsample_bytree': 0.5724726792874275, 'lgbmclassifier__learning_rate': 0.09042371348412374, 'lgbmclassifier__max_bin': 128, 'lgbmclassifier__max_depth': 5, 'lgbmclassifier__min_child_samples': 240, 'lgbmclassifier__min_child_weight': 0.001, 'lgbmclassifier__num_leaves': 40, 'lgbmclassifier__reg_alpha': 5, 'lgbmclassifier__reg_lambda': 0.001, 'lgbmclassifier__scale_pos_weight': 5, 'lgbmclassifier__subsample': 0.8087445946527063, 'lgbmclassifier__subsample_freq': 11} \n",
      "CPU times: user 5.73 s, sys: 134 ms, total: 5.86 s\n",
      "Wall time: 4.78 s\n"
     ]
    }
   ],
   "source": [
    "%%time\n",
    "train_lgbm_model = LGBMModel(cols_for_model,\n",
    "                             hyperparams=None,\n",
    "                             search_hip=True,\n",
    "                             sampling_th = sampling_th,\n",
    "                             preprocesor_num=4,\n",
    "                             sampling_method=param_imb_method)\n",
    "lgbm_model = train_lgbm_model.train(df_train,y_train,df_val, y_val)"
   ]
  },
  {
   "cell_type": "code",
   "execution_count": 222,
   "id": "64610892-57bc-4f52-af6e-a146c56d8768",
   "metadata": {
    "tags": []
   },
   "outputs": [],
   "source": [
    "y_pred_test_lgbm = lgbm_model.predict_proba(df_test[cols_for_model])[:,1]"
   ]
  },
  {
   "cell_type": "code",
   "execution_count": 223,
   "id": "69861a01-d010-4b57-a42e-17ec4caeb8a5",
   "metadata": {
    "tags": []
   },
   "outputs": [
    {
     "name": "stdout",
     "output_type": "stream",
     "text": [
      "AUC Test:  0.767\n"
     ]
    }
   ],
   "source": [
    "print(\"AUC Test:  %.3f\" %  roc_auc_score(y_test,y_pred_test_lgbm))"
   ]
  },
  {
   "cell_type": "code",
   "execution_count": 224,
   "id": "aeb10ff6-cc05-46c3-ab65-a0f6eee010d9",
   "metadata": {
    "tags": []
   },
   "outputs": [
    {
     "data": {
      "image/png": "[encoded data removed]",
      "text/plain": [
       "<Figure size 576x288 with 1 Axes>"
      ]
     },
     "metadata": {
      "needs_background": "light"
     },
     "output_type": "display_data"
    }
   ],
   "source": [
    "plt.figure(figsize=(8,4))\n",
    "sns.distplot(y_pred_test_lgbm[y_test==0], label='0')\n",
    "sns.distplot(y_pred_test_lgbm[y_test==1], label='1')\n",
    "plt.xlabel('score', fontsize=16)\n",
    "plt.ylabel('density', fontsize=16)\n",
    "plt.legend()\n",
    "plt.grid()"
   ]
  },
  {
   "cell_type": "code",
   "execution_count": 237,
   "id": "4287755e-f019-497e-8ee7-c7c1ec282faa",
   "metadata": {
    "tags": []
   },
   "outputs": [
    {
     "ename": "TypeError",
     "evalue": "must be real number, not NoneType",
     "output_type": "error",
     "traceback": [
      "\u001b[0;31m---------------------------------------------------------------------------\u001b[0m",
      "\u001b[0;31mTypeError\u001b[0m                                 Traceback (most recent call last)",
      "\u001b[0;32m<timed exec>\u001b[0m in \u001b[0;36m<module>\u001b[0;34m\u001b[0m\n",
      "\u001b[0;32m~/Energiza2_cod4dev/src/modeling/supervided_models.py\u001b[0m in \u001b[0;36mtrain\u001b[0;34m(self, df_train, y_train, df_val, y_val)\u001b[0m\n\u001b[1;32m    221\u001b[0m \u001b[0;34m\u001b[0m\u001b[0m\n\u001b[1;32m    222\u001b[0m             \u001b[0;32mif\u001b[0m \u001b[0mself\u001b[0m\u001b[0;34m.\u001b[0m\u001b[0msearch_hip\u001b[0m\u001b[0;34m:\u001b[0m\u001b[0;34m\u001b[0m\u001b[0;34m\u001b[0m\u001b[0m\n\u001b[0;32m--> 223\u001b[0;31m                 \u001b[0mself\u001b[0m\u001b[0;34m.\u001b[0m\u001b[0mbest_score_\u001b[0m\u001b[0;34m,\u001b[0m \u001b[0mself\u001b[0m\u001b[0;34m.\u001b[0m\u001b[0mhyperparams\u001b[0m \u001b[0;34m=\u001b[0m \u001b[0mself\u001b[0m\u001b[0;34m.\u001b[0m\u001b[0mfind_hyp_catboost_model\u001b[0m\u001b[0;34m(\u001b[0m\u001b[0mdf_train\u001b[0m\u001b[0;34m[\u001b[0m\u001b[0mself\u001b[0m\u001b[0;34m.\u001b[0m\u001b[0mcols_for_model\u001b[0m\u001b[0;34m]\u001b[0m\u001b[0;34m,\u001b[0m\u001b[0my_train\u001b[0m\u001b[0;34m,\u001b[0m\u001b[0mdf_val\u001b[0m\u001b[0;34m[\u001b[0m\u001b[0mself\u001b[0m\u001b[0;34m.\u001b[0m\u001b[0mcols_for_model\u001b[0m\u001b[0;34m]\u001b[0m\u001b[0;34m,\u001b[0m\u001b[0my_val\u001b[0m\u001b[0;34m,\u001b[0m\u001b[0mpipe_preproceso_model\u001b[0m\u001b[0;34m)\u001b[0m\u001b[0;34m\u001b[0m\u001b[0;34m\u001b[0m\u001b[0m\n\u001b[0m\u001b[1;32m    224\u001b[0m \u001b[0;34m\u001b[0m\u001b[0m\n\u001b[1;32m    225\u001b[0m             \u001b[0mparams\u001b[0m \u001b[0;34m=\u001b[0m \u001b[0mself\u001b[0m\u001b[0;34m.\u001b[0m\u001b[0mhyperparams\u001b[0m\u001b[0;34m\u001b[0m\u001b[0;34m\u001b[0m\u001b[0m\n",
      "\u001b[0;32m~/Energiza2_cod4dev/src/modeling/supervided_models.py\u001b[0m in \u001b[0;36mfind_hyp_catboost_model\u001b[0;34m(self, X_train, y_train, X_val, y_val, imba_catboost)\u001b[0m\n\u001b[1;32m    261\u001b[0m                                        random_state = 314)\n\u001b[1;32m    262\u001b[0m \u001b[0;34m\u001b[0m\u001b[0m\n\u001b[0;32m--> 263\u001b[0;31m             \u001b[0mrandom_imba\u001b[0m\u001b[0;34m.\u001b[0m\u001b[0mfit\u001b[0m\u001b[0;34m(\u001b[0m\u001b[0mX_train\u001b[0m\u001b[0;34m,\u001b[0m \u001b[0my_train\u001b[0m\u001b[0;34m,\u001b[0m \u001b[0;34m**\u001b[0m\u001b[0mnew_fit_params\u001b[0m\u001b[0;34m)\u001b[0m\u001b[0;34m;\u001b[0m\u001b[0;34m\u001b[0m\u001b[0;34m\u001b[0m\u001b[0m\n\u001b[0m\u001b[1;32m    264\u001b[0m             \u001b[0mprint\u001b[0m\u001b[0;34m(\u001b[0m\u001b[0;34m'\\nBest score reached: {} with params: {} '\u001b[0m\u001b[0;34m.\u001b[0m\u001b[0mformat\u001b[0m\u001b[0;34m(\u001b[0m\u001b[0mrandom_imba\u001b[0m\u001b[0;34m.\u001b[0m\u001b[0mbest_score_\u001b[0m\u001b[0;34m,\u001b[0m \u001b[0mrandom_imba\u001b[0m\u001b[0;34m.\u001b[0m\u001b[0mbest_params_\u001b[0m\u001b[0;34m)\u001b[0m\u001b[0;34m)\u001b[0m\u001b[0;34m\u001b[0m\u001b[0;34m\u001b[0m\u001b[0m\n\u001b[1;32m    265\u001b[0m             \u001b[0;32mreturn\u001b[0m \u001b[0mrandom_imba\u001b[0m\u001b[0;34m.\u001b[0m\u001b[0mbest_score_\u001b[0m\u001b[0;34m,\u001b[0m \u001b[0mrandom_imba\u001b[0m\u001b[0;34m.\u001b[0m\u001b[0mbest_params_\u001b[0m\u001b[0;34m\u001b[0m\u001b[0;34m\u001b[0m\u001b[0m\n",
      "\u001b[0;32m/usr/local/lib/python3.6/site-packages/sklearn/utils/validation.py\u001b[0m in \u001b[0;36minner_f\u001b[0;34m(*args, **kwargs)\u001b[0m\n\u001b[1;32m     61\u001b[0m             \u001b[0mextra_args\u001b[0m \u001b[0;34m=\u001b[0m \u001b[0mlen\u001b[0m\u001b[0;34m(\u001b[0m\u001b[0margs\u001b[0m\u001b[0;34m)\u001b[0m \u001b[0;34m-\u001b[0m \u001b[0mlen\u001b[0m\u001b[0;34m(\u001b[0m\u001b[0mall_args\u001b[0m\u001b[0;34m)\u001b[0m\u001b[0;34m\u001b[0m\u001b[0;34m\u001b[0m\u001b[0m\n\u001b[1;32m     62\u001b[0m             \u001b[0;32mif\u001b[0m \u001b[0mextra_args\u001b[0m \u001b[0;34m<=\u001b[0m \u001b[0;36m0\u001b[0m\u001b[0;34m:\u001b[0m\u001b[0;34m\u001b[0m\u001b[0;34m\u001b[0m\u001b[0m\n\u001b[0;32m---> 63\u001b[0;31m                 \u001b[0;32mreturn\u001b[0m \u001b[0mf\u001b[0m\u001b[0;34m(\u001b[0m\u001b[0;34m*\u001b[0m\u001b[0margs\u001b[0m\u001b[0;34m,\u001b[0m \u001b[0;34m**\u001b[0m\u001b[0mkwargs\u001b[0m\u001b[0;34m)\u001b[0m\u001b[0;34m\u001b[0m\u001b[0;34m\u001b[0m\u001b[0m\n\u001b[0m\u001b[1;32m     64\u001b[0m \u001b[0;34m\u001b[0m\u001b[0m\n\u001b[1;32m     65\u001b[0m             \u001b[0;31m# extra_args > 0\u001b[0m\u001b[0;34m\u001b[0m\u001b[0;34m\u001b[0m\u001b[0;34m\u001b[0m\u001b[0m\n",
      "\u001b[0;32m/usr/local/lib/python3.6/site-packages/sklearn/model_selection/_search.py\u001b[0m in \u001b[0;36mfit\u001b[0;34m(self, X, y, groups, **fit_params)\u001b[0m\n\u001b[1;32m    878\u001b[0m             \u001b[0mrefit_start_time\u001b[0m \u001b[0;34m=\u001b[0m \u001b[0mtime\u001b[0m\u001b[0;34m.\u001b[0m\u001b[0mtime\u001b[0m\u001b[0;34m(\u001b[0m\u001b[0;34m)\u001b[0m\u001b[0;34m\u001b[0m\u001b[0;34m\u001b[0m\u001b[0m\n\u001b[1;32m    879\u001b[0m             \u001b[0;32mif\u001b[0m \u001b[0my\u001b[0m \u001b[0;32mis\u001b[0m \u001b[0;32mnot\u001b[0m \u001b[0;32mNone\u001b[0m\u001b[0;34m:\u001b[0m\u001b[0;34m\u001b[0m\u001b[0;34m\u001b[0m\u001b[0m\n\u001b[0;32m--> 880\u001b[0;31m                 \u001b[0mself\u001b[0m\u001b[0;34m.\u001b[0m\u001b[0mbest_estimator_\u001b[0m\u001b[0;34m.\u001b[0m\u001b[0mfit\u001b[0m\u001b[0;34m(\u001b[0m\u001b[0mX\u001b[0m\u001b[0;34m,\u001b[0m \u001b[0my\u001b[0m\u001b[0;34m,\u001b[0m \u001b[0;34m**\u001b[0m\u001b[0mfit_params\u001b[0m\u001b[0;34m)\u001b[0m\u001b[0;34m\u001b[0m\u001b[0;34m\u001b[0m\u001b[0m\n\u001b[0m\u001b[1;32m    881\u001b[0m             \u001b[0;32melse\u001b[0m\u001b[0;34m:\u001b[0m\u001b[0;34m\u001b[0m\u001b[0;34m\u001b[0m\u001b[0m\n\u001b[1;32m    882\u001b[0m                 \u001b[0mself\u001b[0m\u001b[0;34m.\u001b[0m\u001b[0mbest_estimator_\u001b[0m\u001b[0;34m.\u001b[0m\u001b[0mfit\u001b[0m\u001b[0;34m(\u001b[0m\u001b[0mX\u001b[0m\u001b[0;34m,\u001b[0m \u001b[0;34m**\u001b[0m\u001b[0mfit_params\u001b[0m\u001b[0;34m)\u001b[0m\u001b[0;34m\u001b[0m\u001b[0;34m\u001b[0m\u001b[0m\n",
      "\u001b[0;32m/usr/local/lib/python3.6/site-packages/imblearn/pipeline.py\u001b[0m in \u001b[0;36mfit\u001b[0;34m(self, X, y, **fit_params)\u001b[0m\n\u001b[1;32m    264\u001b[0m             \u001b[0;32mif\u001b[0m \u001b[0mself\u001b[0m\u001b[0;34m.\u001b[0m\u001b[0m_final_estimator\u001b[0m \u001b[0;34m!=\u001b[0m \u001b[0;34m\"passthrough\"\u001b[0m\u001b[0;34m:\u001b[0m\u001b[0;34m\u001b[0m\u001b[0;34m\u001b[0m\u001b[0m\n\u001b[1;32m    265\u001b[0m                 \u001b[0mfit_params_last_step\u001b[0m \u001b[0;34m=\u001b[0m \u001b[0mfit_params_steps\u001b[0m\u001b[0;34m[\u001b[0m\u001b[0mself\u001b[0m\u001b[0;34m.\u001b[0m\u001b[0msteps\u001b[0m\u001b[0;34m[\u001b[0m\u001b[0;34m-\u001b[0m\u001b[0;36m1\u001b[0m\u001b[0;34m]\u001b[0m\u001b[0;34m[\u001b[0m\u001b[0;36m0\u001b[0m\u001b[0;34m]\u001b[0m\u001b[0;34m]\u001b[0m\u001b[0;34m\u001b[0m\u001b[0;34m\u001b[0m\u001b[0m\n\u001b[0;32m--> 266\u001b[0;31m                 \u001b[0mself\u001b[0m\u001b[0;34m.\u001b[0m\u001b[0m_final_estimator\u001b[0m\u001b[0;34m.\u001b[0m\u001b[0mfit\u001b[0m\u001b[0;34m(\u001b[0m\u001b[0mXt\u001b[0m\u001b[0;34m,\u001b[0m \u001b[0myt\u001b[0m\u001b[0;34m,\u001b[0m \u001b[0;34m**\u001b[0m\u001b[0mfit_params_last_step\u001b[0m\u001b[0;34m)\u001b[0m\u001b[0;34m\u001b[0m\u001b[0;34m\u001b[0m\u001b[0m\n\u001b[0m\u001b[1;32m    267\u001b[0m         \u001b[0;32mreturn\u001b[0m \u001b[0mself\u001b[0m\u001b[0;34m\u001b[0m\u001b[0;34m\u001b[0m\u001b[0m\n\u001b[1;32m    268\u001b[0m \u001b[0;34m\u001b[0m\u001b[0m\n",
      "\u001b[0;32m/usr/local/lib/python3.6/site-packages/catboost/core.py\u001b[0m in \u001b[0;36mfit\u001b[0;34m(self, X, y, cat_features, text_features, embedding_features, sample_weight, baseline, use_best_model, eval_set, verbose, logging_level, plot, plot_file, column_description, verbose_eval, metric_period, silent, early_stopping_rounds, save_snapshot, snapshot_file, snapshot_interval, init_model, callbacks, log_cout, log_cerr)\u001b[0m\n\u001b[1;32m   5128\u001b[0m         self._fit(X, y, cat_features, text_features, embedding_features, None, sample_weight, None, None, None, None, baseline, use_best_model,\n\u001b[1;32m   5129\u001b[0m                   \u001b[0meval_set\u001b[0m\u001b[0;34m,\u001b[0m \u001b[0mverbose\u001b[0m\u001b[0;34m,\u001b[0m \u001b[0mlogging_level\u001b[0m\u001b[0;34m,\u001b[0m \u001b[0mplot\u001b[0m\u001b[0;34m,\u001b[0m \u001b[0mplot_file\u001b[0m\u001b[0;34m,\u001b[0m \u001b[0mcolumn_description\u001b[0m\u001b[0;34m,\u001b[0m \u001b[0mverbose_eval\u001b[0m\u001b[0;34m,\u001b[0m \u001b[0mmetric_period\u001b[0m\u001b[0;34m,\u001b[0m\u001b[0;34m\u001b[0m\u001b[0;34m\u001b[0m\u001b[0m\n\u001b[0;32m-> 5130\u001b[0;31m                   silent, early_stopping_rounds, save_snapshot, snapshot_file, snapshot_interval, init_model, callbacks, log_cout, log_cerr)\n\u001b[0m\u001b[1;32m   5131\u001b[0m         \u001b[0;32mreturn\u001b[0m \u001b[0mself\u001b[0m\u001b[0;34m\u001b[0m\u001b[0;34m\u001b[0m\u001b[0m\n\u001b[1;32m   5132\u001b[0m \u001b[0;34m\u001b[0m\u001b[0m\n",
      "\u001b[0;32m/usr/local/lib/python3.6/site-packages/catboost/core.py\u001b[0m in \u001b[0;36m_fit\u001b[0;34m(self, X, y, cat_features, text_features, embedding_features, pairs, sample_weight, group_id, group_weight, subgroup_id, pairs_weight, baseline, use_best_model, eval_set, verbose, logging_level, plot, plot_file, column_description, verbose_eval, metric_period, silent, early_stopping_rounds, save_snapshot, snapshot_file, snapshot_interval, init_model, callbacks, log_cout, log_cerr)\u001b[0m\n\u001b[1;32m   2345\u001b[0m             \u001b[0msilent\u001b[0m\u001b[0;34m=\u001b[0m\u001b[0msilent\u001b[0m\u001b[0;34m,\u001b[0m \u001b[0mearly_stopping_rounds\u001b[0m\u001b[0;34m=\u001b[0m\u001b[0mearly_stopping_rounds\u001b[0m\u001b[0;34m,\u001b[0m \u001b[0msave_snapshot\u001b[0m\u001b[0;34m=\u001b[0m\u001b[0msave_snapshot\u001b[0m\u001b[0;34m,\u001b[0m\u001b[0;34m\u001b[0m\u001b[0;34m\u001b[0m\u001b[0m\n\u001b[1;32m   2346\u001b[0m             \u001b[0msnapshot_file\u001b[0m\u001b[0;34m=\u001b[0m\u001b[0msnapshot_file\u001b[0m\u001b[0;34m,\u001b[0m \u001b[0msnapshot_interval\u001b[0m\u001b[0;34m=\u001b[0m\u001b[0msnapshot_interval\u001b[0m\u001b[0;34m,\u001b[0m \u001b[0minit_model\u001b[0m\u001b[0;34m=\u001b[0m\u001b[0minit_model\u001b[0m\u001b[0;34m,\u001b[0m\u001b[0;34m\u001b[0m\u001b[0;34m\u001b[0m\u001b[0m\n\u001b[0;32m-> 2347\u001b[0;31m             \u001b[0mcallbacks\u001b[0m\u001b[0;34m=\u001b[0m\u001b[0mcallbacks\u001b[0m\u001b[0;34m\u001b[0m\u001b[0;34m\u001b[0m\u001b[0m\n\u001b[0m\u001b[1;32m   2348\u001b[0m         )\n\u001b[1;32m   2349\u001b[0m         \u001b[0mparams\u001b[0m \u001b[0;34m=\u001b[0m \u001b[0mtrain_params\u001b[0m\u001b[0;34m[\u001b[0m\u001b[0;34m\"params\"\u001b[0m\u001b[0;34m]\u001b[0m\u001b[0;34m\u001b[0m\u001b[0;34m\u001b[0m\u001b[0m\n",
      "\u001b[0;32m/usr/local/lib/python3.6/site-packages/catboost/core.py\u001b[0m in \u001b[0;36m_prepare_train_params\u001b[0;34m(self, X, y, cat_features, text_features, embedding_features, pairs, sample_weight, group_id, group_weight, subgroup_id, pairs_weight, baseline, use_best_model, eval_set, verbose, logging_level, plot, plot_file, column_description, verbose_eval, metric_period, silent, early_stopping_rounds, save_snapshot, snapshot_file, snapshot_interval, init_model, callbacks)\u001b[0m\n\u001b[1;32m   2220\u001b[0m         train_pool = _build_train_pool(X, y, cat_features, text_features, embedding_features, pairs,\n\u001b[1;32m   2221\u001b[0m                                        \u001b[0msample_weight\u001b[0m\u001b[0;34m,\u001b[0m \u001b[0mgroup_id\u001b[0m\u001b[0;34m,\u001b[0m \u001b[0mgroup_weight\u001b[0m\u001b[0;34m,\u001b[0m \u001b[0msubgroup_id\u001b[0m\u001b[0;34m,\u001b[0m \u001b[0mpairs_weight\u001b[0m\u001b[0;34m,\u001b[0m\u001b[0;34m\u001b[0m\u001b[0;34m\u001b[0m\u001b[0m\n\u001b[0;32m-> 2222\u001b[0;31m                                        baseline, column_description)\n\u001b[0m\u001b[1;32m   2223\u001b[0m         \u001b[0;32mif\u001b[0m \u001b[0mtrain_pool\u001b[0m\u001b[0;34m.\u001b[0m\u001b[0mis_empty_\u001b[0m\u001b[0;34m:\u001b[0m\u001b[0;34m\u001b[0m\u001b[0;34m\u001b[0m\u001b[0m\n\u001b[1;32m   2224\u001b[0m             \u001b[0;32mraise\u001b[0m \u001b[0mCatBoostError\u001b[0m\u001b[0;34m(\u001b[0m\u001b[0;34m\"X is empty.\"\u001b[0m\u001b[0;34m)\u001b[0m\u001b[0;34m\u001b[0m\u001b[0;34m\u001b[0m\u001b[0m\n",
      "\u001b[0;32m/usr/local/lib/python3.6/site-packages/catboost/core.py\u001b[0m in \u001b[0;36m_build_train_pool\u001b[0;34m(X, y, cat_features, text_features, embedding_features, pairs, sample_weight, group_id, group_weight, subgroup_id, pairs_weight, baseline, column_description)\u001b[0m\n\u001b[1;32m   1437\u001b[0m             \u001b[0;32mraise\u001b[0m \u001b[0mCatBoostError\u001b[0m\u001b[0;34m(\u001b[0m\u001b[0;34m\"y has not initialized in fit(): X is not catboost.Pool object, y must be not None in fit().\"\u001b[0m\u001b[0;34m)\u001b[0m\u001b[0;34m\u001b[0m\u001b[0;34m\u001b[0m\u001b[0m\n\u001b[1;32m   1438\u001b[0m         train_pool = Pool(X, y, cat_features=cat_features, text_features=text_features, embedding_features=embedding_features, pairs=pairs, weight=sample_weight, group_id=group_id,\n\u001b[0;32m-> 1439\u001b[0;31m                           group_weight=group_weight, subgroup_id=subgroup_id, pairs_weight=pairs_weight, baseline=baseline)\n\u001b[0m\u001b[1;32m   1440\u001b[0m     \u001b[0;32mreturn\u001b[0m \u001b[0mtrain_pool\u001b[0m\u001b[0;34m\u001b[0m\u001b[0;34m\u001b[0m\u001b[0m\n\u001b[1;32m   1441\u001b[0m \u001b[0;34m\u001b[0m\u001b[0m\n",
      "\u001b[0;32m/usr/local/lib/python3.6/site-packages/catboost/core.py\u001b[0m in \u001b[0;36m__init__\u001b[0;34m(self, data, label, cat_features, text_features, embedding_features, embedding_features_data, column_description, pairs, delimiter, has_header, ignore_csv_quoting, weight, group_id, group_weight, subgroup_id, pairs_weight, baseline, timestamp, feature_names, feature_tags, thread_count, log_cout, log_cerr)\u001b[0m\n\u001b[1;32m    791\u001b[0m \u001b[0;34m\u001b[0m\u001b[0m\n\u001b[1;32m    792\u001b[0m                 self._init(data, label, cat_features, text_features, embedding_features, embedding_features_data, pairs, weight,\n\u001b[0;32m--> 793\u001b[0;31m                            group_id, group_weight, subgroup_id, pairs_weight, baseline, timestamp, feature_names, feature_tags, thread_count)\n\u001b[0m\u001b[1;32m    794\u001b[0m         \u001b[0msuper\u001b[0m\u001b[0;34m(\u001b[0m\u001b[0mPool\u001b[0m\u001b[0;34m,\u001b[0m \u001b[0mself\u001b[0m\u001b[0;34m)\u001b[0m\u001b[0;34m.\u001b[0m\u001b[0m__init__\u001b[0m\u001b[0;34m(\u001b[0m\u001b[0;34m)\u001b[0m\u001b[0;34m\u001b[0m\u001b[0;34m\u001b[0m\u001b[0m\n\u001b[1;32m    795\u001b[0m \u001b[0;34m\u001b[0m\u001b[0m\n",
      "\u001b[0;32m/usr/local/lib/python3.6/site-packages/catboost/core.py\u001b[0m in \u001b[0;36m_init\u001b[0;34m(self, data, label, cat_features, text_features, embedding_features, embedding_features_data, pairs, weight, group_id, group_weight, subgroup_id, pairs_weight, baseline, timestamp, feature_names, feature_tags, thread_count)\u001b[0m\n\u001b[1;32m   1418\u001b[0m             \u001b[0mfeature_tags\u001b[0m \u001b[0;34m=\u001b[0m \u001b[0mself\u001b[0m\u001b[0;34m.\u001b[0m\u001b[0m_check_transform_tags\u001b[0m\u001b[0;34m(\u001b[0m\u001b[0mfeature_tags\u001b[0m\u001b[0;34m,\u001b[0m \u001b[0mfeature_names\u001b[0m\u001b[0;34m)\u001b[0m\u001b[0;34m\u001b[0m\u001b[0;34m\u001b[0m\u001b[0m\n\u001b[1;32m   1419\u001b[0m         self._init_pool(data, label, cat_features, text_features, embedding_features, embedding_features_data, pairs, weight,\n\u001b[0;32m-> 1420\u001b[0;31m                         group_id, group_weight, subgroup_id, pairs_weight, baseline, timestamp, feature_names, feature_tags, thread_count)\n\u001b[0m\u001b[1;32m   1421\u001b[0m \u001b[0;34m\u001b[0m\u001b[0m\n\u001b[1;32m   1422\u001b[0m \u001b[0;34m\u001b[0m\u001b[0m\n",
      "\u001b[0;32m_catboost.pyx\u001b[0m in \u001b[0;36m_catboost._PoolBase._init_pool\u001b[0;34m()\u001b[0m\n",
      "\u001b[0;32m_catboost.pyx\u001b[0m in \u001b[0;36m_catboost._PoolBase._init_pool\u001b[0;34m()\u001b[0m\n",
      "\u001b[0;32m_catboost.pyx\u001b[0m in \u001b[0;36m_catboost._PoolBase._init_features_order_layout_pool\u001b[0;34m()\u001b[0m\n",
      "\u001b[0;32m_catboost.pyx\u001b[0m in \u001b[0;36m_catboost._set_features_order_data_pd_data_frame\u001b[0;34m()\u001b[0m\n",
      "\u001b[0;32m_catboost.pyx\u001b[0m in \u001b[0;36m_catboost.get_cat_factor_bytes_representation\u001b[0;34m()\u001b[0m\n",
      "\u001b[0;32m_catboost.pyx\u001b[0m in \u001b[0;36m_catboost.get_id_object_bytes_string_representation\u001b[0;34m()\u001b[0m\n",
      "\u001b[0;31mTypeError\u001b[0m: must be real number, not NoneType"
     ]
    }
   ],
   "source": [
    "%%time\n",
    "train_cat_model = CATModel(cols_for_model,hyperparams=None,search_hip=True,sampling_th = sampling_th,preprocesor_num = 4,sampling_method=param_imb_method)\n",
    "cb_model = train_cat_model.train(df_train,y_train,df_val, y_val)"
   ]
  },
  {
   "cell_type": "code",
   "execution_count": null,
   "id": "13e8cc3c-9086-4571-9e35-3c7827c01a2f",
   "metadata": {},
   "outputs": [],
   "source": []
  },
  {
   "cell_type": "code",
   "execution_count": null,
   "id": "7e98981b-0529-46b8-be33-cf6ebddc1ead",
   "metadata": {},
   "outputs": [],
   "source": []
  },
  {
   "cell_type": "code",
   "execution_count": null,
   "id": "ed736f27-3b35-4f7b-b23e-7a62c89774a6",
   "metadata": {},
   "outputs": [],
   "source": []
  },
  {
   "cell_type": "code",
   "execution_count": 227,
   "id": "a904c9eb-0741-4a74-ab7b-faa798bf055b",
   "metadata": {
    "tags": []
   },
   "outputs": [
    {
     "name": "stdout",
     "output_type": "stream",
     "text": [
      "Restoring model weights from the end of the best epoch.\n",
      "Epoch 00368: early stopping\n",
      "CPU times: user 16min 37s, sys: 13min 46s, total: 30min 24s\n",
      "Wall time: 2min 28s\n"
     ]
    }
   ],
   "source": [
    "%%time\n",
    "features_names = variables_categoricas + select_by_boruta\n",
    "spents_names = cols_consumo\n",
    "lstm_nn_model = LSTMNNModel(features_names,spents_names,sampling_th = sampling_th,preprocesor_num = 4,sampling_method=param_imb_method)\n",
    "lstm_rnn_model,pipe_features,pipe_spent = lstm_nn_model.train(df_train,y_train)"
   ]
  },
  {
   "cell_type": "code",
   "execution_count": 228,
   "id": "6b686a23-cbe6-4e32-bdf6-4a96f72b56bb",
   "metadata": {
    "tags": []
   },
   "outputs": [],
   "source": [
    "X_test_features = pipe_features.transform(df_test[features_names])\n",
    "X_test_spents = pipe_spent.transform(df_test[spents_names])\n",
    "X_test_spents = X_test_spents.reshape((X_test_spents.shape[0],periodo,1))"
   ]
  },
  {
   "cell_type": "code",
   "execution_count": 230,
   "id": "03e0b2cb-fd34-4db1-ab16-fe8a965d4684",
   "metadata": {
    "tags": []
   },
   "outputs": [],
   "source": [
    "y_pred_test_lstm_rnn = lstm_rnn_model.predict([X_test_spents, X_test_features],batch_size=lstm_nn_model.BATCH_SIZE)[:,0]\n",
    "# resulado_final[f'{param_imb_method}-lstm-ffn'] = y_pred_test_lstm_rnn"
   ]
  },
  {
   "cell_type": "code",
   "execution_count": 233,
   "id": "f5d6fb3d-240b-4106-be1f-9d24c1586ad7",
   "metadata": {
    "tags": []
   },
   "outputs": [
    {
     "data": {
      "text/plain": [
       "35"
      ]
     },
     "execution_count": 233,
     "metadata": {},
     "output_type": "execute_result"
    }
   ],
   "source": [
    "pd.Series(y_pred_test_lstm_rnn).isnull().sum()"
   ]
  },
  {
   "cell_type": "code",
   "execution_count": 231,
   "id": "b7cc30d1-017c-4928-b08b-624176f2a808",
   "metadata": {
    "tags": []
   },
   "outputs": [
    {
     "ename": "ValueError",
     "evalue": "Input contains NaN, infinity or a value too large for dtype('float32').",
     "output_type": "error",
     "traceback": [
      "\u001b[0;31m---------------------------------------------------------------------------\u001b[0m",
      "\u001b[0;31mValueError\u001b[0m                                Traceback (most recent call last)",
      "\u001b[0;32m<ipython-input-231-b02b1ad885d7>\u001b[0m in \u001b[0;36m<module>\u001b[0;34m\u001b[0m\n\u001b[0;32m----> 1\u001b[0;31m \u001b[0mprint\u001b[0m\u001b[0;34m(\u001b[0m\u001b[0;34m\"AUC Test:  %.3f\"\u001b[0m \u001b[0;34m%\u001b[0m  \u001b[0mroc_auc_score\u001b[0m\u001b[0;34m(\u001b[0m\u001b[0my_test\u001b[0m\u001b[0;34m,\u001b[0m\u001b[0my_pred_test_lstm_rnn\u001b[0m\u001b[0;34m)\u001b[0m\u001b[0;34m)\u001b[0m\u001b[0;34m\u001b[0m\u001b[0;34m\u001b[0m\u001b[0m\n\u001b[0m",
      "\u001b[0;32m/usr/local/lib/python3.6/site-packages/sklearn/utils/validation.py\u001b[0m in \u001b[0;36minner_f\u001b[0;34m(*args, **kwargs)\u001b[0m\n\u001b[1;32m     61\u001b[0m             \u001b[0mextra_args\u001b[0m \u001b[0;34m=\u001b[0m \u001b[0mlen\u001b[0m\u001b[0;34m(\u001b[0m\u001b[0margs\u001b[0m\u001b[0;34m)\u001b[0m \u001b[0;34m-\u001b[0m \u001b[0mlen\u001b[0m\u001b[0;34m(\u001b[0m\u001b[0mall_args\u001b[0m\u001b[0;34m)\u001b[0m\u001b[0;34m\u001b[0m\u001b[0;34m\u001b[0m\u001b[0m\n\u001b[1;32m     62\u001b[0m             \u001b[0;32mif\u001b[0m \u001b[0mextra_args\u001b[0m \u001b[0;34m<=\u001b[0m \u001b[0;36m0\u001b[0m\u001b[0;34m:\u001b[0m\u001b[0;34m\u001b[0m\u001b[0;34m\u001b[0m\u001b[0m\n\u001b[0;32m---> 63\u001b[0;31m                 \u001b[0;32mreturn\u001b[0m \u001b[0mf\u001b[0m\u001b[0;34m(\u001b[0m\u001b[0;34m*\u001b[0m\u001b[0margs\u001b[0m\u001b[0;34m,\u001b[0m \u001b[0;34m**\u001b[0m\u001b[0mkwargs\u001b[0m\u001b[0;34m)\u001b[0m\u001b[0;34m\u001b[0m\u001b[0;34m\u001b[0m\u001b[0m\n\u001b[0m\u001b[1;32m     64\u001b[0m \u001b[0;34m\u001b[0m\u001b[0m\n\u001b[1;32m     65\u001b[0m             \u001b[0;31m# extra_args > 0\u001b[0m\u001b[0;34m\u001b[0m\u001b[0;34m\u001b[0m\u001b[0;34m\u001b[0m\u001b[0m\n",
      "\u001b[0;32m/usr/local/lib/python3.6/site-packages/sklearn/metrics/_ranking.py\u001b[0m in \u001b[0;36mroc_auc_score\u001b[0;34m(y_true, y_score, average, sample_weight, max_fpr, multi_class, labels)\u001b[0m\n\u001b[1;32m    522\u001b[0m     \u001b[0my_type\u001b[0m \u001b[0;34m=\u001b[0m \u001b[0mtype_of_target\u001b[0m\u001b[0;34m(\u001b[0m\u001b[0my_true\u001b[0m\u001b[0;34m)\u001b[0m\u001b[0;34m\u001b[0m\u001b[0;34m\u001b[0m\u001b[0m\n\u001b[1;32m    523\u001b[0m     \u001b[0my_true\u001b[0m \u001b[0;34m=\u001b[0m \u001b[0mcheck_array\u001b[0m\u001b[0;34m(\u001b[0m\u001b[0my_true\u001b[0m\u001b[0;34m,\u001b[0m \u001b[0mensure_2d\u001b[0m\u001b[0;34m=\u001b[0m\u001b[0;32mFalse\u001b[0m\u001b[0;34m,\u001b[0m \u001b[0mdtype\u001b[0m\u001b[0;34m=\u001b[0m\u001b[0;32mNone\u001b[0m\u001b[0;34m)\u001b[0m\u001b[0;34m\u001b[0m\u001b[0;34m\u001b[0m\u001b[0m\n\u001b[0;32m--> 524\u001b[0;31m     \u001b[0my_score\u001b[0m \u001b[0;34m=\u001b[0m \u001b[0mcheck_array\u001b[0m\u001b[0;34m(\u001b[0m\u001b[0my_score\u001b[0m\u001b[0;34m,\u001b[0m \u001b[0mensure_2d\u001b[0m\u001b[0;34m=\u001b[0m\u001b[0;32mFalse\u001b[0m\u001b[0;34m)\u001b[0m\u001b[0;34m\u001b[0m\u001b[0;34m\u001b[0m\u001b[0m\n\u001b[0m\u001b[1;32m    525\u001b[0m \u001b[0;34m\u001b[0m\u001b[0m\n\u001b[1;32m    526\u001b[0m     if y_type == \"multiclass\" or (y_type == \"binary\" and\n",
      "\u001b[0;32m/usr/local/lib/python3.6/site-packages/sklearn/utils/validation.py\u001b[0m in \u001b[0;36minner_f\u001b[0;34m(*args, **kwargs)\u001b[0m\n\u001b[1;32m     61\u001b[0m             \u001b[0mextra_args\u001b[0m \u001b[0;34m=\u001b[0m \u001b[0mlen\u001b[0m\u001b[0;34m(\u001b[0m\u001b[0margs\u001b[0m\u001b[0;34m)\u001b[0m \u001b[0;34m-\u001b[0m \u001b[0mlen\u001b[0m\u001b[0;34m(\u001b[0m\u001b[0mall_args\u001b[0m\u001b[0;34m)\u001b[0m\u001b[0;34m\u001b[0m\u001b[0;34m\u001b[0m\u001b[0m\n\u001b[1;32m     62\u001b[0m             \u001b[0;32mif\u001b[0m \u001b[0mextra_args\u001b[0m \u001b[0;34m<=\u001b[0m \u001b[0;36m0\u001b[0m\u001b[0;34m:\u001b[0m\u001b[0;34m\u001b[0m\u001b[0;34m\u001b[0m\u001b[0m\n\u001b[0;32m---> 63\u001b[0;31m                 \u001b[0;32mreturn\u001b[0m \u001b[0mf\u001b[0m\u001b[0;34m(\u001b[0m\u001b[0;34m*\u001b[0m\u001b[0margs\u001b[0m\u001b[0;34m,\u001b[0m \u001b[0;34m**\u001b[0m\u001b[0mkwargs\u001b[0m\u001b[0;34m)\u001b[0m\u001b[0;34m\u001b[0m\u001b[0;34m\u001b[0m\u001b[0m\n\u001b[0m\u001b[1;32m     64\u001b[0m \u001b[0;34m\u001b[0m\u001b[0m\n\u001b[1;32m     65\u001b[0m             \u001b[0;31m# extra_args > 0\u001b[0m\u001b[0;34m\u001b[0m\u001b[0;34m\u001b[0m\u001b[0;34m\u001b[0m\u001b[0m\n",
      "\u001b[0;32m/usr/local/lib/python3.6/site-packages/sklearn/utils/validation.py\u001b[0m in \u001b[0;36mcheck_array\u001b[0;34m(array, accept_sparse, accept_large_sparse, dtype, order, copy, force_all_finite, ensure_2d, allow_nd, ensure_min_samples, ensure_min_features, estimator)\u001b[0m\n\u001b[1;32m    719\u001b[0m         \u001b[0;32mif\u001b[0m \u001b[0mforce_all_finite\u001b[0m\u001b[0;34m:\u001b[0m\u001b[0;34m\u001b[0m\u001b[0;34m\u001b[0m\u001b[0m\n\u001b[1;32m    720\u001b[0m             _assert_all_finite(array,\n\u001b[0;32m--> 721\u001b[0;31m                                allow_nan=force_all_finite == 'allow-nan')\n\u001b[0m\u001b[1;32m    722\u001b[0m \u001b[0;34m\u001b[0m\u001b[0m\n\u001b[1;32m    723\u001b[0m     \u001b[0;32mif\u001b[0m \u001b[0mensure_min_samples\u001b[0m \u001b[0;34m>\u001b[0m \u001b[0;36m0\u001b[0m\u001b[0;34m:\u001b[0m\u001b[0;34m\u001b[0m\u001b[0;34m\u001b[0m\u001b[0m\n",
      "\u001b[0;32m/usr/local/lib/python3.6/site-packages/sklearn/utils/validation.py\u001b[0m in \u001b[0;36m_assert_all_finite\u001b[0;34m(X, allow_nan, msg_dtype)\u001b[0m\n\u001b[1;32m    104\u001b[0m                     \u001b[0mmsg_err\u001b[0m\u001b[0;34m.\u001b[0m\u001b[0mformat\u001b[0m\u001b[0;34m\u001b[0m\u001b[0;34m\u001b[0m\u001b[0m\n\u001b[1;32m    105\u001b[0m                     (type_err,\n\u001b[0;32m--> 106\u001b[0;31m                      msg_dtype if msg_dtype is not None else X.dtype)\n\u001b[0m\u001b[1;32m    107\u001b[0m             )\n\u001b[1;32m    108\u001b[0m     \u001b[0;31m# for object dtype data, we only check for NaNs (GH-13254)\u001b[0m\u001b[0;34m\u001b[0m\u001b[0;34m\u001b[0m\u001b[0;34m\u001b[0m\u001b[0m\n",
      "\u001b[0;31mValueError\u001b[0m: Input contains NaN, infinity or a value too large for dtype('float32')."
     ]
    }
   ],
   "source": [
    "print(\"AUC Test:  %.3f\" %  roc_auc_score(y_test,y_pred_test_lstm_rnn))"
   ]
  },
  {
   "cell_type": "code",
   "execution_count": 60,
   "id": "befc65cd-a7b9-40fc-bfd1-1d1e76f4cea5",
   "metadata": {
    "tags": []
   },
   "outputs": [
    {
     "name": "stdout",
     "output_type": "stream",
     "text": [
      "*** Feature extraction started ***\n"
     ]
    },
    {
     "data": {
      "text/html": [
       "\n",
       "              <p>\n",
       "                  Progress: 100% Complete\n",
       "              <p/>            \n",
       "              <progress\n",
       "                  value='5'\n",
       "                  max='5',\n",
       "                  style='width: 25%',\n",
       "              >\n",
       "                  5\n",
       "              </progress>\n",
       "\n",
       "    "
      ],
      "text/plain": [
       "<IPython.core.display.HTML object>"
      ]
     },
     "metadata": {},
     "output_type": "display_data"
    },
    {
     "name": "stdout",
     "output_type": "stream",
     "text": [
      "\n",
      "*** Feature extraction finished ***\n"
     ]
    }
   ],
   "source": [
    "cfg = tsfel.get_features_by_domain()\n",
    "\n",
    "x = tsfel.time_series_features_extractor(cfg, df_consumos[variables_consumo].head().values,fs=1,n_jobs=-1)"
   ]
  },
  {
   "cell_type": "code",
   "execution_count": 61,
   "id": "cac4278e-6932-4f02-bf1f-0b91a8300e30",
   "metadata": {
    "tags": []
   },
   "outputs": [
    {
     "data": {
      "text/plain": [
       "(5, 141)"
      ]
     },
     "execution_count": 61,
     "metadata": {},
     "output_type": "execute_result"
    }
   ],
   "source": [
    "x.shape"
   ]
  },
  {
   "cell_type": "code",
   "execution_count": 55,
   "id": "c3282b9f-5403-46ba-9a43-1727ce5f9f13",
   "metadata": {
    "tags": []
   },
   "outputs": [
    {
     "name": "stdout",
     "output_type": "stream",
     "text": [
      "*** Feature extraction started ***\n"
     ]
    },
    {
     "data": {
      "text/html": [
       "\n",
       "              <p>\n",
       "                  Progress: 0% Complete\n",
       "              <p/>            \n",
       "              <progress\n",
       "                  value='0'\n",
       "                  max='3',\n",
       "                  style='width: 25%',\n",
       "              >\n",
       "                  0\n",
       "              </progress>\n",
       "\n",
       "    "
      ],
      "text/plain": [
       "<IPython.core.display.HTML object>"
      ]
     },
     "metadata": {},
     "output_type": "display_data"
    },
    {
     "ename": "ValueError",
     "evalue": "Input signal must have a length >= n_coeff",
     "output_type": "error",
     "traceback": [
      "\u001b[0;31m---------------------------------------------------------------------------\u001b[0m",
      "\u001b[0;31mRemoteTraceback\u001b[0m                           Traceback (most recent call last)",
      "\u001b[0;31mRemoteTraceback\u001b[0m: \n\"\"\"\nTraceback (most recent call last):\n  File \"/usr/local/lib/python3.6/multiprocessing/pool.py\", line 119, in worker\n    result = (True, func(*args, **kwds))\n  File \"/usr/local/lib/python3.6/site-packages/tsfel/feature_extraction/calc_features.py\", line 185, in calc_features\n    feat_val = calc_window_features(dict_features, wind_sig, fs, features_path=features_path, header_names=names)\n  File \"/usr/local/lib/python3.6/site-packages/tsfel/feature_extraction/calc_features.py\", line 462, in calc_window_features\n    eval_result = eval(execf, locals())\n  File \"<string>\", line 1, in <module>\n  File \"/usr/local/lib/python3.6/site-packages/tsfel/feature_extraction/features.py\", line 1520, in lpcc\n    lpc_coeffs = lpc(signal, n_coeff)\n  File \"/usr/local/lib/python3.6/site-packages/tsfel/feature_extraction/features_utils.py\", line 213, in lpc\n    raise ValueError(\"Input signal must have a length >= n_coeff\")\nValueError: Input signal must have a length >= n_coeff\n\"\"\"",
      "\nThe above exception was the direct cause of the following exception:\n",
      "\u001b[0;31mValueError\u001b[0m                                Traceback (most recent call last)",
      "\u001b[0;32m<ipython-input-55-30043b93c4d3>\u001b[0m in \u001b[0;36m<module>\u001b[0;34m\u001b[0m\n\u001b[1;32m      1\u001b[0m \u001b[0mnum_6\u001b[0m \u001b[0;34m=\u001b[0m \u001b[0;34m[\u001b[0m\u001b[0;34mf'{i}_anterior'\u001b[0m \u001b[0;32mfor\u001b[0m \u001b[0mi\u001b[0m \u001b[0;32min\u001b[0m \u001b[0mrange\u001b[0m\u001b[0;34m(\u001b[0m\u001b[0;36m6\u001b[0m\u001b[0;34m,\u001b[0m \u001b[0;36m0\u001b[0m\u001b[0;34m,\u001b[0m \u001b[0;34m-\u001b[0m\u001b[0;36m1\u001b[0m\u001b[0;34m)\u001b[0m\u001b[0;34m]\u001b[0m\u001b[0;34m\u001b[0m\u001b[0;34m\u001b[0m\u001b[0m\n\u001b[1;32m      2\u001b[0m \u001b[0;34m\u001b[0m\u001b[0m\n\u001b[0;32m----> 3\u001b[0;31m \u001b[0mx1\u001b[0m \u001b[0;34m=\u001b[0m \u001b[0mtsfel\u001b[0m\u001b[0;34m.\u001b[0m\u001b[0mtime_series_features_extractor\u001b[0m\u001b[0;34m(\u001b[0m\u001b[0mcfg\u001b[0m\u001b[0;34m,\u001b[0m \u001b[0mdf_consumos\u001b[0m\u001b[0;34m[\u001b[0m\u001b[0mnum_6\u001b[0m\u001b[0;34m]\u001b[0m\u001b[0;34m.\u001b[0m\u001b[0mhead\u001b[0m\u001b[0;34m(\u001b[0m\u001b[0;36m20\u001b[0m\u001b[0;34m)\u001b[0m\u001b[0;34m.\u001b[0m\u001b[0mvalues\u001b[0m\u001b[0;34m,\u001b[0m\u001b[0mwindow_size\u001b[0m\u001b[0;34m=\u001b[0m\u001b[0;36m6\u001b[0m\u001b[0;34m,\u001b[0m\u001b[0mn_jobs\u001b[0m\u001b[0;34m=\u001b[0m\u001b[0;34m-\u001b[0m\u001b[0;36m1\u001b[0m\u001b[0;34m)\u001b[0m\u001b[0;34m\u001b[0m\u001b[0;34m\u001b[0m\u001b[0m\n\u001b[0m",
      "\u001b[0;32m/usr/local/lib/python3.6/site-packages/tsfel/feature_extraction/calc_features.py\u001b[0m in \u001b[0;36mtime_series_features_extractor\u001b[0;34m(dict_features, signal_windows, fs, verbose, **kwargs)\u001b[0m\n\u001b[1;32m    295\u001b[0m                 features = pool.imap(partial(calc_features, dict_features=dict_features, fs=fs,\n\u001b[1;32m    296\u001b[0m                                              features_path=features_path, header_names=names), signal_windows)\n\u001b[0;32m--> 297\u001b[0;31m                 \u001b[0;32mfor\u001b[0m \u001b[0mi\u001b[0m\u001b[0;34m,\u001b[0m \u001b[0mfeat\u001b[0m \u001b[0;32min\u001b[0m \u001b[0menumerate\u001b[0m\u001b[0;34m(\u001b[0m\u001b[0mfeatures\u001b[0m\u001b[0;34m)\u001b[0m\u001b[0;34m:\u001b[0m\u001b[0;34m\u001b[0m\u001b[0;34m\u001b[0m\u001b[0m\n\u001b[0m\u001b[1;32m    298\u001b[0m                     \u001b[0;32mif\u001b[0m \u001b[0mverbose\u001b[0m \u001b[0;34m==\u001b[0m \u001b[0;36m1\u001b[0m\u001b[0;34m:\u001b[0m\u001b[0;34m\u001b[0m\u001b[0;34m\u001b[0m\u001b[0m\n\u001b[1;32m    299\u001b[0m                         \u001b[0mdisplay_progress_bar\u001b[0m\u001b[0;34m(\u001b[0m\u001b[0mi\u001b[0m\u001b[0;34m,\u001b[0m \u001b[0msignal_windows\u001b[0m\u001b[0;34m,\u001b[0m \u001b[0mout\u001b[0m\u001b[0;34m)\u001b[0m\u001b[0;34m\u001b[0m\u001b[0;34m\u001b[0m\u001b[0m\n",
      "\u001b[0;32m/usr/local/lib/python3.6/multiprocessing/pool.py\u001b[0m in \u001b[0;36mnext\u001b[0;34m(self, timeout)\u001b[0m\n\u001b[1;32m    733\u001b[0m         \u001b[0;32mif\u001b[0m \u001b[0msuccess\u001b[0m\u001b[0;34m:\u001b[0m\u001b[0;34m\u001b[0m\u001b[0;34m\u001b[0m\u001b[0m\n\u001b[1;32m    734\u001b[0m             \u001b[0;32mreturn\u001b[0m \u001b[0mvalue\u001b[0m\u001b[0;34m\u001b[0m\u001b[0;34m\u001b[0m\u001b[0m\n\u001b[0;32m--> 735\u001b[0;31m         \u001b[0;32mraise\u001b[0m \u001b[0mvalue\u001b[0m\u001b[0;34m\u001b[0m\u001b[0;34m\u001b[0m\u001b[0m\n\u001b[0m\u001b[1;32m    736\u001b[0m \u001b[0;34m\u001b[0m\u001b[0m\n\u001b[1;32m    737\u001b[0m     \u001b[0m__next__\u001b[0m \u001b[0;34m=\u001b[0m \u001b[0mnext\u001b[0m                    \u001b[0;31m# XXX\u001b[0m\u001b[0;34m\u001b[0m\u001b[0;34m\u001b[0m\u001b[0m\n",
      "\u001b[0;31mValueError\u001b[0m: Input signal must have a length >= n_coeff"
     ]
    },
    {
     "name": "stderr",
     "output_type": "stream",
     "text": [
      "Process ForkPoolWorker-140:\n",
      "Process ForkPoolWorker-132:\n",
      "Process ForkPoolWorker-129:\n",
      "Process ForkPoolWorker-142:\n",
      "Traceback (most recent call last):\n",
      "Process ForkPoolWorker-143:\n",
      "Process ForkPoolWorker-139:\n",
      "Process ForkPoolWorker-138:\n",
      "Process ForkPoolWorker-135:\n",
      "Process ForkPoolWorker-137:\n",
      "Process ForkPoolWorker-131:\n",
      "Traceback (most recent call last):\n",
      "  File \"/usr/local/lib/python3.6/multiprocessing/process.py\", line 258, in _bootstrap\n",
      "    self.run()\n",
      "Process ForkPoolWorker-136:\n",
      "Process ForkPoolWorker-134:\n",
      "Traceback (most recent call last):\n",
      "Traceback (most recent call last):\n",
      "Traceback (most recent call last):\n",
      "Traceback (most recent call last):\n",
      "Traceback (most recent call last):\n",
      "Traceback (most recent call last):\n",
      "Traceback (most recent call last):\n",
      "Process ForkPoolWorker-133:\n",
      "  File \"/usr/local/lib/python3.6/multiprocessing/process.py\", line 93, in run\n",
      "    self._target(*self._args, **self._kwargs)\n",
      "  File \"/usr/local/lib/python3.6/multiprocessing/process.py\", line 258, in _bootstrap\n",
      "    self.run()\n",
      "  File \"/usr/local/lib/python3.6/multiprocessing/process.py\", line 258, in _bootstrap\n",
      "    self.run()\n",
      "Process ForkPoolWorker-141:\n",
      "Traceback (most recent call last):\n",
      "Traceback (most recent call last):\n",
      "  File \"/usr/local/lib/python3.6/multiprocessing/process.py\", line 258, in _bootstrap\n",
      "    self.run()\n",
      "  File \"/usr/local/lib/python3.6/multiprocessing/process.py\", line 258, in _bootstrap\n",
      "    self.run()\n",
      "  File \"/usr/local/lib/python3.6/multiprocessing/process.py\", line 258, in _bootstrap\n",
      "    self.run()\n",
      "  File \"/usr/local/lib/python3.6/multiprocessing/process.py\", line 258, in _bootstrap\n",
      "    self.run()\n",
      "  File \"/usr/local/lib/python3.6/multiprocessing/process.py\", line 258, in _bootstrap\n",
      "    self.run()\n",
      "Process ForkPoolWorker-130:\n",
      "  File \"/usr/local/lib/python3.6/multiprocessing/process.py\", line 258, in _bootstrap\n",
      "    self.run()\n",
      "  File \"/usr/local/lib/python3.6/multiprocessing/pool.py\", line 108, in worker\n",
      "    task = get()\n",
      "Traceback (most recent call last):\n",
      "  File \"/usr/local/lib/python3.6/multiprocessing/process.py\", line 93, in run\n",
      "    self._target(*self._args, **self._kwargs)\n",
      "  File \"/usr/local/lib/python3.6/multiprocessing/process.py\", line 93, in run\n",
      "    self._target(*self._args, **self._kwargs)\n",
      "Traceback (most recent call last):\n",
      "  File \"/usr/local/lib/python3.6/multiprocessing/process.py\", line 258, in _bootstrap\n",
      "    self.run()\n",
      "  File \"/usr/local/lib/python3.6/multiprocessing/process.py\", line 93, in run\n",
      "    self._target(*self._args, **self._kwargs)\n",
      "  File \"/usr/local/lib/python3.6/multiprocessing/process.py\", line 93, in run\n",
      "    self._target(*self._args, **self._kwargs)\n",
      "  File \"/usr/local/lib/python3.6/multiprocessing/process.py\", line 93, in run\n",
      "    self._target(*self._args, **self._kwargs)\n",
      "  File \"/usr/local/lib/python3.6/multiprocessing/process.py\", line 93, in run\n",
      "    self._target(*self._args, **self._kwargs)\n",
      "  File \"/usr/local/lib/python3.6/multiprocessing/process.py\", line 93, in run\n",
      "    self._target(*self._args, **self._kwargs)\n",
      "  File \"/usr/local/lib/python3.6/multiprocessing/process.py\", line 93, in run\n",
      "    self._target(*self._args, **self._kwargs)\n",
      "Traceback (most recent call last):\n",
      "  File \"/usr/local/lib/python3.6/multiprocessing/queues.py\", line 335, in get\n",
      "    res = self._reader.recv_bytes()\n",
      "Traceback (most recent call last):\n",
      "  File \"/usr/local/lib/python3.6/multiprocessing/pool.py\", line 108, in worker\n",
      "    task = get()\n",
      "  File \"/usr/local/lib/python3.6/multiprocessing/pool.py\", line 108, in worker\n",
      "    task = get()\n",
      "  File \"/usr/local/lib/python3.6/multiprocessing/process.py\", line 258, in _bootstrap\n",
      "    self.run()\n",
      "  File \"/usr/local/lib/python3.6/multiprocessing/pool.py\", line 108, in worker\n",
      "    task = get()\n",
      "  File \"/usr/local/lib/python3.6/multiprocessing/pool.py\", line 108, in worker\n",
      "    task = get()\n",
      "  File \"/usr/local/lib/python3.6/multiprocessing/pool.py\", line 108, in worker\n",
      "    task = get()\n",
      "  File \"/usr/local/lib/python3.6/multiprocessing/pool.py\", line 108, in worker\n",
      "    task = get()\n",
      "  File \"/usr/local/lib/python3.6/multiprocessing/pool.py\", line 108, in worker\n",
      "    task = get()\n",
      "  File \"/usr/local/lib/python3.6/multiprocessing/process.py\", line 258, in _bootstrap\n",
      "    self.run()\n",
      "  File \"/usr/local/lib/python3.6/multiprocessing/pool.py\", line 108, in worker\n",
      "    task = get()\n",
      "  File \"/usr/local/lib/python3.6/multiprocessing/process.py\", line 258, in _bootstrap\n",
      "    self.run()\n",
      "  File \"/usr/local/lib/python3.6/multiprocessing/queues.py\", line 334, in get\n",
      "    with self._rlock:\n",
      "  File \"/usr/local/lib/python3.6/multiprocessing/connection.py\", line 216, in recv_bytes\n",
      "    buf = self._recv_bytes(maxlength)\n",
      "  File \"/usr/local/lib/python3.6/multiprocessing/process.py\", line 93, in run\n",
      "    self._target(*self._args, **self._kwargs)\n",
      "  File \"/usr/local/lib/python3.6/multiprocessing/queues.py\", line 334, in get\n",
      "    with self._rlock:\n",
      "  File \"/usr/local/lib/python3.6/multiprocessing/queues.py\", line 334, in get\n",
      "    with self._rlock:\n",
      "  File \"/usr/local/lib/python3.6/multiprocessing/queues.py\", line 334, in get\n",
      "    with self._rlock:\n",
      "  File \"/usr/local/lib/python3.6/multiprocessing/queues.py\", line 334, in get\n",
      "    with self._rlock:\n",
      "  File \"/usr/local/lib/python3.6/multiprocessing/queues.py\", line 334, in get\n",
      "    with self._rlock:\n",
      "Process ForkPoolWorker-144:\n",
      "  File \"/usr/local/lib/python3.6/multiprocessing/queues.py\", line 334, in get\n",
      "    with self._rlock:\n",
      "  File \"/usr/local/lib/python3.6/multiprocessing/process.py\", line 93, in run\n",
      "    self._target(*self._args, **self._kwargs)\n",
      "  File \"/usr/local/lib/python3.6/multiprocessing/synchronize.py\", line 95, in __enter__\n",
      "    return self._semlock.__enter__()\n",
      "  File \"/usr/local/lib/python3.6/multiprocessing/connection.py\", line 407, in _recv_bytes\n",
      "    buf = self._recv(4)\n",
      "  File \"/usr/local/lib/python3.6/multiprocessing/pool.py\", line 108, in worker\n",
      "    task = get()\n",
      "  File \"/usr/local/lib/python3.6/multiprocessing/process.py\", line 258, in _bootstrap\n",
      "    self.run()\n",
      "  File \"/usr/local/lib/python3.6/multiprocessing/synchronize.py\", line 95, in __enter__\n",
      "    return self._semlock.__enter__()\n",
      "  File \"/usr/local/lib/python3.6/multiprocessing/process.py\", line 93, in run\n",
      "    self._target(*self._args, **self._kwargs)\n",
      "  File \"/usr/local/lib/python3.6/multiprocessing/queues.py\", line 334, in get\n",
      "    with self._rlock:\n",
      "  File \"/usr/local/lib/python3.6/multiprocessing/synchronize.py\", line 95, in __enter__\n",
      "    return self._semlock.__enter__()\n",
      "  File \"/usr/local/lib/python3.6/multiprocessing/process.py\", line 93, in run\n",
      "    self._target(*self._args, **self._kwargs)\n",
      "  File \"/usr/local/lib/python3.6/multiprocessing/process.py\", line 258, in _bootstrap\n",
      "    self.run()\n",
      "  File \"/usr/local/lib/python3.6/multiprocessing/synchronize.py\", line 95, in __enter__\n",
      "    return self._semlock.__enter__()\n",
      "  File \"/usr/local/lib/python3.6/multiprocessing/synchronize.py\", line 95, in __enter__\n",
      "    return self._semlock.__enter__()\n",
      "  File \"/usr/local/lib/python3.6/multiprocessing/synchronize.py\", line 95, in __enter__\n",
      "    return self._semlock.__enter__()\n",
      "  File \"/usr/local/lib/python3.6/multiprocessing/pool.py\", line 108, in worker\n",
      "    task = get()\n",
      "Traceback (most recent call last):\n",
      "  File \"/usr/local/lib/python3.6/multiprocessing/connection.py\", line 379, in _recv\n",
      "    chunk = read(handle, remaining)\n",
      "KeyboardInterrupt\n",
      "  File \"/usr/local/lib/python3.6/multiprocessing/synchronize.py\", line 95, in __enter__\n",
      "    return self._semlock.__enter__()\n",
      "  File \"/usr/local/lib/python3.6/multiprocessing/queues.py\", line 334, in get\n",
      "    with self._rlock:\n",
      "  File \"/usr/local/lib/python3.6/multiprocessing/process.py\", line 93, in run\n",
      "    self._target(*self._args, **self._kwargs)\n",
      "KeyboardInterrupt\n",
      "KeyboardInterrupt\n",
      "  File \"/usr/local/lib/python3.6/multiprocessing/synchronize.py\", line 95, in __enter__\n",
      "    return self._semlock.__enter__()\n",
      "  File \"/usr/local/lib/python3.6/multiprocessing/pool.py\", line 108, in worker\n",
      "    task = get()\n",
      "KeyboardInterrupt\n",
      "KeyboardInterrupt\n",
      "  File \"/usr/local/lib/python3.6/multiprocessing/process.py\", line 93, in run\n",
      "    self._target(*self._args, **self._kwargs)\n",
      "  File \"/usr/local/lib/python3.6/multiprocessing/pool.py\", line 108, in worker\n",
      "    task = get()\n",
      "KeyboardInterrupt\n",
      "  File \"/usr/local/lib/python3.6/multiprocessing/synchronize.py\", line 95, in __enter__\n",
      "    return self._semlock.__enter__()\n",
      "KeyboardInterrupt\n",
      "  File \"/usr/local/lib/python3.6/multiprocessing/queues.py\", line 334, in get\n",
      "    with self._rlock:\n",
      "  File \"/usr/local/lib/python3.6/multiprocessing/pool.py\", line 108, in worker\n",
      "    task = get()\n",
      "KeyboardInterrupt\n",
      "KeyboardInterrupt\n",
      "KeyboardInterrupt\n",
      "  File \"/usr/local/lib/python3.6/multiprocessing/queues.py\", line 334, in get\n",
      "    with self._rlock:\n",
      "  File \"/usr/local/lib/python3.6/multiprocessing/process.py\", line 258, in _bootstrap\n",
      "    self.run()\n",
      "  File \"/usr/local/lib/python3.6/multiprocessing/pool.py\", line 108, in worker\n",
      "    task = get()\n",
      "  File \"/usr/local/lib/python3.6/multiprocessing/synchronize.py\", line 95, in __enter__\n",
      "    return self._semlock.__enter__()\n",
      "  File \"/usr/local/lib/python3.6/multiprocessing/queues.py\", line 334, in get\n",
      "    with self._rlock:\n",
      "  File \"/usr/local/lib/python3.6/multiprocessing/synchronize.py\", line 95, in __enter__\n",
      "    return self._semlock.__enter__()\n",
      "  File \"/usr/local/lib/python3.6/multiprocessing/queues.py\", line 334, in get\n",
      "    with self._rlock:\n",
      "  File \"/usr/local/lib/python3.6/multiprocessing/synchronize.py\", line 95, in __enter__\n",
      "    return self._semlock.__enter__()\n",
      "  File \"/usr/local/lib/python3.6/multiprocessing/process.py\", line 93, in run\n",
      "    self._target(*self._args, **self._kwargs)\n",
      "KeyboardInterrupt\n",
      "KeyboardInterrupt\n",
      "  File \"/usr/local/lib/python3.6/multiprocessing/queues.py\", line 334, in get\n",
      "    with self._rlock:\n",
      "  File \"/usr/local/lib/python3.6/multiprocessing/synchronize.py\", line 95, in __enter__\n",
      "    return self._semlock.__enter__()\n",
      "KeyboardInterrupt\n",
      "KeyboardInterrupt\n",
      "  File \"/usr/local/lib/python3.6/multiprocessing/pool.py\", line 108, in worker\n",
      "    task = get()\n",
      "  File \"/usr/local/lib/python3.6/multiprocessing/synchronize.py\", line 95, in __enter__\n",
      "    return self._semlock.__enter__()\n",
      "  File \"/usr/local/lib/python3.6/multiprocessing/queues.py\", line 334, in get\n",
      "    with self._rlock:\n",
      "  File \"/usr/local/lib/python3.6/multiprocessing/synchronize.py\", line 95, in __enter__\n",
      "    return self._semlock.__enter__()\n",
      "KeyboardInterrupt\n",
      "KeyboardInterrupt\n"
     ]
    }
   ],
   "source": [
    "num_6 = [f'{i}_anterior' for i in range(6, 0, -1)]\n",
    "\n",
    "x1 = tsfel.time_series_features_extractor(cfg, df_consumos[num_6].head(20).values,window_size=6,n_jobs=-1)"
   ]
  },
  {
   "cell_type": "code",
   "execution_count": 45,
   "id": "9f1815e0-b914-4777-a28b-62a4acbc8115",
   "metadata": {
    "tags": []
   },
   "outputs": [
    {
     "data": {
      "text/plain": [
       "(5, 141)"
      ]
     },
     "execution_count": 45,
     "metadata": {},
     "output_type": "execute_result"
    }
   ],
   "source": [
    "x.shape"
   ]
  },
  {
   "cell_type": "code",
   "execution_count": null,
   "id": "42f541ba-1b55-420d-ba05-025ca6918c5d",
   "metadata": {},
   "outputs": [],
   "source": []
  },
  {
   "cell_type": "code",
   "execution_count": 41,
   "id": "cd70759d-a571-4488-b4d0-f9959203cfd5",
   "metadata": {
    "tags": []
   },
   "outputs": [
    {
     "data": {
      "text/plain": [
       "\u001b[0;31mSignature:\u001b[0m\n",
       "\u001b[0mtsfel\u001b[0m\u001b[0;34m.\u001b[0m\u001b[0mtime_series_features_extractor\u001b[0m\u001b[0;34m(\u001b[0m\u001b[0;34m\u001b[0m\n",
       "\u001b[0;34m\u001b[0m    \u001b[0mdict_features\u001b[0m\u001b[0;34m,\u001b[0m\u001b[0;34m\u001b[0m\n",
       "\u001b[0;34m\u001b[0m    \u001b[0msignal_windows\u001b[0m\u001b[0;34m,\u001b[0m\u001b[0;34m\u001b[0m\n",
       "\u001b[0;34m\u001b[0m    \u001b[0mfs\u001b[0m\u001b[0;34m=\u001b[0m\u001b[0;32mNone\u001b[0m\u001b[0;34m,\u001b[0m\u001b[0;34m\u001b[0m\n",
       "\u001b[0;34m\u001b[0m    \u001b[0mverbose\u001b[0m\u001b[0;34m=\u001b[0m\u001b[0;36m1\u001b[0m\u001b[0;34m,\u001b[0m\u001b[0;34m\u001b[0m\n",
       "\u001b[0;34m\u001b[0m    \u001b[0;34m**\u001b[0m\u001b[0mkwargs\u001b[0m\u001b[0;34m,\u001b[0m\u001b[0;34m\u001b[0m\n",
       "\u001b[0;34m\u001b[0m\u001b[0;34m)\u001b[0m\u001b[0;34m\u001b[0m\u001b[0;34m\u001b[0m\u001b[0m\n",
       "\u001b[0;31mDocstring:\u001b[0m\n",
       "Extraction of time series features.\n",
       "\n",
       "Parameters\n",
       "----------\n",
       "dict_features : dict\n",
       "    Dictionary with features\n",
       "signal_windows: list\n",
       "    Input from which features are computed, window\n",
       "fs : int or None\n",
       "    Sampling frequency\n",
       "verbose : int\n",
       "    Verbosity mode. 0 = silent, 1 = progress bar.\n",
       "    (0 or 1 (Default))\n",
       "\\**kwargs:\n",
       "See below:\n",
       "    * *window_size* (``int``) --\n",
       "        Window size in number of samples\n",
       "        (default: ``100``)\n",
       "\n",
       "    * *overlap* (``float``) --\n",
       "        Overlap between 0 and 1\n",
       "        (default: ``0``)\n",
       "\n",
       "    * *features_path* (``string``) --\n",
       "        Directory of script with personal features\n",
       "\n",
       "    * *header_names* (``list or array``) --\n",
       "        Names of each column window\n",
       "\n",
       "    * *n_jobs* (``int``) --\n",
       "        The number of jobs to run in parallel. ``None`` means 1 unless in a :obj:`joblib.parallel_backend` context.\n",
       "        ``-1`` means using all processors.\n",
       "        (default: ``None`` in Windows and ``-1`` for other systems)\n",
       "\n",
       "Returns\n",
       "-------\n",
       "DataFrame\n",
       "    Extracted features\n",
       "\u001b[0;31mFile:\u001b[0m      /usr/local/lib/python3.6/site-packages/tsfel/feature_extraction/calc_features.py\n",
       "\u001b[0;31mType:\u001b[0m      function\n"
      ]
     },
     "metadata": {},
     "output_type": "display_data"
    }
   ],
   "source": [
    "tsfel.time_series_features_extractor()"
   ]
  },
  {
   "cell_type": "code",
   "execution_count": 39,
   "id": "a0719b69-9496-486f-8b21-4c4e6016eaa7",
   "metadata": {
    "tags": []
   },
   "outputs": [
    {
     "data": {
      "text/plain": [
       "\u001b[0;31mSignature:\u001b[0m \u001b[0mtsfel\u001b[0m\u001b[0;34m.\u001b[0m\u001b[0mget_features_by_domain\u001b[0m\u001b[0;34m(\u001b[0m\u001b[0mdomain\u001b[0m\u001b[0;34m=\u001b[0m\u001b[0;32mNone\u001b[0m\u001b[0;34m,\u001b[0m \u001b[0mjson_path\u001b[0m\u001b[0;34m=\u001b[0m\u001b[0;32mNone\u001b[0m\u001b[0;34m)\u001b[0m\u001b[0;34m\u001b[0m\u001b[0;34m\u001b[0m\u001b[0m\n",
       "\u001b[0;31mDocstring:\u001b[0m\n",
       "Creates a dictionary with the features settings by domain.\n",
       "\n",
       "Parameters\n",
       "----------\n",
       "domain : string\n",
       "    Available domains: \"statistical\"; \"spectral\"; \"temporal\"\n",
       "    If domain equals None, then the features settings from all domains are returned.\n",
       "json_path : string\n",
       "    Directory of json file. Default: package features.json directory\n",
       "\n",
       "Returns\n",
       "-------\n",
       "Dict\n",
       "    Dictionary with the features settings\n",
       "\u001b[0;31mFile:\u001b[0m      /usr/local/lib/python3.6/site-packages/tsfel/feature_extraction/features_settings.py\n",
       "\u001b[0;31mType:\u001b[0m      function\n"
      ]
     },
     "metadata": {},
     "output_type": "display_data"
    }
   ],
   "source": [
    "tsfel.get_features_by_domain?"
   ]
  },
  {
   "cell_type": "code",
   "execution_count": null,
   "id": "96aa04f0-dbbb-402b-a9b6-a14792dcefb1",
   "metadata": {},
   "outputs": [],
   "source": []
  },
  {
   "cell_type": "code",
   "execution_count": null,
   "id": "3bfc3165-59c7-4074-a35e-2850fa1d986f",
   "metadata": {},
   "outputs": [],
   "source": []
  },
  {
   "cell_type": "code",
   "execution_count": null,
   "id": "996dd187-fe7b-4380-8436-a7cd2bcc56a0",
   "metadata": {},
   "outputs": [],
   "source": []
  },
  {
   "cell_type": "code",
   "execution_count": null,
   "id": "1ee6bd4a-0621-4ec4-a714-cb9956a3d479",
   "metadata": {},
   "outputs": [],
   "source": []
  },
  {
   "cell_type": "code",
   "execution_count": null,
   "id": "14b5e014-d12c-4f0a-9771-1bc79890f3d0",
   "metadata": {},
   "outputs": [],
   "source": []
  },
  {
   "cell_type": "code",
   "execution_count": null,
   "id": "d2e61baa-91a2-49bb-874d-fc0e0f145de4",
   "metadata": {},
   "outputs": [],
   "source": []
  },
  {
   "cell_type": "code",
   "execution_count": null,
   "id": "36262ae0-6be1-4ab7-9a57-bdced1808be0",
   "metadata": {},
   "outputs": [],
   "source": []
  },
  {
   "cell_type": "markdown",
   "id": "9c0fe2ac",
   "metadata": {},
   "source": [
    "### Preprocess Data"
   ]
  },
  {
   "cell_type": "code",
   "execution_count": 16,
   "id": "cd99b263",
   "metadata": {
    "tags": []
   },
   "outputs": [
    {
     "name": "stdout",
     "output_type": "stream",
     "text": [
      "self.read False\n"
     ]
    },
    {
     "ename": "AttributeError",
     "evalue": "'DataFrame' object has no attribute 'uc'",
     "output_type": "error",
     "traceback": [
      "\u001b[0;31m---------------------------------------------------------------------------\u001b[0m",
      "\u001b[0;31mAttributeError\u001b[0m                            Traceback (most recent call last)",
      "\u001b[0;32m<timed exec>\u001b[0m in \u001b[0;36m<module>\u001b[0;34m\u001b[0m\n",
      "\u001b[0;32m<ipython-input-9-6956327fdde0>\u001b[0m in \u001b[0;36mpreprocess_datasets\u001b[0;34m(df)\u001b[0m\n\u001b[1;32m      9\u001b[0m     \u001b[0mdf\u001b[0m\u001b[0;34m.\u001b[0m\u001b[0mrename\u001b[0m\u001b[0;34m(\u001b[0m\u001b[0mcolumns\u001b[0m\u001b[0;34m=\u001b[0m\u001b[0;34m{\u001b[0m\u001b[0;34m'is_fraud'\u001b[0m\u001b[0;34m:\u001b[0m\u001b[0;34m'target'\u001b[0m\u001b[0;34m}\u001b[0m\u001b[0;34m,\u001b[0m \u001b[0minplace\u001b[0m\u001b[0;34m=\u001b[0m\u001b[0;32mTrue\u001b[0m\u001b[0;34m)\u001b[0m\u001b[0;34m\u001b[0m\u001b[0;34m\u001b[0m\u001b[0m\n\u001b[1;32m     10\u001b[0m     \u001b[0mpipe_feature_eng\u001b[0m \u001b[0;34m=\u001b[0m \u001b[0mbuild_feature_engeniering_pipeline\u001b[0m\u001b[0;34m(\u001b[0m\u001b[0mtsfel_names_path\u001b[0m\u001b[0;34m,\u001b[0m\u001b[0mnum_periodos\u001b[0m\u001b[0;34m=\u001b[0m \u001b[0mperiodo\u001b[0m\u001b[0;34m)\u001b[0m\u001b[0;34m\u001b[0m\u001b[0;34m\u001b[0m\u001b[0m\n\u001b[0;32m---> 11\u001b[0;31m     \u001b[0mdf\u001b[0m \u001b[0;34m=\u001b[0m \u001b[0mdata_wrangling\u001b[0m\u001b[0;34m(\u001b[0m\u001b[0mdf\u001b[0m\u001b[0;34m,\u001b[0m\u001b[0mperiodo\u001b[0m\u001b[0;34m)\u001b[0m\u001b[0;34m\u001b[0m\u001b[0;34m\u001b[0m\u001b[0m\n\u001b[0m\u001b[1;32m     12\u001b[0m     \u001b[0mdf\u001b[0m \u001b[0;34m=\u001b[0m \u001b[0mpipe_feature_eng\u001b[0m\u001b[0;34m.\u001b[0m\u001b[0mfit_transform\u001b[0m\u001b[0;34m(\u001b[0m\u001b[0mdf\u001b[0m\u001b[0;34m,\u001b[0m \u001b[0;32mNone\u001b[0m\u001b[0;34m)\u001b[0m\u001b[0;34m\u001b[0m\u001b[0;34m\u001b[0m\u001b[0m\n\u001b[1;32m     13\u001b[0m     \u001b[0;32mreturn\u001b[0m \u001b[0mdf\u001b[0m\u001b[0;34m\u001b[0m\u001b[0;34m\u001b[0m\u001b[0m\n",
      "\u001b[0;32m~/Energiza2_cod4dev/src/preprocessing/preprocessing.py\u001b[0m in \u001b[0;36mdata_wrangling\u001b[0;34m(df, periodo)\u001b[0m\n\u001b[1;32m    265\u001b[0m \u001b[0;34m\u001b[0m\u001b[0m\n\u001b[1;32m    266\u001b[0m \u001b[0;32mdef\u001b[0m \u001b[0mdata_wrangling\u001b[0m\u001b[0;34m(\u001b[0m\u001b[0mdf\u001b[0m\u001b[0;34m,\u001b[0m\u001b[0mperiodo\u001b[0m\u001b[0;34m)\u001b[0m\u001b[0;34m:\u001b[0m\u001b[0;34m\u001b[0m\u001b[0;34m\u001b[0m\u001b[0m\n\u001b[0;32m--> 267\u001b[0;31m     \u001b[0mdf\u001b[0m \u001b[0;34m=\u001b[0m \u001b[0mborrar_uc_nan\u001b[0m\u001b[0;34m(\u001b[0m\u001b[0mdf\u001b[0m\u001b[0;34m)\u001b[0m\u001b[0;34m\u001b[0m\u001b[0;34m\u001b[0m\u001b[0m\n\u001b[0m\u001b[1;32m    268\u001b[0m \u001b[0;34m\u001b[0m\u001b[0m\n\u001b[1;32m    269\u001b[0m     cols_fillna_sindatos = ['contrato','unidad_de_lectura','folio','no_de_poste','cod_mat',\n",
      "\u001b[0;32m~/Energiza2_cod4dev/src/preprocessing/preprocessing.py\u001b[0m in \u001b[0;36mborrar_uc_nan\u001b[0;34m(df)\u001b[0m\n\u001b[1;32m    238\u001b[0m \u001b[0;34m\u001b[0m\u001b[0m\n\u001b[1;32m    239\u001b[0m \u001b[0;32mdef\u001b[0m \u001b[0mborrar_uc_nan\u001b[0m\u001b[0;34m(\u001b[0m\u001b[0mdf\u001b[0m\u001b[0;34m)\u001b[0m\u001b[0;34m:\u001b[0m\u001b[0;34m\u001b[0m\u001b[0;34m\u001b[0m\u001b[0m\n\u001b[0;32m--> 240\u001b[0;31m     \u001b[0mdf\u001b[0m \u001b[0;34m=\u001b[0m \u001b[0mdf\u001b[0m\u001b[0;34m[\u001b[0m\u001b[0;34m~\u001b[0m\u001b[0;34m(\u001b[0m\u001b[0mdf\u001b[0m\u001b[0;34m.\u001b[0m\u001b[0muc\u001b[0m \u001b[0;34m==\u001b[0m \u001b[0;34m'nan'\u001b[0m\u001b[0;34m)\u001b[0m\u001b[0;34m]\u001b[0m\u001b[0;34m\u001b[0m\u001b[0;34m\u001b[0m\u001b[0m\n\u001b[0m\u001b[1;32m    241\u001b[0m     \u001b[0mdf\u001b[0m \u001b[0;34m=\u001b[0m \u001b[0mdf\u001b[0m\u001b[0;34m[\u001b[0m\u001b[0;34m~\u001b[0m\u001b[0;34m(\u001b[0m\u001b[0mdf\u001b[0m\u001b[0;34m.\u001b[0m\u001b[0muc\u001b[0m\u001b[0;34m.\u001b[0m\u001b[0misnull\u001b[0m\u001b[0;34m(\u001b[0m\u001b[0;34m)\u001b[0m\u001b[0;34m)\u001b[0m\u001b[0;34m]\u001b[0m\u001b[0;34m\u001b[0m\u001b[0;34m\u001b[0m\u001b[0m\n\u001b[1;32m    242\u001b[0m     \u001b[0;32mreturn\u001b[0m \u001b[0mdf\u001b[0m\u001b[0;34m\u001b[0m\u001b[0;34m\u001b[0m\u001b[0m\n",
      "\u001b[0;32m/usr/local/lib/python3.6/site-packages/pandas/core/generic.py\u001b[0m in \u001b[0;36m__getattr__\u001b[0;34m(self, name)\u001b[0m\n\u001b[1;32m   5272\u001b[0m             \u001b[0;32mif\u001b[0m \u001b[0mself\u001b[0m\u001b[0;34m.\u001b[0m\u001b[0m_info_axis\u001b[0m\u001b[0;34m.\u001b[0m\u001b[0m_can_hold_identifiers_and_holds_name\u001b[0m\u001b[0;34m(\u001b[0m\u001b[0mname\u001b[0m\u001b[0;34m)\u001b[0m\u001b[0;34m:\u001b[0m\u001b[0;34m\u001b[0m\u001b[0;34m\u001b[0m\u001b[0m\n\u001b[1;32m   5273\u001b[0m                 \u001b[0;32mreturn\u001b[0m \u001b[0mself\u001b[0m\u001b[0;34m[\u001b[0m\u001b[0mname\u001b[0m\u001b[0;34m]\u001b[0m\u001b[0;34m\u001b[0m\u001b[0;34m\u001b[0m\u001b[0m\n\u001b[0;32m-> 5274\u001b[0;31m             \u001b[0;32mreturn\u001b[0m \u001b[0mobject\u001b[0m\u001b[0;34m.\u001b[0m\u001b[0m__getattribute__\u001b[0m\u001b[0;34m(\u001b[0m\u001b[0mself\u001b[0m\u001b[0;34m,\u001b[0m \u001b[0mname\u001b[0m\u001b[0;34m)\u001b[0m\u001b[0;34m\u001b[0m\u001b[0;34m\u001b[0m\u001b[0m\n\u001b[0m\u001b[1;32m   5275\u001b[0m \u001b[0;34m\u001b[0m\u001b[0m\n\u001b[1;32m   5276\u001b[0m     \u001b[0;32mdef\u001b[0m \u001b[0m__setattr__\u001b[0m\u001b[0;34m(\u001b[0m\u001b[0mself\u001b[0m\u001b[0;34m,\u001b[0m \u001b[0mname\u001b[0m\u001b[0;34m:\u001b[0m \u001b[0mstr\u001b[0m\u001b[0;34m,\u001b[0m \u001b[0mvalue\u001b[0m\u001b[0;34m)\u001b[0m \u001b[0;34m->\u001b[0m \u001b[0;32mNone\u001b[0m\u001b[0;34m:\u001b[0m\u001b[0;34m\u001b[0m\u001b[0;34m\u001b[0m\u001b[0m\n",
      "\u001b[0;31mAttributeError\u001b[0m: 'DataFrame' object has no attribute 'uc'"
     ]
    }
   ],
   "source": [
    "%%time\n",
    "df = preprocess_datasets(df)"
   ]
  },
  {
   "cell_type": "markdown",
   "id": "f7dcc3ee",
   "metadata": {},
   "source": [
    "### Train"
   ]
  },
  {
   "cell_type": "code",
   "execution_count": 14,
   "id": "424f9d33",
   "metadata": {},
   "outputs": [],
   "source": [
    "df = df.sample(frac=1.0)\n",
    "df_train, df_val, y_train, y_val = train_test_split(df,df.target, test_size=0.2, random_state=42)"
   ]
  },
  {
   "cell_type": "code",
   "execution_count": 15,
   "id": "c37ef921",
   "metadata": {},
   "outputs": [],
   "source": [
    "lgbm_model = LGBMModel(cols_for_model,hip_lgbm)\n",
    "lgbm_final_model = lgbm_model.train(df_train,y_train)"
   ]
  },
  {
   "cell_type": "code",
   "execution_count": 16,
   "id": "1c9d30f4",
   "metadata": {},
   "outputs": [],
   "source": [
    "cat_model = CATModel(cols_for_model,hip_cat)\n",
    "cat_final_model = cat_model.train(df_train,y_train)"
   ]
  },
  {
   "cell_type": "code",
   "execution_count": 17,
   "id": "191cb3c6",
   "metadata": {},
   "outputs": [
    {
     "name": "stderr",
     "output_type": "stream",
     "text": [
      "2022-12-11 20:19:18.833133: W tensorflow/stream_executor/platform/default/dso_loader.cc:55] Could not load dynamic library 'libcuda.so.1'; dlerror: libcuda.so.1: cannot open shared object file: No such file or directory\n",
      "2022-12-11 20:19:18.833184: E tensorflow/stream_executor/cuda/cuda_driver.cc:351] failed call to cuInit: UNKNOWN ERROR (303)\n",
      "2022-12-11 20:19:18.833207: I tensorflow/stream_executor/cuda/cuda_diagnostics.cc:156] kernel driver does not appear to be running on this host (49434f55fd6e): /proc/driver/nvidia/version does not exist\n",
      "2022-12-11 20:19:18.833479: I tensorflow/core/platform/cpu_feature_guard.cc:142] Your CPU supports instructions that this TensorFlow binary was not compiled to use: AVX2 FMA\n",
      "2022-12-11 20:19:18.861904: I tensorflow/core/platform/profile_utils/cpu_utils.cc:94] CPU Frequency: 2400010000 Hz\n",
      "2022-12-11 20:19:18.863409: I tensorflow/compiler/xla/service/service.cc:168] XLA service 0x557a4b32b860 initialized for platform Host (this does not guarantee that XLA will be used). Devices:\n",
      "2022-12-11 20:19:18.863431: I tensorflow/compiler/xla/service/service.cc:176]   StreamExecutor device (0): Host, Default Version\n"
     ]
    },
    {
     "name": "stdout",
     "output_type": "stream",
     "text": [
      "Restoring model weights from the end of the best epoch.\n",
      "Epoch 00079: early stopping\n"
     ]
    }
   ],
   "source": [
    "features_names = cols_uc + cols_derivadas\n",
    "spents_names = cols_consumo\n",
    "nn_model = NNModel(features_names,spents_names)\n",
    "rnn_final_model,pipe_features,pipe_spent = nn_model.train(df_train,y_train)"
   ]
  },
  {
   "cell_type": "code",
   "execution_count": 18,
   "id": "7853c7c9",
   "metadata": {},
   "outputs": [
    {
     "name": "stdout",
     "output_type": "stream",
     "text": [
      "Restoring model weights from the end of the best epoch.\n",
      "Epoch 00097: early stopping\n"
     ]
    }
   ],
   "source": [
    "features_names = cols_uc + cols_derivadas\n",
    "spents_names = cols_consumo\n",
    "lstm_nn_model = LSTMNNModel(features_names,spents_names)\n",
    "lstm_rnn_final_model,pipe_features,pipe_spent = lstm_nn_model.train(df_train,y_train)"
   ]
  },
  {
   "cell_type": "code",
   "execution_count": 19,
   "id": "cb3a40da",
   "metadata": {},
   "outputs": [],
   "source": [
    "trend_perc_model = ChangeTrendPercentajeIdentifierWide(**hip_trend)\n",
    "const_model = ConstantConsumptionClassifierWide(**hip_const)"
   ]
  },
  {
   "cell_type": "code",
   "execution_count": 20,
   "id": "20be1456",
   "metadata": {},
   "outputs": [],
   "source": [
    "df_val['prob_lgbm'] = lgbm_final_model.predict_proba(df_val[cols_for_model])[:,1]\n",
    "df_val['prob_cb'] = cat_final_model.predict_proba(df_val[cols_for_model])[:,1]\n",
    "\n",
    "X_features = pipe_features.transform(df_val[features_names])\n",
    "X_spents = pipe_spent.transform(df_val[spents_names])\n",
    "X = np.concatenate([X_features,X_spents],axis=1)\n",
    "df_val['prob_ffn'] = rnn_final_model.predict(X, batch_size=BATCH_SIZE)[:,0]\n",
    "\n",
    "X_features = pipe_features.transform(df_val[features_names])\n",
    "X_spents = pipe_spent.transform(df_val[spents_names])\n",
    "X_spents = X_spents.reshape((X_spents.shape[0],periodo,1))\n",
    "df_val['prob_lstmffn'] = lstm_rnn_final_model.predict([X_spents, X_features],batch_size=BATCH_SIZE)[:,0]\n",
    "\n",
    "pred_tc = trend_perc_model.predict(df_val)\n",
    "df_val['fraud_trend'] = pred_tc.is_fraud_trend_perc\n",
    "\n",
    "pred_cm = const_model.predict(df_val[cols_consumo])\n",
    "df_val['fraud_constante'] = pred_cm"
   ]
  },
  {
   "cell_type": "code",
   "execution_count": 21,
   "id": "f8692850",
   "metadata": {},
   "outputs": [],
   "source": [
    "lr_comb_model = built_modelo_combinado(df_val)"
   ]
  },
  {
   "cell_type": "code",
   "execution_count": 22,
   "id": "31c793cc",
   "metadata": {},
   "outputs": [],
   "source": [
    "save_model(lgbm_final_model,name_model_fraud_lgbm)\n",
    "save_model(cat_final_model,name_model_fraud_cat)\n",
    "save_model(pipe_features,name_pipe_features)\n",
    "save_model(pipe_spent,name_pipe_spent)\n",
    "save_model(rnn_final_model,name_model_fraud_nn,False)\n",
    "save_model(lstm_rnn_final_model,name_model_fraud_lstmnn,False)\n",
    "save_model(lr_comb_model,name_model_fraud_comb)"
   ]
  },
  {
   "cell_type": "code",
   "execution_count": 23,
   "id": "8bf90d16",
   "metadata": {},
   "outputs": [],
   "source": [
    "y_pred_comb = lr_comb_model.predict_proba(df_val[cols_comb_model])[:,1]\n",
    "df_val['prob_final'] = y_pred_comb"
   ]
  },
  {
   "cell_type": "code",
   "execution_count": 24,
   "id": "0e1d9a1c",
   "metadata": {},
   "outputs": [
    {
     "name": "stdout",
     "output_type": "stream",
     "text": [
      "AUC Test:  0.538\n",
      "AP Test:  0.026\n"
     ]
    }
   ],
   "source": [
    "print(\"AUC Test:  %.3f\" %  roc_auc_score(y_val,y_pred_comb))\n",
    "print(\"AP Test:  %.3f\" %  average_precision_score(y_val,y_pred_comb,average='weighted'))"
   ]
  },
  {
   "cell_type": "code",
   "execution_count": 25,
   "id": "885d8cd4",
   "metadata": {},
   "outputs": [
    {
     "data": {
      "image/png": "[encoded data removed]",
      "text/plain": [
       "<Figure size 800x400 with 1 Axes>"
      ]
     },
     "metadata": {},
     "output_type": "display_data"
    }
   ],
   "source": [
    "plt.figure(figsize=(8,4))\n",
    "sns.distplot(df_val[df_val.target==0].prob_final, label='0')\n",
    "sns.distplot(df_val[df_val.target==1].prob_final, label='1')\n",
    "plt.vlines(0.6, ymin=0, ymax=5, color='red', linestyles='dashed')\n",
    "plt.xlabel('score', fontsize=16)\n",
    "plt.ylabel('density', fontsize=16)\n",
    "plt.legend()\n",
    "plt.grid()"
   ]
  },
  {
   "cell_type": "code",
   "execution_count": 46,
   "id": "d2ab6ff0",
   "metadata": {},
   "outputs": [
    {
     "name": "stdout",
     "output_type": "stream",
     "text": [
      "Fin\n"
     ]
    }
   ],
   "source": [
    "print(\"Fin\")\n",
    "print(\"--- %s seconds ---\" % (time.time() - start_time))"
   ]
  }
 ],
 "metadata": {
  "availableInstances": [
   {
    "_defaultOrder": 0,
    "_isFastLaunch": true,
    "category": "General purpose",
    "gpuNum": 0,
    "memoryGiB": 4,
    "name": "ml.t3.medium",
    "vcpuNum": 2
   },
   {
    "_defaultOrder": 1,
    "_isFastLaunch": false,
    "category": "General purpose",
    "gpuNum": 0,
    "memoryGiB": 8,
    "name": "ml.t3.large",
    "vcpuNum": 2
   },
   {
    "_defaultOrder": 2,
    "_isFastLaunch": false,
    "category": "General purpose",
    "gpuNum": 0,
    "memoryGiB": 16,
    "name": "ml.t3.xlarge",
    "vcpuNum": 4
   },
   {
    "_defaultOrder": 3,
    "_isFastLaunch": false,
    "category": "General purpose",
    "gpuNum": 0,
    "memoryGiB": 32,
    "name": "ml.t3.2xlarge",
    "vcpuNum": 8
   },
   {
    "_defaultOrder": 4,
    "_isFastLaunch": true,
    "category": "General purpose",
    "gpuNum": 0,
    "memoryGiB": 8,
    "name": "ml.m5.large",
    "vcpuNum": 2
   },
   {
    "_defaultOrder": 5,
    "_isFastLaunch": false,
    "category": "General purpose",
    "gpuNum": 0,
    "memoryGiB": 16,
    "name": "ml.m5.xlarge",
    "vcpuNum": 4
   },
   {
    "_defaultOrder": 6,
    "_isFastLaunch": false,
    "category": "General purpose",
    "gpuNum": 0,
    "memoryGiB": 32,
    "name": "ml.m5.2xlarge",
    "vcpuNum": 8
   },
   {
    "_defaultOrder": 7,
    "_isFastLaunch": false,
    "category": "General purpose",
    "gpuNum": 0,
    "memoryGiB": 64,
    "name": "ml.m5.4xlarge",
    "vcpuNum": 16
   },
   {
    "_defaultOrder": 8,
    "_isFastLaunch": false,
    "category": "General purpose",
    "gpuNum": 0,
    "memoryGiB": 128,
    "name": "ml.m5.8xlarge",
    "vcpuNum": 32
   },
   {
    "_defaultOrder": 9,
    "_isFastLaunch": false,
    "category": "General purpose",
    "gpuNum": 0,
    "memoryGiB": 192,
    "name": "ml.m5.12xlarge",
    "vcpuNum": 48
   },
   {
    "_defaultOrder": 10,
    "_isFastLaunch": false,
    "category": "General purpose",
    "gpuNum": 0,
    "memoryGiB": 256,
    "name": "ml.m5.16xlarge",
    "vcpuNum": 64
   },
   {
    "_defaultOrder": 11,
    "_isFastLaunch": false,
    "category": "General purpose",
    "gpuNum": 0,
    "memoryGiB": 384,
    "name": "ml.m5.24xlarge",
    "vcpuNum": 96
   },
   {
    "_defaultOrder": 12,
    "_isFastLaunch": false,
    "category": "General purpose",
    "gpuNum": 0,
    "memoryGiB": 8,
    "name": "ml.m5d.large",
    "vcpuNum": 2
   },
   {
    "_defaultOrder": 13,
    "_isFastLaunch": false,
    "category": "General purpose",
    "gpuNum": 0,
    "memoryGiB": 16,
    "name": "ml.m5d.xlarge",
    "vcpuNum": 4
   },
   {
    "_defaultOrder": 14,
    "_isFastLaunch": false,
    "category": "General purpose",
    "gpuNum": 0,
    "memoryGiB": 32,
    "name": "ml.m5d.2xlarge",
    "vcpuNum": 8
   },
   {
    "_defaultOrder": 15,
    "_isFastLaunch": false,
    "category": "General purpose",
    "gpuNum": 0,
    "memoryGiB": 64,
    "name": "ml.m5d.4xlarge",
    "vcpuNum": 16
   },
   {
    "_defaultOrder": 16,
    "_isFastLaunch": false,
    "category": "General purpose",
    "gpuNum": 0,
    "memoryGiB": 128,
    "name": "ml.m5d.8xlarge",
    "vcpuNum": 32
   },
   {
    "_defaultOrder": 17,
    "_isFastLaunch": false,
    "category": "General purpose",
    "gpuNum": 0,
    "memoryGiB": 192,
    "name": "ml.m5d.12xlarge",
    "vcpuNum": 48
   },
   {
    "_defaultOrder": 18,
    "_isFastLaunch": false,
    "category": "General purpose",
    "gpuNum": 0,
    "memoryGiB": 256,
    "name": "ml.m5d.16xlarge",
    "vcpuNum": 64
   },
   {
    "_defaultOrder": 19,
    "_isFastLaunch": false,
    "category": "General purpose",
    "gpuNum": 0,
    "memoryGiB": 384,
    "name": "ml.m5d.24xlarge",
    "vcpuNum": 96
   },
   {
    "_defaultOrder": 20,
    "_isFastLaunch": true,
    "category": "Compute optimized",
    "gpuNum": 0,
    "memoryGiB": 4,
    "name": "ml.c5.large",
    "vcpuNum": 2
   },
   {
    "_defaultOrder": 21,
    "_isFastLaunch": false,
    "category": "Compute optimized",
    "gpuNum": 0,
    "memoryGiB": 8,
    "name": "ml.c5.xlarge",
    "vcpuNum": 4
   },
   {
    "_defaultOrder": 22,
    "_isFastLaunch": false,
    "category": "Compute optimized",
    "gpuNum": 0,
    "memoryGiB": 16,
    "name": "ml.c5.2xlarge",
    "vcpuNum": 8
   },
   {
    "_defaultOrder": 23,
    "_isFastLaunch": false,
    "category": "Compute optimized",
    "gpuNum": 0,
    "memoryGiB": 32,
    "name": "ml.c5.4xlarge",
    "vcpuNum": 16
   },
   {
    "_defaultOrder": 24,
    "_isFastLaunch": false,
    "category": "Compute optimized",
    "gpuNum": 0,
    "memoryGiB": 72,
    "name": "ml.c5.9xlarge",
    "vcpuNum": 36
   },
   {
    "_defaultOrder": 25,
    "_isFastLaunch": false,
    "category": "Compute optimized",
    "gpuNum": 0,
    "memoryGiB": 96,
    "name": "ml.c5.12xlarge",
    "vcpuNum": 48
   },
   {
    "_defaultOrder": 26,
    "_isFastLaunch": false,
    "category": "Compute optimized",
    "gpuNum": 0,
    "memoryGiB": 144,
    "name": "ml.c5.18xlarge",
    "vcpuNum": 72
   },
   {
    "_defaultOrder": 27,
    "_isFastLaunch": false,
    "category": "Compute optimized",
    "gpuNum": 0,
    "memoryGiB": 192,
    "name": "ml.c5.24xlarge",
    "vcpuNum": 96
   },
   {
    "_defaultOrder": 28,
    "_isFastLaunch": true,
    "category": "Accelerated computing",
    "gpuNum": 1,
    "memoryGiB": 16,
    "name": "ml.g4dn.xlarge",
    "vcpuNum": 4
   },
   {
    "_defaultOrder": 29,
    "_isFastLaunch": false,
    "category": "Accelerated computing",
    "gpuNum": 1,
    "memoryGiB": 32,
    "name": "ml.g4dn.2xlarge",
    "vcpuNum": 8
   },
   {
    "_defaultOrder": 30,
    "_isFastLaunch": false,
    "category": "Accelerated computing",
    "gpuNum": 1,
    "memoryGiB": 64,
    "name": "ml.g4dn.4xlarge",
    "vcpuNum": 16
   },
   {
    "_defaultOrder": 31,
    "_isFastLaunch": false,
    "category": "Accelerated computing",
    "gpuNum": 1,
    "memoryGiB": 128,
    "name": "ml.g4dn.8xlarge",
    "vcpuNum": 32
   },
   {
    "_defaultOrder": 32,
    "_isFastLaunch": false,
    "category": "Accelerated computing",
    "gpuNum": 4,
    "memoryGiB": 192,
    "name": "ml.g4dn.12xlarge",
    "vcpuNum": 48
   },
   {
    "_defaultOrder": 33,
    "_isFastLaunch": false,
    "category": "Accelerated computing",
    "gpuNum": 1,
    "memoryGiB": 256,
    "name": "ml.g4dn.16xlarge",
    "vcpuNum": 64
   },
   {
    "_defaultOrder": 34,
    "_isFastLaunch": false,
    "category": "Accelerated computing",
    "gpuNum": 1,
    "memoryGiB": 61,
    "name": "ml.p3.2xlarge",
    "vcpuNum": 8
   },
   {
    "_defaultOrder": 35,
    "_isFastLaunch": false,
    "category": "Accelerated computing",
    "gpuNum": 4,
    "memoryGiB": 244,
    "name": "ml.p3.8xlarge",
    "vcpuNum": 32
   },
   {
    "_defaultOrder": 36,
    "_isFastLaunch": false,
    "category": "Accelerated computing",
    "gpuNum": 8,
    "memoryGiB": 488,
    "name": "ml.p3.16xlarge",
    "vcpuNum": 64
   },
   {
    "_defaultOrder": 37,
    "_isFastLaunch": false,
    "category": "Accelerated computing",
    "gpuNum": 8,
    "memoryGiB": 768,
    "name": "ml.p3dn.24xlarge",
    "vcpuNum": 96
   },
   {
    "_defaultOrder": 38,
    "_isFastLaunch": false,
    "category": "Memory Optimized",
    "gpuNum": 0,
    "memoryGiB": 16,
    "name": "ml.r5.large",
    "vcpuNum": 2
   },
   {
    "_defaultOrder": 39,
    "_isFastLaunch": false,
    "category": "Memory Optimized",
    "gpuNum": 0,
    "memoryGiB": 32,
    "name": "ml.r5.xlarge",
    "vcpuNum": 4
   },
   {
    "_defaultOrder": 40,
    "_isFastLaunch": false,
    "category": "Memory Optimized",
    "gpuNum": 0,
    "memoryGiB": 64,
    "name": "ml.r5.2xlarge",
    "vcpuNum": 8
   },
   {
    "_defaultOrder": 41,
    "_isFastLaunch": false,
    "category": "Memory Optimized",
    "gpuNum": 0,
    "memoryGiB": 128,
    "name": "ml.r5.4xlarge",
    "vcpuNum": 16
   },
   {
    "_defaultOrder": 42,
    "_isFastLaunch": false,
    "category": "Memory Optimized",
    "gpuNum": 0,
    "memoryGiB": 256,
    "name": "ml.r5.8xlarge",
    "vcpuNum": 32
   },
   {
    "_defaultOrder": 43,
    "_isFastLaunch": false,
    "category": "Memory Optimized",
    "gpuNum": 0,
    "memoryGiB": 384,
    "name": "ml.r5.12xlarge",
    "vcpuNum": 48
   },
   {
    "_defaultOrder": 44,
    "_isFastLaunch": false,
    "category": "Memory Optimized",
    "gpuNum": 0,
    "memoryGiB": 512,
    "name": "ml.r5.16xlarge",
    "vcpuNum": 64
   },
   {
    "_defaultOrder": 45,
    "_isFastLaunch": false,
    "category": "Memory Optimized",
    "gpuNum": 0,
    "memoryGiB": 768,
    "name": "ml.r5.24xlarge",
    "vcpuNum": 96
   },
   {
    "_defaultOrder": 46,
    "_isFastLaunch": false,
    "category": "Accelerated computing",
    "gpuNum": 1,
    "memoryGiB": 16,
    "name": "ml.g5.xlarge",
    "vcpuNum": 4
   },
   {
    "_defaultOrder": 47,
    "_isFastLaunch": false,
    "category": "Accelerated computing",
    "gpuNum": 1,
    "memoryGiB": 32,
    "name": "ml.g5.2xlarge",
    "vcpuNum": 8
   },
   {
    "_defaultOrder": 48,
    "_isFastLaunch": false,
    "category": "Accelerated computing",
    "gpuNum": 1,
    "memoryGiB": 64,
    "name": "ml.g5.4xlarge",
    "vcpuNum": 16
   },
   {
    "_defaultOrder": 49,
    "_isFastLaunch": false,
    "category": "Accelerated computing",
    "gpuNum": 1,
    "memoryGiB": 128,
    "name": "ml.g5.8xlarge",
    "vcpuNum": 32
   },
   {
    "_defaultOrder": 50,
    "_isFastLaunch": false,
    "category": "Accelerated computing",
    "gpuNum": 1,
    "memoryGiB": 256,
    "name": "ml.g5.16xlarge",
    "vcpuNum": 64
   },
   {
    "_defaultOrder": 51,
    "_isFastLaunch": false,
    "category": "Accelerated computing",
    "gpuNum": 4,
    "memoryGiB": 192,
    "name": "ml.g5.12xlarge",
    "vcpuNum": 48
   },
   {
    "_defaultOrder": 52,
    "_isFastLaunch": false,
    "category": "Accelerated computing",
    "gpuNum": 4,
    "memoryGiB": 384,
    "name": "ml.g5.24xlarge",
    "vcpuNum": 96
   },
   {
    "_defaultOrder": 53,
    "_isFastLaunch": false,
    "category": "Accelerated computing",
    "gpuNum": 8,
    "memoryGiB": 768,
    "name": "ml.g5.48xlarge",
    "vcpuNum": 192
   }
  ],
  "kernelspec": {
   "display_name": "Python 3 (TensorFlow 2.1 Python 3.6 CPU Optimized)",
   "language": "python",
   "name": "python3__SAGEMAKER_INTERNAL__arn:aws:sagemaker:us-east-1:081325390199:image/tensorflow-2.1-cpu-py36"
  },
  "language_info": {
   "codemirror_mode": {
    "name": "ipython",
    "version": 3
   },
   "file_extension": ".py",
   "mimetype": "text/x-python",
   "name": "python",
   "nbconvert_exporter": "python",
   "pygments_lexer": "ipython3",
   "version": "3.6.13"
  }
 },
 "nbformat": 4,
 "nbformat_minor": 5
}
