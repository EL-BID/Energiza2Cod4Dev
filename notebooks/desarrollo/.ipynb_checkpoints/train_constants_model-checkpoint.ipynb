{
 "cells": [
  {
   "cell_type": "code",
   "execution_count": 1,
   "id": "f0f3e2a6",
   "metadata": {},
   "outputs": [],
   "source": [
    "import pandas as pd\n",
    "from sklearn.base import BaseEstimator, TransformerMixin,ClassifierMixin\n",
    "from itertools import groupby\n",
    "import itertools\n",
    "from sklearn.model_selection import KFold\n",
    "from  tqdm import  tqdm\n",
    "from sklearn.metrics import recall_score, f1_score, precision_score\n",
    "import matplotlib.pyplot as plt"
   ]
  },
  {
   "cell_type": "code",
   "execution_count": 2,
   "id": "d5aedc5b",
   "metadata": {},
   "outputs": [],
   "source": [
    "class ConstantConsumptionClassifierWide(BaseEstimator, ClassifierMixin):\n",
    "    def __init__(self, min_count_constante):\n",
    "        self.min_count_constante = min_count_constante\n",
    "        \n",
    "    def fit(self, X, y=None):\n",
    "        return self\n",
    "    \n",
    "    def len_max_consumo_constante_seg(self,consumo):\n",
    "        g = [[k, len(list(v))] for k, v in groupby(consumo)]\n",
    "        g = [x for x in g if (x[1] >= self.min_count_constante)]\n",
    "        if any(g):\n",
    "            return 1\n",
    "        else:\n",
    "            return 0\n",
    "\n",
    "    def predict(self, X):\n",
    "        pred = X.apply(lambda x : self.len_max_consumo_constante_seg(x.values),axis=1)\n",
    "        return pred"
   ]
  },
  {
   "cell_type": "markdown",
   "id": "5fc220f9",
   "metadata": {},
   "source": [
    "## Leer datos <a class=\"anchor\" id=\"leer-csv\"></a>"
   ]
  },
  {
   "cell_type": "code",
   "execution_count": 3,
   "id": "76bd955a",
   "metadata": {},
   "outputs": [
    {
     "name": "stdout",
     "output_type": "stream",
     "text": [
      "CPU times: user 148 ms, sys: 44.4 ms, total: 193 ms\n",
      "Wall time: 126 ms\n"
     ]
    },
    {
     "data": {
      "text/plain": [
       "(30932, 37)"
      ]
     },
     "execution_count": 3,
     "metadata": {},
     "output_type": "execute_result"
    }
   ],
   "source": [
    "%%time\n",
    "filename = '../../data/clean_data/eegsa_wide_train_data.parquet'\n",
    "df = pd.read_parquet(filename)\n",
    "df.shape"
   ]
  },
  {
   "cell_type": "code",
   "execution_count": 4,
   "id": "586f6dce",
   "metadata": {},
   "outputs": [],
   "source": [
    "df.rename(columns={'id_usuario':'uc'}, inplace=True)\n",
    "df.rename(columns={'id':'index'}, inplace=True)\n",
    "df.rename(columns={'is_fraud':'target'}, inplace=True)"
   ]
  },
  {
   "cell_type": "markdown",
   "id": "839978a6",
   "metadata": {},
   "source": [
    "## Particion Train - Test"
   ]
  },
  {
   "cell_type": "code",
   "execution_count": 5,
   "id": "b8169bcb",
   "metadata": {},
   "outputs": [
    {
     "data": {
      "text/plain": [
       "['12_anterior',\n",
       " '11_anterior',\n",
       " '10_anterior',\n",
       " '9_anterior',\n",
       " '8_anterior',\n",
       " '7_anterior',\n",
       " '6_anterior',\n",
       " '5_anterior',\n",
       " '4_anterior',\n",
       " '3_anterior',\n",
       " '2_anterior',\n",
       " '1_anterior']"
      ]
     },
     "execution_count": 5,
     "metadata": {},
     "output_type": "execute_result"
    }
   ],
   "source": [
    "# Por fechas \n",
    "df_train = df[df.date_fizcalizacion<='2022-02-01'].copy()\n",
    "df_test = df[df.date_fizcalizacion>'2022-02-01'].copy()\n",
    "cols_to_model = [str(i)+'_anterior' for i in range(1,13)][::-1]\n",
    "cols_to_model"
   ]
  },
  {
   "cell_type": "code",
   "execution_count": 6,
   "id": "67bacf06",
   "metadata": {},
   "outputs": [],
   "source": [
    "df_train['all_cero'] = (df_train[cols_to_model].sum(axis=1)==0).astype(int)\n",
    "df_test['all_cero'] = (df_test[cols_to_model].sum(axis=1)==0).astype(int)\n",
    "X = df_train[df_train.all_cero==0][cols_to_model].copy()\n",
    "y = df_train[df_train.all_cero==0].target.copy()\n",
    "\n",
    "X_test = df_test[df_test.all_cero==0][cols_to_model].copy()\n",
    "y_test = df_test[df_test.all_cero==0].target.copy()"
   ]
  },
  {
   "cell_type": "code",
   "execution_count": 7,
   "id": "07008dfb",
   "metadata": {},
   "outputs": [],
   "source": [
    "X = df_train[df_train.all_cero==0][cols_to_model].copy()\n",
    "y = df_train[df_train.all_cero==0].target.copy()\n",
    "\n",
    "X_test = df_test[df_test.all_cero==0][cols_to_model].copy()\n",
    "y_test = df_test[df_test.all_cero==0].target.copy()"
   ]
  },
  {
   "cell_type": "markdown",
   "id": "c8ae1845",
   "metadata": {},
   "source": [
    "## Busqueda de hiperparametros"
   ]
  },
  {
   "cell_type": "code",
   "execution_count": 9,
   "id": "2ade255f",
   "metadata": {},
   "outputs": [],
   "source": [
    "n_splits = 3\n",
    "hiper = {'min_count_constante':[3,4,5,6,7,8,9,10]\n",
    "        }\n",
    "cofig = list(itertools.product(hiper['min_count_constante']))"
   ]
  },
  {
   "cell_type": "code",
   "execution_count": 10,
   "id": "2dffedb3",
   "metadata": {},
   "outputs": [
    {
     "name": "stderr",
     "output_type": "stream",
     "text": [
      "100%|██████████| 8/8 [00:04<00:00,  1.74it/s]\n"
     ]
    }
   ],
   "source": [
    "#Get K-folds indices\n",
    "kf = KFold(n_splits = n_splits,shuffle=True, random_state=20)\n",
    "kf.get_n_splits(X)\n",
    "\n",
    "# # K-fold cross validation\n",
    "result = []\n",
    "for c in tqdm(cofig, total=len(cofig)):\n",
    "    min_count_constante = c[0]\n",
    "    const_model = ConstantConsumptionClassifierWide(min_count_constante)\n",
    "    \n",
    "    result_p_fold = []\n",
    "    result_r_fold = []\n",
    "    result_f1_fold = []\n",
    "    for train_index, val_index in kf.split(X):\n",
    "        X_train_fold = X.iloc[train_index, :]\n",
    "        y_train_fold = y.iloc[train_index]\n",
    "        # fit and pred\n",
    "        y_pred = const_model.predict(X_train_fold)\n",
    "        result_p_fold.append(precision_score(y_train_fold, y_pred))\n",
    "        result_r_fold.append(recall_score(y_train_fold, y_pred))\n",
    "        result_f1_fold.append(f1_score(y_train_fold, y_pred))\n",
    "    \n",
    "    result_conf = [c[0]] + result_p_fold + result_r_fold + result_f1_fold\n",
    "    result.append(result_conf)\n",
    "    \n",
    "cols_p = ['p_'+str(x) for x in range(kf.get_n_splits(X))]\n",
    "cols_r = ['r_'+str(x) for x in range(kf.get_n_splits(X))]\n",
    "cols_f1 = ['f1_'+str(x) for x in range(kf.get_n_splits(X))]\n",
    "result = pd.DataFrame(result, columns = ['min_count_constante']+cols_p+cols_r+cols_f1)\n",
    "result['mean_p']=result[cols_p].mean(axis=1)\n",
    "result['mean_r']=result[cols_r].mean(axis=1)\n",
    "result['mean_f1']=result[cols_f1].mean(axis=1)"
   ]
  },
  {
   "cell_type": "code",
   "execution_count": 11,
   "id": "c04c00d8",
   "metadata": {},
   "outputs": [
    {
     "data": {
      "text/html": [
       "<div>\n",
       "<style scoped>\n",
       "    .dataframe tbody tr th:only-of-type {\n",
       "        vertical-align: middle;\n",
       "    }\n",
       "\n",
       "    .dataframe tbody tr th {\n",
       "        vertical-align: top;\n",
       "    }\n",
       "\n",
       "    .dataframe thead th {\n",
       "        text-align: right;\n",
       "    }\n",
       "</style>\n",
       "<table border=\"1\" class=\"dataframe\">\n",
       "  <thead>\n",
       "    <tr style=\"text-align: right;\">\n",
       "      <th></th>\n",
       "      <th>min_count_constante</th>\n",
       "      <th>p_0</th>\n",
       "      <th>p_1</th>\n",
       "      <th>p_2</th>\n",
       "      <th>r_0</th>\n",
       "      <th>r_1</th>\n",
       "      <th>r_2</th>\n",
       "      <th>f1_0</th>\n",
       "      <th>f1_1</th>\n",
       "      <th>f1_2</th>\n",
       "      <th>mean_p</th>\n",
       "      <th>mean_r</th>\n",
       "      <th>mean_f1</th>\n",
       "    </tr>\n",
       "  </thead>\n",
       "  <tbody>\n",
       "    <tr>\n",
       "      <th>4</th>\n",
       "      <td>7</td>\n",
       "      <td>0.019934</td>\n",
       "      <td>0.028939</td>\n",
       "      <td>0.028125</td>\n",
       "      <td>0.065934</td>\n",
       "      <td>0.100000</td>\n",
       "      <td>0.123288</td>\n",
       "      <td>0.030612</td>\n",
       "      <td>0.044888</td>\n",
       "      <td>0.045802</td>\n",
       "      <td>0.025666</td>\n",
       "      <td>0.096407</td>\n",
       "      <td>0.040434</td>\n",
       "    </tr>\n",
       "    <tr>\n",
       "      <th>2</th>\n",
       "      <td>5</td>\n",
       "      <td>0.020583</td>\n",
       "      <td>0.025952</td>\n",
       "      <td>0.021849</td>\n",
       "      <td>0.131868</td>\n",
       "      <td>0.166667</td>\n",
       "      <td>0.178082</td>\n",
       "      <td>0.035608</td>\n",
       "      <td>0.044910</td>\n",
       "      <td>0.038922</td>\n",
       "      <td>0.022794</td>\n",
       "      <td>0.158872</td>\n",
       "      <td>0.039814</td>\n",
       "    </tr>\n",
       "    <tr>\n",
       "      <th>3</th>\n",
       "      <td>6</td>\n",
       "      <td>0.018561</td>\n",
       "      <td>0.025229</td>\n",
       "      <td>0.024719</td>\n",
       "      <td>0.087912</td>\n",
       "      <td>0.122222</td>\n",
       "      <td>0.150685</td>\n",
       "      <td>0.030651</td>\n",
       "      <td>0.041825</td>\n",
       "      <td>0.042471</td>\n",
       "      <td>0.022837</td>\n",
       "      <td>0.120273</td>\n",
       "      <td>0.038316</td>\n",
       "    </tr>\n",
       "    <tr>\n",
       "      <th>1</th>\n",
       "      <td>4</td>\n",
       "      <td>0.015796</td>\n",
       "      <td>0.021303</td>\n",
       "      <td>0.019925</td>\n",
       "      <td>0.142857</td>\n",
       "      <td>0.188889</td>\n",
       "      <td>0.219178</td>\n",
       "      <td>0.028446</td>\n",
       "      <td>0.038288</td>\n",
       "      <td>0.036530</td>\n",
       "      <td>0.019008</td>\n",
       "      <td>0.183641</td>\n",
       "      <td>0.034421</td>\n",
       "    </tr>\n",
       "    <tr>\n",
       "      <th>0</th>\n",
       "      <td>3</td>\n",
       "      <td>0.016895</td>\n",
       "      <td>0.021880</td>\n",
       "      <td>0.016194</td>\n",
       "      <td>0.230769</td>\n",
       "      <td>0.300000</td>\n",
       "      <td>0.273973</td>\n",
       "      <td>0.031484</td>\n",
       "      <td>0.040785</td>\n",
       "      <td>0.030581</td>\n",
       "      <td>0.018323</td>\n",
       "      <td>0.268247</td>\n",
       "      <td>0.034284</td>\n",
       "    </tr>\n",
       "    <tr>\n",
       "      <th>6</th>\n",
       "      <td>9</td>\n",
       "      <td>0.025478</td>\n",
       "      <td>0.018519</td>\n",
       "      <td>0.030675</td>\n",
       "      <td>0.043956</td>\n",
       "      <td>0.033333</td>\n",
       "      <td>0.068493</td>\n",
       "      <td>0.032258</td>\n",
       "      <td>0.023810</td>\n",
       "      <td>0.042373</td>\n",
       "      <td>0.024890</td>\n",
       "      <td>0.048594</td>\n",
       "      <td>0.032813</td>\n",
       "    </tr>\n",
       "    <tr>\n",
       "      <th>5</th>\n",
       "      <td>8</td>\n",
       "      <td>0.017937</td>\n",
       "      <td>0.017391</td>\n",
       "      <td>0.025532</td>\n",
       "      <td>0.043956</td>\n",
       "      <td>0.044444</td>\n",
       "      <td>0.082192</td>\n",
       "      <td>0.025478</td>\n",
       "      <td>0.025000</td>\n",
       "      <td>0.038961</td>\n",
       "      <td>0.020287</td>\n",
       "      <td>0.056864</td>\n",
       "      <td>0.029813</td>\n",
       "    </tr>\n",
       "    <tr>\n",
       "      <th>7</th>\n",
       "      <td>10</td>\n",
       "      <td>0.021505</td>\n",
       "      <td>0.019608</td>\n",
       "      <td>0.020619</td>\n",
       "      <td>0.021978</td>\n",
       "      <td>0.022222</td>\n",
       "      <td>0.027397</td>\n",
       "      <td>0.021739</td>\n",
       "      <td>0.020833</td>\n",
       "      <td>0.023529</td>\n",
       "      <td>0.020577</td>\n",
       "      <td>0.023866</td>\n",
       "      <td>0.022034</td>\n",
       "    </tr>\n",
       "  </tbody>\n",
       "</table>\n",
       "</div>"
      ],
      "text/plain": [
       "   min_count_constante       p_0       p_1       p_2       r_0       r_1  \\\n",
       "4                    7  0.019934  0.028939  0.028125  0.065934  0.100000   \n",
       "2                    5  0.020583  0.025952  0.021849  0.131868  0.166667   \n",
       "3                    6  0.018561  0.025229  0.024719  0.087912  0.122222   \n",
       "1                    4  0.015796  0.021303  0.019925  0.142857  0.188889   \n",
       "0                    3  0.016895  0.021880  0.016194  0.230769  0.300000   \n",
       "6                    9  0.025478  0.018519  0.030675  0.043956  0.033333   \n",
       "5                    8  0.017937  0.017391  0.025532  0.043956  0.044444   \n",
       "7                   10  0.021505  0.019608  0.020619  0.021978  0.022222   \n",
       "\n",
       "        r_2      f1_0      f1_1      f1_2    mean_p    mean_r   mean_f1  \n",
       "4  0.123288  0.030612  0.044888  0.045802  0.025666  0.096407  0.040434  \n",
       "2  0.178082  0.035608  0.044910  0.038922  0.022794  0.158872  0.039814  \n",
       "3  0.150685  0.030651  0.041825  0.042471  0.022837  0.120273  0.038316  \n",
       "1  0.219178  0.028446  0.038288  0.036530  0.019008  0.183641  0.034421  \n",
       "0  0.273973  0.031484  0.040785  0.030581  0.018323  0.268247  0.034284  \n",
       "6  0.068493  0.032258  0.023810  0.042373  0.024890  0.048594  0.032813  \n",
       "5  0.082192  0.025478  0.025000  0.038961  0.020287  0.056864  0.029813  \n",
       "7  0.027397  0.021739  0.020833  0.023529  0.020577  0.023866  0.022034  "
      ]
     },
     "execution_count": 11,
     "metadata": {},
     "output_type": "execute_result"
    }
   ],
   "source": [
    "result.sort_values('mean_f1',ascending=False)"
   ]
  },
  {
   "cell_type": "markdown",
   "id": "38fb4c01",
   "metadata": {},
   "source": [
    "### Config Elegida"
   ]
  },
  {
   "cell_type": "code",
   "execution_count": 12,
   "id": "678a73a3",
   "metadata": {},
   "outputs": [],
   "source": [
    "min_count_constante =7\n",
    "const_model = ConstantConsumptionClassifierWide(min_count_constante)\n",
    "y_test_pred = const_model.predict(X_test[cols_to_model])"
   ]
  },
  {
   "cell_type": "code",
   "execution_count": 13,
   "id": "f1170e50",
   "metadata": {},
   "outputs": [
    {
     "data": {
      "text/plain": [
       "0    96.823371\n",
       "1     3.176629\n",
       "dtype: float64"
      ]
     },
     "execution_count": 13,
     "metadata": {},
     "output_type": "execute_result"
    }
   ],
   "source": [
    "100*y_test_pred.value_counts(normalize=True)"
   ]
  },
  {
   "cell_type": "code",
   "execution_count": 14,
   "id": "840d6767",
   "metadata": {},
   "outputs": [],
   "source": [
    "X_test['pred'] = y_test_pred"
   ]
  },
  {
   "cell_type": "code",
   "execution_count": 15,
   "id": "3fd9b176",
   "metadata": {},
   "outputs": [],
   "source": [
    "X_test.sort_values('pred', ascending=False, inplace=True)"
   ]
  },
  {
   "cell_type": "code",
   "execution_count": 16,
   "id": "0bce79fe",
   "metadata": {},
   "outputs": [
    {
     "data": {
      "text/plain": [
       "12_anterior    29.0\n",
       "11_anterior    23.0\n",
       "10_anterior    19.0\n",
       "9_anterior     10.0\n",
       "8_anterior     11.0\n",
       "7_anterior     11.0\n",
       "6_anterior     11.0\n",
       "5_anterior     11.0\n",
       "4_anterior     11.0\n",
       "3_anterior     11.0\n",
       "2_anterior     11.0\n",
       "1_anterior     10.0\n",
       "pred            1.0\n",
       "Name: 16956, dtype: float64"
      ]
     },
     "execution_count": 16,
     "metadata": {},
     "output_type": "execute_result"
    }
   ],
   "source": [
    "usr = 16956\n",
    "X_test.loc[usr]"
   ]
  },
  {
   "cell_type": "code",
   "execution_count": 17,
   "id": "a2eaec74",
   "metadata": {},
   "outputs": [
    {
     "data": {
      "image/png": "[encoded data removed]",
      "text/plain": [
       "<Figure size 1500x400 with 1 Axes>"
      ]
     },
     "metadata": {},
     "output_type": "display_data"
    }
   ],
   "source": [
    "plt.figure(figsize=(15,4))\n",
    "y = X_test.loc[usr].values\n",
    "x = range(len(y))\n",
    "plt.plot(x,y)\n",
    "plt.scatter(x,y, color='red')\n",
    "plt.ylim(0.0)\n",
    "# plt.legend()\n",
    "plt.grid(True)\n",
    "plt.title(\"usr:\" + str(usr)+\" Cambio Trend último mes \")\n",
    "plt.show()"
   ]
  },
  {
   "cell_type": "code",
   "execution_count": null,
   "id": "66f9a999",
   "metadata": {},
   "outputs": [],
   "source": []
  }
 ],
 "metadata": {
  "kernelspec": {
   "display_name": "Python 3 (ipykernel)",
   "language": "python",
   "name": "python3"
  },
  "language_info": {
   "codemirror_mode": {
    "name": "ipython",
    "version": 3
   },
   "file_extension": ".py",
   "mimetype": "text/x-python",
   "name": "python",
   "nbconvert_exporter": "python",
   "pygments_lexer": "ipython3",
   "version": "3.7.4"
  }
 },
 "nbformat": 4,
 "nbformat_minor": 5
}
