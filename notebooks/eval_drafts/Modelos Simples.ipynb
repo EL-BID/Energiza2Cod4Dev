{
 "cells": [
  {
   "cell_type": "markdown",
   "id": "f7ce9ad1-291e-43d6-9e08-bd0ee0987516",
   "metadata": {
    "tags": []
   },
   "source": [
    "## PRUEBA DE MODELOS SIMPLES"
   ]
  },
  {
   "cell_type": "code",
   "execution_count": null,
   "id": "5ac4f143-553c-463b-992a-79e5c871d22b",
   "metadata": {
    "tags": []
   },
   "outputs": [],
   "source": [
    "#!pip install -r ../../requirements.txt\n",
    "!pip install pyarrow\n",
    "!pip install tsfel\n",
    "!pip install imblearn\n",
    "!pip install lightgbm\n",
    "!pip install tensorflow\n",
    "!pip install catboost\n",
    "!pip install boruta"
   ]
  },
  {
   "cell_type": "code",
   "execution_count": 2,
   "id": "7fc8b057",
   "metadata": {
    "tags": []
   },
   "outputs": [
    {
     "name": "stderr",
     "output_type": "stream",
     "text": [
      "Matplotlib is building the font cache; this may take a moment.\n"
     ]
    }
   ],
   "source": [
    "import os\n",
    "import pandas as pd\n",
    "import numpy as np\n",
    "import warnings\n",
    "import boto3\n",
    "import io\n",
    "import matplotlib.pyplot as plt\n",
    "import seaborn as sns\n",
    "import random\n",
    "from tqdm import tqdm\n",
    "from sklearn.pipeline import Pipeline\n",
    "\n",
    "warnings.filterwarnings('ignore')\n",
    "pd.options.display.float_format = '{:.5f}'.format #evita que muestre notacion cientifica\n",
    "# pd.set_option('display.max_colwidth', None)\n",
    "pd.set_option('display.max_rows', None)\n",
    "pd.set_option('display.max_columns', None)\n",
    "nombre_carpeta = '../../data/2022'\n",
    "\n",
    "module_path = os.path.abspath(os.path.join('../../'))\n",
    "import sys\n",
    "if module_path not in sys.path:\n",
    "    sys.path.append(module_path)\n",
    "from src.preprocessing.preprocessing  import llenar_val_vacios_str,llenar_val_vacios_ciclo,TsfelVars, ExtraVars,ToDummy, TeEncoder, CardinalityReducer\n",
    "from src.modeling.simple_models import ChangeTrendPercentajeIdentifierWide,ConstantConsumptionClassifierWide,PearsonIdentifierWide\n",
    "from src.modeling.supervised_models import LGBMModel, NNModel, LSTMNNModel\n",
    "from src.modeling.feature_selection import feature_selection_by_constant, feature_selection_by_boruta, feature_selection_by_correlation\n",
    "from sklearn.pipeline import Pipeline\n",
    "from sklearn.metrics import recall_score, f1_score, precision_score, classification_report, confusion_matrix, roc_auc_score, roc_curve\n",
    "from sklearn.model_selection import train_test_split\n",
    "import _pickle as pickle\n",
    "from sklearn.base import BaseEstimator\n",
    "from sklearn.base import ClassifierMixin"
   ]
  },
  {
   "cell_type": "code",
   "execution_count": 6,
   "id": "a01e628b-6afe-4414-9e70-60c99acb8082",
   "metadata": {
    "tags": []
   },
   "outputs": [
    {
     "name": "stdout",
     "output_type": "stream",
     "text": [
      "Proportion of target class in train set: 23.231285988483684\n",
      "Proportion of target class in validation set: 23.75588235294118\n",
      "Proportion of target class in test set: 24.661585365853657\n"
     ]
    }
   ],
   "source": [
    "#Particionar por fecha: Quedan muy desbalanceados los conjuntos\n",
    "#df_train = df[df.date_fiscalizacion<'2022-09-01'].copy()\n",
    "df = pd.read_parquet(os.path.join(nombre_carpeta, 'data_normal_and_frauds_wide.parquet'))\n",
    "df = df.rename(columns={'is_fraud':'target','id':'index'})\n",
    "X = df.drop('target', axis=1)\n",
    "y = df['target']\n",
    "X_train, X_test, y_train, y_test = train_test_split(X, y, test_size=0.2, random_state=42)\n",
    "X_train, X_val, y_train, y_val = train_test_split(X_train, y_train, test_size=0.25, random_state=42)"
   ]
  },
  {
   "cell_type": "code",
   "execution_count": 11,
   "id": "4fea2721-fb07-4427-8a68-c288cd3de353",
   "metadata": {
    "tags": []
   },
   "outputs": [
    {
     "name": "stdout",
     "output_type": "stream",
     "text": [
      "0   77.89947\n",
      "1   22.10053\n",
      "Name: is_fraud_trend_perc, dtype: float64\n",
      "0   89.06708\n",
      "1   10.93292\n",
      "dtype: float64\n"
     ]
    }
   ],
   "source": [
    "variables_consumo = [x for x in X.columns if '_anterior' in x and x!='0_anterior']\n",
    "last_base_value,last_eval_value,threshold = 3,1,60\n",
    "trend_perc_model = ChangeTrendPercentajeIdentifierWide(last_base_value,last_eval_value,threshold)\n",
    "trend_pred = trend_perc_model.predict(df_test[variables_consumo])\n",
    "print(100*trend_pred.is_fraud_trend_perc.value_counts(normalize=True))\n",
    "min_count_constante =7\n",
    "const_model = ConstantConsumptionClassifierWide(min_count_constante)\n",
    "y_test_pred = const_model.predict(df_test[variables_consumo])\n",
    "y_test = df_test.target.copy()\n",
    "print(100*y_test_pred.value_counts(normalize=True))"
   ]
  },
  {
   "cell_type": "code",
   "execution_count": 14,
   "id": "0db38bb9-1a1b-4fea-a523-a480cfcb8e32",
   "metadata": {
    "tags": []
   },
   "outputs": [
    {
     "data": {
      "text/plain": [
       "trend_perc             7\n",
       "is_fraud_trend_perc    0\n",
       "dtype: int64"
      ]
     },
     "execution_count": 14,
     "metadata": {},
     "output_type": "execute_result"
    }
   ],
   "source": [
    "trend_pred.isnull().sum()"
   ]
  },
  {
   "cell_type": "code",
   "execution_count": 15,
   "id": "9f11652a-53f9-45f1-9218-41c1bc0963ac",
   "metadata": {
    "tags": []
   },
   "outputs": [
    {
     "name": "stdout",
     "output_type": "stream",
     "text": [
      "Reporte para Trend Perc:\n",
      "              precision    recall  f1-score   support\n",
      "\n",
      "           0       0.99      0.78      0.87      5075\n",
      "           1       0.00      0.13      0.01        38\n",
      "\n",
      "    accuracy                           0.77      5113\n",
      "   macro avg       0.50      0.45      0.44      5113\n",
      "weighted avg       0.98      0.77      0.87      5113\n",
      "\n",
      "Reporte para Constant Consumption:\n",
      "              precision    recall  f1-score   support\n",
      "\n",
      "           0       0.99      0.89      0.94      5075\n",
      "           1       0.02      0.26      0.03        38\n",
      "\n",
      "    accuracy                           0.89      5113\n",
      "   macro avg       0.51      0.58      0.49      5113\n",
      "weighted avg       0.99      0.89      0.93      5113\n",
      "\n"
     ]
    }
   ],
   "source": [
    "print('Reporte para Trend Perc:')\n",
    "print(classification_report(y_test, trend_pred['is_fraud_trend_perc']))\n",
    "print('Reporte para Constant Consumption:')\n",
    "print(classification_report(y_test, y_test_pred))"
   ]
  },
  {
   "cell_type": "code",
   "execution_count": 11,
   "id": "9db4ce6e-8a58-4e83-a307-44a99759e2d5",
   "metadata": {
    "tags": []
   },
   "outputs": [],
   "source": []
  },
  {
   "cell_type": "code",
   "execution_count": 5,
   "id": "0fae6bb4-698f-4209-b1b1-fcc90d760c2e",
   "metadata": {
    "tags": []
   },
   "outputs": [],
   "source": [
    "## CARGAR DATATASETS PREPROCESADOS PARA LOS MODELOS\n",
    "carpeta=nombre_carpeta+'/dataset_nuevo/'#_extendido\n",
    "feat_selec = pd.read_parquet(carpeta+'feat_selec.parquet')\n",
    "X_train = pd.read_parquet(carpeta+'X_train.parquet')\n",
    "y_train_aux = pd.read_parquet(carpeta+'y_train.parquet')\n",
    "y_train = y_train_aux['target']\n",
    "X_val = pd.read_parquet(carpeta+'X_val.parquet')\n",
    "y_val_aux = pd.read_parquet(carpeta+'y_val.parquet')\n",
    "y_val = y_val_aux['target']\n",
    "X_test = pd.read_parquet(carpeta+'X_test.parquet')\n",
    "y_test_aux = pd.read_parquet(carpeta+'y_test.parquet')\n",
    "y_test = y_test_aux['target']\n",
    "\n",
    "variables_consumo = [x for x in X_train.columns if '_anterior' in x]# and x!='0_anterior'\n",
    "variables_categoricas = ['cant_consumo_est','cant_estado_0','cant_estado_1','cant_estado_2','cant_estado_3','cant_estado_4','mes','bimestre','trimestre','cuatrimestre','semestre','cant_categorias','ult_categoria','categ_mas_frecuente','cambios_categoria']\n",
    "cols_excluir = ['index','instalacion','date_fiscalizacion'] + variables_consumo + variables_categoricas\n",
    "cols_for_feature_sel = [x for x in X_train.columns if x not in cols_excluir]\n",
    "\n",
    "feauture_selected = select_by_boruta = feat_selec['boruta'][0].tolist()\n",
    "select_by_corr = feat_selec['corr'][0].tolist()\n",
    "select_by_constant = feat_selec['constant'][0].tolist()\n",
    "cols_for_model = variables_categoricas+variables_consumo+feauture_selected"
   ]
  },
  {
   "cell_type": "code",
   "execution_count": 39,
   "id": "e34211cf-9a96-4efc-b734-88fa4aa8b45d",
   "metadata": {
    "tags": []
   },
   "outputs": [
    {
     "name": "stdout",
     "output_type": "stream",
     "text": [
      "TH: -0.0\n",
      "\tRecall: 0.41, Precision: 0.04, F-1: 0.06\n",
      "TH: -0.1\n",
      "\tRecall: 0.38, Precision: 0.04, F-1: 0.07\n",
      "TH: -0.2\n",
      "\tRecall: 0.34, Precision: 0.04, F-1: 0.07\n",
      "TH: -0.30000000000000004\n",
      "\tRecall: 0.30, Precision: 0.04, F-1: 0.07\n",
      "TH: -0.4\n",
      "\tRecall: 0.26, Precision: 0.04, F-1: 0.07\n",
      "TH: -0.5\n",
      "\tRecall: 0.21, Precision: 0.04, F-1: 0.07\n",
      "TH: -0.6000000000000001\n",
      "\tRecall: 0.17, Precision: 0.04, F-1: 0.07\n",
      "TH: -0.7000000000000001\n",
      "\tRecall: 0.13, Precision: 0.05, F-1: 0.07\n",
      "TH: -0.8\n",
      "\tRecall: 0.08, Precision: 0.07, F-1: 0.07\n",
      "TH: -0.9\n",
      "\tRecall: 0.01, Precision: 0.07, F-1: 0.02\n",
      "CPU times: user 19.5 s, sys: 3.96 ms, total: 19.5 s\n",
      "Wall time: 19.5 s\n"
     ]
    }
   ],
   "source": [
    "%%time\n",
    "#PEARSON, TENDENCIA A LA BAJA EN EL CONSUMO, DIFERENTES UMBRALES\n",
    "for x in np.arange(0, 1, 0.1):\n",
    "    obj=PearsonIdentifierWide(-x)\n",
    "    predicciones_pearson=obj.predict(X_test)\n",
    "    print(f'TH: {-x}')\n",
    "    #print(classification_report(y_test, predicciones_pearson['is_fraud_pearson']))\n",
    "    y_pred = predicciones_pearson['is_fraud_pearson']\n",
    "    print(f'\\tRecall: {recall_score(y_test,y_pred):.2f}, Precision: {precision_score(y_test,y_pred):.2f}, F-1: {f1_score(y_test,y_pred):.2f}')"
   ]
  }
 ],
 "metadata": {
  "kernelspec": {
   "display_name": "conda_amazonei_pytorch_latest_p37",
   "language": "python",
   "name": "conda_amazonei_pytorch_latest_p37"
  },
  "language_info": {
   "codemirror_mode": {
    "name": "ipython",
    "version": 3
   },
   "file_extension": ".py",
   "mimetype": "text/x-python",
   "name": "python",
   "nbconvert_exporter": "python",
   "pygments_lexer": "ipython3",
   "version": "3.7.10"
  }
 },
 "nbformat": 4,
 "nbformat_minor": 5
}
