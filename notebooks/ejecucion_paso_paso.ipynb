{
 "cells": [
  {
   "cell_type": "code",
   "execution_count": 1,
   "id": "5dc455c7",
   "metadata": {
    "tags": []
   },
   "outputs": [],
   "source": [
    "import os\n",
    "import sys\n",
    "import pandas as pd\n",
    "import numpy as np\n",
    "import warnings\n",
    "import matplotlib.pyplot as plt\n",
    "import matplotlib as mpl\n",
    "import seaborn as sns\n",
    "import tsfel\n",
    "from sklearn.pipeline import Pipeline\n",
    "from sklearn.metrics import roc_auc_score, roc_curve"
   ]
  },
  {
   "cell_type": "code",
   "execution_count": 3,
   "id": "d83990cc",
   "metadata": {
    "tags": []
   },
   "outputs": [],
   "source": [
    "%load_ext autoreload\n",
    "%autoreload 2"
   ]
  },
  {
   "cell_type": "code",
   "execution_count": 4,
   "id": "6a51f0f8",
   "metadata": {
    "tags": []
   },
   "outputs": [],
   "source": [
    "module_path = os.path.abspath(os.path.join('../'))\n",
    "if module_path not in sys.path:\n",
    "    sys.path.append(module_path)"
   ]
  },
  {
   "cell_type": "code",
   "execution_count": 5,
   "id": "788f3f29",
   "metadata": {
    "tags": []
   },
   "outputs": [],
   "source": [
    "from src.preprocessing.preprocessing  import data_wrangling, llenar_val_vacios_str,llenar_val_vacios_ciclo,TsfelVars, ExtraVars,ToDummy, TeEncoder, CardinalityReducer\n",
    "from src.modeling.feature_selection import feature_selection_by_constant, feature_selection_by_boruta, feature_selection_by_correlation\n",
    "from src.modeling.simple_models import ChangeTrendPercentajeIdentifierWide,ConstantConsumptionClassifierWide\n",
    "from src.modeling.supervided_models import LGBMModel, NNModel, LSTMNNModel\n",
    "from src.helper.helper_functions import plot_roc"
   ]
  },
  {
   "cell_type": "code",
   "execution_count": 6,
   "id": "19616090",
   "metadata": {
    "tags": []
   },
   "outputs": [],
   "source": [
    "warnings.filterwarnings('ignore')\n",
    "pd.options.display.float_format = '{:.2f}'.format #evita que muestre notacion cientifica\n",
    "pd.set_option('display.max_columns', None)\n",
    "np.set_printoptions(suppress=True) #evita mostrar notacion cientifica"
   ]
  },
  {
   "cell_type": "code",
   "execution_count": 7,
   "id": "34d0e659",
   "metadata": {
    "tags": []
   },
   "outputs": [],
   "source": [
    "# colors = plt.rcParams['axes.prop_cycle'].by_key()['color']\n",
    "# mpl.rcParams['figure.figsize'] = (12, 10)"
   ]
  },
  {
   "cell_type": "code",
   "execution_count": 8,
   "id": "97a0146b",
   "metadata": {
    "tags": []
   },
   "outputs": [],
   "source": [
    "seed = 2021\n",
    "np.random.seed(seed)"
   ]
  },
  {
   "cell_type": "markdown",
   "id": "a83b92de",
   "metadata": {},
   "source": [
    "# Paso 1 - Leer datos\n",
    "***"
   ]
  },
  {
   "cell_type": "code",
   "execution_count": 9,
   "id": "efee8374",
   "metadata": {
    "tags": []
   },
   "outputs": [],
   "source": [
    "df = pd.read_parquet('../datos/df_anonimizado_02-2023.parquet')"
   ]
  },
  {
   "cell_type": "code",
   "execution_count": 10,
   "id": "83e8c340",
   "metadata": {
    "tags": []
   },
   "outputs": [
    {
     "data": {
      "text/html": [
       "<div>\n",
       "<style scoped>\n",
       "    .dataframe tbody tr th:only-of-type {\n",
       "        vertical-align: middle;\n",
       "    }\n",
       "\n",
       "    .dataframe tbody tr th {\n",
       "        vertical-align: top;\n",
       "    }\n",
       "\n",
       "    .dataframe thead th {\n",
       "        text-align: right;\n",
       "    }\n",
       "</style>\n",
       "<table border=\"1\" class=\"dataframe\">\n",
       "  <thead>\n",
       "    <tr style=\"text-align: right;\">\n",
       "      <th></th>\n",
       "      <th>index</th>\n",
       "      <th>12_anterior</th>\n",
       "      <th>11_anterior</th>\n",
       "      <th>10_anterior</th>\n",
       "      <th>9_anterior</th>\n",
       "      <th>8_anterior</th>\n",
       "      <th>7_anterior</th>\n",
       "      <th>6_anterior</th>\n",
       "      <th>5_anterior</th>\n",
       "      <th>4_anterior</th>\n",
       "      <th>3_anterior</th>\n",
       "      <th>2_anterior</th>\n",
       "      <th>1_anterior</th>\n",
       "      <th>zona</th>\n",
       "      <th>actividad</th>\n",
       "      <th>tipo_tarifa</th>\n",
       "      <th>nivel_tension</th>\n",
       "      <th>material_instalacion</th>\n",
       "      <th>fecha_inspeccion</th>\n",
       "      <th>target</th>\n",
       "    </tr>\n",
       "  </thead>\n",
       "  <tbody>\n",
       "    <tr>\n",
       "      <th>50345</th>\n",
       "      <td>50345</td>\n",
       "      <td>nan</td>\n",
       "      <td>nan</td>\n",
       "      <td>nan</td>\n",
       "      <td>nan</td>\n",
       "      <td>nan</td>\n",
       "      <td>62.00</td>\n",
       "      <td>58.00</td>\n",
       "      <td>57.00</td>\n",
       "      <td>69.00</td>\n",
       "      <td>95.00</td>\n",
       "      <td>108.00</td>\n",
       "      <td>106.00</td>\n",
       "      <td>zona_660487</td>\n",
       "      <td>actividad_523376</td>\n",
       "      <td>tipo_tarifa_149261</td>\n",
       "      <td>nivel_tension_197436</td>\n",
       "      <td>material_instalacion_143521</td>\n",
       "      <td>2016-05-01</td>\n",
       "      <td>1</td>\n",
       "    </tr>\n",
       "    <tr>\n",
       "      <th>191551</th>\n",
       "      <td>191551</td>\n",
       "      <td>92.00</td>\n",
       "      <td>87.00</td>\n",
       "      <td>82.00</td>\n",
       "      <td>74.00</td>\n",
       "      <td>82.00</td>\n",
       "      <td>85.00</td>\n",
       "      <td>86.00</td>\n",
       "      <td>96.00</td>\n",
       "      <td>126.00</td>\n",
       "      <td>104.00</td>\n",
       "      <td>119.00</td>\n",
       "      <td>132.00</td>\n",
       "      <td>zona_647593</td>\n",
       "      <td>actividad_523376</td>\n",
       "      <td>tipo_tarifa_149261</td>\n",
       "      <td>nivel_tension_197436</td>\n",
       "      <td>material_instalacion_143521</td>\n",
       "      <td>2017-05-01</td>\n",
       "      <td>1</td>\n",
       "    </tr>\n",
       "    <tr>\n",
       "      <th>8259</th>\n",
       "      <td>8259</td>\n",
       "      <td>20.00</td>\n",
       "      <td>19.00</td>\n",
       "      <td>27.00</td>\n",
       "      <td>33.00</td>\n",
       "      <td>21.00</td>\n",
       "      <td>21.00</td>\n",
       "      <td>21.00</td>\n",
       "      <td>23.00</td>\n",
       "      <td>18.00</td>\n",
       "      <td>15.00</td>\n",
       "      <td>10.00</td>\n",
       "      <td>14.00</td>\n",
       "      <td>zona_660487</td>\n",
       "      <td>actividad_523376</td>\n",
       "      <td>tipo_tarifa_149261</td>\n",
       "      <td>nivel_tension_685394</td>\n",
       "      <td>material_instalacion_250300</td>\n",
       "      <td>2016-01-01</td>\n",
       "      <td>1</td>\n",
       "    </tr>\n",
       "    <tr>\n",
       "      <th>287671</th>\n",
       "      <td>287671</td>\n",
       "      <td>51.00</td>\n",
       "      <td>70.00</td>\n",
       "      <td>135.00</td>\n",
       "      <td>89.00</td>\n",
       "      <td>112.00</td>\n",
       "      <td>106.00</td>\n",
       "      <td>106.00</td>\n",
       "      <td>52.00</td>\n",
       "      <td>31.00</td>\n",
       "      <td>0.00</td>\n",
       "      <td>0.00</td>\n",
       "      <td>0.00</td>\n",
       "      <td>zona_824219</td>\n",
       "      <td>actividad_523376</td>\n",
       "      <td>tipo_tarifa_149261</td>\n",
       "      <td>nivel_tension_197436</td>\n",
       "      <td>material_instalacion_143521</td>\n",
       "      <td>2018-01-01</td>\n",
       "      <td>1</td>\n",
       "    </tr>\n",
       "    <tr>\n",
       "      <th>306877</th>\n",
       "      <td>306877</td>\n",
       "      <td>0.00</td>\n",
       "      <td>27.00</td>\n",
       "      <td>46.00</td>\n",
       "      <td>43.00</td>\n",
       "      <td>39.00</td>\n",
       "      <td>40.00</td>\n",
       "      <td>37.00</td>\n",
       "      <td>39.00</td>\n",
       "      <td>36.00</td>\n",
       "      <td>34.00</td>\n",
       "      <td>35.00</td>\n",
       "      <td>32.00</td>\n",
       "      <td>None</td>\n",
       "      <td>None</td>\n",
       "      <td>None</td>\n",
       "      <td>None</td>\n",
       "      <td>material_instalacion_143521</td>\n",
       "      <td>2018-03-01</td>\n",
       "      <td>1</td>\n",
       "    </tr>\n",
       "  </tbody>\n",
       "</table>\n",
       "</div>"
      ],
      "text/plain": [
       "         index  12_anterior  11_anterior  10_anterior  9_anterior  8_anterior  \\\n",
       "50345    50345          nan          nan          nan         nan         nan   \n",
       "191551  191551        92.00        87.00        82.00       74.00       82.00   \n",
       "8259      8259        20.00        19.00        27.00       33.00       21.00   \n",
       "287671  287671        51.00        70.00       135.00       89.00      112.00   \n",
       "306877  306877         0.00        27.00        46.00       43.00       39.00   \n",
       "\n",
       "        7_anterior  6_anterior  5_anterior  4_anterior  3_anterior  \\\n",
       "50345        62.00       58.00       57.00       69.00       95.00   \n",
       "191551       85.00       86.00       96.00      126.00      104.00   \n",
       "8259         21.00       21.00       23.00       18.00       15.00   \n",
       "287671      106.00      106.00       52.00       31.00        0.00   \n",
       "306877       40.00       37.00       39.00       36.00       34.00   \n",
       "\n",
       "        2_anterior  1_anterior         zona         actividad  \\\n",
       "50345       108.00      106.00  zona_660487  actividad_523376   \n",
       "191551      119.00      132.00  zona_647593  actividad_523376   \n",
       "8259         10.00       14.00  zona_660487  actividad_523376   \n",
       "287671        0.00        0.00  zona_824219  actividad_523376   \n",
       "306877       35.00       32.00         None              None   \n",
       "\n",
       "               tipo_tarifa         nivel_tension         material_instalacion  \\\n",
       "50345   tipo_tarifa_149261  nivel_tension_197436  material_instalacion_143521   \n",
       "191551  tipo_tarifa_149261  nivel_tension_197436  material_instalacion_143521   \n",
       "8259    tipo_tarifa_149261  nivel_tension_685394  material_instalacion_250300   \n",
       "287671  tipo_tarifa_149261  nivel_tension_197436  material_instalacion_143521   \n",
       "306877                None                  None  material_instalacion_143521   \n",
       "\n",
       "       fecha_inspeccion  target  \n",
       "50345        2016-05-01       1  \n",
       "191551       2017-05-01       1  \n",
       "8259         2016-01-01       1  \n",
       "287671       2018-01-01       1  \n",
       "306877       2018-03-01       1  "
      ]
     },
     "execution_count": 10,
     "metadata": {},
     "output_type": "execute_result"
    }
   ],
   "source": [
    "df.head()"
   ]
  },
  {
   "cell_type": "code",
   "execution_count": 11,
   "id": "47df2e81",
   "metadata": {
    "tags": []
   },
   "outputs": [
    {
     "data": {
      "text/plain": [
       "(42500, 20)"
      ]
     },
     "execution_count": 11,
     "metadata": {},
     "output_type": "execute_result"
    }
   ],
   "source": [
    "df.shape"
   ]
  },
  {
   "cell_type": "code",
   "execution_count": 12,
   "id": "6aaa79d2-ca66-4f99-a5e2-84d7abc5822d",
   "metadata": {
    "tags": []
   },
   "outputs": [
    {
     "data": {
      "text/plain": [
       "index                            int64\n",
       "12_anterior                    float64\n",
       "11_anterior                    float64\n",
       "10_anterior                    float64\n",
       "9_anterior                     float64\n",
       "8_anterior                     float64\n",
       "7_anterior                     float64\n",
       "6_anterior                     float64\n",
       "5_anterior                     float64\n",
       "4_anterior                     float64\n",
       "3_anterior                     float64\n",
       "2_anterior                     float64\n",
       "1_anterior                     float64\n",
       "zona                            object\n",
       "actividad                       object\n",
       "tipo_tarifa                     object\n",
       "nivel_tension                   object\n",
       "material_instalacion            object\n",
       "fecha_inspeccion        datetime64[ns]\n",
       "target                           int64\n",
       "dtype: object"
      ]
     },
     "execution_count": 12,
     "metadata": {},
     "output_type": "execute_result"
    }
   ],
   "source": [
    "df.dtypes"
   ]
  },
  {
   "cell_type": "code",
   "execution_count": 13,
   "id": "c1b39179-9659-45bf-ab52-a42d60ceacfc",
   "metadata": {
    "tags": []
   },
   "outputs": [
    {
     "data": {
      "text/plain": [
       "0.058823529411764705"
      ]
     },
     "execution_count": 13,
     "metadata": {},
     "output_type": "execute_result"
    }
   ],
   "source": [
    "df.target.mean()"
   ]
  },
  {
   "cell_type": "markdown",
   "id": "3c9cd5bc",
   "metadata": {},
   "source": [
    "# Paso 2 - Particionar datos\n",
    "***"
   ]
  },
  {
   "cell_type": "code",
   "execution_count": 14,
   "id": "3dc9e06f",
   "metadata": {
    "tags": []
   },
   "outputs": [],
   "source": [
    "#Particionar por fecha\n",
    "df_train = df[df.fecha_inspeccion<'2017-08-01'].copy()\n",
    "df_val = df[(df.fecha_inspeccion>='2017-09-01')&(df.fecha_inspeccion<'2018-01-01')].copy()\n",
    "df_test = df[df.fecha_inspeccion>='2018-01-01'].copy()"
   ]
  },
  {
   "cell_type": "code",
   "execution_count": 15,
   "id": "466a762e",
   "metadata": {
    "tags": []
   },
   "outputs": [
    {
     "name": "stdout",
     "output_type": "stream",
     "text": [
      "(26533, 20)\n",
      "(4323, 20)\n",
      "(9995, 20)\n"
     ]
    }
   ],
   "source": [
    "print(df_train.shape)\n",
    "print(df_val.shape)\n",
    "print(df_test.shape)"
   ]
  },
  {
   "cell_type": "markdown",
   "id": "6c873926-792c-4cdd-9864-b48a26672b87",
   "metadata": {},
   "source": [
    "# Paso 3 - Procesamiento de datos y Construccion de modelos\n",
    "***"
   ]
  },
  {
   "cell_type": "code",
   "execution_count": 16,
   "id": "94753b18-0f0b-4144-be1e-a37cb6d291e3",
   "metadata": {
    "tags": []
   },
   "outputs": [
    {
     "data": {
      "text/plain": [
       "index                      0\n",
       "12_anterior               33\n",
       "11_anterior               31\n",
       "10_anterior               22\n",
       "9_anterior                20\n",
       "8_anterior                18\n",
       "7_anterior                11\n",
       "6_anterior                22\n",
       "5_anterior                36\n",
       "4_anterior                51\n",
       "3_anterior                62\n",
       "2_anterior                81\n",
       "1_anterior                89\n",
       "zona                    2882\n",
       "actividad               2882\n",
       "tipo_tarifa             2882\n",
       "nivel_tension           2894\n",
       "material_instalacion       0\n",
       "fecha_inspeccion           0\n",
       "target                     0\n",
       "dtype: int64"
      ]
     },
     "execution_count": 16,
     "metadata": {},
     "output_type": "execute_result"
    }
   ],
   "source": [
    "df_train.isnull().sum()"
   ]
  },
  {
   "cell_type": "markdown",
   "id": "db8989d0-ab22-4b8d-8769-31f5320fea66",
   "metadata": {},
   "source": [
    "Obervamos que en el conjunto de datos existen valores faltantes en las varibles de consumo que son de tipos numericas y en las variables categoricas como \"zona\", \"actividad\", \"tipo_tarifa\" y \"nivel_tension\".\n",
    "\n",
    "El tratamiento de valores faltantes fue abordado de la sieguiente forma : \n",
    "\n",
    "- variables de consumo : se usaron los metodos ffill y bfill para propagar la observación válida hacia adelante o hacia atras.\n",
    "- variables categoricas :  estas se rellenaron con una nueva categoria denominada \"sin_dato\".\n",
    "\n"
   ]
  },
  {
   "cell_type": "code",
   "execution_count": 17,
   "id": "c4aaa07e-8593-41ee-b2c8-fc85d5e0e2bf",
   "metadata": {
    "tags": []
   },
   "outputs": [],
   "source": [
    "# Relleno de valores faltantes en serie de consumo.\n",
    "df_train = llenar_val_vacios_ciclo(df_train, 12)\n",
    "\n",
    "# Relleno de valores faltantes en variables categoricas\n",
    "cols_fillna_sindatos = ['zona','actividad','tipo_tarifa','nivel_tension']\n",
    "df_train = llenar_val_vacios_str(df_train,cols_fillna_sindatos,'sin_dato')"
   ]
  },
  {
   "cell_type": "markdown",
   "id": "becfe4de-8547-4fb0-84f1-40b76570364a",
   "metadata": {},
   "source": [
    "## Modelos Simples"
   ]
  },
  {
   "cell_type": "markdown",
   "id": "c9717236-a96c-4deb-bfe2-4e31da6d8889",
   "metadata": {},
   "source": [
    "### Regla : Cambio o disminución en el consumo de energía"
   ]
  },
  {
   "cell_type": "markdown",
   "id": "ac5180a8-c152-4e54-a00b-e41427f28e3f",
   "metadata": {},
   "source": [
    "La hipotesis detras de esta regla es que si se existen decrementos bruscos de consumos bruscos entonces es un posible comportamiento de consumo anomalo.\n",
    "- last_base_value : indica la cantidad de periodes anteriores para comparar.\n",
    "- last_eval_value : indica la cantidad de consumos a ser evaluados.\n",
    "- threshold : indica la proporcion de consumo."
   ]
  },
  {
   "cell_type": "code",
   "execution_count": 19,
   "id": "34ab4b22-9795-4c3d-8110-b48350f89c7b",
   "metadata": {
    "tags": []
   },
   "outputs": [],
   "source": [
    "variables_consumo = [x for x in df.columns if '_anterior' in x]\n",
    "last_base_value,last_eval_value,threshold = 3,1,60\n",
    "trend_perc_model = ChangeTrendPercentajeIdentifierWide(last_base_value,last_eval_value,threshold)\n",
    "pred = trend_perc_model.predict(df_test[variables_consumo])"
   ]
  },
  {
   "cell_type": "code",
   "execution_count": 20,
   "id": "b5357a1d-eb23-4c6d-938f-9142944effd2",
   "metadata": {
    "tags": []
   },
   "outputs": [
    {
     "data": {
      "text/plain": [
       "0   89.41\n",
       "1   10.59\n",
       "Name: is_fraud_trend_perc, dtype: float64"
      ]
     },
     "execution_count": 20,
     "metadata": {},
     "output_type": "execute_result"
    }
   ],
   "source": [
    "# Existen un 10% de usuarios en test que cumplieron con la regla.\n",
    "100*pred.is_fraud_trend_perc.value_counts(normalize=True)"
   ]
  },
  {
   "cell_type": "code",
   "execution_count": 23,
   "id": "52c5f9cb-386f-4c39-afcc-367fce78cd07",
   "metadata": {
    "tags": []
   },
   "outputs": [
    {
     "data": {
      "text/plain": [
       "index                                        287671\n",
       "12_anterior                                   51.00\n",
       "11_anterior                                   70.00\n",
       "10_anterior                                  135.00\n",
       "9_anterior                                    89.00\n",
       "8_anterior                                   112.00\n",
       "7_anterior                                   106.00\n",
       "6_anterior                                   106.00\n",
       "5_anterior                                    52.00\n",
       "4_anterior                                    31.00\n",
       "3_anterior                                     0.00\n",
       "2_anterior                                     0.00\n",
       "1_anterior                                     0.00\n",
       "zona                                    zona_824219\n",
       "actividad                          actividad_523376\n",
       "tipo_tarifa                      tipo_tarifa_149261\n",
       "nivel_tension                  nivel_tension_197436\n",
       "material_instalacion    material_instalacion_143521\n",
       "fecha_inspeccion                2018-01-01 00:00:00\n",
       "target                                            1\n",
       "Name: 287671, dtype: object"
      ]
     },
     "execution_count": 23,
     "metadata": {},
     "output_type": "execute_result"
    }
   ],
   "source": [
    "# usuario ejemplo que cumplio con la regla\n",
    "usr = 287671\n",
    "df_test.loc[usr]"
   ]
  },
  {
   "cell_type": "code",
   "execution_count": 25,
   "id": "4141a657-db6e-4efe-b8e3-e1c239056751",
   "metadata": {
    "tags": []
   },
   "outputs": [
    {
     "data": {
      "image/png": "[encoded data removed]",
      "text/plain": [
       "<Figure size 1080x288 with 1 Axes>"
      ]
     },
     "metadata": {
      "needs_background": "light"
     },
     "output_type": "display_data"
    }
   ],
   "source": [
    "plt.figure(figsize=(15,4))\n",
    "y = df_test[variables_consumo].loc[usr].values\n",
    "x = range(len(y))\n",
    "plt.plot(x,y)\n",
    "plt.scatter(x,y, color='red')\n",
    "plt.ylim(0.0)\n",
    "# plt.legend()\n",
    "plt.grid(True)\n",
    "plt.title(\"usr:\" + str(usr)+\" Cambio Trend último mes \")\n",
    "plt.show()"
   ]
  },
  {
   "cell_type": "markdown",
   "id": "554e59ee-46a5-43d7-98d0-daa4825518dd",
   "metadata": {},
   "source": [
    "### Regla : Consumo constante"
   ]
  },
  {
   "cell_type": "markdown",
   "id": "a11ccfdd-dcd9-4a8d-aff7-2231c1238f72",
   "metadata": {
    "tags": []
   },
   "source": [
    "La hipotesis de esta regla es que si existen consumos constantes por periodos largos, entonces es un posible comportamiento de consumo anomalo.\n",
    "- min_count_constante : indica la cantidad minima de periodos donde el consumo es constante.\n"
   ]
  },
  {
   "cell_type": "code",
   "execution_count": 27,
   "id": "9e1dfd04-1497-40df-8d8b-58e392fbd23a",
   "metadata": {
    "tags": []
   },
   "outputs": [],
   "source": [
    "min_count_constante =7\n",
    "const_model = ConstantConsumptionClassifierWide(min_count_constante)\n",
    "y_test_pred = const_model.predict(df_test[variables_consumo])"
   ]
  },
  {
   "cell_type": "code",
   "execution_count": 28,
   "id": "29c9151c-7aac-4836-9855-e760f189b74c",
   "metadata": {
    "tags": []
   },
   "outputs": [
    {
     "data": {
      "text/plain": [
       "0   97.13\n",
       "1    2.87\n",
       "dtype: float64"
      ]
     },
     "execution_count": 28,
     "metadata": {},
     "output_type": "execute_result"
    }
   ],
   "source": [
    "# Existen aprox un 3% de usuarios en test que cumplieron con la regla.\n",
    "100*y_test_pred.value_counts(normalize=True)"
   ]
  },
  {
   "cell_type": "code",
   "execution_count": 32,
   "id": "4491436d-b7e0-45a5-84a3-196f450863ae",
   "metadata": {
    "tags": []
   },
   "outputs": [
    {
     "data": {
      "text/plain": [
       "index                                        312935\n",
       "12_anterior                                   94.00\n",
       "11_anterior                                   44.00\n",
       "10_anterior                                   93.00\n",
       "9_anterior                                    99.00\n",
       "8_anterior                                    58.00\n",
       "7_anterior                                     1.00\n",
       "6_anterior                                     1.00\n",
       "5_anterior                                     1.00\n",
       "4_anterior                                     1.00\n",
       "3_anterior                                     1.00\n",
       "2_anterior                                     1.00\n",
       "1_anterior                                     1.00\n",
       "zona                                    zona_489241\n",
       "actividad                          actividad_089131\n",
       "tipo_tarifa                      tipo_tarifa_149261\n",
       "nivel_tension                  nivel_tension_197436\n",
       "material_instalacion    material_instalacion_680219\n",
       "fecha_inspeccion                2018-04-01 00:00:00\n",
       "target                                            0\n",
       "Name: 312935, dtype: object"
      ]
     },
     "execution_count": 32,
     "metadata": {},
     "output_type": "execute_result"
    }
   ],
   "source": [
    "# usuario ejemplo que cumplio con la regla\n",
    "usr = 312935\n",
    "df_test.loc[usr]"
   ]
  },
  {
   "cell_type": "code",
   "execution_count": 33,
   "id": "cb943874-5284-4114-b9dc-6b7e35615747",
   "metadata": {
    "tags": []
   },
   "outputs": [
    {
     "data": {
      "image/png": "[encoded data removed]",
      "text/plain": [
       "<Figure size 1080x288 with 1 Axes>"
      ]
     },
     "metadata": {
      "needs_background": "light"
     },
     "output_type": "display_data"
    }
   ],
   "source": [
    "plt.figure(figsize=(15,4))\n",
    "y = df_test[variables_consumo].loc[usr].values\n",
    "x = range(len(y))\n",
    "plt.plot(x,y)\n",
    "plt.scatter(x,y, color='red')\n",
    "plt.ylim(0.0)\n",
    "# plt.legend()\n",
    "plt.grid(True)\n",
    "plt.title(\"usr:\" + str(usr)+\" Consumo constante \")\n",
    "plt.show()"
   ]
  },
  {
   "cell_type": "markdown",
   "id": "468d28ba-e87f-4f69-afb0-dc9a613585b9",
   "metadata": {},
   "source": [
    "## Modelos Supervisados"
   ]
  },
  {
   "cell_type": "markdown",
   "id": "7bf90568-187c-4a72-8a7e-11acb6759b3b",
   "metadata": {},
   "source": [
    "### Ingenieria de varibles "
   ]
  },
  {
   "cell_type": "markdown",
   "id": "565eea08-3cb6-4ea1-9888-db30632ca19b",
   "metadata": {},
   "source": [
    "El objetivo principal es derivar variables de las serie de consumo mensual. \n",
    "\n",
    "**Ejemplo :** \n",
    "\n",
    "    1. min, maximo, pendientes.\n",
    "    2. variables estadisticas,temporaales y expectrales.\n",
    "    \n",
    "**Paquete :**\n",
    "\n",
    "- [TSFEL](https://tsfel.readthedocs.io/en/latest/)\n",
    "- [Ejemplo de uso](https://github.com/fraunhoferportugal/tsfel/blob/master/notebooks/TSFEL_SMARTWATCH_HAR_Example.ipynb)\n",
    "- Otro paquete --> [TSFRESH](https://tsfresh.readthedocs.io/en/latest/)"
   ]
  },
  {
   "cell_type": "markdown",
   "id": "b2050ae4-4a6b-405c-ae72-ef98029646aa",
   "metadata": {},
   "source": [
    "En el siguiente ejemplo vemos una serie de consumo, luego con el paquete TSFEL, vamos a extrar variables estadisticas que luego lo podemos usar como variables predictoras en un modelo de supervisado."
   ]
  },
  {
   "cell_type": "code",
   "execution_count": 34,
   "id": "694c2d96-d91d-49e7-bced-916b907be5fe",
   "metadata": {
    "tags": []
   },
   "outputs": [
    {
     "data": {
      "image/png": "[encoded data removed]",
      "text/plain": [
       "<Figure size 720x360 with 1 Axes>"
      ]
     },
     "metadata": {
      "needs_background": "light"
     },
     "output_type": "display_data"
    }
   ],
   "source": [
    "serie_consumo_anteriores = [153.0,  125.0,  117.0,  120.0,  128.0,  80.0,  105.0,  123.0,  101.0,  111.0,  99.0,  96.0]\n",
    "plt.figure(figsize=(10,5))\n",
    "plt.plot(serie_consumo_anteriores)\n",
    "plt.xticks(range(12));"
   ]
  },
  {
   "cell_type": "code",
   "execution_count": 35,
   "id": "b1522a40-c1e5-4add-b7f3-1fab86ceffd1",
   "metadata": {
    "tags": []
   },
   "outputs": [
    {
     "name": "stdout",
     "output_type": "stream",
     "text": [
      "*** Feature extraction started ***\n",
      "16\n"
     ]
    },
    {
     "data": {
      "text/html": [
       "\n",
       "              <p>\n",
       "                  Progress: 100% Complete\n",
       "              <p/>            \n",
       "              <progress\n",
       "                  value='16'\n",
       "                  max='16',\n",
       "                  style='width: 25%',\n",
       "              >\n",
       "                  16\n",
       "              </progress>\n",
       "\n",
       "    "
      ],
      "text/plain": [
       "<IPython.core.display.HTML object>"
      ]
     },
     "metadata": {},
     "output_type": "display_data"
    }
   ],
   "source": [
    "cfg = tsfel.get_features_by_domain(\"statistical\")\n",
    "df_result = tsfel.time_series_features_extractor(cfg, serie_consumo_anteriores,n_jobs=-1)"
   ]
  },
  {
   "cell_type": "code",
   "execution_count": 36,
   "id": "8e35b982-28e1-422f-ab7b-1c4168fcceb9",
   "metadata": {
    "tags": []
   },
   "outputs": [
    {
     "data": {
      "text/html": [
       "<div>\n",
       "<style scoped>\n",
       "    .dataframe tbody tr th:only-of-type {\n",
       "        vertical-align: middle;\n",
       "    }\n",
       "\n",
       "    .dataframe tbody tr th {\n",
       "        vertical-align: top;\n",
       "    }\n",
       "\n",
       "    .dataframe thead th {\n",
       "        text-align: right;\n",
       "    }\n",
       "</style>\n",
       "<table border=\"1\" class=\"dataframe\">\n",
       "  <thead>\n",
       "    <tr style=\"text-align: right;\">\n",
       "      <th></th>\n",
       "      <th>0_ECDF_0</th>\n",
       "      <th>0_ECDF_1</th>\n",
       "      <th>0_ECDF_2</th>\n",
       "      <th>0_ECDF_3</th>\n",
       "      <th>0_ECDF_4</th>\n",
       "      <th>0_ECDF_5</th>\n",
       "      <th>0_ECDF_6</th>\n",
       "      <th>0_ECDF_7</th>\n",
       "      <th>0_ECDF_8</th>\n",
       "      <th>0_ECDF_9</th>\n",
       "      <th>0_ECDF Percentile_0</th>\n",
       "      <th>0_ECDF Percentile_1</th>\n",
       "      <th>0_ECDF Percentile Count_0</th>\n",
       "      <th>0_ECDF Percentile Count_1</th>\n",
       "      <th>0_Histogram_0</th>\n",
       "      <th>0_Histogram_1</th>\n",
       "      <th>0_Histogram_2</th>\n",
       "      <th>0_Histogram_3</th>\n",
       "      <th>0_Histogram_4</th>\n",
       "      <th>0_Histogram_5</th>\n",
       "      <th>0_Histogram_6</th>\n",
       "      <th>0_Histogram_7</th>\n",
       "      <th>0_Histogram_8</th>\n",
       "      <th>0_Histogram_9</th>\n",
       "      <th>0_Interquartile range</th>\n",
       "      <th>0_Kurtosis</th>\n",
       "      <th>0_Max</th>\n",
       "      <th>0_Mean</th>\n",
       "      <th>0_Mean absolute deviation</th>\n",
       "      <th>0_Median</th>\n",
       "      <th>0_Median absolute deviation</th>\n",
       "      <th>0_Min</th>\n",
       "      <th>0_Root mean square</th>\n",
       "      <th>0_Skewness</th>\n",
       "      <th>0_Standard deviation</th>\n",
       "      <th>0_Variance</th>\n",
       "    </tr>\n",
       "  </thead>\n",
       "  <tbody>\n",
       "    <tr>\n",
       "      <th>0</th>\n",
       "      <td>0.08</td>\n",
       "      <td>0.17</td>\n",
       "      <td>0.25</td>\n",
       "      <td>0.33</td>\n",
       "      <td>0.42</td>\n",
       "      <td>0.50</td>\n",
       "      <td>0.58</td>\n",
       "      <td>0.67</td>\n",
       "      <td>0.75</td>\n",
       "      <td>0.83</td>\n",
       "      <td>96.00</td>\n",
       "      <td>123.00</td>\n",
       "      <td>2.00</td>\n",
       "      <td>9.00</td>\n",
       "      <td>0.00</td>\n",
       "      <td>0.00</td>\n",
       "      <td>0.00</td>\n",
       "      <td>0.00</td>\n",
       "      <td>0.00</td>\n",
       "      <td>0.00</td>\n",
       "      <td>0.00</td>\n",
       "      <td>0.00</td>\n",
       "      <td>0.00</td>\n",
       "      <td>0.00</td>\n",
       "      <td>23.00</td>\n",
       "      <td>0.09</td>\n",
       "      <td>153.00</td>\n",
       "      <td>113.17</td>\n",
       "      <td>14.50</td>\n",
       "      <td>114.00</td>\n",
       "      <td>12.00</td>\n",
       "      <td>80.00</td>\n",
       "      <td>114.60</td>\n",
       "      <td>0.32</td>\n",
       "      <td>18.07</td>\n",
       "      <td>326.64</td>\n",
       "    </tr>\n",
       "  </tbody>\n",
       "</table>\n",
       "</div>"
      ],
      "text/plain": [
       "   0_ECDF_0  0_ECDF_1  0_ECDF_2  0_ECDF_3  0_ECDF_4  0_ECDF_5  0_ECDF_6  \\\n",
       "0      0.08      0.17      0.25      0.33      0.42      0.50      0.58   \n",
       "\n",
       "   0_ECDF_7  0_ECDF_8  0_ECDF_9  0_ECDF Percentile_0  0_ECDF Percentile_1  \\\n",
       "0      0.67      0.75      0.83                96.00               123.00   \n",
       "\n",
       "   0_ECDF Percentile Count_0  0_ECDF Percentile Count_1  0_Histogram_0  \\\n",
       "0                       2.00                       9.00           0.00   \n",
       "\n",
       "   0_Histogram_1  0_Histogram_2  0_Histogram_3  0_Histogram_4  0_Histogram_5  \\\n",
       "0           0.00           0.00           0.00           0.00           0.00   \n",
       "\n",
       "   0_Histogram_6  0_Histogram_7  0_Histogram_8  0_Histogram_9  \\\n",
       "0           0.00           0.00           0.00           0.00   \n",
       "\n",
       "   0_Interquartile range  0_Kurtosis  0_Max  0_Mean  \\\n",
       "0                  23.00        0.09 153.00  113.17   \n",
       "\n",
       "   0_Mean absolute deviation  0_Median  0_Median absolute deviation  0_Min  \\\n",
       "0                      14.50    114.00                        12.00  80.00   \n",
       "\n",
       "   0_Root mean square  0_Skewness  0_Standard deviation  0_Variance  \n",
       "0              114.60        0.32                 18.07      326.64  "
      ]
     },
     "execution_count": 36,
     "metadata": {},
     "output_type": "execute_result"
    }
   ],
   "source": [
    "# Como resultados tenemos una diversidad de variables estadisticas como : 0_Max\t0_Mean 0_Standard deviation\t0_Variance, etc.\n",
    "df_result"
   ]
  },
  {
   "cell_type": "markdown",
   "id": "3d39ba21-423e-4f64-843b-f8da3e3dd46d",
   "metadata": {
    "tags": []
   },
   "source": [
    "### Seleccion de variables "
   ]
  },
  {
   "cell_type": "markdown",
   "id": "788123d5-992d-4b4f-8976-b09ab5e6f5b5",
   "metadata": {},
   "source": [
    "El objetivo es seleccionar las mejores variables para entrenar los modelos.\n",
    "\n",
    "**Metodos y Paquete :**\n",
    "\n",
    "- [Boruta](https://pypi.org/project/Boruta/)\n",
    "- [Ejemplo de uso boruta](https://towardsdatascience.com/feature-selection-with-boruta-in-python-676e3877e596)\n",
    "- [Mutual Information](https://towardsdatascience.com/select-features-for-machine-learning-model-with-mutual-information-534fe387d5c8)\n",
    "\n",
    "Este paso lo realizamos luego de extraer las nuevas variables derivadas de las series de consumo. "
   ]
  },
  {
   "cell_type": "code",
   "execution_count": 37,
   "id": "3d066804-d45d-40a5-804f-0f972c7730e2",
   "metadata": {
    "tags": []
   },
   "outputs": [
    {
     "name": "stdout",
     "output_type": "stream",
     "text": [
      "*** Feature extraction started ***\n"
     ]
    },
    {
     "data": {
      "text/html": [
       "\n",
       "              <p>\n",
       "                  Progress: 100% Complete\n",
       "              <p/>            \n",
       "              <progress\n",
       "                  value='12000'\n",
       "                  max='12000',\n",
       "                  style='width: 25%',\n",
       "              >\n",
       "                  12000\n",
       "              </progress>\n",
       "\n",
       "    "
      ],
      "text/plain": [
       "<IPython.core.display.HTML object>"
      ]
     },
     "metadata": {},
     "output_type": "display_data"
    },
    {
     "name": "stdout",
     "output_type": "stream",
     "text": [
      "\n",
      "*** Feature extraction finished ***\n",
      "*** Feature extraction started ***\n"
     ]
    },
    {
     "data": {
      "text/html": [
       "\n",
       "              <p>\n",
       "                  Progress: 100% Complete\n",
       "              <p/>            \n",
       "              <progress\n",
       "                  value='12000'\n",
       "                  max='12000',\n",
       "                  style='width: 25%',\n",
       "              >\n",
       "                  12000\n",
       "              </progress>\n",
       "\n",
       "    "
      ],
      "text/plain": [
       "<IPython.core.display.HTML object>"
      ]
     },
     "metadata": {},
     "output_type": "display_data"
    },
    {
     "name": "stdout",
     "output_type": "stream",
     "text": [
      "\n",
      "*** Feature extraction finished ***\n"
     ]
    }
   ],
   "source": [
    "# Este paso lo vamos hacer con una muestra del conjunto de datos\n",
    "variables_consumo = [x for x in df.columns if '_anterior' in x]\n",
    "df_consumos = df_train[['index']+variables_consumo].head(12000)\n",
    "\n",
    "# Construimos el pipeline de ingenieria de variables.\n",
    "# TsfelVars --> Encapsula todas las funcionalidades del paquete TSFEL.\n",
    "# ExtraVars --> Modulo que agrega variables extras, como cantidad de ceros seguidos en la serie de consumo y en distintas ventanas de tiempo.\n",
    "\n",
    "pipe_feature_engeniering_consumo = Pipeline(\n",
    "    [\n",
    "        (\"tsfel vars\", TsfelVars(features_names_path=None,num_periodos= 12)),\n",
    "        (\"add vars3\",  ExtraVars(num_periodos=3)),\n",
    "        (\"add vars6\",  ExtraVars( num_periodos=6)),\n",
    "        (\"add vars12\", ExtraVars(num_periodos=12)),\n",
    "\n",
    "    ]\n",
    "        )\n",
    "\n",
    "df_features = pipe_feature_engeniering_consumo.fit_transform(df_consumos)"
   ]
  },
  {
   "cell_type": "markdown",
   "id": "d9a73233-e9d2-408b-98a5-b9a377d8da0c",
   "metadata": {},
   "source": [
    "Luego de crear nuevas variables vamos a aplicar los pasos para las seleccion de las variables mas importantes.\n",
    "- Eliminamos varibles constantes\n",
    "- Eliminamos las que esta altamente correlacionadas\n",
    "- Seleccionamos con el metod boruta"
   ]
  },
  {
   "cell_type": "code",
   "execution_count": 38,
   "id": "d26cc369-6434-4e24-a516-730f616be681",
   "metadata": {
    "tags": []
   },
   "outputs": [],
   "source": [
    "cols_for_feature_sel = [x for x in df_features.columns if x not in ['index'] + variables_consumo]\n",
    "y_train = df_train.loc[df_features['index']].target"
   ]
  },
  {
   "cell_type": "code",
   "execution_count": 39,
   "id": "eba98897-ada6-440a-b950-9c1ba1d42d2e",
   "metadata": {
    "tags": []
   },
   "outputs": [
    {
     "name": "stdout",
     "output_type": "stream",
     "text": [
      " # variables No constantes 64\n",
      "Calculando Correlación Entre Variables\n",
      "Eliminando Variables Altamente Correlacionadas\n",
      " # variables No correlacionadas 34\n"
     ]
    },
    {
     "name": "stderr",
     "output_type": "stream",
     "text": [
      "100%|██████████| 5/5 [05:01<00:00, 60.22s/it]"
     ]
    },
    {
     "name": "stdout",
     "output_type": "stream",
     "text": [
      " # variables seleccionadas por Boruta : 47\n",
      "CPU times: user 43min 8s, sys: 22.1 s, total: 43min 31s\n",
      "Wall time: 5min 1s\n"
     ]
    },
    {
     "name": "stderr",
     "output_type": "stream",
     "text": [
      "\n"
     ]
    }
   ],
   "source": [
    "%%time\n",
    "select_by_constant = feature_selection_by_constant(df_features, y_train, cols_for_feature_sel, th=0.99)\n",
    "print(f\" # variables No constantes {len(select_by_constant)}\")\n",
    "\n",
    "select_by_corr = feature_selection_by_correlation(df_features, y_train, select_by_constant,method='pearson', th=0.95)\n",
    "print(f\" # variables No correlacionadas {len(select_by_corr)}\")\n",
    "\n",
    "select_by_boruta = feature_selection_by_boruta(df_features[select_by_constant], y_train, N=5)\n",
    "print(f\" # variables seleccionadas por Boruta : {len(select_by_boruta)}\")\n"
   ]
  },
  {
   "cell_type": "markdown",
   "id": "d60914c9-01d0-43ab-9714-6eff31d7ff11",
   "metadata": {
    "tags": []
   },
   "source": [
    "### Tratamiento de las variables categoricas\n",
    "\n",
    "Las variables categóricas son un desafío para los algoritmos de Machine Learning. Dado que la mayoría de ellos aceptan solo valores numéricos como entradas, necesitamos transformar las categorías en números para usarlos en el modelo."
   ]
  },
  {
   "cell_type": "code",
   "execution_count": 40,
   "id": "97d5c9d6-1993-4697-9fec-c59ff631e39a",
   "metadata": {
    "tags": []
   },
   "outputs": [],
   "source": [
    "variables_categoricas = ['zona','actividad','material_instalacion','tipo_tarifa','nivel_tension']"
   ]
  },
  {
   "cell_type": "code",
   "execution_count": 41,
   "id": "db72af00-c935-4e0b-9956-8adbd33539e6",
   "metadata": {
    "tags": []
   },
   "outputs": [
    {
     "data": {
      "text/html": [
       "<div>\n",
       "<style scoped>\n",
       "    .dataframe tbody tr th:only-of-type {\n",
       "        vertical-align: middle;\n",
       "    }\n",
       "\n",
       "    .dataframe tbody tr th {\n",
       "        vertical-align: top;\n",
       "    }\n",
       "\n",
       "    .dataframe thead th {\n",
       "        text-align: right;\n",
       "    }\n",
       "</style>\n",
       "<table border=\"1\" class=\"dataframe\">\n",
       "  <thead>\n",
       "    <tr style=\"text-align: right;\">\n",
       "      <th></th>\n",
       "      <th>zona</th>\n",
       "      <th>actividad</th>\n",
       "      <th>material_instalacion</th>\n",
       "      <th>tipo_tarifa</th>\n",
       "      <th>nivel_tension</th>\n",
       "    </tr>\n",
       "  </thead>\n",
       "  <tbody>\n",
       "    <tr>\n",
       "      <th>50345</th>\n",
       "      <td>zona_660487</td>\n",
       "      <td>actividad_523376</td>\n",
       "      <td>material_instalacion_143521</td>\n",
       "      <td>tipo_tarifa_149261</td>\n",
       "      <td>nivel_tension_197436</td>\n",
       "    </tr>\n",
       "    <tr>\n",
       "      <th>191551</th>\n",
       "      <td>zona_647593</td>\n",
       "      <td>actividad_523376</td>\n",
       "      <td>material_instalacion_143521</td>\n",
       "      <td>tipo_tarifa_149261</td>\n",
       "      <td>nivel_tension_197436</td>\n",
       "    </tr>\n",
       "    <tr>\n",
       "      <th>8259</th>\n",
       "      <td>zona_660487</td>\n",
       "      <td>actividad_523376</td>\n",
       "      <td>material_instalacion_250300</td>\n",
       "      <td>tipo_tarifa_149261</td>\n",
       "      <td>nivel_tension_685394</td>\n",
       "    </tr>\n",
       "    <tr>\n",
       "      <th>9332</th>\n",
       "      <td>zona_489241</td>\n",
       "      <td>actividad_523376</td>\n",
       "      <td>material_instalacion_143521</td>\n",
       "      <td>tipo_tarifa_149261</td>\n",
       "      <td>nivel_tension_197436</td>\n",
       "    </tr>\n",
       "    <tr>\n",
       "      <th>157486</th>\n",
       "      <td>zona_647593</td>\n",
       "      <td>actividad_960696</td>\n",
       "      <td>material_instalacion_250300</td>\n",
       "      <td>tipo_tarifa_149261</td>\n",
       "      <td>nivel_tension_197436</td>\n",
       "    </tr>\n",
       "  </tbody>\n",
       "</table>\n",
       "</div>"
      ],
      "text/plain": [
       "               zona         actividad         material_instalacion  \\\n",
       "50345   zona_660487  actividad_523376  material_instalacion_143521   \n",
       "191551  zona_647593  actividad_523376  material_instalacion_143521   \n",
       "8259    zona_660487  actividad_523376  material_instalacion_250300   \n",
       "9332    zona_489241  actividad_523376  material_instalacion_143521   \n",
       "157486  zona_647593  actividad_960696  material_instalacion_250300   \n",
       "\n",
       "               tipo_tarifa         nivel_tension  \n",
       "50345   tipo_tarifa_149261  nivel_tension_197436  \n",
       "191551  tipo_tarifa_149261  nivel_tension_197436  \n",
       "8259    tipo_tarifa_149261  nivel_tension_685394  \n",
       "9332    tipo_tarifa_149261  nivel_tension_197436  \n",
       "157486  tipo_tarifa_149261  nivel_tension_197436  "
      ]
     },
     "execution_count": 41,
     "metadata": {},
     "output_type": "execute_result"
    }
   ],
   "source": [
    "df_train[variables_categoricas].head()"
   ]
  },
  {
   "cell_type": "markdown",
   "id": "3de3d409-fe0b-4643-9058-9a8ac5633646",
   "metadata": {},
   "source": [
    "El tratamieno de cada variable es el siguiente : \n",
    "\n",
    "- __actividad__:\n",
    "\n",
    "Reducción de cardinalidad y dummy: Variables categóricas a las que se le redujo la cardinalidad (Esta reducción se logra, por ejemplo, agrupando valores escasos que no tienen una presencia importante en el set de datos) y luego se les aplicó One-Hot-Encoding.\n",
    "\n",
    "\n",
    "- __tipo_tarifa__:\n",
    "\n",
    "Reducción de cardinalidad y target encoding: Variables categóricas a las que se le redujo la cardinalidad y luego se las reemplazó por una medida del efecto que podrían tener en el objetivo.\n",
    "\n",
    "- __zona y nivel_tension__:\n",
    "\n",
    "Variables encodeadas: variables categóricas a las que se les ha aplicado OrdinalEncoder.\n",
    "\n",
    "- __material_instalacion__:\n",
    "\n",
    "Target encoding: Variables categóricas a las que se le redujo la cardinalidad y luego se las reemplazó por una medida del efecto que podrían tener en el objetivo.\n",
    "\n",
    "Nota : [Target-encoding](https://towardsdatascience.com/dealing-with-categorical-variables-by-using-target-encoder-a0f1733a4c69) \n",
    "\n",
    "Finalmente el pipeline de preprocesamiento para las variables categoricas quedo configurado como se muestra a continuacion:\n",
    "\n",
    "~~~\n",
    "\n",
    "pipe_actividad = Pipeline([\n",
    "            ('cardinality_reducer', CardinalityReducer(threshold=0.001)),\n",
    "            ('a_dummy',ToDummy(['actividad']))\n",
    "        ])\n",
    "\n",
    "\n",
    "pipe_tarifa = Pipeline([\n",
    "            ('cardinality_reducer', CardinalityReducer(threshold=0.001)),\n",
    "            ('tarifa_te',TeEncoder(['tipo_tarifa'],w=20))\n",
    "        ])\n",
    "\n",
    "vars_enc = ['zona','nivel_tension']\n",
    "t_features = [\n",
    "    ('var_encoder', OrdinalEncoder(handle_unknown='use_encoded_value', unknown_value=-1), vars_enc),\n",
    "    ('material_isntalacion_te', TeEncoder(['material_instalacion'],w=10), ['material_instalacion']),\n",
    "    ('actividad_cr_dummy', pipe_actividad, ['actividad']),\n",
    "    ('tarifa_cr_te', pipe_tarifa, ['tipo_tarifa']),\n",
    "    ]\n",
    "\n",
    "preprocessor = ColumnTransformer(transformers= t_features,remainder='passthrough')\n",
    "\n",
    "~~~\n"
   ]
  },
  {
   "cell_type": "markdown",
   "id": "43c9e3cf",
   "metadata": {},
   "source": [
    "### Entrenamiento y evaluación de modelos supervisados\n"
   ]
  },
  {
   "cell_type": "code",
   "execution_count": 42,
   "id": "b5bd30e6-dedd-4e8e-89c1-9f45b99614d1",
   "metadata": {
    "tags": []
   },
   "outputs": [],
   "source": [
    "y_train = df_train.target.copy()\n",
    "df_train = df_train.drop(columns=['target'])\n",
    "\n",
    "y_val = df_val.target.copy()\n",
    "df_val = df_val.drop(columns=['target'])\n",
    "\n",
    "y_test = df_test.target.copy()\n",
    "df_test = df_test.drop(columns=['target'])"
   ]
  },
  {
   "cell_type": "code",
   "execution_count": 43,
   "id": "1d086e3e-0c40-4754-bec0-28c98b2c5a7b",
   "metadata": {
    "tags": []
   },
   "outputs": [],
   "source": [
    "# Realizamos los pasos de limpieza en los conjuntos de validacion y test.\n",
    "df_val = llenar_val_vacios_ciclo(df_val, 12)\n",
    "df_val = llenar_val_vacios_str(df_val,cols_fillna_sindatos,'sin_dato')\n",
    "\n",
    "df_test = llenar_val_vacios_ciclo(df_test, 12)\n",
    "df_test = llenar_val_vacios_str(df_test,cols_fillna_sindatos,'sin_dato')"
   ]
  },
  {
   "cell_type": "code",
   "execution_count": 44,
   "id": "a690fb30-00cc-45be-9190-b7eed4dc6029",
   "metadata": {
    "tags": []
   },
   "outputs": [
    {
     "name": "stdout",
     "output_type": "stream",
     "text": [
      "*** Feature extraction started ***\n"
     ]
    },
    {
     "data": {
      "text/html": [
       "\n",
       "              <p>\n",
       "                  Progress: 100% Complete\n",
       "              <p/>            \n",
       "              <progress\n",
       "                  value='26533'\n",
       "                  max='26533',\n",
       "                  style='width: 25%',\n",
       "              >\n",
       "                  26533\n",
       "              </progress>\n",
       "\n",
       "    "
      ],
      "text/plain": [
       "<IPython.core.display.HTML object>"
      ]
     },
     "metadata": {},
     "output_type": "display_data"
    },
    {
     "name": "stdout",
     "output_type": "stream",
     "text": [
      "\n",
      "*** Feature extraction finished ***\n",
      "*** Feature extraction started ***\n"
     ]
    },
    {
     "data": {
      "text/html": [
       "\n",
       "              <p>\n",
       "                  Progress: 100% Complete\n",
       "              <p/>            \n",
       "              <progress\n",
       "                  value='26533'\n",
       "                  max='26533',\n",
       "                  style='width: 25%',\n",
       "              >\n",
       "                  26533\n",
       "              </progress>\n",
       "\n",
       "    "
      ],
      "text/plain": [
       "<IPython.core.display.HTML object>"
      ]
     },
     "metadata": {},
     "output_type": "display_data"
    },
    {
     "name": "stdout",
     "output_type": "stream",
     "text": [
      "\n",
      "*** Feature extraction finished ***\n",
      "*** Feature extraction started ***\n"
     ]
    },
    {
     "data": {
      "text/html": [
       "\n",
       "              <p>\n",
       "                  Progress: 100% Complete\n",
       "              <p/>            \n",
       "              <progress\n",
       "                  value='4323'\n",
       "                  max='4323',\n",
       "                  style='width: 25%',\n",
       "              >\n",
       "                  4323\n",
       "              </progress>\n",
       "\n",
       "    "
      ],
      "text/plain": [
       "<IPython.core.display.HTML object>"
      ]
     },
     "metadata": {},
     "output_type": "display_data"
    },
    {
     "name": "stdout",
     "output_type": "stream",
     "text": [
      "\n",
      "*** Feature extraction finished ***\n",
      "*** Feature extraction started ***\n"
     ]
    },
    {
     "data": {
      "text/html": [
       "\n",
       "              <p>\n",
       "                  Progress: 100% Complete\n",
       "              <p/>            \n",
       "              <progress\n",
       "                  value='4323'\n",
       "                  max='4323',\n",
       "                  style='width: 25%',\n",
       "              >\n",
       "                  4323\n",
       "              </progress>\n",
       "\n",
       "    "
      ],
      "text/plain": [
       "<IPython.core.display.HTML object>"
      ]
     },
     "metadata": {},
     "output_type": "display_data"
    },
    {
     "name": "stdout",
     "output_type": "stream",
     "text": [
      "\n",
      "*** Feature extraction finished ***\n",
      "*** Feature extraction started ***\n"
     ]
    },
    {
     "data": {
      "text/html": [
       "\n",
       "              <p>\n",
       "                  Progress: 100% Complete\n",
       "              <p/>            \n",
       "              <progress\n",
       "                  value='9995'\n",
       "                  max='9995',\n",
       "                  style='width: 25%',\n",
       "              >\n",
       "                  9995\n",
       "              </progress>\n",
       "\n",
       "    "
      ],
      "text/plain": [
       "<IPython.core.display.HTML object>"
      ]
     },
     "metadata": {},
     "output_type": "display_data"
    },
    {
     "name": "stdout",
     "output_type": "stream",
     "text": [
      "\n",
      "*** Feature extraction finished ***\n",
      "*** Feature extraction started ***\n"
     ]
    },
    {
     "data": {
      "text/html": [
       "\n",
       "              <p>\n",
       "                  Progress: 100% Complete\n",
       "              <p/>            \n",
       "              <progress\n",
       "                  value='9995'\n",
       "                  max='9995',\n",
       "                  style='width: 25%',\n",
       "              >\n",
       "                  9995\n",
       "              </progress>\n",
       "\n",
       "    "
      ],
      "text/plain": [
       "<IPython.core.display.HTML object>"
      ]
     },
     "metadata": {},
     "output_type": "display_data"
    },
    {
     "name": "stdout",
     "output_type": "stream",
     "text": [
      "\n",
      "*** Feature extraction finished ***\n"
     ]
    }
   ],
   "source": [
    "# Realizamos calculamos las variables derivadas de las series de consumo en los 3 conjuntos de datos.\n",
    "df_train = pipe_feature_engeniering_consumo.fit_transform(df_train)\n",
    "df_val = pipe_feature_engeniering_consumo.transform(df_val)\n",
    "df_test = pipe_feature_engeniering_consumo.transform(df_test)"
   ]
  },
  {
   "cell_type": "code",
   "execution_count": 45,
   "id": "00f0b726-fb4e-4e5b-9e80-f26def951d2c",
   "metadata": {
    "tags": []
   },
   "outputs": [],
   "source": [
    "# Definimos las variables finales para el entrenamiento de los modelos.\n",
    "feauture_selected = select_by_boruta\n",
    "cols_for_model = variables_categoricas+variables_consumo+feauture_selected"
   ]
  },
  {
   "cell_type": "code",
   "execution_count": 46,
   "id": "d6bb6244-3ab9-4b78-90be-bcc87e6b602f",
   "metadata": {
    "tags": []
   },
   "outputs": [],
   "source": [
    "# Definimos el metodo de balanceo de clases con su correspondiente umbral y el pipeline de preprocesamiento de variables categoricas.\n",
    "param_imb_method = 'under'\n",
    "sam_th = 0.2\n",
    "periodo = 12\n",
    "preprocesor = 4 # Pipeline de variables categoricas"
   ]
  },
  {
   "cell_type": "code",
   "execution_count": 34,
   "id": "49894994",
   "metadata": {
    "tags": []
   },
   "outputs": [],
   "source": [
    "resulado_final = {} # para guardar todas las metricas obtenidas"
   ]
  },
  {
   "cell_type": "markdown",
   "id": "d2128cd8",
   "metadata": {},
   "source": [
    "#### LGBM"
   ]
  },
  {
   "cell_type": "code",
   "execution_count": 35,
   "id": "2a392879",
   "metadata": {
    "tags": []
   },
   "outputs": [
    {
     "name": "stdout",
     "output_type": "stream",
     "text": [
      "\n",
      "Best score reached: 0.7184494499908558 with params: {'lgbmclassifier__colsample_bytree': 0.5724726792874275, 'lgbmclassifier__learning_rate': 0.09042371348412374, 'lgbmclassifier__max_bin': 128, 'lgbmclassifier__max_depth': 5, 'lgbmclassifier__min_child_samples': 240, 'lgbmclassifier__min_child_weight': 0.001, 'lgbmclassifier__num_leaves': 40, 'lgbmclassifier__reg_alpha': 5, 'lgbmclassifier__reg_lambda': 0.001, 'lgbmclassifier__scale_pos_weight': 5, 'lgbmclassifier__subsample': 0.8087445946527063, 'lgbmclassifier__subsample_freq': 11} \n",
      "CPU times: user 7.73 s, sys: 596 ms, total: 8.33 s\n",
      "Wall time: 13.5 s\n"
     ]
    }
   ],
   "source": [
    "%%time\n",
    "train_lgbm_model = LGBMModel(cols_for_model,\n",
    "                             hyperparams=None,\n",
    "                             search_hip=True,\n",
    "                             sampling_th = sam_th,\n",
    "                             preprocesor_num = preprocesor,\n",
    "                             sampling_method=param_imb_method)\n",
    "lgbm_model = train_lgbm_model.train(df_train,y_train,df_val, y_val)"
   ]
  },
  {
   "cell_type": "code",
   "execution_count": 36,
   "id": "d9d998a2",
   "metadata": {
    "tags": []
   },
   "outputs": [],
   "source": [
    "y_pred_test_lgbm = lgbm_model.predict_proba(df_test[cols_for_model])[:,1]\n",
    "resulado_final[f'{param_imb_method}-lgbm'] = y_pred_test_lgbm"
   ]
  },
  {
   "cell_type": "code",
   "execution_count": 37,
   "id": "89e4e75f",
   "metadata": {
    "tags": []
   },
   "outputs": [
    {
     "name": "stdout",
     "output_type": "stream",
     "text": [
      "AUC Test:  0.776\n"
     ]
    }
   ],
   "source": [
    "print(\"AUC Test:  %.3f\" %  roc_auc_score(y_test,y_pred_test_lgbm))"
   ]
  },
  {
   "cell_type": "code",
   "execution_count": 38,
   "id": "cf6c74d4",
   "metadata": {
    "tags": []
   },
   "outputs": [
    {
     "data": {
      "image/png": "[encoded data removed]",
      "text/plain": [
       "<Figure size 576x288 with 1 Axes>"
      ]
     },
     "metadata": {
      "needs_background": "light"
     },
     "output_type": "display_data"
    }
   ],
   "source": [
    "plt.figure(figsize=(8,4))\n",
    "sns.distplot(y_pred_test_lgbm[y_test==0], label='0')\n",
    "sns.distplot(y_pred_test_lgbm[y_test==1], label='1')\n",
    "plt.xlabel('score', fontsize=16)\n",
    "plt.ylabel('density', fontsize=16)\n",
    "plt.legend()\n",
    "plt.grid()"
   ]
  },
  {
   "cell_type": "markdown",
   "id": "9ac0f550",
   "metadata": {},
   "source": [
    "#### NN"
   ]
  },
  {
   "cell_type": "code",
   "execution_count": 39,
   "id": "2b04926c",
   "metadata": {
    "tags": []
   },
   "outputs": [
    {
     "name": "stdout",
     "output_type": "stream",
     "text": [
      "Restoring model weights from the end of the best epoch.\n",
      "Epoch 00079: early stopping\n",
      "CPU times: user 37.1 s, sys: 21 s, total: 58.1 s\n",
      "Wall time: 8.37 s\n"
     ]
    }
   ],
   "source": [
    "%%time\n",
    "features_names = variables_categoricas + feauture_selected\n",
    "spents_names = variables_consumo\n",
    "train_nn_model = NNModel(features_names,spents_names,sampling_th = sam_th,preprocesor_num = preprocesor,sampling_method=param_imb_method)\n",
    "rnn_model,pipe_features,pipe_spent = train_nn_model.train(df_train,y_train)"
   ]
  },
  {
   "cell_type": "code",
   "execution_count": 40,
   "id": "71d2fc2c",
   "metadata": {
    "tags": []
   },
   "outputs": [],
   "source": [
    "X_features = pipe_features.transform(df_test[features_names])\n",
    "X_spents = pipe_spent.transform(df_test[spents_names])\n",
    "X_test_features = np.concatenate([X_features,X_spents],axis=1)"
   ]
  },
  {
   "cell_type": "code",
   "execution_count": 41,
   "id": "d8dc19e8",
   "metadata": {
    "tags": []
   },
   "outputs": [],
   "source": [
    "y_pred_test_rnn = rnn_model.predict(X_test_features, batch_size=train_nn_model.BATCH_SIZE)\n",
    "resulado_final[f'{param_imb_method}-ffn'] = y_pred_test_rnn"
   ]
  },
  {
   "cell_type": "code",
   "execution_count": 42,
   "id": "2e685386",
   "metadata": {
    "tags": []
   },
   "outputs": [
    {
     "name": "stdout",
     "output_type": "stream",
     "text": [
      "AUC Test:  0.734\n"
     ]
    }
   ],
   "source": [
    "print(\"AUC Test:  %.3f\" %  roc_auc_score(y_test,y_pred_test_rnn))"
   ]
  },
  {
   "cell_type": "code",
   "execution_count": 43,
   "id": "56f681fa",
   "metadata": {
    "tags": []
   },
   "outputs": [
    {
     "data": {
      "image/png": "[encoded data removed]",
      "text/plain": [
       "<Figure size 576x288 with 1 Axes>"
      ]
     },
     "metadata": {
      "needs_background": "light"
     },
     "output_type": "display_data"
    }
   ],
   "source": [
    "plt.figure(figsize=(8,4))\n",
    "sns.distplot(y_pred_test_rnn[y_test==0], label='0')\n",
    "sns.distplot(y_pred_test_rnn[y_test==1], label='1')\n",
    "plt.xlabel('score', fontsize=16)\n",
    "plt.ylabel('density', fontsize=16)\n",
    "plt.legend()\n",
    "plt.grid()"
   ]
  },
  {
   "cell_type": "markdown",
   "id": "6305632e",
   "metadata": {},
   "source": [
    "#### LSTM-NN"
   ]
  },
  {
   "cell_type": "code",
   "execution_count": 44,
   "id": "30966082",
   "metadata": {
    "tags": []
   },
   "outputs": [
    {
     "name": "stdout",
     "output_type": "stream",
     "text": [
      "Restoring model weights from the end of the best epoch.\n",
      "Epoch 00079: early stopping\n",
      "CPU times: user 6min 43s, sys: 5min 23s, total: 12min 6s\n",
      "Wall time: 1min 1s\n"
     ]
    }
   ],
   "source": [
    "%%time\n",
    "features_names = variables_categoricas + feauture_selected\n",
    "spents_names = variables_consumo\n",
    "lstm_nn_model = LSTMNNModel(features_names,spents_names,sampling_th = sam_th,preprocesor_num = preprocesor,sampling_method=param_imb_method)\n",
    "lstm_rnn_model,pipe_features,pipe_spent = lstm_nn_model.train(df_train,y_train)"
   ]
  },
  {
   "cell_type": "code",
   "execution_count": 45,
   "id": "04caa490",
   "metadata": {
    "tags": []
   },
   "outputs": [],
   "source": [
    "X_test_features = pipe_features.transform(df_test[features_names])\n",
    "X_test_spents = pipe_spent.transform(df_test[spents_names])\n",
    "X_test_spents = X_test_spents.reshape((X_test_spents.shape[0],periodo,1))"
   ]
  },
  {
   "cell_type": "code",
   "execution_count": 46,
   "id": "a4cc9323",
   "metadata": {
    "tags": []
   },
   "outputs": [],
   "source": [
    "y_pred_test_lstm_rnn = lstm_rnn_model.predict([X_test_spents, X_test_features],batch_size=lstm_nn_model.BATCH_SIZE)[:,0]\n",
    "resulado_final[f'{param_imb_method}-lstm-ffn'] = y_pred_test_lstm_rnn"
   ]
  },
  {
   "cell_type": "code",
   "execution_count": 47,
   "id": "32c8d062",
   "metadata": {
    "tags": []
   },
   "outputs": [
    {
     "name": "stdout",
     "output_type": "stream",
     "text": [
      "AUC Test:  0.732\n"
     ]
    }
   ],
   "source": [
    "print(\"AUC Test:  %.3f\" %  roc_auc_score(y_test,y_pred_test_lstm_rnn))"
   ]
  },
  {
   "cell_type": "code",
   "execution_count": 48,
   "id": "92fb461a",
   "metadata": {
    "tags": []
   },
   "outputs": [
    {
     "data": {
      "image/png": "[encoded data removed]",
      "text/plain": [
       "<Figure size 576x288 with 1 Axes>"
      ]
     },
     "metadata": {
      "needs_background": "light"
     },
     "output_type": "display_data"
    }
   ],
   "source": [
    "plt.figure(figsize=(8,4))\n",
    "sns.distplot(y_pred_test_lstm_rnn[y_test==0], label='0')\n",
    "sns.distplot(y_pred_test_lstm_rnn[y_test==1], label='1')\n",
    "plt.xlabel('score', fontsize=16)\n",
    "plt.ylabel('density', fontsize=16)\n",
    "plt.legend()\n",
    "plt.grid()"
   ]
  },
  {
   "cell_type": "markdown",
   "id": "d12c6f9e",
   "metadata": {},
   "source": [
    "#### Resultados modelos superisados"
   ]
  },
  {
   "cell_type": "code",
   "execution_count": 49,
   "id": "04c94ebb-1231-4090-9f74-ec3ffb92a79a",
   "metadata": {
    "tags": []
   },
   "outputs": [],
   "source": [
    "colors = plt.rcParams['axes.prop_cycle'].by_key()['color']\n",
    "mpl.rcParams['figure.figsize'] = (10, 6)"
   ]
  },
  {
   "cell_type": "code",
   "execution_count": 50,
   "id": "1b3e58aa",
   "metadata": {
    "tags": []
   },
   "outputs": [
    {
     "data": {
      "text/html": [
       "<div>\n",
       "<style scoped>\n",
       "    .dataframe tbody tr th:only-of-type {\n",
       "        vertical-align: middle;\n",
       "    }\n",
       "\n",
       "    .dataframe tbody tr th {\n",
       "        vertical-align: top;\n",
       "    }\n",
       "\n",
       "    .dataframe thead th {\n",
       "        text-align: right;\n",
       "    }\n",
       "</style>\n",
       "<table border=\"1\" class=\"dataframe\">\n",
       "  <thead>\n",
       "    <tr style=\"text-align: right;\">\n",
       "      <th></th>\n",
       "      <th>metodo</th>\n",
       "      <th>auc</th>\n",
       "    </tr>\n",
       "  </thead>\n",
       "  <tbody>\n",
       "    <tr>\n",
       "      <th>0</th>\n",
       "      <td>under-lgbm</td>\n",
       "      <td>0.78</td>\n",
       "    </tr>\n",
       "    <tr>\n",
       "      <th>1</th>\n",
       "      <td>under-ffn</td>\n",
       "      <td>0.73</td>\n",
       "    </tr>\n",
       "    <tr>\n",
       "      <th>2</th>\n",
       "      <td>under-lstm-ffn</td>\n",
       "      <td>0.73</td>\n",
       "    </tr>\n",
       "  </tbody>\n",
       "</table>\n",
       "</div>"
      ],
      "text/plain": [
       "           metodo  auc\n",
       "0      under-lgbm 0.78\n",
       "1       under-ffn 0.73\n",
       "2  under-lstm-ffn 0.73"
      ]
     },
     "execution_count": 50,
     "metadata": {},
     "output_type": "execute_result"
    },
    {
     "data": {
      "image/png": "[encoded data removed]",
      "text/plain": [
       "<Figure size 720x432 with 1 Axes>"
      ]
     },
     "metadata": {
      "needs_background": "light"
     },
     "output_type": "display_data"
    }
   ],
   "source": [
    "l_m_auc = []\n",
    "\n",
    "for i,x in enumerate(resulado_final.keys()):\n",
    "    plot_roc(x, y_test,resulado_final[x] , color=colors[i])\n",
    "    m_auc = roc_auc_score(y_test,resulado_final[x])\n",
    "    l_m_auc.append((x,m_auc))\n",
    "plt.legend();\n",
    "\n",
    "pd.DataFrame(l_m_auc, columns=['metodo','auc']).sort_values('auc',ascending=False)"
   ]
  },
  {
   "cell_type": "code",
   "execution_count": null,
   "id": "985b9064-f276-447a-b092-557c6d53c419",
   "metadata": {},
   "outputs": [],
   "source": []
  }
 ],
 "metadata": {
  "availableInstances": [
   {
    "_defaultOrder": 0,
    "_isFastLaunch": true,
    "category": "General purpose",
    "gpuNum": 0,
    "memoryGiB": 4,
    "name": "ml.t3.medium",
    "vcpuNum": 2
   },
   {
    "_defaultOrder": 1,
    "_isFastLaunch": false,
    "category": "General purpose",
    "gpuNum": 0,
    "memoryGiB": 8,
    "name": "ml.t3.large",
    "vcpuNum": 2
   },
   {
    "_defaultOrder": 2,
    "_isFastLaunch": false,
    "category": "General purpose",
    "gpuNum": 0,
    "memoryGiB": 16,
    "name": "ml.t3.xlarge",
    "vcpuNum": 4
   },
   {
    "_defaultOrder": 3,
    "_isFastLaunch": false,
    "category": "General purpose",
    "gpuNum": 0,
    "memoryGiB": 32,
    "name": "ml.t3.2xlarge",
    "vcpuNum": 8
   },
   {
    "_defaultOrder": 4,
    "_isFastLaunch": true,
    "category": "General purpose",
    "gpuNum": 0,
    "memoryGiB": 8,
    "name": "ml.m5.large",
    "vcpuNum": 2
   },
   {
    "_defaultOrder": 5,
    "_isFastLaunch": false,
    "category": "General purpose",
    "gpuNum": 0,
    "memoryGiB": 16,
    "name": "ml.m5.xlarge",
    "vcpuNum": 4
   },
   {
    "_defaultOrder": 6,
    "_isFastLaunch": false,
    "category": "General purpose",
    "gpuNum": 0,
    "memoryGiB": 32,
    "name": "ml.m5.2xlarge",
    "vcpuNum": 8
   },
   {
    "_defaultOrder": 7,
    "_isFastLaunch": false,
    "category": "General purpose",
    "gpuNum": 0,
    "memoryGiB": 64,
    "name": "ml.m5.4xlarge",
    "vcpuNum": 16
   },
   {
    "_defaultOrder": 8,
    "_isFastLaunch": false,
    "category": "General purpose",
    "gpuNum": 0,
    "memoryGiB": 128,
    "name": "ml.m5.8xlarge",
    "vcpuNum": 32
   },
   {
    "_defaultOrder": 9,
    "_isFastLaunch": false,
    "category": "General purpose",
    "gpuNum": 0,
    "memoryGiB": 192,
    "name": "ml.m5.12xlarge",
    "vcpuNum": 48
   },
   {
    "_defaultOrder": 10,
    "_isFastLaunch": false,
    "category": "General purpose",
    "gpuNum": 0,
    "memoryGiB": 256,
    "name": "ml.m5.16xlarge",
    "vcpuNum": 64
   },
   {
    "_defaultOrder": 11,
    "_isFastLaunch": false,
    "category": "General purpose",
    "gpuNum": 0,
    "memoryGiB": 384,
    "name": "ml.m5.24xlarge",
    "vcpuNum": 96
   },
   {
    "_defaultOrder": 12,
    "_isFastLaunch": false,
    "category": "General purpose",
    "gpuNum": 0,
    "memoryGiB": 8,
    "name": "ml.m5d.large",
    "vcpuNum": 2
   },
   {
    "_defaultOrder": 13,
    "_isFastLaunch": false,
    "category": "General purpose",
    "gpuNum": 0,
    "memoryGiB": 16,
    "name": "ml.m5d.xlarge",
    "vcpuNum": 4
   },
   {
    "_defaultOrder": 14,
    "_isFastLaunch": false,
    "category": "General purpose",
    "gpuNum": 0,
    "memoryGiB": 32,
    "name": "ml.m5d.2xlarge",
    "vcpuNum": 8
   },
   {
    "_defaultOrder": 15,
    "_isFastLaunch": false,
    "category": "General purpose",
    "gpuNum": 0,
    "memoryGiB": 64,
    "name": "ml.m5d.4xlarge",
    "vcpuNum": 16
   },
   {
    "_defaultOrder": 16,
    "_isFastLaunch": false,
    "category": "General purpose",
    "gpuNum": 0,
    "memoryGiB": 128,
    "name": "ml.m5d.8xlarge",
    "vcpuNum": 32
   },
   {
    "_defaultOrder": 17,
    "_isFastLaunch": false,
    "category": "General purpose",
    "gpuNum": 0,
    "memoryGiB": 192,
    "name": "ml.m5d.12xlarge",
    "vcpuNum": 48
   },
   {
    "_defaultOrder": 18,
    "_isFastLaunch": false,
    "category": "General purpose",
    "gpuNum": 0,
    "memoryGiB": 256,
    "name": "ml.m5d.16xlarge",
    "vcpuNum": 64
   },
   {
    "_defaultOrder": 19,
    "_isFastLaunch": false,
    "category": "General purpose",
    "gpuNum": 0,
    "memoryGiB": 384,
    "name": "ml.m5d.24xlarge",
    "vcpuNum": 96
   },
   {
    "_defaultOrder": 20,
    "_isFastLaunch": true,
    "category": "Compute optimized",
    "gpuNum": 0,
    "memoryGiB": 4,
    "name": "ml.c5.large",
    "vcpuNum": 2
   },
   {
    "_defaultOrder": 21,
    "_isFastLaunch": false,
    "category": "Compute optimized",
    "gpuNum": 0,
    "memoryGiB": 8,
    "name": "ml.c5.xlarge",
    "vcpuNum": 4
   },
   {
    "_defaultOrder": 22,
    "_isFastLaunch": false,
    "category": "Compute optimized",
    "gpuNum": 0,
    "memoryGiB": 16,
    "name": "ml.c5.2xlarge",
    "vcpuNum": 8
   },
   {
    "_defaultOrder": 23,
    "_isFastLaunch": false,
    "category": "Compute optimized",
    "gpuNum": 0,
    "memoryGiB": 32,
    "name": "ml.c5.4xlarge",
    "vcpuNum": 16
   },
   {
    "_defaultOrder": 24,
    "_isFastLaunch": false,
    "category": "Compute optimized",
    "gpuNum": 0,
    "memoryGiB": 72,
    "name": "ml.c5.9xlarge",
    "vcpuNum": 36
   },
   {
    "_defaultOrder": 25,
    "_isFastLaunch": false,
    "category": "Compute optimized",
    "gpuNum": 0,
    "memoryGiB": 96,
    "name": "ml.c5.12xlarge",
    "vcpuNum": 48
   },
   {
    "_defaultOrder": 26,
    "_isFastLaunch": false,
    "category": "Compute optimized",
    "gpuNum": 0,
    "memoryGiB": 144,
    "name": "ml.c5.18xlarge",
    "vcpuNum": 72
   },
   {
    "_defaultOrder": 27,
    "_isFastLaunch": false,
    "category": "Compute optimized",
    "gpuNum": 0,
    "memoryGiB": 192,
    "name": "ml.c5.24xlarge",
    "vcpuNum": 96
   },
   {
    "_defaultOrder": 28,
    "_isFastLaunch": true,
    "category": "Accelerated computing",
    "gpuNum": 1,
    "memoryGiB": 16,
    "name": "ml.g4dn.xlarge",
    "vcpuNum": 4
   },
   {
    "_defaultOrder": 29,
    "_isFastLaunch": false,
    "category": "Accelerated computing",
    "gpuNum": 1,
    "memoryGiB": 32,
    "name": "ml.g4dn.2xlarge",
    "vcpuNum": 8
   },
   {
    "_defaultOrder": 30,
    "_isFastLaunch": false,
    "category": "Accelerated computing",
    "gpuNum": 1,
    "memoryGiB": 64,
    "name": "ml.g4dn.4xlarge",
    "vcpuNum": 16
   },
   {
    "_defaultOrder": 31,
    "_isFastLaunch": false,
    "category": "Accelerated computing",
    "gpuNum": 1,
    "memoryGiB": 128,
    "name": "ml.g4dn.8xlarge",
    "vcpuNum": 32
   },
   {
    "_defaultOrder": 32,
    "_isFastLaunch": false,
    "category": "Accelerated computing",
    "gpuNum": 4,
    "memoryGiB": 192,
    "name": "ml.g4dn.12xlarge",
    "vcpuNum": 48
   },
   {
    "_defaultOrder": 33,
    "_isFastLaunch": false,
    "category": "Accelerated computing",
    "gpuNum": 1,
    "memoryGiB": 256,
    "name": "ml.g4dn.16xlarge",
    "vcpuNum": 64
   },
   {
    "_defaultOrder": 34,
    "_isFastLaunch": false,
    "category": "Accelerated computing",
    "gpuNum": 1,
    "memoryGiB": 61,
    "name": "ml.p3.2xlarge",
    "vcpuNum": 8
   },
   {
    "_defaultOrder": 35,
    "_isFastLaunch": false,
    "category": "Accelerated computing",
    "gpuNum": 4,
    "memoryGiB": 244,
    "name": "ml.p3.8xlarge",
    "vcpuNum": 32
   },
   {
    "_defaultOrder": 36,
    "_isFastLaunch": false,
    "category": "Accelerated computing",
    "gpuNum": 8,
    "memoryGiB": 488,
    "name": "ml.p3.16xlarge",
    "vcpuNum": 64
   },
   {
    "_defaultOrder": 37,
    "_isFastLaunch": false,
    "category": "Accelerated computing",
    "gpuNum": 8,
    "memoryGiB": 768,
    "name": "ml.p3dn.24xlarge",
    "vcpuNum": 96
   },
   {
    "_defaultOrder": 38,
    "_isFastLaunch": false,
    "category": "Memory Optimized",
    "gpuNum": 0,
    "memoryGiB": 16,
    "name": "ml.r5.large",
    "vcpuNum": 2
   },
   {
    "_defaultOrder": 39,
    "_isFastLaunch": false,
    "category": "Memory Optimized",
    "gpuNum": 0,
    "memoryGiB": 32,
    "name": "ml.r5.xlarge",
    "vcpuNum": 4
   },
   {
    "_defaultOrder": 40,
    "_isFastLaunch": false,
    "category": "Memory Optimized",
    "gpuNum": 0,
    "memoryGiB": 64,
    "name": "ml.r5.2xlarge",
    "vcpuNum": 8
   },
   {
    "_defaultOrder": 41,
    "_isFastLaunch": false,
    "category": "Memory Optimized",
    "gpuNum": 0,
    "memoryGiB": 128,
    "name": "ml.r5.4xlarge",
    "vcpuNum": 16
   },
   {
    "_defaultOrder": 42,
    "_isFastLaunch": false,
    "category": "Memory Optimized",
    "gpuNum": 0,
    "memoryGiB": 256,
    "name": "ml.r5.8xlarge",
    "vcpuNum": 32
   },
   {
    "_defaultOrder": 43,
    "_isFastLaunch": false,
    "category": "Memory Optimized",
    "gpuNum": 0,
    "memoryGiB": 384,
    "name": "ml.r5.12xlarge",
    "vcpuNum": 48
   },
   {
    "_defaultOrder": 44,
    "_isFastLaunch": false,
    "category": "Memory Optimized",
    "gpuNum": 0,
    "memoryGiB": 512,
    "name": "ml.r5.16xlarge",
    "vcpuNum": 64
   },
   {
    "_defaultOrder": 45,
    "_isFastLaunch": false,
    "category": "Memory Optimized",
    "gpuNum": 0,
    "memoryGiB": 768,
    "name": "ml.r5.24xlarge",
    "vcpuNum": 96
   },
   {
    "_defaultOrder": 46,
    "_isFastLaunch": false,
    "category": "Accelerated computing",
    "gpuNum": 1,
    "memoryGiB": 16,
    "name": "ml.g5.xlarge",
    "vcpuNum": 4
   },
   {
    "_defaultOrder": 47,
    "_isFastLaunch": false,
    "category": "Accelerated computing",
    "gpuNum": 1,
    "memoryGiB": 32,
    "name": "ml.g5.2xlarge",
    "vcpuNum": 8
   },
   {
    "_defaultOrder": 48,
    "_isFastLaunch": false,
    "category": "Accelerated computing",
    "gpuNum": 1,
    "memoryGiB": 64,
    "name": "ml.g5.4xlarge",
    "vcpuNum": 16
   },
   {
    "_defaultOrder": 49,
    "_isFastLaunch": false,
    "category": "Accelerated computing",
    "gpuNum": 1,
    "memoryGiB": 128,
    "name": "ml.g5.8xlarge",
    "vcpuNum": 32
   },
   {
    "_defaultOrder": 50,
    "_isFastLaunch": false,
    "category": "Accelerated computing",
    "gpuNum": 1,
    "memoryGiB": 256,
    "name": "ml.g5.16xlarge",
    "vcpuNum": 64
   },
   {
    "_defaultOrder": 51,
    "_isFastLaunch": false,
    "category": "Accelerated computing",
    "gpuNum": 4,
    "memoryGiB": 192,
    "name": "ml.g5.12xlarge",
    "vcpuNum": 48
   },
   {
    "_defaultOrder": 52,
    "_isFastLaunch": false,
    "category": "Accelerated computing",
    "gpuNum": 4,
    "memoryGiB": 384,
    "name": "ml.g5.24xlarge",
    "vcpuNum": 96
   },
   {
    "_defaultOrder": 53,
    "_isFastLaunch": false,
    "category": "Accelerated computing",
    "gpuNum": 8,
    "memoryGiB": 768,
    "name": "ml.g5.48xlarge",
    "vcpuNum": 192
   }
  ],
  "instance_type": "ml.m5.4xlarge",
  "kernelspec": {
   "display_name": "Python 3 (TensorFlow 2.1 Python 3.6 CPU Optimized)",
   "language": "python",
   "name": "python3__SAGEMAKER_INTERNAL__arn:aws:sagemaker:us-east-1:081325390199:image/tensorflow-2.1-cpu-py36"
  },
  "language_info": {
   "codemirror_mode": {
    "name": "ipython",
    "version": 3
   },
   "file_extension": ".py",
   "mimetype": "text/x-python",
   "name": "python",
   "nbconvert_exporter": "python",
   "pygments_lexer": "ipython3",
   "version": "3.6.13"
  }
 },
 "nbformat": 4,
 "nbformat_minor": 5
}
