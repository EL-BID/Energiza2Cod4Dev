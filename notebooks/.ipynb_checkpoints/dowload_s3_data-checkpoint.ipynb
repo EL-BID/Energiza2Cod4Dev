{
 "cells": [
  {
   "cell_type": "code",
   "execution_count": 1,
   "id": "47358967",
   "metadata": {},
   "outputs": [],
   "source": [
    "import os\n",
    "import pandas as pd\n",
    "import numpy as np\n",
    "import warnings\n",
    "import boto3\n",
    "import pandas as pd\n",
    "import io"
   ]
  },
  {
   "cell_type": "code",
   "execution_count": 2,
   "id": "3f0c72dd",
   "metadata": {},
   "outputs": [],
   "source": [
    "# !pip install fastparquet"
   ]
  },
  {
   "cell_type": "code",
   "execution_count": 3,
   "id": "f8939550",
   "metadata": {},
   "outputs": [],
   "source": [
    "warnings.filterwarnings('ignore')\n",
    "pd.options.display.float_format = '{:.5f}'.format #evita que muestre notacion cientifica\n",
    "# pd.set_option('display.max_colwidth', None)\n",
    "# pd.set_option('display.max_rows', None)\n",
    "pd.set_option('display.max_columns', None)"
   ]
  },
  {
   "cell_type": "markdown",
   "id": "2ab8f557",
   "metadata": {},
   "source": [
    "## CONTENIDO:\n",
    "* [Objetivo](#objetivo)\n",
    "* [Info Inicial](#info)\n",
    "* [Concatenar Archivos](#concatenar-archivos)\n",
    "* [Eliminar Gratuitos](#eliminar-gratuitos)\n",
    "* [Descargar CSV](#descargar-csv)\n",
    "* [Leer CSV concatenado](#leer-csv)\n",
    "* [Convertir Formato](#convertir-formato)\n",
    "* [Verificar Valores Nulos](#valores-nulos)\n",
    "* [Verificar Cantidad de Valores Nulos](#cantidad-nulos)\n",
    "\n"
   ]
  },
  {
   "cell_type": "markdown",
   "id": "bcde7d01",
   "metadata": {},
   "source": [
    "## OBJETIVO <a class=\"anchor\" id=\"objetivo\"></a>"
   ]
  },
  {
   "cell_type": "markdown",
   "id": "1b312bc8",
   "metadata": {},
   "source": [
    "1. EPMAPS: El objetivo es indentificar las pérdidas no técnicas en el área de agua\n"
   ]
  },
  {
   "cell_type": "markdown",
   "id": "36aa3e34",
   "metadata": {},
   "source": [
    "## INFO INICIAL <a class=\"anchor\" id=\"info\"></a>"
   ]
  },
  {
   "cell_type": "markdown",
   "id": "f83878b9",
   "metadata": {},
   "source": [
    "1. Cuanta data hisotrica tenemos? del 01/2010 al 12/2017\n",
    "\n",
    "2. Periodicidad del consumo? Mensual\n",
    "\n",
    "3. Es la data Univariate o multivariate ? \n",
    "\n",
    "4. Cual es la frequencia en que se realizará la detección de anomalias (en tiempo real, cada hora, semanal, mensual)? TBD\n",
    "\n",
    "5. En que unidad se supone que debemos hacer la deteccion de anomalias? volumen robado por usuario, medidor con fraude (pendiente definir)....\n",
    "\n"
   ]
  },
  {
   "cell_type": "markdown",
   "id": "9de453f5",
   "metadata": {},
   "source": [
    "## PROCERAR FILES <a class=\"anchor\" id=\"procesar-archivos\"></a>"
   ]
  },
  {
   "cell_type": "markdown",
   "id": "42cdb8ce",
   "metadata": {},
   "source": [
    "**Obtener directorio**"
   ]
  },
  {
   "cell_type": "code",
   "execution_count": 4,
   "id": "2381c483",
   "metadata": {},
   "outputs": [],
   "source": [
    "# s3://iadbprod-ine-tsp-analyticaldata/EPMAPS/data/"
   ]
  },
  {
   "cell_type": "code",
   "execution_count": 5,
   "id": "7ff5fc5f",
   "metadata": {},
   "outputs": [],
   "source": [
    "s3 = boto3.resource('s3')\n",
    "bucket = s3.Bucket('iadbprod-ine-tsp-analyticaldata')\n",
    "# prefix_objs = bucket.objects.filter(Prefix=\"EPMAPS/data/\")\n"
   ]
  },
  {
   "cell_type": "markdown",
   "id": "cfcb8bab",
   "metadata": {},
   "source": [
    "***"
   ]
  },
  {
   "cell_type": "markdown",
   "id": "a578cb90",
   "metadata": {},
   "source": [
    "### Concatenar Archivos de Consumo <a class=\"anchor\" id=\"concatenar-archivos\"></a>"
   ]
  },
  {
   "cell_type": "code",
   "execution_count": null,
   "id": "cb397bba",
   "metadata": {},
   "outputs": [
    {
     "name": "stdout",
     "output_type": "stream",
     "text": [
      "[INFO]...concatenando archivos\n",
      "s3://iadbprod-ine-tsp-analyticaldata/EEGSA-GUATEMALA/data/Consumos/2016 Procesado/DATOS-TNS-16-01.txt\n",
      "s3://iadbprod-ine-tsp-analyticaldata/EEGSA-GUATEMALA/data/Consumos/2016 Procesado/DATOS-TNS-16-02.txt\n",
      "s3://iadbprod-ine-tsp-analyticaldata/EEGSA-GUATEMALA/data/Consumos/2016 Procesado/DATOS-TNS-16-03.txt\n",
      "s3://iadbprod-ine-tsp-analyticaldata/EEGSA-GUATEMALA/data/Consumos/2016 Procesado/DATOS-TNS-16-04.txt\n",
      "s3://iadbprod-ine-tsp-analyticaldata/EEGSA-GUATEMALA/data/Consumos/2016 Procesado/DATOS-TNS-16-05.txt\n",
      "s3://iadbprod-ine-tsp-analyticaldata/EEGSA-GUATEMALA/data/Consumos/2016 Procesado/DATOS-TNS-16-06.txt\n",
      "s3://iadbprod-ine-tsp-analyticaldata/EEGSA-GUATEMALA/data/Consumos/2016 Procesado/DATOS-TNS-16-07.txt\n",
      "s3://iadbprod-ine-tsp-analyticaldata/EEGSA-GUATEMALA/data/Consumos/2016 Procesado/DATOS-TNS-16-08.txt\n",
      "s3://iadbprod-ine-tsp-analyticaldata/EEGSA-GUATEMALA/data/Consumos/2016 Procesado/DATOS-TNS-16-09.txt\n",
      "s3://iadbprod-ine-tsp-analyticaldata/EEGSA-GUATEMALA/data/Consumos/2016 Procesado/DATOS-TNS-16-10.txt\n",
      "s3://iadbprod-ine-tsp-analyticaldata/EEGSA-GUATEMALA/data/Consumos/2016 Procesado/DATOS-TNS-16-11.txt\n",
      "s3://iadbprod-ine-tsp-analyticaldata/EEGSA-GUATEMALA/data/Consumos/2016 Procesado/DATOS-TNS-16-12.txt\n",
      "s3://iadbprod-ine-tsp-analyticaldata/EEGSA-GUATEMALA/data/Consumos/2016 Procesado/DATOS-TS-16-01.txt\n",
      "s3://iadbprod-ine-tsp-analyticaldata/EEGSA-GUATEMALA/data/Consumos/2016 Procesado/DATOS-TS-16-02.txt\n",
      "s3://iadbprod-ine-tsp-analyticaldata/EEGSA-GUATEMALA/data/Consumos/2016 Procesado/DATOS-TS-16-03.txt\n",
      "s3://iadbprod-ine-tsp-analyticaldata/EEGSA-GUATEMALA/data/Consumos/2016 Procesado/DATOS-TS-16-04.txt\n",
      "s3://iadbprod-ine-tsp-analyticaldata/EEGSA-GUATEMALA/data/Consumos/2016 Procesado/DATOS-TS-16-05.txt\n",
      "s3://iadbprod-ine-tsp-analyticaldata/EEGSA-GUATEMALA/data/Consumos/2016 Procesado/DATOS-TS-16-06.txt\n",
      "s3://iadbprod-ine-tsp-analyticaldata/EEGSA-GUATEMALA/data/Consumos/2016 Procesado/DATOS-TS-16-07.txt\n",
      "s3://iadbprod-ine-tsp-analyticaldata/EEGSA-GUATEMALA/data/Consumos/2016 Procesado/DATOS-TS-16-08.txt\n",
      "s3://iadbprod-ine-tsp-analyticaldata/EEGSA-GUATEMALA/data/Consumos/2016 Procesado/DATOS-TS-16-09.txt\n",
      "s3://iadbprod-ine-tsp-analyticaldata/EEGSA-GUATEMALA/data/Consumos/2016 Procesado/DATOS-TS-16-10.txt\n",
      "s3://iadbprod-ine-tsp-analyticaldata/EEGSA-GUATEMALA/data/Consumos/2016 Procesado/DATOS-TS-16-11.txt\n",
      "s3://iadbprod-ine-tsp-analyticaldata/EEGSA-GUATEMALA/data/Consumos/2016 Procesado/DATOS-TS-16-12.txt\n",
      "s3://iadbprod-ine-tsp-analyticaldata/EEGSA-GUATEMALA/data/Consumos/2017 Procesado/DATOS-TNS-17-01.txt\n",
      "s3://iadbprod-ine-tsp-analyticaldata/EEGSA-GUATEMALA/data/Consumos/2017 Procesado/DATOS-TNS-17-02.txt\n",
      "s3://iadbprod-ine-tsp-analyticaldata/EEGSA-GUATEMALA/data/Consumos/2017 Procesado/DATOS-TNS-17-03.txt\n",
      "s3://iadbprod-ine-tsp-analyticaldata/EEGSA-GUATEMALA/data/Consumos/2017 Procesado/DATOS-TNS-17-04.txt\n",
      "s3://iadbprod-ine-tsp-analyticaldata/EEGSA-GUATEMALA/data/Consumos/2017 Procesado/DATOS-TNS-17-05.txt\n",
      "s3://iadbprod-ine-tsp-analyticaldata/EEGSA-GUATEMALA/data/Consumos/2017 Procesado/DATOS-TNS-17-06.txt\n",
      "s3://iadbprod-ine-tsp-analyticaldata/EEGSA-GUATEMALA/data/Consumos/2017 Procesado/DATOS-TNS-17-07.txt\n",
      "s3://iadbprod-ine-tsp-analyticaldata/EEGSA-GUATEMALA/data/Consumos/2017 Procesado/DATOS-TNS-17-08.txt\n",
      "s3://iadbprod-ine-tsp-analyticaldata/EEGSA-GUATEMALA/data/Consumos/2017 Procesado/DATOS-TNS-17-09.txt\n",
      "s3://iadbprod-ine-tsp-analyticaldata/EEGSA-GUATEMALA/data/Consumos/2017 Procesado/DATOS-TNS-17-10.txt\n",
      "s3://iadbprod-ine-tsp-analyticaldata/EEGSA-GUATEMALA/data/Consumos/2017 Procesado/DATOS-TNS-17-11.txt\n",
      "s3://iadbprod-ine-tsp-analyticaldata/EEGSA-GUATEMALA/data/Consumos/2017 Procesado/DATOS-TNS-17-12.txt\n",
      "s3://iadbprod-ine-tsp-analyticaldata/EEGSA-GUATEMALA/data/Consumos/2017 Procesado/DATOS-TS-17-01.txt\n",
      "s3://iadbprod-ine-tsp-analyticaldata/EEGSA-GUATEMALA/data/Consumos/2017 Procesado/DATOS-TS-17-02.txt\n",
      "s3://iadbprod-ine-tsp-analyticaldata/EEGSA-GUATEMALA/data/Consumos/2017 Procesado/DATOS-TS-17-03.txt\n",
      "s3://iadbprod-ine-tsp-analyticaldata/EEGSA-GUATEMALA/data/Consumos/2017 Procesado/DATOS-TS-17-04.txt\n",
      "s3://iadbprod-ine-tsp-analyticaldata/EEGSA-GUATEMALA/data/Consumos/2017 Procesado/DATOS-TS-17-05.txt\n",
      "s3://iadbprod-ine-tsp-analyticaldata/EEGSA-GUATEMALA/data/Consumos/2017 Procesado/DATOS-TS-17-06.txt\n",
      "s3://iadbprod-ine-tsp-analyticaldata/EEGSA-GUATEMALA/data/Consumos/2017 Procesado/DATOS-TS-17-07.txt\n",
      "s3://iadbprod-ine-tsp-analyticaldata/EEGSA-GUATEMALA/data/Consumos/2017 Procesado/DATOS-TS-17-08.txt\n",
      "s3://iadbprod-ine-tsp-analyticaldata/EEGSA-GUATEMALA/data/Consumos/2017 Procesado/DATOS-TS-17-09.txt\n",
      "s3://iadbprod-ine-tsp-analyticaldata/EEGSA-GUATEMALA/data/Consumos/2017 Procesado/DATOS-TS-17-10.txt\n",
      "s3://iadbprod-ine-tsp-analyticaldata/EEGSA-GUATEMALA/data/Consumos/2017 Procesado/DATOS-TS-17-11.txt\n",
      "s3://iadbprod-ine-tsp-analyticaldata/EEGSA-GUATEMALA/data/Consumos/2017 Procesado/DATOS-TS-17-12.txt\n",
      "s3://iadbprod-ine-tsp-analyticaldata/EEGSA-GUATEMALA/data/Consumos/2018 Procesado/DATOS-TNS-18-01.txt\n",
      "s3://iadbprod-ine-tsp-analyticaldata/EEGSA-GUATEMALA/data/Consumos/2018 Procesado/DATOS-TNS-18-02.txt\n",
      "s3://iadbprod-ine-tsp-analyticaldata/EEGSA-GUATEMALA/data/Consumos/2018 Procesado/DATOS-TNS-18-03.txt\n",
      "s3://iadbprod-ine-tsp-analyticaldata/EEGSA-GUATEMALA/data/Consumos/2018 Procesado/DATOS-TNS-18-04.txt\n",
      "s3://iadbprod-ine-tsp-analyticaldata/EEGSA-GUATEMALA/data/Consumos/2018 Procesado/DATOS-TNS-18-05.txt\n",
      "s3://iadbprod-ine-tsp-analyticaldata/EEGSA-GUATEMALA/data/Consumos/2018 Procesado/DATOS-TNS-18-06.txt\n",
      "s3://iadbprod-ine-tsp-analyticaldata/EEGSA-GUATEMALA/data/Consumos/2018 Procesado/DATOS-TNS-18-07.txt\n",
      "s3://iadbprod-ine-tsp-analyticaldata/EEGSA-GUATEMALA/data/Consumos/2018 Procesado/DATOS-TNS-18-08.txt\n",
      "s3://iadbprod-ine-tsp-analyticaldata/EEGSA-GUATEMALA/data/Consumos/2018 Procesado/DATOS-TNS-18-09.txt\n",
      "s3://iadbprod-ine-tsp-analyticaldata/EEGSA-GUATEMALA/data/Consumos/2018 Procesado/DATOS-TNS-18-10.txt\n",
      "s3://iadbprod-ine-tsp-analyticaldata/EEGSA-GUATEMALA/data/Consumos/2018 Procesado/DATOS-TNS-18-11.txt\n",
      "s3://iadbprod-ine-tsp-analyticaldata/EEGSA-GUATEMALA/data/Consumos/2018 Procesado/DATOS-TNS-18-12.txt\n",
      "s3://iadbprod-ine-tsp-analyticaldata/EEGSA-GUATEMALA/data/Consumos/2018 Procesado/DATOS-TS-18-01.txt\n",
      "s3://iadbprod-ine-tsp-analyticaldata/EEGSA-GUATEMALA/data/Consumos/2018 Procesado/DATOS-TS-18-02.txt\n",
      "s3://iadbprod-ine-tsp-analyticaldata/EEGSA-GUATEMALA/data/Consumos/2018 Procesado/DATOS-TS-18-03.txt\n",
      "s3://iadbprod-ine-tsp-analyticaldata/EEGSA-GUATEMALA/data/Consumos/2018 Procesado/DATOS-TS-18-04.txt\n",
      "s3://iadbprod-ine-tsp-analyticaldata/EEGSA-GUATEMALA/data/Consumos/2018 Procesado/DATOS-TS-18-05.txt\n",
      "s3://iadbprod-ine-tsp-analyticaldata/EEGSA-GUATEMALA/data/Consumos/2018 Procesado/DATOS-TS-18-06.txt\n",
      "s3://iadbprod-ine-tsp-analyticaldata/EEGSA-GUATEMALA/data/Consumos/2018 Procesado/DATOS-TS-18-07.txt\n",
      "s3://iadbprod-ine-tsp-analyticaldata/EEGSA-GUATEMALA/data/Consumos/2018 Procesado/DATOS-TS-18-08.txt\n",
      "s3://iadbprod-ine-tsp-analyticaldata/EEGSA-GUATEMALA/data/Consumos/2018 Procesado/DATOS-TS-18-09.txt\n",
      "s3://iadbprod-ine-tsp-analyticaldata/EEGSA-GUATEMALA/data/Consumos/2018 Procesado/DATOS-TS-18-10.txt\n",
      "s3://iadbprod-ine-tsp-analyticaldata/EEGSA-GUATEMALA/data/Consumos/2018 Procesado/DATOS-TS-18-11.txt\n",
      "s3://iadbprod-ine-tsp-analyticaldata/EEGSA-GUATEMALA/data/Consumos/2018 Procesado/DATOS-TS-18-12.txt\n",
      "s3://iadbprod-ine-tsp-analyticaldata/EEGSA-GUATEMALA/data/Consumos/2019 Procesado/DATOS-TNS-19-01-CNEE.txt\n",
      "s3://iadbprod-ine-tsp-analyticaldata/EEGSA-GUATEMALA/data/Consumos/2019 Procesado/DATOS-TNS-19-02-CNEE.txt\n",
      "s3://iadbprod-ine-tsp-analyticaldata/EEGSA-GUATEMALA/data/Consumos/2019 Procesado/DATOS-TNS-19-03-CNEE.txt\n",
      "s3://iadbprod-ine-tsp-analyticaldata/EEGSA-GUATEMALA/data/Consumos/2019 Procesado/DATOS-TNS-19-04-CNEE.txt\n",
      "s3://iadbprod-ine-tsp-analyticaldata/EEGSA-GUATEMALA/data/Consumos/2019 Procesado/DATOS-TNS-19-05-CNEE.txt\n",
      "s3://iadbprod-ine-tsp-analyticaldata/EEGSA-GUATEMALA/data/Consumos/2019 Procesado/DATOS-TNS-19-06-CNEE.txt\n",
      "s3://iadbprod-ine-tsp-analyticaldata/EEGSA-GUATEMALA/data/Consumos/2019 Procesado/DATOS-TNS-19-07-CNEE.txt\n",
      "s3://iadbprod-ine-tsp-analyticaldata/EEGSA-GUATEMALA/data/Consumos/2019 Procesado/DATOS-TNS-19-08-CNEE.txt\n",
      "s3://iadbprod-ine-tsp-analyticaldata/EEGSA-GUATEMALA/data/Consumos/2019 Procesado/DATOS-TNS-19-09-CNEE.txt\n",
      "s3://iadbprod-ine-tsp-analyticaldata/EEGSA-GUATEMALA/data/Consumos/2019 Procesado/DATOS-TNS-19-10-CNEE.txt\n",
      "s3://iadbprod-ine-tsp-analyticaldata/EEGSA-GUATEMALA/data/Consumos/2019 Procesado/DATOS-TNS-19-11-CNEE.txt\n",
      "s3://iadbprod-ine-tsp-analyticaldata/EEGSA-GUATEMALA/data/Consumos/2019 Procesado/DATOS-TNS-19-12-CNEE.txt\n",
      "s3://iadbprod-ine-tsp-analyticaldata/EEGSA-GUATEMALA/data/Consumos/2019 Procesado/DATOS-TS-19-01-CNEE.txt\n",
      "s3://iadbprod-ine-tsp-analyticaldata/EEGSA-GUATEMALA/data/Consumos/2019 Procesado/DATOS-TS-19-02-CNEE.txt\n",
      "s3://iadbprod-ine-tsp-analyticaldata/EEGSA-GUATEMALA/data/Consumos/2019 Procesado/DATOS-TS-19-03-CNEE.txt\n",
      "s3://iadbprod-ine-tsp-analyticaldata/EEGSA-GUATEMALA/data/Consumos/2019 Procesado/DATOS-TS-19-04-CNEE.txt\n",
      "s3://iadbprod-ine-tsp-analyticaldata/EEGSA-GUATEMALA/data/Consumos/2019 Procesado/DATOS-TS-19-05-CNEE.txt\n",
      "s3://iadbprod-ine-tsp-analyticaldata/EEGSA-GUATEMALA/data/Consumos/2019 Procesado/DATOS-TS-19-06-CNEE.txt\n",
      "s3://iadbprod-ine-tsp-analyticaldata/EEGSA-GUATEMALA/data/Consumos/2019 Procesado/DATOS-TS-19-07-CNEE.txt\n",
      "s3://iadbprod-ine-tsp-analyticaldata/EEGSA-GUATEMALA/data/Consumos/2019 Procesado/DATOS-TS-19-08-CNEE.txt\n",
      "s3://iadbprod-ine-tsp-analyticaldata/EEGSA-GUATEMALA/data/Consumos/2019 Procesado/DATOS-TS-19-09-CNEE.txt\n",
      "s3://iadbprod-ine-tsp-analyticaldata/EEGSA-GUATEMALA/data/Consumos/2019 Procesado/DATOS-TS-19-10-CNEE.txt\n",
      "s3://iadbprod-ine-tsp-analyticaldata/EEGSA-GUATEMALA/data/Consumos/2019 Procesado/DATOS-TS-19-11-CNEE.txt\n",
      "s3://iadbprod-ine-tsp-analyticaldata/EEGSA-GUATEMALA/data/Consumos/2019 Procesado/DATOS-TS-19-12-CNEE.txt\n",
      "s3://iadbprod-ine-tsp-analyticaldata/EEGSA-GUATEMALA/data/Consumos/2020 Procesado/DATOS-TNS-20-01-CNEE.txt\n",
      "s3://iadbprod-ine-tsp-analyticaldata/EEGSA-GUATEMALA/data/Consumos/2020 Procesado/DATOS-TNS-20-02-CNEE.txt\n",
      "s3://iadbprod-ine-tsp-analyticaldata/EEGSA-GUATEMALA/data/Consumos/2020 Procesado/DATOS-TNS-20-03-CNEE.txt\n",
      "s3://iadbprod-ine-tsp-analyticaldata/EEGSA-GUATEMALA/data/Consumos/2020 Procesado/DATOS-TNS-20-04-CNEE.txt\n",
      "s3://iadbprod-ine-tsp-analyticaldata/EEGSA-GUATEMALA/data/Consumos/2020 Procesado/DATOS-TNS-20-05-CNEE.txt\n",
      "s3://iadbprod-ine-tsp-analyticaldata/EEGSA-GUATEMALA/data/Consumos/2020 Procesado/DATOS-TNS-20-06-CNEE.txt\n",
      "s3://iadbprod-ine-tsp-analyticaldata/EEGSA-GUATEMALA/data/Consumos/2020 Procesado/DATOS-TNS-20-07-CNEE.txt\n",
      "s3://iadbprod-ine-tsp-analyticaldata/EEGSA-GUATEMALA/data/Consumos/2021 Procesado/DATOS-TNS-21-03-CNEE-C.txt\n",
      "s3://iadbprod-ine-tsp-analyticaldata/EEGSA-GUATEMALA/data/Consumos/2021 Procesado/DATOS-TNS-21-04-CNEE-C.txt\n",
      "s3://iadbprod-ine-tsp-analyticaldata/EEGSA-GUATEMALA/data/Consumos/2021 Procesado/DATOS-TNS-21-05-CNEE.txt\n",
      "s3://iadbprod-ine-tsp-analyticaldata/EEGSA-GUATEMALA/data/Consumos/2021 Procesado/DATOS-TNS-21-06-CNEE.txt\n",
      "s3://iadbprod-ine-tsp-analyticaldata/EEGSA-GUATEMALA/data/Consumos/2021 Procesado/DATOS-TNS-21-07-CNEE.txt\n",
      "s3://iadbprod-ine-tsp-analyticaldata/EEGSA-GUATEMALA/data/Consumos/2021 Procesado/DATOS-TNS-21-08-CNEE.txt\n",
      "s3://iadbprod-ine-tsp-analyticaldata/EEGSA-GUATEMALA/data/Consumos/2021 Procesado/DATOS-TNS-21-09-CNEE.txt\n",
      "s3://iadbprod-ine-tsp-analyticaldata/EEGSA-GUATEMALA/data/Consumos/2021 Procesado/DATOS-TNS-21-10-CNEE.txt\n",
      "s3://iadbprod-ine-tsp-analyticaldata/EEGSA-GUATEMALA/data/Consumos/2021 Procesado/DATOS-TNS-21-11-CNEE.txt\n",
      "s3://iadbprod-ine-tsp-analyticaldata/EEGSA-GUATEMALA/data/Consumos/2021 Procesado/DATOS-TNS-21-12-CNEE.txt\n",
      "s3://iadbprod-ine-tsp-analyticaldata/EEGSA-GUATEMALA/data/Consumos/2021 Procesado/DATOS-TS-21-01-CNEE.txt\n",
      "s3://iadbprod-ine-tsp-analyticaldata/EEGSA-GUATEMALA/data/Consumos/2021 Procesado/DATOS-TS-21-02-CNEE.txt\n",
      "s3://iadbprod-ine-tsp-analyticaldata/EEGSA-GUATEMALA/data/Consumos/2021 Procesado/DATOS-TS-21-03-CNEE.txt\n",
      "s3://iadbprod-ine-tsp-analyticaldata/EEGSA-GUATEMALA/data/Consumos/2021 Procesado/DATOS-TS-21-04-CNEE.txt\n",
      "s3://iadbprod-ine-tsp-analyticaldata/EEGSA-GUATEMALA/data/Consumos/2021 Procesado/DATOS-TS-21-05-CNEE.txt\n",
      "s3://iadbprod-ine-tsp-analyticaldata/EEGSA-GUATEMALA/data/Consumos/2021 Procesado/DATOS-TS-21-06-CNEE.txt\n",
      "s3://iadbprod-ine-tsp-analyticaldata/EEGSA-GUATEMALA/data/Consumos/2021 Procesado/DATOS-TS-21-07-CNEE.txt\n",
      "s3://iadbprod-ine-tsp-analyticaldata/EEGSA-GUATEMALA/data/Consumos/2021 Procesado/DATOS-TS-21-08-CNEE.txt\n",
      "s3://iadbprod-ine-tsp-analyticaldata/EEGSA-GUATEMALA/data/Consumos/2021 Procesado/DATOS-TS-21-09-CNEE.txt\n",
      "s3://iadbprod-ine-tsp-analyticaldata/EEGSA-GUATEMALA/data/Consumos/2021 Procesado/DATOS-TS-21-10-CNEE.txt\n",
      "s3://iadbprod-ine-tsp-analyticaldata/EEGSA-GUATEMALA/data/Consumos/2021 Procesado/DATOS-TS-21-11-CNEE.txt\n",
      "s3://iadbprod-ine-tsp-analyticaldata/EEGSA-GUATEMALA/data/Consumos/2021 Procesado/DATOS-TS-21-12-CNEE.txt\n",
      "s3://iadbprod-ine-tsp-analyticaldata/EEGSA-GUATEMALA/data/Consumos/2022 Procesado/2022 Procesado/DATOS-TNS-22-01-CNEE.txt\n",
      "s3://iadbprod-ine-tsp-analyticaldata/EEGSA-GUATEMALA/data/Consumos/2022 Procesado/2022 Procesado/DATOS-TNS-22-02-CNEE.txt\n",
      "s3://iadbprod-ine-tsp-analyticaldata/EEGSA-GUATEMALA/data/Consumos/2022 Procesado/2022 Procesado/DATOS-TNS-22-03-CNEE.txt\n",
      "s3://iadbprod-ine-tsp-analyticaldata/EEGSA-GUATEMALA/data/Consumos/2022 Procesado/2022 Procesado/DATOS-TNS-22-04-CNEE.txt\n",
      "s3://iadbprod-ine-tsp-analyticaldata/EEGSA-GUATEMALA/data/Consumos/2022 Procesado/2022 Procesado/DATOS-TS-22-01-CNEE.txt\n",
      "s3://iadbprod-ine-tsp-analyticaldata/EEGSA-GUATEMALA/data/Consumos/2022 Procesado/2022 Procesado/DATOS-TS-22-02-CNEE.txt\n",
      "s3://iadbprod-ine-tsp-analyticaldata/EEGSA-GUATEMALA/data/Consumos/2022 Procesado/2022 Procesado/DATOS-TS-22-03-CNEE.txt\n",
      "s3://iadbprod-ine-tsp-analyticaldata/EEGSA-GUATEMALA/data/Consumos/2022 Procesado/2022 Procesado/DATOS-TS-22-04-CNEE.txt\n",
      "(97087956, 7)\n",
      "[INFO]...Done!\n",
      "CPU times: user 19min 1s, sys: 13min 45s, total: 32min 46s\n",
      "Wall time: 35min 51s\n"
     ]
    }
   ],
   "source": [
    "%%time\n",
    "print('[INFO]...concatenando archivos')\n",
    "bucket_path = 's3://iadbprod-ine-tsp-analyticaldata/' \n",
    "df = pd.DataFrame()\n",
    "for obj in bucket.objects.filter(Prefix='EEGSA-GUATEMALA/data/Consumos/2'):\n",
    "#     print(obj)\n",
    "    key = obj.key\n",
    "    print(bucket_path+key)\n",
    "    df_csv = pd.read_csv(bucket_path+key, sep='\\t')\n",
    "    tipo_tarif = 'TNS' if 'TNS' in key.split('/')[-1] else 'TS'\n",
    "    df_csv['tipo_tarifa'] = tipo_tarif\n",
    "    df = df.append(pd.concat([df_csv], axis=0, ignore_index=True), ignore_index=True)\n",
    "print(df.shape)\n",
    "print('[INFO]...Done!')"
   ]
  },
  {
   "cell_type": "markdown",
   "id": "3f9c859d",
   "metadata": {},
   "source": [
    "***"
   ]
  },
  {
   "cell_type": "code",
   "execution_count": 37,
   "id": "680ad606",
   "metadata": {},
   "outputs": [],
   "source": [
    "s3 = boto3.resource('s3')\n",
    "bucket = s3.Bucket('iadbprod-ine-tsp-analyticaldata')\n",
    "bucket_path = 's3://iadbprod-ine-tsp-analyticaldata/' \n",
    "key = 'EEGSA-GUATEMALA/data/'"
   ]
  },
  {
   "cell_type": "code",
   "execution_count": null,
   "id": "48a85938",
   "metadata": {},
   "outputs": [
    {
     "name": "stdout",
     "output_type": "stream",
     "text": [
      "CPU times: user 7 µs, sys: 5 µs, total: 12 µs\n",
      "Wall time: 21.2 µs\n"
     ]
    }
   ],
   "source": [
    "# %%time\n",
    "# # sube el archivo generado de los consumos concatenados\n",
    "# key = 'EEGSA-GUATEMALA/data_clean/'\n",
    "# # filename='eegsa_dataclean_consolidado.parquet'\n",
    "# filename='eegsa_dataconsumo_consolidado.parquet'\n",
    "# path = bucket_path+key+filename\n",
    "# df= pd.read_parquet(path)\n",
    "# df.shape"
   ]
  },
  {
   "cell_type": "markdown",
   "id": "3adce91f",
   "metadata": {},
   "source": [
    "***"
   ]
  },
  {
   "cell_type": "markdown",
   "id": "daa59a9f",
   "metadata": {},
   "source": [
    "#### Convertir Formato <a class=\"anchor\" id=\"convertir-formato\"></a>"
   ]
  },
  {
   "cell_type": "code",
   "execution_count": 38,
   "id": "136a918d",
   "metadata": {},
   "outputs": [],
   "source": [
    "df.columns = df.columns.str.lower()"
   ]
  },
  {
   "cell_type": "code",
   "execution_count": 39,
   "id": "57348e70",
   "metadata": {},
   "outputs": [],
   "source": [
    "# Eliminacion de Valores raros"
   ]
  },
  {
   "cell_type": "code",
   "execution_count": 40,
   "id": "2e23cf6e",
   "metadata": {},
   "outputs": [
    {
     "data": {
      "text/html": [
       "<div>\n",
       "<style scoped>\n",
       "    .dataframe tbody tr th:only-of-type {\n",
       "        vertical-align: middle;\n",
       "    }\n",
       "\n",
       "    .dataframe tbody tr th {\n",
       "        vertical-align: top;\n",
       "    }\n",
       "\n",
       "    .dataframe thead th {\n",
       "        text-align: right;\n",
       "    }\n",
       "</style>\n",
       "<table border=\"1\" class=\"dataframe\">\n",
       "  <thead>\n",
       "    <tr style=\"text-align: right;\">\n",
       "      <th></th>\n",
       "      <th>id_usuario</th>\n",
       "      <th>departamento</th>\n",
       "      <th>municipio</th>\n",
       "      <th>zona</th>\n",
       "      <th>mes_operacion</th>\n",
       "      <th>consumo_energia_total</th>\n",
       "      <th>tipo_tarifa</th>\n",
       "    </tr>\n",
       "  </thead>\n",
       "  <tbody>\n",
       "    <tr>\n",
       "      <th>30626517</th>\n",
       "      <td>ID_USUARIO</td>\n",
       "      <td>DEPARTAMENTO</td>\n",
       "      <td>MUNICIPIO</td>\n",
       "      <td>ZONA</td>\n",
       "      <td>MES_OPERACION</td>\n",
       "      <td>CONSUMO_ENERGIA_TOTAL</td>\n",
       "      <td>TS</td>\n",
       "    </tr>\n",
       "  </tbody>\n",
       "</table>\n",
       "</div>"
      ],
      "text/plain": [
       "          id_usuario  departamento  municipio  zona  mes_operacion  \\\n",
       "30626517  ID_USUARIO  DEPARTAMENTO  MUNICIPIO  ZONA  MES_OPERACION   \n",
       "\n",
       "          consumo_energia_total tipo_tarifa  \n",
       "30626517  CONSUMO_ENERGIA_TOTAL          TS  "
      ]
     },
     "execution_count": 40,
     "metadata": {},
     "output_type": "execute_result"
    }
   ],
   "source": [
    "df[df['id_usuario'].str.contains('ID_USUARIO', na=False)]"
   ]
  },
  {
   "cell_type": "code",
   "execution_count": 41,
   "id": "15ea00f7",
   "metadata": {},
   "outputs": [],
   "source": [
    "df = df[~df['id_usuario'].str.contains('ID_USUARIO', na=False)]"
   ]
  },
  {
   "cell_type": "code",
   "execution_count": 42,
   "id": "26d73ae2",
   "metadata": {},
   "outputs": [],
   "source": [
    "# Eliminar meses raros"
   ]
  },
  {
   "cell_type": "code",
   "execution_count": 43,
   "id": "4b1461f1",
   "metadata": {},
   "outputs": [
    {
     "data": {
      "text/html": [
       "<div>\n",
       "<style scoped>\n",
       "    .dataframe tbody tr th:only-of-type {\n",
       "        vertical-align: middle;\n",
       "    }\n",
       "\n",
       "    .dataframe tbody tr th {\n",
       "        vertical-align: top;\n",
       "    }\n",
       "\n",
       "    .dataframe thead th {\n",
       "        text-align: right;\n",
       "    }\n",
       "</style>\n",
       "<table border=\"1\" class=\"dataframe\">\n",
       "  <thead>\n",
       "    <tr style=\"text-align: right;\">\n",
       "      <th></th>\n",
       "      <th>id_usuario</th>\n",
       "      <th>departamento</th>\n",
       "      <th>municipio</th>\n",
       "      <th>zona</th>\n",
       "      <th>mes_operacion</th>\n",
       "      <th>consumo_energia_total</th>\n",
       "      <th>tipo_tarifa</th>\n",
       "    </tr>\n",
       "  </thead>\n",
       "  <tbody>\n",
       "    <tr>\n",
       "      <th>0</th>\n",
       "      <td>4.00000</td>\n",
       "      <td>Escuintla</td>\n",
       "      <td>Palin</td>\n",
       "      <td>Zona 3</td>\n",
       "      <td>201601.00000</td>\n",
       "      <td>347.00000</td>\n",
       "      <td>TNS</td>\n",
       "    </tr>\n",
       "    <tr>\n",
       "      <th>1</th>\n",
       "      <td>10.00000</td>\n",
       "      <td>Escuintla</td>\n",
       "      <td>Palin</td>\n",
       "      <td>Zona 3</td>\n",
       "      <td>201601.00000</td>\n",
       "      <td>528.00000</td>\n",
       "      <td>TNS</td>\n",
       "    </tr>\n",
       "    <tr>\n",
       "      <th>2</th>\n",
       "      <td>16.00000</td>\n",
       "      <td>Escuintla</td>\n",
       "      <td>Palin</td>\n",
       "      <td>Zona 3</td>\n",
       "      <td>201601.00000</td>\n",
       "      <td>46.00000</td>\n",
       "      <td>TNS</td>\n",
       "    </tr>\n",
       "    <tr>\n",
       "      <th>3</th>\n",
       "      <td>22.00000</td>\n",
       "      <td>Escuintla</td>\n",
       "      <td>Palin</td>\n",
       "      <td>Zona 3</td>\n",
       "      <td>201601.00000</td>\n",
       "      <td>302.00000</td>\n",
       "      <td>TNS</td>\n",
       "    </tr>\n",
       "    <tr>\n",
       "      <th>4</th>\n",
       "      <td>47.00000</td>\n",
       "      <td>Escuintla</td>\n",
       "      <td>Palin</td>\n",
       "      <td>Zona 3</td>\n",
       "      <td>201601.00000</td>\n",
       "      <td>390.00000</td>\n",
       "      <td>TNS</td>\n",
       "    </tr>\n",
       "    <tr>\n",
       "      <th>...</th>\n",
       "      <td>...</td>\n",
       "      <td>...</td>\n",
       "      <td>...</td>\n",
       "      <td>...</td>\n",
       "      <td>...</td>\n",
       "      <td>...</td>\n",
       "      <td>...</td>\n",
       "    </tr>\n",
       "    <tr>\n",
       "      <th>97087951</th>\n",
       "      <td>1893801</td>\n",
       "      <td>Sacatepequez</td>\n",
       "      <td>San Bartolome Milpas</td>\n",
       "      <td>Zona 3</td>\n",
       "      <td>202204</td>\n",
       "      <td>24</td>\n",
       "      <td>TS</td>\n",
       "    </tr>\n",
       "    <tr>\n",
       "      <th>97087952</th>\n",
       "      <td>1893809</td>\n",
       "      <td>Sacatepequez</td>\n",
       "      <td>San Bartolome Milpas</td>\n",
       "      <td>Zona 3</td>\n",
       "      <td>202204</td>\n",
       "      <td>21</td>\n",
       "      <td>TS</td>\n",
       "    </tr>\n",
       "    <tr>\n",
       "      <th>97087953</th>\n",
       "      <td>1893812</td>\n",
       "      <td>Guatemala</td>\n",
       "      <td>Mixco</td>\n",
       "      <td>Zona 8</td>\n",
       "      <td>202204</td>\n",
       "      <td>0</td>\n",
       "      <td>TS</td>\n",
       "    </tr>\n",
       "    <tr>\n",
       "      <th>97087954</th>\n",
       "      <td>1893844</td>\n",
       "      <td>Guatemala</td>\n",
       "      <td>Villa nueva</td>\n",
       "      <td>Zona 8</td>\n",
       "      <td>202204</td>\n",
       "      <td>0</td>\n",
       "      <td>TS</td>\n",
       "    </tr>\n",
       "    <tr>\n",
       "      <th>97087955</th>\n",
       "      <td>1895013</td>\n",
       "      <td>Escuintla</td>\n",
       "      <td>Puerto San Jose</td>\n",
       "      <td>Zona 0</td>\n",
       "      <td>202204</td>\n",
       "      <td>293</td>\n",
       "      <td>TS</td>\n",
       "    </tr>\n",
       "  </tbody>\n",
       "</table>\n",
       "<p>97087953 rows × 7 columns</p>\n",
       "</div>"
      ],
      "text/plain": [
       "         id_usuario  departamento             municipio    zona mes_operacion  \\\n",
       "0           4.00000     Escuintla                 Palin  Zona 3  201601.00000   \n",
       "1          10.00000     Escuintla                 Palin  Zona 3  201601.00000   \n",
       "2          16.00000     Escuintla                 Palin  Zona 3  201601.00000   \n",
       "3          22.00000     Escuintla                 Palin  Zona 3  201601.00000   \n",
       "4          47.00000     Escuintla                 Palin  Zona 3  201601.00000   \n",
       "...             ...           ...                   ...     ...           ...   \n",
       "97087951    1893801  Sacatepequez  San Bartolome Milpas  Zona 3        202204   \n",
       "97087952    1893809  Sacatepequez  San Bartolome Milpas  Zona 3        202204   \n",
       "97087953    1893812     Guatemala                 Mixco  Zona 8        202204   \n",
       "97087954    1893844     Guatemala           Villa nueva  Zona 8        202204   \n",
       "97087955    1895013     Escuintla       Puerto San Jose  Zona 0        202204   \n",
       "\n",
       "         consumo_energia_total tipo_tarifa  \n",
       "0                    347.00000         TNS  \n",
       "1                    528.00000         TNS  \n",
       "2                     46.00000         TNS  \n",
       "3                    302.00000         TNS  \n",
       "4                    390.00000         TNS  \n",
       "...                        ...         ...  \n",
       "97087951                    24          TS  \n",
       "97087952                    21          TS  \n",
       "97087953                     0          TS  \n",
       "97087954                     0          TS  \n",
       "97087955                   293          TS  \n",
       "\n",
       "[97087953 rows x 7 columns]"
      ]
     },
     "execution_count": 43,
     "metadata": {},
     "output_type": "execute_result"
    }
   ],
   "source": [
    "df[~df.mes_operacion.isin([10,16])]"
   ]
  },
  {
   "cell_type": "code",
   "execution_count": 44,
   "id": "59c05f20",
   "metadata": {},
   "outputs": [],
   "source": [
    "df = df[~df.mes_operacion.isin([10,16])]"
   ]
  },
  {
   "cell_type": "code",
   "execution_count": 45,
   "id": "b86f5dda",
   "metadata": {},
   "outputs": [],
   "source": [
    "df = df[~df.mes_operacion.isin(['10'])]"
   ]
  },
  {
   "cell_type": "code",
   "execution_count": 46,
   "id": "e81360d5",
   "metadata": {},
   "outputs": [],
   "source": [
    "# Eliminamos id_usuarios nulls"
   ]
  },
  {
   "cell_type": "code",
   "execution_count": 47,
   "id": "eb64eb60",
   "metadata": {},
   "outputs": [],
   "source": [
    "df.dropna(subset=['id_usuario'], inplace=True)"
   ]
  },
  {
   "cell_type": "code",
   "execution_count": 48,
   "id": "3385b924",
   "metadata": {},
   "outputs": [],
   "source": [
    "# Eliminamos usuarios con valor nulls en departamento"
   ]
  },
  {
   "cell_type": "code",
   "execution_count": 49,
   "id": "d2db04ff",
   "metadata": {},
   "outputs": [],
   "source": [
    "id_users_depto_nan = df[df.departamento.isnull()].id_usuario.unique().tolist()"
   ]
  },
  {
   "cell_type": "code",
   "execution_count": 50,
   "id": "77496109",
   "metadata": {},
   "outputs": [],
   "source": [
    "df = df[~df.id_usuario.isin(id_users_depto_nan)]"
   ]
  },
  {
   "cell_type": "code",
   "execution_count": 51,
   "id": "a5c96bcd",
   "metadata": {},
   "outputs": [],
   "source": [
    "df = df[~df.mes_operacion.isnull()]"
   ]
  },
  {
   "cell_type": "code",
   "execution_count": 52,
   "id": "989045a0",
   "metadata": {},
   "outputs": [
    {
     "data": {
      "text/plain": [
       "id_usuario               0\n",
       "departamento             0\n",
       "municipio                0\n",
       "zona                     0\n",
       "mes_operacion            0\n",
       "consumo_energia_total    0\n",
       "tipo_tarifa              0\n",
       "dtype: int64"
      ]
     },
     "execution_count": 52,
     "metadata": {},
     "output_type": "execute_result"
    }
   ],
   "source": [
    "df.isnull().sum()"
   ]
  },
  {
   "cell_type": "code",
   "execution_count": 53,
   "id": "a72c4780",
   "metadata": {},
   "outputs": [],
   "source": [
    "# Tipos de datos"
   ]
  },
  {
   "cell_type": "code",
   "execution_count": 54,
   "id": "b6e95cfa",
   "metadata": {},
   "outputs": [],
   "source": [
    "df.id_usuario = df.id_usuario.astype(int)\n",
    "df.id_usuario = df.id_usuario.astype(str)"
   ]
  },
  {
   "cell_type": "code",
   "execution_count": 55,
   "id": "f53ceb07",
   "metadata": {},
   "outputs": [
    {
     "name": "stdout",
     "output_type": "stream",
     "text": [
      "CPU times: user 1min 14s, sys: 6.62 s, total: 1min 20s\n",
      "Wall time: 1min 20s\n"
     ]
    }
   ],
   "source": [
    "%%time\n",
    "df.mes_operacion=df.mes_operacion.astype(int)\n",
    "df.mes_operacion = df.mes_operacion.astype(str)"
   ]
  },
  {
   "cell_type": "code",
   "execution_count": 56,
   "id": "5ceadbae",
   "metadata": {},
   "outputs": [
    {
     "name": "stdout",
     "output_type": "stream",
     "text": [
      "CPU times: user 4.38 s, sys: 2.68 s, total: 7.06 s\n",
      "Wall time: 7.04 s\n"
     ]
    }
   ],
   "source": [
    "%%time\n",
    "df.consumo_energia_total = df.consumo_energia_total.astype(float)"
   ]
  },
  {
   "cell_type": "code",
   "execution_count": 97,
   "id": "521ec16f",
   "metadata": {},
   "outputs": [
    {
     "data": {
      "text/plain": [
       "id_usuario        object\n",
       "departamento      object\n",
       "municipio         object\n",
       "zona              object\n",
       "mes_operacion     object\n",
       "consumo          float64\n",
       "tipo_tarifa       object\n",
       "year              object\n",
       "mes               object\n",
       "date              object\n",
       "dtype: object"
      ]
     },
     "execution_count": 97,
     "metadata": {},
     "output_type": "execute_result"
    }
   ],
   "source": [
    "df.dtypes"
   ]
  },
  {
   "cell_type": "code",
   "execution_count": 102,
   "id": "198aea76",
   "metadata": {},
   "outputs": [
    {
     "data": {
      "text/html": [
       "<div>\n",
       "<style scoped>\n",
       "    .dataframe tbody tr th:only-of-type {\n",
       "        vertical-align: middle;\n",
       "    }\n",
       "\n",
       "    .dataframe tbody tr th {\n",
       "        vertical-align: top;\n",
       "    }\n",
       "\n",
       "    .dataframe thead th {\n",
       "        text-align: right;\n",
       "    }\n",
       "</style>\n",
       "<table border=\"1\" class=\"dataframe\">\n",
       "  <thead>\n",
       "    <tr style=\"text-align: right;\">\n",
       "      <th></th>\n",
       "      <th>id_usuario</th>\n",
       "      <th>departamento</th>\n",
       "      <th>municipio</th>\n",
       "      <th>zona</th>\n",
       "      <th>mes_operacion</th>\n",
       "      <th>consumo</th>\n",
       "      <th>tipo_tarifa</th>\n",
       "      <th>year</th>\n",
       "      <th>mes</th>\n",
       "      <th>date</th>\n",
       "    </tr>\n",
       "  </thead>\n",
       "  <tbody>\n",
       "  </tbody>\n",
       "</table>\n",
       "</div>"
      ],
      "text/plain": [
       "Empty DataFrame\n",
       "Columns: [id_usuario, departamento, municipio, zona, mes_operacion, consumo, tipo_tarifa, year, mes, date]\n",
       "Index: []"
      ]
     },
     "execution_count": 102,
     "metadata": {},
     "output_type": "execute_result"
    }
   ],
   "source": [
    "df[df.date=='-10'].head()"
   ]
  },
  {
   "cell_type": "code",
   "execution_count": 101,
   "id": "e9fa782e",
   "metadata": {},
   "outputs": [],
   "source": [
    "df = df[df.mes_operacion!='10']"
   ]
  },
  {
   "cell_type": "code",
   "execution_count": null,
   "id": "9b23fbe2",
   "metadata": {},
   "outputs": [],
   "source": [
    "df.date.unique()"
   ]
  },
  {
   "cell_type": "code",
   "execution_count": 103,
   "id": "eb770008",
   "metadata": {},
   "outputs": [
    {
     "data": {
      "text/plain": [
       "0   2016-01-01\n",
       "1   2016-01-01\n",
       "2   2016-01-01\n",
       "3   2016-01-01\n",
       "4   2016-01-01\n",
       "Name: date, dtype: datetime64[ns]"
      ]
     },
     "execution_count": 103,
     "metadata": {},
     "output_type": "execute_result"
    }
   ],
   "source": [
    "pd.to_datetime(df.date).head()"
   ]
  },
  {
   "cell_type": "markdown",
   "id": "9974e111",
   "metadata": {},
   "source": [
    "#### Adicionar Mes <a class=\"anchor\" id=\"adicionar-mes\"></a>"
   ]
  },
  {
   "cell_type": "code",
   "execution_count": 104,
   "id": "2257c895",
   "metadata": {},
   "outputs": [
    {
     "name": "stdout",
     "output_type": "stream",
     "text": [
      "CPU times: user 1min 49s, sys: 19.5 s, total: 2min 9s\n",
      "Wall time: 2min 9s\n"
     ]
    }
   ],
   "source": [
    "%%time\n",
    "df['year']=df['mes_operacion'].apply(lambda x: str(x)[:4])\n",
    "df['mes']=df['mes_operacion'].apply(lambda x: str(x)[4:6])\n",
    "df['date']= df['mes']+'-'+df['year']\n",
    "df.date = pd.to_datetime(df.date)"
   ]
  },
  {
   "cell_type": "code",
   "execution_count": 61,
   "id": "4c166455",
   "metadata": {},
   "outputs": [],
   "source": [
    "# Renombrar columna"
   ]
  },
  {
   "cell_type": "code",
   "execution_count": 105,
   "id": "31557fe6",
   "metadata": {},
   "outputs": [],
   "source": [
    "df.rename(columns={'consumo_energia_total':'consumo'}, inplace=True)"
   ]
  },
  {
   "cell_type": "markdown",
   "id": "a43d17b0",
   "metadata": {},
   "source": [
    "#### Descargar en CSV <a class=\"anchor\" id=\"descargar-csv\"></a>"
   ]
  },
  {
   "cell_type": "code",
   "execution_count": 106,
   "id": "613f0f5a",
   "metadata": {},
   "outputs": [
    {
     "name": "stdout",
     "output_type": "stream",
     "text": [
      "[INFO]...Descargando en:  s3://iadbprod-ine-tsp-analyticaldata/EEGSA-GUATEMALA/data_clean/eegsa_dataconsumo_consolidado.parquet\n",
      "(97087710, 10)\n",
      "[INFO]...Done!\n",
      "CPU times: user 1min 9s, sys: 6.56 s, total: 1min 15s\n",
      "Wall time: 1min 27s\n"
     ]
    }
   ],
   "source": [
    "%%time\n",
    "key = 'EEGSA-GUATEMALA/data_clean/'\n",
    "filename = 'eegsa_dataconsumo_consolidado.parquet'\n",
    "path = bucket_path+key+filename\n",
    "print('[INFO]...Descargando en: ',path)\n",
    "df.to_parquet(path, index=False)\n",
    "print(df.shape)\n",
    "print('[INFO]...Done!')"
   ]
  },
  {
   "cell_type": "code",
   "execution_count": 107,
   "id": "2281587c",
   "metadata": {},
   "outputs": [
    {
     "data": {
      "text/plain": [
       "(97087710, 10)"
      ]
     },
     "execution_count": 107,
     "metadata": {},
     "output_type": "execute_result"
    }
   ],
   "source": [
    "df.shape"
   ]
  },
  {
   "cell_type": "markdown",
   "id": "9d46e32b",
   "metadata": {},
   "source": [
    "### Concatenar Archivos de fraudes <a class=\"anchor\" id=\"concatenar-archivos\"></a>"
   ]
  },
  {
   "cell_type": "code",
   "execution_count": 64,
   "id": "d4775a44",
   "metadata": {},
   "outputs": [
    {
     "name": "stdout",
     "output_type": "stream",
     "text": [
      "[INFO]...concatenando archivos\n",
      "s3://iadbprod-ine-tsp-analyticaldata/EEGSA-GUATEMALA/data/ZGTGM_005/zgtgm005_20210701_140501.txt\n",
      "s3://iadbprod-ine-tsp-analyticaldata/EEGSA-GUATEMALA/data/ZGTGM_005/zgtgm005_20221104_151301.txt\n",
      "(58361, 23)\n",
      "[INFO]...Done!\n",
      "CPU times: user 244 ms, sys: 29.5 ms, total: 273 ms\n",
      "Wall time: 741 ms\n"
     ]
    }
   ],
   "source": [
    "%%time\n",
    "print('[INFO]...concatenando archivos')\n",
    "df_anomalias = pd.DataFrame()\n",
    "for obj in bucket.objects.filter(Prefix='EEGSA-GUATEMALA/data/ZGTGM_005/z'):\n",
    "    key = obj.key\n",
    "    print(bucket_path+key)\n",
    "    df_csv = pd.read_csv(bucket_path+key, sep='\\t')\n",
    "    df_anomalias = df_anomalias.append(pd.concat([df_csv], axis=0, ignore_index=True), ignore_index=True)\n",
    "print(df_anomalias.shape)\n",
    "print('[INFO]...Done!')"
   ]
  },
  {
   "cell_type": "code",
   "execution_count": 66,
   "id": "4888894f",
   "metadata": {},
   "outputs": [
    {
     "name": "stdout",
     "output_type": "stream",
     "text": [
      "[INFO]...Descargando en:  s3://iadbprod-ine-tsp-analyticaldata/EEGSA-GUATEMALA/data_clean/eegsa_datafraudes_consolidado.parquet\n",
      "[INFO]...Done!\n",
      "CPU times: user 126 ms, sys: 25.5 ms, total: 152 ms\n",
      "Wall time: 261 ms\n"
     ]
    }
   ],
   "source": [
    "%%time\n",
    "key = 'EEGSA-GUATEMALA/data_clean/'\n",
    "filename = 'eegsa_datafraudes_consolidado.parquet'\n",
    "path = bucket_path+key+filename\n",
    "print('[INFO]...Descargando en: ',path)\n",
    "df_anomalias.to_parquet(path, index=False)\n",
    "print('[INFO]...Done!')"
   ]
  },
  {
   "cell_type": "markdown",
   "id": "73d98619",
   "metadata": {},
   "source": [
    "### Concatenar Archivos de ordenes <a class=\"anchor\" id=\"concatenar-archivos\"></a>"
   ]
  },
  {
   "cell_type": "code",
   "execution_count": 53,
   "id": "09cb6a88",
   "metadata": {},
   "outputs": [
    {
     "name": "stdout",
     "output_type": "stream",
     "text": [
      "[INFO]...concatenando archivos\n",
      "s3://iadbprod-ine-tsp-analyticaldata/EEGSA-GUATEMALA/data/Ordenes/Ordenes 2013.xlsx\n",
      "s3://iadbprod-ine-tsp-analyticaldata/EEGSA-GUATEMALA/data/Ordenes/Ordenes 2014.xlsx\n",
      "s3://iadbprod-ine-tsp-analyticaldata/EEGSA-GUATEMALA/data/Ordenes/Ordenes 2015.xlsx\n",
      "s3://iadbprod-ine-tsp-analyticaldata/EEGSA-GUATEMALA/data/Ordenes/Ordenes 2016.xlsx\n",
      "s3://iadbprod-ine-tsp-analyticaldata/EEGSA-GUATEMALA/data/Ordenes/Ordenes 2017.xlsx\n",
      "s3://iadbprod-ine-tsp-analyticaldata/EEGSA-GUATEMALA/data/Ordenes/Ordenes 2018.xlsx\n",
      "s3://iadbprod-ine-tsp-analyticaldata/EEGSA-GUATEMALA/data/Ordenes/Ordenes 2019.xlsx\n",
      "s3://iadbprod-ine-tsp-analyticaldata/EEGSA-GUATEMALA/data/Ordenes/Ordenes 2020.xlsx\n",
      "s3://iadbprod-ine-tsp-analyticaldata/EEGSA-GUATEMALA/data/Ordenes/Ordenes 2021.xlsx\n",
      "s3://iadbprod-ine-tsp-analyticaldata/EEGSA-GUATEMALA/data/Ordenes/Ordenes 2022.xlsx\n",
      "(1463804, 11)\n",
      "[INFO]...Done!\n",
      "CPU times: user 3min 48s, sys: 1 s, total: 3min 49s\n",
      "Wall time: 3min 52s\n"
     ]
    }
   ],
   "source": [
    "%%time\n",
    "print('[INFO]...concatenando archivos')\n",
    "bucket_path = 's3://iadbprod-ine-tsp-analyticaldata/' \n",
    "df_ordenes = pd.DataFrame()\n",
    "for obj in bucket.objects.filter(Prefix='EEGSA-GUATEMALA/data/Ordenes/Ordenes'):\n",
    "#     print(obj)\n",
    "    key = obj.key\n",
    "    print(bucket_path+key)\n",
    "    df_csv = pd.read_excel(bucket_path+key, engine='openpyxl')\n",
    "    df_csv['file_year'] = key.split(' ')[-1].split('.')[0]\n",
    "    df_ordenes = df_ordenes.append(pd.concat([df_csv], axis=0, ignore_index=True), ignore_index=True)\n",
    "print(df_ordenes.shape)\n",
    "print('[INFO]...Done!')"
   ]
  },
  {
   "cell_type": "code",
   "execution_count": 54,
   "id": "b532949e",
   "metadata": {},
   "outputs": [],
   "source": [
    "df_ordenes.drop(columns=['Unnamed: 0'], inplace=True)\n",
    "df_ordenes.COD_MAT = df_ordenes.COD_MAT.astype(str)\n",
    "df_ordenes.CONTRATO = df_ordenes.CONTRATO.astype(str)\n",
    "df_ordenes['F.EJEC'] = df_ordenes['F.EJEC'].astype(str)"
   ]
  },
  {
   "cell_type": "code",
   "execution_count": 55,
   "id": "381060c0",
   "metadata": {},
   "outputs": [
    {
     "data": {
      "text/plain": [
       "2017    186126\n",
       "2018    185183\n",
       "2016    181646\n",
       "2015    171591\n",
       "2014    169387\n",
       "2021    153804\n",
       "2013    152598\n",
       "2019    127758\n",
       "2020     94762\n",
       "2022     40949\n",
       "Name: file_year, dtype: int64"
      ]
     },
     "execution_count": 55,
     "metadata": {},
     "output_type": "execute_result"
    }
   ],
   "source": [
    "df_ordenes['file_year'].value_counts(dropna=False)"
   ]
  },
  {
   "cell_type": "code",
   "execution_count": 56,
   "id": "df817a2e",
   "metadata": {},
   "outputs": [
    {
     "data": {
      "text/html": [
       "<div>\n",
       "<style scoped>\n",
       "    .dataframe tbody tr th:only-of-type {\n",
       "        vertical-align: middle;\n",
       "    }\n",
       "\n",
       "    .dataframe tbody tr th {\n",
       "        vertical-align: top;\n",
       "    }\n",
       "\n",
       "    .dataframe thead th {\n",
       "        text-align: right;\n",
       "    }\n",
       "</style>\n",
       "<table border=\"1\" class=\"dataframe\">\n",
       "  <thead>\n",
       "    <tr style=\"text-align: right;\">\n",
       "      <th></th>\n",
       "      <th>CLASE</th>\n",
       "      <th>SUBCLASE</th>\n",
       "      <th>ORDEN</th>\n",
       "      <th>COD_MAT</th>\n",
       "      <th>CONTRATO</th>\n",
       "      <th>CODIGO POSTAL</th>\n",
       "      <th>TECNICO</th>\n",
       "      <th>F.EJEC</th>\n",
       "      <th>C.E</th>\n",
       "      <th>file_year</th>\n",
       "    </tr>\n",
       "  </thead>\n",
       "  <tbody>\n",
       "    <tr>\n",
       "      <th>0</th>\n",
       "      <td>IICS</td>\n",
       "      <td>IP70</td>\n",
       "      <td>540029589</td>\n",
       "      <td>41-0066</td>\n",
       "      <td>660139</td>\n",
       "      <td>1010.00000</td>\n",
       "      <td>INSP-06</td>\n",
       "      <td>2013-01-25 00:00:00</td>\n",
       "      <td>N35</td>\n",
       "      <td>2013</td>\n",
       "    </tr>\n",
       "    <tr>\n",
       "      <th>1</th>\n",
       "      <td>IICS</td>\n",
       "      <td>IP70</td>\n",
       "      <td>540029590</td>\n",
       "      <td>41-0066</td>\n",
       "      <td>665945</td>\n",
       "      <td>1001.00000</td>\n",
       "      <td>INSP-06</td>\n",
       "      <td>2013-01-25 00:00:00</td>\n",
       "      <td>N35</td>\n",
       "      <td>2013</td>\n",
       "    </tr>\n",
       "    <tr>\n",
       "      <th>2</th>\n",
       "      <td>IICS</td>\n",
       "      <td>IP70</td>\n",
       "      <td>540029591</td>\n",
       "      <td>41-0066</td>\n",
       "      <td>1118323</td>\n",
       "      <td>1018.00000</td>\n",
       "      <td>INSP-06</td>\n",
       "      <td>2013-01-25 00:00:00</td>\n",
       "      <td>N35</td>\n",
       "      <td>2013</td>\n",
       "    </tr>\n",
       "    <tr>\n",
       "      <th>3</th>\n",
       "      <td>IICS</td>\n",
       "      <td>IP70</td>\n",
       "      <td>540031235</td>\n",
       "      <td>41-0066</td>\n",
       "      <td>621778</td>\n",
       "      <td>1057.00000</td>\n",
       "      <td>INSP-06</td>\n",
       "      <td>2013-08-26 00:00:00</td>\n",
       "      <td>N32</td>\n",
       "      <td>2013</td>\n",
       "    </tr>\n",
       "    <tr>\n",
       "      <th>4</th>\n",
       "      <td>IPRS</td>\n",
       "      <td>PF</td>\n",
       "      <td>550239085</td>\n",
       "      <td>41-0082</td>\n",
       "      <td>293799</td>\n",
       "      <td>1065.00000</td>\n",
       "      <td>GAUSS-16</td>\n",
       "      <td>2013-01-02 00:00:00</td>\n",
       "      <td>N21</td>\n",
       "      <td>2013</td>\n",
       "    </tr>\n",
       "  </tbody>\n",
       "</table>\n",
       "</div>"
      ],
      "text/plain": [
       "  CLASE SUBCLASE      ORDEN  COD_MAT CONTRATO  CODIGO POSTAL   TECNICO  \\\n",
       "0  IICS     IP70  540029589  41-0066   660139     1010.00000   INSP-06   \n",
       "1  IICS     IP70  540029590  41-0066   665945     1001.00000   INSP-06   \n",
       "2  IICS     IP70  540029591  41-0066  1118323     1018.00000   INSP-06   \n",
       "3  IICS     IP70  540031235  41-0066   621778     1057.00000   INSP-06   \n",
       "4  IPRS       PF  550239085  41-0082   293799     1065.00000  GAUSS-16   \n",
       "\n",
       "                F.EJEC  C.E file_year  \n",
       "0  2013-01-25 00:00:00  N35      2013  \n",
       "1  2013-01-25 00:00:00  N35      2013  \n",
       "2  2013-01-25 00:00:00  N35      2013  \n",
       "3  2013-08-26 00:00:00  N32      2013  \n",
       "4  2013-01-02 00:00:00  N21      2013  "
      ]
     },
     "execution_count": 56,
     "metadata": {},
     "output_type": "execute_result"
    }
   ],
   "source": [
    "df_ordenes.head()"
   ]
  },
  {
   "cell_type": "code",
   "execution_count": 57,
   "id": "c0c763f5",
   "metadata": {},
   "outputs": [
    {
     "name": "stdout",
     "output_type": "stream",
     "text": [
      "[INFO]...Descargando en:  s3://iadbprod-ine-tsp-analyticaldata/EEGSA-GUATEMALA/data_clean/eegsa_datafizcalizacion_consolidado.parquet\n",
      "[INFO]...Done!\n",
      "CPU times: user 1.25 s, sys: 120 ms, total: 1.37 s\n",
      "Wall time: 1.97 s\n"
     ]
    }
   ],
   "source": [
    "%%time\n",
    "key = 'EEGSA-GUATEMALA/data_clean/'\n",
    "filename = 'eegsa_datafizcalizacion_consolidado.parquet'\n",
    "path = bucket_path+key+filename\n",
    "print('[INFO]...Descargando en: ',path)\n",
    "df_ordenes.to_parquet(path, index=False)\n",
    "print('[INFO]...Done!')"
   ]
  },
  {
   "cell_type": "markdown",
   "id": "d857c15c",
   "metadata": {},
   "source": [
    "### Concatenar archivos con informacion General"
   ]
  },
  {
   "cell_type": "code",
   "execution_count": 7,
   "id": "2ff642ce",
   "metadata": {},
   "outputs": [],
   "source": [
    "# da_cols = pd.read_excel('../../data/zgm023_602_20220510_081536 con encabezados.xlsx',engine='openpyxl')"
   ]
  },
  {
   "cell_type": "code",
   "execution_count": 6,
   "id": "dfc63f51",
   "metadata": {},
   "outputs": [
    {
     "data": {
      "text/plain": [
       "112"
      ]
     },
     "execution_count": 6,
     "metadata": {},
     "output_type": "execute_result"
    }
   ],
   "source": [
    "df_atributos_cols = pd.read_csv('../../data/cols_zgm023.csv') #obtiene las columnas a ser usadas\n",
    "list_cols = df_atributos_cols.columns.tolist() \n",
    "list_cols = list_cols + ['date_filename']\n",
    "len(list_cols)"
   ]
  },
  {
   "cell_type": "code",
   "execution_count": 7,
   "id": "7a92755e",
   "metadata": {},
   "outputs": [],
   "source": [
    "# list_cols"
   ]
  },
  {
   "cell_type": "code",
   "execution_count": 23,
   "id": "9f30649a",
   "metadata": {},
   "outputs": [
    {
     "data": {
      "text/plain": [
       "['EEGSA-GUATEMALA/data/ZGM023', 'v2/zgm023', '821', '20220803', '081542.txt']"
      ]
     },
     "execution_count": 23,
     "metadata": {},
     "output_type": "execute_result"
    }
   ],
   "source": [
    "key.split('_')"
   ]
  },
  {
   "cell_type": "code",
   "execution_count": 8,
   "id": "52bc996f",
   "metadata": {},
   "outputs": [
    {
     "name": "stdout",
     "output_type": "stream",
     "text": [
      "[INFO]...concatenando archivos\n",
      "s3://iadbprod-ine-tsp-analyticaldata/EEGSA-GUATEMALA/data/ZGM023_v2/zgm023_601_20220711_081548.txt\n",
      "s3://iadbprod-ine-tsp-analyticaldata/EEGSA-GUATEMALA/data/ZGM023_v2/zgm023_602_20220711_081551.txt\n",
      "s3://iadbprod-ine-tsp-analyticaldata/EEGSA-GUATEMALA/data/ZGM023_v2/zgm023_603_20220712_081540.txt\n",
      "s3://iadbprod-ine-tsp-analyticaldata/EEGSA-GUATEMALA/data/ZGM023_v2/zgm023_604_20220713_081540.txt\n",
      "s3://iadbprod-ine-tsp-analyticaldata/EEGSA-GUATEMALA/data/ZGM023_v2/zgm023_605_20220715_081542.txt\n",
      "s3://iadbprod-ine-tsp-analyticaldata/EEGSA-GUATEMALA/data/ZGM023_v2/zgm023_606_20220715_081546.txt\n",
      "s3://iadbprod-ine-tsp-analyticaldata/EEGSA-GUATEMALA/data/ZGM023_v2/zgm023_607_20220716_081539.txt\n",
      "s3://iadbprod-ine-tsp-analyticaldata/EEGSA-GUATEMALA/data/ZGM023_v2/zgm023_608_20220717_081547.txt\n",
      "s3://iadbprod-ine-tsp-analyticaldata/EEGSA-GUATEMALA/data/ZGM023_v2/zgm023_609_20220718_081553.txt\n",
      "s3://iadbprod-ine-tsp-analyticaldata/EEGSA-GUATEMALA/data/ZGM023_v2/zgm023_610_20220719_081542.txt\n",
      "s3://iadbprod-ine-tsp-analyticaldata/EEGSA-GUATEMALA/data/ZGM023_v2/zgm023_611_20220720_081540.txt\n",
      "s3://iadbprod-ine-tsp-analyticaldata/EEGSA-GUATEMALA/data/ZGM023_v2/zgm023_612_20220721_081539.txt\n",
      "s3://iadbprod-ine-tsp-analyticaldata/EEGSA-GUATEMALA/data/ZGM023_v2/zgm023_613_20220722_081540.txt\n",
      "s3://iadbprod-ine-tsp-analyticaldata/EEGSA-GUATEMALA/data/ZGM023_v2/zgm023_614_20220724_081539.txt\n",
      "s3://iadbprod-ine-tsp-analyticaldata/EEGSA-GUATEMALA/data/ZGM023_v2/zgm023_615_20220725_081541.txt\n",
      "s3://iadbprod-ine-tsp-analyticaldata/EEGSA-GUATEMALA/data/ZGM023_v2/zgm023_616_20220726_081542.txt\n",
      "s3://iadbprod-ine-tsp-analyticaldata/EEGSA-GUATEMALA/data/ZGM023_v2/zgm023_617_20220727_081543.txt\n",
      "s3://iadbprod-ine-tsp-analyticaldata/EEGSA-GUATEMALA/data/ZGM023_v2/zgm023_618_20220728_081544.txt\n",
      "s3://iadbprod-ine-tsp-analyticaldata/EEGSA-GUATEMALA/data/ZGM023_v2/zgm023_619_20220731_081541.txt\n",
      "s3://iadbprod-ine-tsp-analyticaldata/EEGSA-GUATEMALA/data/ZGM023_v2/zgm023_620_20220802_081541.txt\n",
      "s3://iadbprod-ine-tsp-analyticaldata/EEGSA-GUATEMALA/data/ZGM023_v2/zgm023_701_20220711_081549.txt\n",
      "s3://iadbprod-ine-tsp-analyticaldata/EEGSA-GUATEMALA/data/ZGM023_v2/zgm023_702_20220711_081551.txt\n",
      "s3://iadbprod-ine-tsp-analyticaldata/EEGSA-GUATEMALA/data/ZGM023_v2/zgm023_703_20220712_081541.txt\n",
      "s3://iadbprod-ine-tsp-analyticaldata/EEGSA-GUATEMALA/data/ZGM023_v2/zgm023_704_20220713_081541.txt\n",
      "s3://iadbprod-ine-tsp-analyticaldata/EEGSA-GUATEMALA/data/ZGM023_v2/zgm023_705_20220715_081543.txt\n",
      "s3://iadbprod-ine-tsp-analyticaldata/EEGSA-GUATEMALA/data/ZGM023_v2/zgm023_706_20220715_081548.txt\n",
      "s3://iadbprod-ine-tsp-analyticaldata/EEGSA-GUATEMALA/data/ZGM023_v2/zgm023_707_20220716_081541.txt\n",
      "s3://iadbprod-ine-tsp-analyticaldata/EEGSA-GUATEMALA/data/ZGM023_v2/zgm023_708_20220717_081548.txt\n",
      "s3://iadbprod-ine-tsp-analyticaldata/EEGSA-GUATEMALA/data/ZGM023_v2/zgm023_709_20220718_081555.txt\n",
      "s3://iadbprod-ine-tsp-analyticaldata/EEGSA-GUATEMALA/data/ZGM023_v2/zgm023_710_20220719_081539.txt\n",
      "s3://iadbprod-ine-tsp-analyticaldata/EEGSA-GUATEMALA/data/ZGM023_v2/zgm023_711_20220720_081540.txt\n",
      "s3://iadbprod-ine-tsp-analyticaldata/EEGSA-GUATEMALA/data/ZGM023_v2/zgm023_712_20220721_081540.txt\n",
      "s3://iadbprod-ine-tsp-analyticaldata/EEGSA-GUATEMALA/data/ZGM023_v2/zgm023_713_20220722_081541.txt\n",
      "s3://iadbprod-ine-tsp-analyticaldata/EEGSA-GUATEMALA/data/ZGM023_v2/zgm023_714_20220724_081541.txt\n",
      "s3://iadbprod-ine-tsp-analyticaldata/EEGSA-GUATEMALA/data/ZGM023_v2/zgm023_715_20220725_081543.txt\n",
      "s3://iadbprod-ine-tsp-analyticaldata/EEGSA-GUATEMALA/data/ZGM023_v2/zgm023_716_20220726_081543.txt\n",
      "s3://iadbprod-ine-tsp-analyticaldata/EEGSA-GUATEMALA/data/ZGM023_v2/zgm023_717_20220727_081544.txt\n",
      "s3://iadbprod-ine-tsp-analyticaldata/EEGSA-GUATEMALA/data/ZGM023_v2/zgm023_718_20220728_081545.txt\n",
      "s3://iadbprod-ine-tsp-analyticaldata/EEGSA-GUATEMALA/data/ZGM023_v2/zgm023_719_20220731_081542.txt\n",
      "s3://iadbprod-ine-tsp-analyticaldata/EEGSA-GUATEMALA/data/ZGM023_v2/zgm023_801_20220711_081549.txt\n",
      "s3://iadbprod-ine-tsp-analyticaldata/EEGSA-GUATEMALA/data/ZGM023_v2/zgm023_802_20220711_081552.txt\n",
      "s3://iadbprod-ine-tsp-analyticaldata/EEGSA-GUATEMALA/data/ZGM023_v2/zgm023_803_20220712_081542.txt\n",
      "s3://iadbprod-ine-tsp-analyticaldata/EEGSA-GUATEMALA/data/ZGM023_v2/zgm023_804_20220713_081542.txt\n",
      "s3://iadbprod-ine-tsp-analyticaldata/EEGSA-GUATEMALA/data/ZGM023_v2/zgm023_805_20220715_081544.txt\n",
      "s3://iadbprod-ine-tsp-analyticaldata/EEGSA-GUATEMALA/data/ZGM023_v2/zgm023_806_20220715_081549.txt\n",
      "s3://iadbprod-ine-tsp-analyticaldata/EEGSA-GUATEMALA/data/ZGM023_v2/zgm023_807_20220716_081542.txt\n",
      "s3://iadbprod-ine-tsp-analyticaldata/EEGSA-GUATEMALA/data/ZGM023_v2/zgm023_808_20220717_081549.txt\n",
      "s3://iadbprod-ine-tsp-analyticaldata/EEGSA-GUATEMALA/data/ZGM023_v2/zgm023_809_20220718_081556.txt\n",
      "s3://iadbprod-ine-tsp-analyticaldata/EEGSA-GUATEMALA/data/ZGM023_v2/zgm023_810_20220719_081540.txt\n",
      "s3://iadbprod-ine-tsp-analyticaldata/EEGSA-GUATEMALA/data/ZGM023_v2/zgm023_811_20220720_081541.txt\n",
      "s3://iadbprod-ine-tsp-analyticaldata/EEGSA-GUATEMALA/data/ZGM023_v2/zgm023_812_20220721_081541.txt\n",
      "s3://iadbprod-ine-tsp-analyticaldata/EEGSA-GUATEMALA/data/ZGM023_v2/zgm023_813_20220722_081542.txt\n",
      "s3://iadbprod-ine-tsp-analyticaldata/EEGSA-GUATEMALA/data/ZGM023_v2/zgm023_814_20220724_081541.txt\n",
      "s3://iadbprod-ine-tsp-analyticaldata/EEGSA-GUATEMALA/data/ZGM023_v2/zgm023_815_20220725_081544.txt\n",
      "s3://iadbprod-ine-tsp-analyticaldata/EEGSA-GUATEMALA/data/ZGM023_v2/zgm023_816_20220726_081543.txt\n",
      "s3://iadbprod-ine-tsp-analyticaldata/EEGSA-GUATEMALA/data/ZGM023_v2/zgm023_817_20220727_081544.txt\n",
      "s3://iadbprod-ine-tsp-analyticaldata/EEGSA-GUATEMALA/data/ZGM023_v2/zgm023_818_20220728_081546.txt\n",
      "s3://iadbprod-ine-tsp-analyticaldata/EEGSA-GUATEMALA/data/ZGM023_v2/zgm023_819_20220731_081542.txt\n",
      "s3://iadbprod-ine-tsp-analyticaldata/EEGSA-GUATEMALA/data/ZGM023_v2/zgm023_820_20220802_081542.txt\n",
      "s3://iadbprod-ine-tsp-analyticaldata/EEGSA-GUATEMALA/data/ZGM023_v2/zgm023_821_20220803_081542.txt\n",
      "Cantidad de archivos leidos: 60\n",
      "(1526902, 112)\n",
      "[INFO]...Done!\n",
      "CPU times: user 2min 7s, sys: 40.9 s, total: 2min 48s\n",
      "Wall time: 3min 27s\n"
     ]
    }
   ],
   "source": [
    "%%time\n",
    "bucket_path = 's3://iadbprod-ine-tsp-analyticaldata/' \n",
    "print('[INFO]...concatenando archivos')\n",
    "df_atributos_gral = pd.DataFrame()\n",
    "count = 0\n",
    "for obj in bucket.objects.filter(Prefix='EEGSA-GUATEMALA/data/ZGM023_v2/z'):\n",
    "    key = obj.key\n",
    "    print(bucket_path+key)\n",
    "    df_csv = pd.read_csv(bucket_path+key, sep=',', header=None)\n",
    "    date_filename = key.split('_')[2] #sacarle la fecha al archivo \n",
    "    df_csv[len(df_csv.columns)]=date_filename #adiciona columna al final del df\n",
    "    df_atributos_gral = df_atributos_gral.append(pd.concat([df_csv], axis=0, ignore_index=True), ignore_index=True)\n",
    "    count+=1\n",
    "print('Cantidad de archivos leidos:', count)\n",
    "print(df_atributos_gral.shape)\n",
    "print('[INFO]...Done!')"
   ]
  },
  {
   "cell_type": "code",
   "execution_count": 9,
   "id": "df734eba",
   "metadata": {},
   "outputs": [
    {
     "data": {
      "text/plain": [
       "(1526902, 112)"
      ]
     },
     "execution_count": 9,
     "metadata": {},
     "output_type": "execute_result"
    }
   ],
   "source": [
    "df_atributos_gral.shape"
   ]
  },
  {
   "cell_type": "code",
   "execution_count": 10,
   "id": "37a29fd7",
   "metadata": {},
   "outputs": [],
   "source": [
    "df_atributos_gral.columns=list_cols"
   ]
  },
  {
   "cell_type": "code",
   "execution_count": 11,
   "id": "22df84a9",
   "metadata": {},
   "outputs": [
    {
     "data": {
      "text/html": [
       "<div>\n",
       "<style scoped>\n",
       "    .dataframe tbody tr th:only-of-type {\n",
       "        vertical-align: middle;\n",
       "    }\n",
       "\n",
       "    .dataframe tbody tr th {\n",
       "        vertical-align: top;\n",
       "    }\n",
       "\n",
       "    .dataframe thead th {\n",
       "        text-align: right;\n",
       "    }\n",
       "</style>\n",
       "<table border=\"1\" class=\"dataframe\">\n",
       "  <thead>\n",
       "    <tr style=\"text-align: right;\">\n",
       "      <th></th>\n",
       "      <th>Unidad de Lectura</th>\n",
       "      <th>Contrato</th>\n",
       "      <th>Instalación</th>\n",
       "      <th>Codigo Postal</th>\n",
       "      <th>Fecha de alta</th>\n",
       "      <th>Fecha de baja</th>\n",
       "      <th>Medidor</th>\n",
       "      <th>Material</th>\n",
       "      <th>indice de Solvencia</th>\n",
       "      <th>No. de poste</th>\n",
       "      <th>Tarfia</th>\n",
       "      <th>Multiplicador</th>\n",
       "      <th>Actividad Economica</th>\n",
       "      <th>kW CONT</th>\n",
       "      <th>kW MAX</th>\n",
       "      <th>DESOCUPADO (X)</th>\n",
       "      <th>MEDIDOR INTERIOR (X)</th>\n",
       "      <th>ANOMALIA (X)</th>\n",
       "      <th># DE CARGOS POR ANOMALIA</th>\n",
       "      <th>DEUDA ANOMALIA</th>\n",
       "      <th>No Orden 3</th>\n",
       "      <th>Fecha 3</th>\n",
       "      <th>Clase de Actividad 3 al cierre de orden</th>\n",
       "      <th>No Orden 2</th>\n",
       "      <th>Fecha 2</th>\n",
       "      <th>Clase de Actividad 2 al cierre de orden</th>\n",
       "      <th>No Orden 1</th>\n",
       "      <th>Fecha 1</th>\n",
       "      <th>Clase de Actividad 1 al cierre de orden</th>\n",
       "      <th>Cantidad de Avisos Acumulados</th>\n",
       "      <th># DE AVISO NL (notas del Lector)</th>\n",
       "      <th>AVISO SUBCLASE (NL)</th>\n",
       "      <th>Clase de Ordenes</th>\n",
       "      <th>CUENTA DE AVISOS (PF; PR)</th>\n",
       "      <th>FACTURACIÓN VENCIDA (#)</th>\n",
       "      <th>AVISO DE ROBO DE MEDIDORES (#)</th>\n",
       "      <th>CONSULTA DE FECHA DE LECTURA (#)</th>\n",
       "      <th>CONSULTA DE SALDO (#)</th>\n",
       "      <th>CORTES POR FALTA DE PAGO (#)</th>\n",
       "      <th>FACTOR DE ESTACIONALIDAD</th>\n",
       "      <th>CONSUMO -12</th>\n",
       "      <th>CONSUMO -11</th>\n",
       "      <th>CONSUMO -10</th>\n",
       "      <th>CONSUMO -9</th>\n",
       "      <th>CONSUMO -8</th>\n",
       "      <th>CONSUMO -7</th>\n",
       "      <th>CONSUMO -6</th>\n",
       "      <th>CONSUMO -5</th>\n",
       "      <th>CONSUMO -4</th>\n",
       "      <th>CONSUMO -3</th>\n",
       "      <th>CONSUMO -2</th>\n",
       "      <th>CONSUMO -1</th>\n",
       "      <th>CONTRATO -5</th>\n",
       "      <th>FECHA DE ALTA -5</th>\n",
       "      <th>CONTRATO -4</th>\n",
       "      <th>FECHA DE ALTA -4</th>\n",
       "      <th>CONTRATO -3</th>\n",
       "      <th>FECHA DE ALTA -3</th>\n",
       "      <th>CONTRATO -2</th>\n",
       "      <th>FECHA DE ALTA -2</th>\n",
       "      <th>CONTRATO -1</th>\n",
       "      <th>FECHA DE ALTA -1</th>\n",
       "      <th>CONTRATO +5</th>\n",
       "      <th>FECHA DE ALTA +5</th>\n",
       "      <th>CONTRATO +4</th>\n",
       "      <th>FECHA DE ALTA +4</th>\n",
       "      <th>CONTRATO +3</th>\n",
       "      <th>FECHA DE ALTA +3</th>\n",
       "      <th>CONTRATO +2</th>\n",
       "      <th>FECHA DE ALTA +2</th>\n",
       "      <th>CONTRATO +1</th>\n",
       "      <th>FECHA DE ALTA +1</th>\n",
       "      <th>A.E. (kWh) -5</th>\n",
       "      <th>A.E. (kWh) -4</th>\n",
       "      <th>A.E. (kWh) -3</th>\n",
       "      <th>A.E. (kWh) -2</th>\n",
       "      <th>A.E. (kWh) -1</th>\n",
       "      <th>A.E. (kWh) +5</th>\n",
       "      <th>A.E. (kWh) +4</th>\n",
       "      <th>A.E. (kWh) +3</th>\n",
       "      <th>A.E. (kWh) +2</th>\n",
       "      <th>A.E. (kWh) +1</th>\n",
       "      <th>*kWh= TARIFA -5</th>\n",
       "      <th>*kWh= TARIFA -4</th>\n",
       "      <th>*kWh= TARIFA -3</th>\n",
       "      <th>*kWh= TARIFA -2</th>\n",
       "      <th>*kWh= TARIFA -1</th>\n",
       "      <th>*kWh= TARIFA +5</th>\n",
       "      <th>*kWh= TARIFA +4</th>\n",
       "      <th>*kWh= TARIFA +3</th>\n",
       "      <th>*kWh= TARIFA +2</th>\n",
       "      <th>*kWh= TARIFA +1</th>\n",
       "      <th>*kWh PROMEDIO - 5 (12meses)</th>\n",
       "      <th>*kWh PROMEDIO - 4 (12meses)</th>\n",
       "      <th>*kWh PROMEDIO - 3 (12meses)</th>\n",
       "      <th>*kWh PROMEDIO - 2 (12meses)</th>\n",
       "      <th>*kWh PROMEDIO - 1 (12meses)</th>\n",
       "      <th>*kWh PROMEDIO +5 (12meses)</th>\n",
       "      <th>*kWh PROMEDIO +4 (12meses)</th>\n",
       "      <th>*kWh PROMEDIO +3 (12meses)</th>\n",
       "      <th>*kWh PROMEDIO +2 (12meses)</th>\n",
       "      <th>*kWh PROMEDIO +1 (12meses)</th>\n",
       "      <th>Longitud X</th>\n",
       "      <th>Latitud Y</th>\n",
       "      <th>Tpo de Aviso</th>\n",
       "      <th>Zona</th>\n",
       "      <th>Folio</th>\n",
       "      <th>Nivel de tensión</th>\n",
       "      <th>Orden abierta</th>\n",
       "      <th>Fecha generada</th>\n",
       "      <th>SALDO_ACTUAL</th>\n",
       "      <th>date_filename</th>\n",
       "    </tr>\n",
       "  </thead>\n",
       "  <tbody>\n",
       "    <tr>\n",
       "      <th>0</th>\n",
       "      <td>601-001</td>\n",
       "      <td>1686347</td>\n",
       "      <td>3001507722</td>\n",
       "      <td>1001</td>\n",
       "      <td>15/05/2019</td>\n",
       "      <td>31/12/9999</td>\n",
       "      <td>V-10649</td>\n",
       "      <td>41-0081</td>\n",
       "      <td>5</td>\n",
       "      <td>290588.00000</td>\n",
       "      <td>C11</td>\n",
       "      <td>1</td>\n",
       "      <td>87_009</td>\n",
       "      <td>0.00000</td>\n",
       "      <td>0.00000</td>\n",
       "      <td>NaN</td>\n",
       "      <td>NaN</td>\n",
       "      <td>NaN</td>\n",
       "      <td>0</td>\n",
       "      <td>0.00000</td>\n",
       "      <td>nan</td>\n",
       "      <td>00/00/0000</td>\n",
       "      <td>NaN</td>\n",
       "      <td>nan</td>\n",
       "      <td>00/00/0000</td>\n",
       "      <td>NaN</td>\n",
       "      <td>nan</td>\n",
       "      <td>00/00/0000</td>\n",
       "      <td>NaN</td>\n",
       "      <td>0.00000</td>\n",
       "      <td>nan</td>\n",
       "      <td>NaN</td>\n",
       "      <td>NaN</td>\n",
       "      <td>0.00000</td>\n",
       "      <td>1.00000</td>\n",
       "      <td>0.00000</td>\n",
       "      <td>0.00000</td>\n",
       "      <td>0.00000</td>\n",
       "      <td>0.00000</td>\n",
       "      <td>0.00000</td>\n",
       "      <td>0.00000</td>\n",
       "      <td>0.00000</td>\n",
       "      <td>0.00000</td>\n",
       "      <td>0.00000</td>\n",
       "      <td>0.00000</td>\n",
       "      <td>0.00000</td>\n",
       "      <td>0.00000</td>\n",
       "      <td>0.00000</td>\n",
       "      <td>0.00000</td>\n",
       "      <td>0.00000</td>\n",
       "      <td>0.00000</td>\n",
       "      <td>0.00000</td>\n",
       "      <td>6606.00000</td>\n",
       "      <td>02/07/2001</td>\n",
       "      <td>6619.00000</td>\n",
       "      <td>02/07/2001</td>\n",
       "      <td>1261858.00000</td>\n",
       "      <td>06/12/2012</td>\n",
       "      <td>6608.00000</td>\n",
       "      <td>02/07/2001</td>\n",
       "      <td>6609.00000</td>\n",
       "      <td>02/07/2001</td>\n",
       "      <td>6613.00000</td>\n",
       "      <td>02/07/2001</td>\n",
       "      <td>6612.00000</td>\n",
       "      <td>02/07/2001</td>\n",
       "      <td>6611.00000</td>\n",
       "      <td>02/07/2001</td>\n",
       "      <td>6615.00000</td>\n",
       "      <td>02/07/2001</td>\n",
       "      <td>6610.00000</td>\n",
       "      <td>02/07/2001</td>\n",
       "      <td>87_009</td>\n",
       "      <td>87_009</td>\n",
       "      <td>87_009</td>\n",
       "      <td>87_009</td>\n",
       "      <td>87_009</td>\n",
       "      <td>87_006</td>\n",
       "      <td>87_009</td>\n",
       "      <td>87_009</td>\n",
       "      <td>87_009</td>\n",
       "      <td>87_009</td>\n",
       "      <td>C11</td>\n",
       "      <td>C11</td>\n",
       "      <td>C11</td>\n",
       "      <td>C11</td>\n",
       "      <td>C11</td>\n",
       "      <td>C11</td>\n",
       "      <td>C11</td>\n",
       "      <td>C11</td>\n",
       "      <td>C11</td>\n",
       "      <td>C11</td>\n",
       "      <td>8.42000</td>\n",
       "      <td>63.33000</td>\n",
       "      <td>208.08000</td>\n",
       "      <td>46.75000</td>\n",
       "      <td>0.00000</td>\n",
       "      <td>32.17000</td>\n",
       "      <td>29.33000</td>\n",
       "      <td>78.83000</td>\n",
       "      <td>102.33000</td>\n",
       "      <td>246.50000</td>\n",
       "      <td>-90.51632</td>\n",
       "      <td>14.62905</td>\n",
       "      <td>NaN</td>\n",
       "      <td>Zona 1</td>\n",
       "      <td>601-01419-000</td>\n",
       "      <td>1.00000</td>\n",
       "      <td>nan</td>\n",
       "      <td>00/00/0000</td>\n",
       "      <td>13.67000</td>\n",
       "      <td>601</td>\n",
       "    </tr>\n",
       "  </tbody>\n",
       "</table>\n",
       "</div>"
      ],
      "text/plain": [
       "  Unidad de Lectura  Contrato  Instalación  Codigo Postal Fecha de alta  \\\n",
       "0           601-001   1686347   3001507722           1001    15/05/2019   \n",
       "\n",
       "  Fecha de baja  Medidor Material  indice de Solvencia No. de poste Tarfia  \\\n",
       "0    31/12/9999  V-10649  41-0081                    5 290588.00000    C11   \n",
       "\n",
       "   Multiplicador Actividad Economica  kW CONT  kW MAX DESOCUPADO (X)  \\\n",
       "0              1              87_009  0.00000 0.00000            NaN   \n",
       "\n",
       "  MEDIDOR INTERIOR (X) ANOMALIA (X)  # DE CARGOS POR ANOMALIA  DEUDA ANOMALIA  \\\n",
       "0                  NaN          NaN                         0         0.00000   \n",
       "\n",
       "   No Orden 3     Fecha 3 Clase de Actividad 3 al cierre de orden  No Orden 2  \\\n",
       "0         nan  00/00/0000                                     NaN         nan   \n",
       "\n",
       "      Fecha 2 Clase de Actividad 2 al cierre de orden  No Orden 1     Fecha 1  \\\n",
       "0  00/00/0000                                     NaN         nan  00/00/0000   \n",
       "\n",
       "  Clase de Actividad 1 al cierre de orden  Cantidad de Avisos Acumulados  \\\n",
       "0                                     NaN                        0.00000   \n",
       "\n",
       "   # DE AVISO NL (notas del Lector) AVISO SUBCLASE (NL) Clase de Ordenes  \\\n",
       "0                               nan                 NaN              NaN   \n",
       "\n",
       "   CUENTA DE AVISOS (PF; PR)  FACTURACIÓN VENCIDA (#)  \\\n",
       "0                    0.00000                  1.00000   \n",
       "\n",
       "   AVISO DE ROBO DE MEDIDORES (#)  CONSULTA DE FECHA DE LECTURA (#)  \\\n",
       "0                         0.00000                           0.00000   \n",
       "\n",
       "   CONSULTA DE SALDO (#)  CORTES POR FALTA DE PAGO (#)  \\\n",
       "0                0.00000                       0.00000   \n",
       "\n",
       "   FACTOR DE ESTACIONALIDAD  CONSUMO -12  CONSUMO -11  CONSUMO -10  \\\n",
       "0                   0.00000      0.00000      0.00000      0.00000   \n",
       "\n",
       "   CONSUMO -9  CONSUMO -8  CONSUMO -7  CONSUMO -6  CONSUMO -5  CONSUMO -4  \\\n",
       "0     0.00000     0.00000     0.00000     0.00000     0.00000     0.00000   \n",
       "\n",
       "   CONSUMO -3  CONSUMO -2  CONSUMO -1  CONTRATO -5 FECHA DE ALTA -5  \\\n",
       "0     0.00000     0.00000     0.00000   6606.00000       02/07/2001   \n",
       "\n",
       "   CONTRATO -4 FECHA DE ALTA -4   CONTRATO -3 FECHA DE ALTA -3  CONTRATO -2  \\\n",
       "0   6619.00000       02/07/2001 1261858.00000       06/12/2012   6608.00000   \n",
       "\n",
       "  FECHA DE ALTA -2  CONTRATO -1 FECHA DE ALTA -1  CONTRATO +5  \\\n",
       "0       02/07/2001   6609.00000       02/07/2001   6613.00000   \n",
       "\n",
       "  FECHA DE ALTA +5  CONTRATO +4 FECHA DE ALTA +4  CONTRATO +3  \\\n",
       "0       02/07/2001   6612.00000       02/07/2001   6611.00000   \n",
       "\n",
       "  FECHA DE ALTA +3  CONTRATO +2 FECHA DE ALTA +2  CONTRATO +1  \\\n",
       "0       02/07/2001   6615.00000       02/07/2001   6610.00000   \n",
       "\n",
       "  FECHA DE ALTA +1 A.E. (kWh) -5 A.E. (kWh) -4 A.E. (kWh) -3 A.E. (kWh) -2  \\\n",
       "0       02/07/2001        87_009        87_009        87_009        87_009   \n",
       "\n",
       "  A.E. (kWh) -1 A.E. (kWh) +5 A.E. (kWh) +4 A.E. (kWh) +3 A.E. (kWh) +2  \\\n",
       "0        87_009        87_006        87_009        87_009        87_009   \n",
       "\n",
       "  A.E. (kWh) +1 *kWh= TARIFA -5 *kWh= TARIFA -4 *kWh= TARIFA -3  \\\n",
       "0        87_009             C11             C11             C11   \n",
       "\n",
       "  *kWh= TARIFA -2 *kWh= TARIFA -1 *kWh= TARIFA +5 *kWh= TARIFA +4  \\\n",
       "0             C11             C11             C11             C11   \n",
       "\n",
       "  *kWh= TARIFA +3 *kWh= TARIFA +2 *kWh= TARIFA +1  \\\n",
       "0             C11             C11             C11   \n",
       "\n",
       "   *kWh PROMEDIO - 5 (12meses)   *kWh PROMEDIO - 4 (12meses)   \\\n",
       "0                       8.42000                      63.33000   \n",
       "\n",
       "   *kWh PROMEDIO - 3 (12meses)   *kWh PROMEDIO - 2 (12meses)   \\\n",
       "0                     208.08000                      46.75000   \n",
       "\n",
       "   *kWh PROMEDIO - 1 (12meses)   *kWh PROMEDIO +5 (12meses)   \\\n",
       "0                       0.00000                     32.17000   \n",
       "\n",
       "   *kWh PROMEDIO +4 (12meses)   *kWh PROMEDIO +3 (12meses)   \\\n",
       "0                     29.33000                     78.83000   \n",
       "\n",
       "   *kWh PROMEDIO +2 (12meses)   *kWh PROMEDIO +1 (12meses)   Longitud X  \\\n",
       "0                    102.33000                    246.50000   -90.51632   \n",
       "\n",
       "   Latitud Y Tpo de Aviso    Zona          Folio  Nivel de tensión  \\\n",
       "0   14.62905          NaN  Zona 1  601-01419-000           1.00000   \n",
       "\n",
       "   Orden abierta Fecha generada  SALDO_ACTUAL date_filename  \n",
       "0            nan     00/00/0000      13.67000           601  "
      ]
     },
     "execution_count": 11,
     "metadata": {},
     "output_type": "execute_result"
    }
   ],
   "source": [
    "df_atributos_gral.head(1)"
   ]
  },
  {
   "cell_type": "code",
   "execution_count": 13,
   "id": "12b4d14f",
   "metadata": {},
   "outputs": [
    {
     "data": {
      "text/plain": [
       "array(['601', '602', '603', '604', '605', '606', '607', '608', '609',\n",
       "       '610', '611', '612', '613', '614', '615', '616', '617', '618',\n",
       "       '619', '620', '701', '702', '703', '704', '705', '706', '707',\n",
       "       '708', '709', '710', '711', '712', '713', '714', '715', '716',\n",
       "       '717', '718', '719', '801', '802', '803', '804', '805', '806',\n",
       "       '807', '808', '809', '810', '811', '812', '813', '814', '815',\n",
       "       '816', '817', '818', '819', '820', '821'], dtype=object)"
      ]
     },
     "execution_count": 13,
     "metadata": {},
     "output_type": "execute_result"
    }
   ],
   "source": [
    "df_atributos_gral.date_filename.unique()"
   ]
  },
  {
   "cell_type": "code",
   "execution_count": 84,
   "id": "42588c6e",
   "metadata": {},
   "outputs": [
    {
     "data": {
      "text/html": [
       "<div>\n",
       "<style scoped>\n",
       "    .dataframe tbody tr th:only-of-type {\n",
       "        vertical-align: middle;\n",
       "    }\n",
       "\n",
       "    .dataframe tbody tr th {\n",
       "        vertical-align: top;\n",
       "    }\n",
       "\n",
       "    .dataframe thead th {\n",
       "        text-align: right;\n",
       "    }\n",
       "</style>\n",
       "<table border=\"1\" class=\"dataframe\">\n",
       "  <thead>\n",
       "    <tr style=\"text-align: right;\">\n",
       "      <th></th>\n",
       "      <th>Unidad de Lectura</th>\n",
       "      <th>Contrato</th>\n",
       "      <th>Instalación</th>\n",
       "      <th>Codigo Postal</th>\n",
       "      <th>Fecha de alta</th>\n",
       "      <th>Fecha de baja</th>\n",
       "      <th>Medidor</th>\n",
       "      <th>Material</th>\n",
       "      <th>indice de Solvencia</th>\n",
       "      <th>No. de poste</th>\n",
       "      <th>Tarfia</th>\n",
       "      <th>Multiplicador</th>\n",
       "      <th>Actividad Economica</th>\n",
       "      <th>kW CONT</th>\n",
       "      <th>kW MAX</th>\n",
       "      <th>DESOCUPADO (X)</th>\n",
       "      <th>MEDIDOR INTERIOR (X)</th>\n",
       "      <th>ANOMALIA (X)</th>\n",
       "      <th># DE CARGOS POR ANOMALIA</th>\n",
       "      <th>DEUDA ANOMALIA</th>\n",
       "      <th>No Orden 3</th>\n",
       "      <th>Fecha 3</th>\n",
       "      <th>Clase de Actividad 3 al cierre de orden</th>\n",
       "      <th>No Orden 2</th>\n",
       "      <th>Fecha 2</th>\n",
       "      <th>Clase de Actividad 2 al cierre de orden</th>\n",
       "      <th>No Orden 1</th>\n",
       "      <th>Fecha 1</th>\n",
       "      <th>Clase de Actividad 1 al cierre de orden</th>\n",
       "      <th>Cantidad de Avisos Acumulados</th>\n",
       "      <th># DE AVISO NL (notas del Lector)</th>\n",
       "      <th>AVISO SUBCLASE (NL)</th>\n",
       "      <th>Clase de Ordenes</th>\n",
       "      <th>CUENTA DE AVISOS (PF; PR)</th>\n",
       "      <th>FACTURACIÓN VENCIDA (#)</th>\n",
       "      <th>AVISO DE ROBO DE MEDIDORES (#)</th>\n",
       "      <th>CONSULTA DE FECHA DE LECTURA (#)</th>\n",
       "      <th>CONSULTA DE SALDO (#)</th>\n",
       "      <th>CORTES POR FALTA DE PAGO (#)</th>\n",
       "      <th>FACTOR DE ESTACIONALIDAD</th>\n",
       "      <th>CONSUMO -12</th>\n",
       "      <th>CONSUMO -11</th>\n",
       "      <th>CONSUMO -10</th>\n",
       "      <th>CONSUMO -9</th>\n",
       "      <th>CONSUMO -8</th>\n",
       "      <th>CONSUMO -7</th>\n",
       "      <th>CONSUMO -6</th>\n",
       "      <th>CONSUMO -5</th>\n",
       "      <th>CONSUMO -4</th>\n",
       "      <th>CONSUMO -3</th>\n",
       "      <th>CONSUMO -2</th>\n",
       "      <th>CONSUMO -1</th>\n",
       "      <th>CONTRATO -5</th>\n",
       "      <th>FECHA DE ALTA -5</th>\n",
       "      <th>CONTRATO -4</th>\n",
       "      <th>FECHA DE ALTA -4</th>\n",
       "      <th>CONTRATO -3</th>\n",
       "      <th>FECHA DE ALTA -3</th>\n",
       "      <th>CONTRATO -2</th>\n",
       "      <th>FECHA DE ALTA -2</th>\n",
       "      <th>CONTRATO -1</th>\n",
       "      <th>FECHA DE ALTA -1</th>\n",
       "      <th>CONTRATO +5</th>\n",
       "      <th>FECHA DE ALTA +5</th>\n",
       "      <th>CONTRATO +4</th>\n",
       "      <th>FECHA DE ALTA +4</th>\n",
       "      <th>CONTRATO +3</th>\n",
       "      <th>FECHA DE ALTA +3</th>\n",
       "      <th>CONTRATO +2</th>\n",
       "      <th>FECHA DE ALTA +2</th>\n",
       "      <th>CONTRATO +1</th>\n",
       "      <th>FECHA DE ALTA +1</th>\n",
       "      <th>A.E. (kWh) -5</th>\n",
       "      <th>A.E. (kWh) -4</th>\n",
       "      <th>A.E. (kWh) -3</th>\n",
       "      <th>A.E. (kWh) -2</th>\n",
       "      <th>A.E. (kWh) -1</th>\n",
       "      <th>A.E. (kWh) +5</th>\n",
       "      <th>A.E. (kWh) +4</th>\n",
       "      <th>A.E. (kWh) +3</th>\n",
       "      <th>A.E. (kWh) +2</th>\n",
       "      <th>A.E. (kWh) +1</th>\n",
       "      <th>*kWh= TARIFA -5</th>\n",
       "      <th>*kWh= TARIFA -4</th>\n",
       "      <th>*kWh= TARIFA -3</th>\n",
       "      <th>*kWh= TARIFA -2</th>\n",
       "      <th>*kWh= TARIFA -1</th>\n",
       "      <th>*kWh= TARIFA +5</th>\n",
       "      <th>*kWh= TARIFA +4</th>\n",
       "      <th>*kWh= TARIFA +3</th>\n",
       "      <th>*kWh= TARIFA +2</th>\n",
       "      <th>*kWh= TARIFA +1</th>\n",
       "      <th>*kWh PROMEDIO - 5 (12meses)</th>\n",
       "      <th>*kWh PROMEDIO - 4 (12meses)</th>\n",
       "      <th>*kWh PROMEDIO - 3 (12meses)</th>\n",
       "      <th>*kWh PROMEDIO - 2 (12meses)</th>\n",
       "      <th>*kWh PROMEDIO - 1 (12meses)</th>\n",
       "      <th>*kWh PROMEDIO +5 (12meses)</th>\n",
       "      <th>*kWh PROMEDIO +4 (12meses)</th>\n",
       "      <th>*kWh PROMEDIO +3 (12meses)</th>\n",
       "      <th>*kWh PROMEDIO +2 (12meses)</th>\n",
       "      <th>*kWh PROMEDIO +1 (12meses)</th>\n",
       "      <th>Longitud X</th>\n",
       "      <th>Latitud Y</th>\n",
       "      <th>Tpo de Aviso</th>\n",
       "      <th>Zona</th>\n",
       "      <th>Folio</th>\n",
       "      <th>Nivel de tensión</th>\n",
       "      <th>Orden abierta</th>\n",
       "      <th>Fecha generada</th>\n",
       "      <th>SALDO_ACTUAL</th>\n",
       "      <th>date_filename</th>\n",
       "    </tr>\n",
       "  </thead>\n",
       "  <tbody>\n",
       "    <tr>\n",
       "      <th>0</th>\n",
       "      <td>601-001</td>\n",
       "      <td>757247</td>\n",
       "      <td>3000753451</td>\n",
       "      <td>1001</td>\n",
       "      <td>03/12/2003</td>\n",
       "      <td>31/12/9999</td>\n",
       "      <td>J-17083</td>\n",
       "      <td>41-0084</td>\n",
       "      <td>0</td>\n",
       "      <td>134616.00000</td>\n",
       "      <td>R12</td>\n",
       "      <td>1</td>\n",
       "      <td>87_009</td>\n",
       "      <td>0.00000</td>\n",
       "      <td>0.00000</td>\n",
       "      <td>NaN</td>\n",
       "      <td>NaN</td>\n",
       "      <td>NaN</td>\n",
       "      <td>0</td>\n",
       "      <td>0.00000</td>\n",
       "      <td>664654176.00000</td>\n",
       "      <td>09/03/2021</td>\n",
       "      <td>NOE</td>\n",
       "      <td>664661630.00000</td>\n",
       "      <td>07/05/2021</td>\n",
       "      <td>NOE</td>\n",
       "      <td>664676718.00000</td>\n",
       "      <td>14/09/2021</td>\n",
       "      <td>N35</td>\n",
       "      <td>0</td>\n",
       "      <td>303785376.00000</td>\n",
       "      <td>MS</td>\n",
       "      <td>SCMS</td>\n",
       "      <td>0</td>\n",
       "      <td>1</td>\n",
       "      <td>0</td>\n",
       "      <td>6</td>\n",
       "      <td>0</td>\n",
       "      <td>0</td>\n",
       "      <td>0.65000</td>\n",
       "      <td>301</td>\n",
       "      <td>258</td>\n",
       "      <td>215</td>\n",
       "      <td>149</td>\n",
       "      <td>182</td>\n",
       "      <td>189</td>\n",
       "      <td>152</td>\n",
       "      <td>217</td>\n",
       "      <td>160</td>\n",
       "      <td>199</td>\n",
       "      <td>154</td>\n",
       "      <td>160</td>\n",
       "      <td>798963.00000</td>\n",
       "      <td>30/09/2004</td>\n",
       "      <td>862957.00000</td>\n",
       "      <td>29/12/2005</td>\n",
       "      <td>720787.00000</td>\n",
       "      <td>07/03/2003</td>\n",
       "      <td>798957.00000</td>\n",
       "      <td>30/09/2004</td>\n",
       "      <td>772762.00000</td>\n",
       "      <td>15/03/2004</td>\n",
       "      <td>6453.00000</td>\n",
       "      <td>02/07/2001</td>\n",
       "      <td>910673.00000</td>\n",
       "      <td>05/12/2006</td>\n",
       "      <td>926039.00000</td>\n",
       "      <td>09/03/2007</td>\n",
       "      <td>787366.00000</td>\n",
       "      <td>04/06/2004</td>\n",
       "      <td>1078307.00000</td>\n",
       "      <td>17/12/2009</td>\n",
       "      <td>87_009</td>\n",
       "      <td>0023</td>\n",
       "      <td>87_009</td>\n",
       "      <td>87_009</td>\n",
       "      <td>87_009</td>\n",
       "      <td>87_009</td>\n",
       "      <td>87_009</td>\n",
       "      <td>87_009</td>\n",
       "      <td>59_004</td>\n",
       "      <td>87_009</td>\n",
       "      <td>R11</td>\n",
       "      <td>C11</td>\n",
       "      <td>C11</td>\n",
       "      <td>R11</td>\n",
       "      <td>C11</td>\n",
       "      <td>C11</td>\n",
       "      <td>C11</td>\n",
       "      <td>C11</td>\n",
       "      <td>M11</td>\n",
       "      <td>C11</td>\n",
       "      <td>155.50000</td>\n",
       "      <td>0.00000</td>\n",
       "      <td>1.58000</td>\n",
       "      <td>719.92000</td>\n",
       "      <td>803.33000</td>\n",
       "      <td>125.58000</td>\n",
       "      <td>30.00000</td>\n",
       "      <td>1.17000</td>\n",
       "      <td>20.67000</td>\n",
       "      <td>35.33000</td>\n",
       "      <td>-90.51512</td>\n",
       "      <td>14.63083</td>\n",
       "      <td>NL</td>\n",
       "      <td>Zona 1</td>\n",
       "      <td>601-01040-000</td>\n",
       "      <td>2.00000</td>\n",
       "      <td>nan</td>\n",
       "      <td>00/00/0000</td>\n",
       "      <td>512.59000</td>\n",
       "      <td>20220508</td>\n",
       "    </tr>\n",
       "  </tbody>\n",
       "</table>\n",
       "</div>"
      ],
      "text/plain": [
       "  Unidad de Lectura  Contrato  Instalación  Codigo Postal Fecha de alta  \\\n",
       "0           601-001    757247   3000753451           1001    03/12/2003   \n",
       "\n",
       "  Fecha de baja  Medidor Material  indice de Solvencia No. de poste Tarfia  \\\n",
       "0    31/12/9999  J-17083  41-0084                    0 134616.00000    R12   \n",
       "\n",
       "   Multiplicador Actividad Economica  kW CONT  kW MAX DESOCUPADO (X)  \\\n",
       "0              1              87_009  0.00000 0.00000            NaN   \n",
       "\n",
       "  MEDIDOR INTERIOR (X) ANOMALIA (X)  # DE CARGOS POR ANOMALIA  DEUDA ANOMALIA  \\\n",
       "0                  NaN          NaN                         0         0.00000   \n",
       "\n",
       "       No Orden 3     Fecha 3 Clase de Actividad 3 al cierre de orden  \\\n",
       "0 664654176.00000  09/03/2021                                     NOE   \n",
       "\n",
       "       No Orden 2     Fecha 2 Clase de Actividad 2 al cierre de orden  \\\n",
       "0 664661630.00000  07/05/2021                                     NOE   \n",
       "\n",
       "       No Orden 1     Fecha 1 Clase de Actividad 1 al cierre de orden  \\\n",
       "0 664676718.00000  14/09/2021                                     N35   \n",
       "\n",
       "   Cantidad de Avisos Acumulados  # DE AVISO NL (notas del Lector)  \\\n",
       "0                              0                   303785376.00000   \n",
       "\n",
       "  AVISO SUBCLASE (NL) Clase de Ordenes  CUENTA DE AVISOS (PF; PR)  \\\n",
       "0                  MS             SCMS                          0   \n",
       "\n",
       "   FACTURACIÓN VENCIDA (#)  AVISO DE ROBO DE MEDIDORES (#)  \\\n",
       "0                        1                               0   \n",
       "\n",
       "   CONSULTA DE FECHA DE LECTURA (#)  CONSULTA DE SALDO (#)  \\\n",
       "0                                 6                      0   \n",
       "\n",
       "   CORTES POR FALTA DE PAGO (#)  FACTOR DE ESTACIONALIDAD  CONSUMO -12  \\\n",
       "0                             0                   0.65000          301   \n",
       "\n",
       "   CONSUMO -11  CONSUMO -10  CONSUMO -9  CONSUMO -8  CONSUMO -7  CONSUMO -6  \\\n",
       "0          258          215         149         182         189         152   \n",
       "\n",
       "   CONSUMO -5  CONSUMO -4  CONSUMO -3  CONSUMO -2  CONSUMO -1  CONTRATO -5  \\\n",
       "0         217         160         199         154         160 798963.00000   \n",
       "\n",
       "  FECHA DE ALTA -5  CONTRATO -4 FECHA DE ALTA -4  CONTRATO -3  \\\n",
       "0       30/09/2004 862957.00000       29/12/2005 720787.00000   \n",
       "\n",
       "  FECHA DE ALTA -3  CONTRATO -2 FECHA DE ALTA -2  CONTRATO -1  \\\n",
       "0       07/03/2003 798957.00000       30/09/2004 772762.00000   \n",
       "\n",
       "  FECHA DE ALTA -1  CONTRATO +5 FECHA DE ALTA +5  CONTRATO +4  \\\n",
       "0       15/03/2004   6453.00000       02/07/2001 910673.00000   \n",
       "\n",
       "  FECHA DE ALTA +4  CONTRATO +3 FECHA DE ALTA +3  CONTRATO +2  \\\n",
       "0       05/12/2006 926039.00000       09/03/2007 787366.00000   \n",
       "\n",
       "  FECHA DE ALTA +2   CONTRATO +1 FECHA DE ALTA +1 A.E. (kWh) -5 A.E. (kWh) -4  \\\n",
       "0       04/06/2004 1078307.00000       17/12/2009        87_009          0023   \n",
       "\n",
       "  A.E. (kWh) -3 A.E. (kWh) -2 A.E. (kWh) -1 A.E. (kWh) +5 A.E. (kWh) +4  \\\n",
       "0        87_009        87_009        87_009        87_009        87_009   \n",
       "\n",
       "  A.E. (kWh) +3 A.E. (kWh) +2 A.E. (kWh) +1 *kWh= TARIFA -5 *kWh= TARIFA -4  \\\n",
       "0        87_009        59_004        87_009             R11             C11   \n",
       "\n",
       "  *kWh= TARIFA -3 *kWh= TARIFA -2 *kWh= TARIFA -1 *kWh= TARIFA +5  \\\n",
       "0             C11             R11             C11             C11   \n",
       "\n",
       "  *kWh= TARIFA +4 *kWh= TARIFA +3 *kWh= TARIFA +2 *kWh= TARIFA +1  \\\n",
       "0             C11             C11             M11             C11   \n",
       "\n",
       "   *kWh PROMEDIO - 5 (12meses)   *kWh PROMEDIO - 4 (12meses)   \\\n",
       "0                     155.50000                       0.00000   \n",
       "\n",
       "   *kWh PROMEDIO - 3 (12meses)   *kWh PROMEDIO - 2 (12meses)   \\\n",
       "0                       1.58000                     719.92000   \n",
       "\n",
       "   *kWh PROMEDIO - 1 (12meses)   *kWh PROMEDIO +5 (12meses)   \\\n",
       "0                     803.33000                    125.58000   \n",
       "\n",
       "   *kWh PROMEDIO +4 (12meses)   *kWh PROMEDIO +3 (12meses)   \\\n",
       "0                     30.00000                      1.17000   \n",
       "\n",
       "   *kWh PROMEDIO +2 (12meses)   *kWh PROMEDIO +1 (12meses)   Longitud X  \\\n",
       "0                     20.67000                     35.33000   -90.51512   \n",
       "\n",
       "   Latitud Y Tpo de Aviso    Zona          Folio  Nivel de tensión  \\\n",
       "0   14.63083           NL  Zona 1  601-01040-000           2.00000   \n",
       "\n",
       "   Orden abierta Fecha generada  SALDO_ACTUAL date_filename  \n",
       "0            nan     00/00/0000     512.59000      20220508  "
      ]
     },
     "execution_count": 84,
     "metadata": {},
     "output_type": "execute_result"
    }
   ],
   "source": [
    "df_atributos_gral.head(1)"
   ]
  },
  {
   "cell_type": "code",
   "execution_count": 15,
   "id": "de9d3287",
   "metadata": {},
   "outputs": [
    {
     "data": {
      "text/plain": [
       "(1526902, 112)"
      ]
     },
     "execution_count": 15,
     "metadata": {},
     "output_type": "execute_result"
    }
   ],
   "source": [
    "df_atributos_gral.shape"
   ]
  },
  {
   "cell_type": "code",
   "execution_count": 16,
   "id": "ad0b3ffb",
   "metadata": {},
   "outputs": [],
   "source": [
    "# df_atributos_gral.columns = df_atributos_gral.columns.str.lower()"
   ]
  },
  {
   "cell_type": "code",
   "execution_count": 17,
   "id": "394ecdc7",
   "metadata": {},
   "outputs": [],
   "source": [
    "# df_atributos_gral['no. de poste'].fillna(0,inplace=True)"
   ]
  },
  {
   "cell_type": "code",
   "execution_count": 18,
   "id": "e081a5d2",
   "metadata": {},
   "outputs": [],
   "source": [
    "# df_atributos_gral['fecha de alta'].min()"
   ]
  },
  {
   "cell_type": "code",
   "execution_count": 19,
   "id": "091e0e98",
   "metadata": {},
   "outputs": [],
   "source": [
    "# df_atributos_gral['fecha de alta'].max()"
   ]
  },
  {
   "cell_type": "code",
   "execution_count": 20,
   "id": "a63b148c",
   "metadata": {},
   "outputs": [],
   "source": [
    "# df_atributos_gral.columns.tolist()"
   ]
  },
  {
   "cell_type": "code",
   "execution_count": 21,
   "id": "8b486101",
   "metadata": {},
   "outputs": [],
   "source": [
    "df_atributos_gral['No. de poste'] = df_atributos_gral['No. de poste'].astype(str)"
   ]
  },
  {
   "cell_type": "code",
   "execution_count": 24,
   "id": "411e9ab8",
   "metadata": {},
   "outputs": [
    {
     "name": "stdout",
     "output_type": "stream",
     "text": [
      "[INFO]...Descargando en:  s3://iadbprod-ine-tsp-analyticaldata/EEGSA-GUATEMALA/data_clean/eegsa_data_atributos_consolidado_v2.parquet\n",
      "[INFO]...Done!\n",
      "CPU times: user 9.84 s, sys: 1.25 s, total: 11.1 s\n",
      "Wall time: 14 s\n"
     ]
    }
   ],
   "source": [
    "%%time\n",
    "key = 'EEGSA-GUATEMALA/data_clean/'\n",
    "filename = 'eegsa_data_atributos_consolidado_v2.parquet'\n",
    "path = bucket_path+key+filename\n",
    "print('[INFO]...Descargando en: ',path)\n",
    "df_atributos_gral.to_parquet(path, index=False)\n",
    "print('[INFO]...Done!')"
   ]
  },
  {
   "cell_type": "code",
   "execution_count": 25,
   "id": "2aa56d5e",
   "metadata": {},
   "outputs": [],
   "source": [
    "key = 'EEGSA-GUATEMALA/data_clean/'\n",
    "filename = 'eegsa_data_atributos_consolidado.parquet'\n",
    "path = bucket_path+key+filename\n",
    "df_atributos_gral = pd.read_parquet(path)"
   ]
  },
  {
   "cell_type": "code",
   "execution_count": 27,
   "id": "d0d9481c",
   "metadata": {},
   "outputs": [
    {
     "data": {
      "text/plain": [
       "20"
      ]
     },
     "execution_count": 27,
     "metadata": {},
     "output_type": "execute_result"
    }
   ],
   "source": [
    "df_atributos_gral.date_filename.nunique()"
   ]
  },
  {
   "cell_type": "code",
   "execution_count": 30,
   "id": "0245399d",
   "metadata": {},
   "outputs": [
    {
     "data": {
      "text/plain": [
       "20220328    104955\n",
       "20220402     71870\n",
       "20220403     68695\n",
       "20220419     96034\n",
       "20220420     89391\n",
       "20220421     99438\n",
       "20220422    104936\n",
       "20220424     62340\n",
       "20220425    109183\n",
       "20220426     70793\n",
       "20220427     88322\n",
       "20220501    125848\n",
       "20220508     93403\n",
       "20220510     88511\n",
       "20220511     96521\n",
       "20220513     88122\n",
       "20220514     97762\n",
       "20220516    155973\n",
       "20220517    113343\n",
       "20220518     98101\n",
       "Name: date_filename, dtype: int64"
      ]
     },
     "execution_count": 30,
     "metadata": {},
     "output_type": "execute_result"
    }
   ],
   "source": [
    "df_atributos_gral.date_filename.value_counts().sort_index()"
   ]
  },
  {
   "cell_type": "code",
   "execution_count": null,
   "id": "5be6ecc6",
   "metadata": {},
   "outputs": [],
   "source": []
  }
 ],
 "metadata": {
  "kernelspec": {
   "display_name": "conda_tensorflow2_p36",
   "language": "python",
   "name": "conda_tensorflow2_p36"
  },
  "language_info": {
   "codemirror_mode": {
    "name": "ipython",
    "version": 3
   },
   "file_extension": ".py",
   "mimetype": "text/x-python",
   "name": "python",
   "nbconvert_exporter": "python",
   "pygments_lexer": "ipython3",
   "version": "3.6.13"
  }
 },
 "nbformat": 4,
 "nbformat_minor": 5
}
